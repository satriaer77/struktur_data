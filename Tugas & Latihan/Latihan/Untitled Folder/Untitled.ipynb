{
 "cells": [
  {
   "cell_type": "code",
   "execution_count": 9,
   "id": "c9728e71",
   "metadata": {
    "ExecuteTime": {
     "end_time": "2022-04-13T03:44:50.577146Z",
     "start_time": "2022-04-13T03:44:50.508786Z"
    }
   },
   "outputs": [
    {
     "name": "stdout",
     "output_type": "stream",
     "text": [
      "\n",
      "Iterasi  5\n",
      "[5, 6, 4, 2, 1]\n",
      "[5, 4, 6, 2, 1]\n",
      "[5, 4, 2, 6, 1]\n",
      "[5, 4, 2, 1, 6]\n",
      "\n",
      "Iterasi  5\n",
      "[4, 5, 2, 1, 6]\n",
      "[4, 2, 5, 1, 6]\n",
      "[4, 2, 1, 5, 6]\n",
      "\n",
      "Iterasi  5\n",
      "[2, 4, 1, 5, 6]\n",
      "[2, 1, 4, 5, 6]\n",
      "\n",
      "Iterasi  5\n",
      "[1, 2, 4, 5, 6]\n",
      "\n",
      "Iterasi  5\n",
      "Bubble Sort :  [1, 2, 4, 5, 6]\n"
     ]
    }
   ],
   "source": [
    "lst = [5,6,4,2,1]\n",
    "idx = len(lst)\n",
    "\n",
    "while idx > 0 :\n",
    "    idx-=1\n",
    "    print(\"\\nIterasi \",len(lst))\n",
    "    for j in range(idx) :\n",
    "        if lst[j] > lst[j+1] :\n",
    "            lst[j],lst[j+1] = lst[j+1],lst[j]\n",
    "        print(lst)\n",
    "     \n",
    "\n",
    "print(\"Bubble Sort : \",lst)\n"
   ]
  },
  {
   "cell_type": "code",
   "execution_count": 71,
   "id": "1ba31fe0",
   "metadata": {
    "ExecuteTime": {
     "end_time": "2022-04-13T04:57:26.430317Z",
     "start_time": "2022-04-13T04:57:26.350468Z"
    }
   },
   "outputs": [
    {
     "name": "stdout",
     "output_type": "stream",
     "text": [
      "5\n",
      "\n",
      " k:  [5, 6, 4, 2, 1]\n",
      "\n",
      " k:  [5, 4, 6, 2, 1]\n",
      "\n",
      " k:  [5, 4, 2, 6, 1]\n",
      "\n",
      " k:  [5, 4, 2, 1, 6]\n",
      "4\n",
      "4 3\n",
      "f [5, 4, 2, 1, 6]\n",
      "3 2\n",
      "f [5, 4, 1, 2, 6]\n",
      "2 1\n",
      "f [5, 1, 4, 2, 6]\n",
      "1 0\n",
      "f [1, 5, 4, 2, 6]\n",
      "4\n",
      "\n",
      " k:  [1, 4, 5, 2, 6]\n",
      "\n",
      " k:  [1, 4, 2, 5, 6]\n",
      "\n",
      " k:  [1, 4, 2, 5, 6]\n",
      "3\n",
      "3 2\n",
      "f [1, 4, 2, 5, 6]\n",
      "2 1\n",
      "f [1, 2, 4, 5, 6]\n",
      "1 0\n",
      "f [1, 2, 4, 5, 6]\n",
      "3\n",
      "\n",
      " k:  [1, 2, 4, 5, 6]\n",
      "\n",
      " k:  [1, 2, 4, 5, 6]\n",
      "2\n",
      "2 1\n",
      "f [1, 2, 4, 5, 6]\n",
      "1 0\n",
      "f [1, 2, 4, 5, 6]\n",
      "2\n",
      "\n",
      " k:  [1, 2, 4, 5, 6]\n",
      "1\n",
      "1 0\n",
      "f [1, 2, 4, 5, 6]\n",
      "1\n",
      "Bubble Sort :  [1, 2, 4, 5, 6]\n"
     ]
    }
   ],
   "source": [
    "lst = [5,6,4,2,1]\n",
    "idx = len(lst)\n",
    "sts = False\n",
    "a=0\n",
    "while idx > 0 :\n",
    "    \n",
    "    \n",
    "    #print(\"\\nIterasi \",len(lst)-idx)\n",
    "    #print(lst)\n",
    "    print(idx)\n",
    "    if sts == True :\n",
    "        \n",
    "        sts = False\n",
    "        for j in range(idx,0,-1) :\n",
    "            print(j,j-1)\n",
    "            if lst[j] < lst[j-1] :\n",
    "                lst[j],lst[j-1] = lst[j-1],lst[j]\n",
    "            print(\"f\",lst)\n",
    "        a+=1\n",
    "        \n",
    "        \n",
    "        \n",
    "    else :\n",
    "        idx-=1\n",
    "        sts = True\n",
    "        for i in range(idx) :\n",
    "            if lst[i+a] > lst[i+1+a] :\n",
    "                lst[i+a],lst[i+1+a] = lst[i+1+a],lst[i+a]\n",
    "            print(\"\\n k: \",lst)\n",
    "      \n",
    "        \n",
    "     \n",
    "\n",
    "print(\"Bubble Sort : \",lst)\n"
   ]
  },
  {
   "cell_type": "code",
   "execution_count": 23,
   "id": "e6514118",
   "metadata": {
    "ExecuteTime": {
     "end_time": "2022-04-13T04:13:21.529302Z",
     "start_time": "2022-04-13T04:13:21.476846Z"
    }
   },
   "outputs": [
    {
     "name": "stdout",
     "output_type": "stream",
     "text": [
      "Iterasi  2\n",
      "0 1\n",
      "1 2\n",
      "2 3\n",
      "Iterasi  3\n",
      "0 1\n",
      "1 2\n",
      "Iterasi  4\n",
      "0 1\n"
     ]
    }
   ],
   "source": [
    "a=[9,10,1,7] \n",
    "\n",
    "for i in range (len(a)-1,0,-1): \n",
    "    print(\"Iterasi \",len(a)-i+1)\n",
    "    for j in range(i) :\n",
    "        print(j,j+1)"
   ]
  },
  {
   "cell_type": "code",
   "execution_count": 4,
   "id": "346f26b0",
   "metadata": {
    "ExecuteTime": {
     "end_time": "2022-04-20T01:57:00.465656Z",
     "start_time": "2022-04-20T01:57:00.439216Z"
    }
   },
   "outputs": [
    {
     "name": "stdout",
     "output_type": "stream",
     "text": [
      "Iterasi  0\n",
      "0 1\n",
      "[9, 10, 1, 7]\n",
      "1 2\n",
      "[9, 1, 10, 7]\n",
      "2 3\n",
      "[9, 1, 7, 10]\n",
      "Iterasi  1\n",
      "0 1\n",
      "[1, 9, 7, 10]\n",
      "1 2\n",
      "[1, 7, 9, 10]\n",
      "Iterasi  2\n",
      "0 1\n",
      "[1, 7, 9, 10]\n"
     ]
    }
   ],
   "source": [
    "a=[9,10,1,7] \n",
    "\n",
    "for i in range (len(a)-1): \n",
    "    print(\"Iterasi \",i)\n",
    "    for j in range(len(a)-1-i) :\n",
    "        print(j,j+1)\n",
    "        if a[j] > a[j+1] :\n",
    "            a[j],a[j+1] = a[j+1],a[j]\n",
    "        print(a)\n",
    "        "
   ]
  },
  {
   "cell_type": "code",
   "execution_count": 5,
   "id": "01ad67d1",
   "metadata": {
    "ExecuteTime": {
     "end_time": "2022-04-20T01:57:14.270232Z",
     "start_time": "2022-04-20T01:57:14.247479Z"
    }
   },
   "outputs": [
    {
     "name": "stdout",
     "output_type": "stream",
     "text": [
      "Iterasi  0\n",
      "0 1\n",
      "[10, 9, 1, 7]\n",
      "1 2\n",
      "[10, 9, 1, 7]\n",
      "2 3\n",
      "[10, 9, 7, 1]\n",
      "Iterasi  1\n",
      "0 1\n",
      "[10, 9, 7, 1]\n",
      "1 2\n",
      "[10, 9, 7, 1]\n",
      "Iterasi  2\n",
      "0 1\n",
      "[10, 9, 7, 1]\n"
     ]
    }
   ],
   "source": [
    "a=[9,10,1,7] \n",
    "\n",
    "for i in range (len(a)-1): \n",
    "    print(\"Iterasi \",i)\n",
    "    for j in range(len(a)-1-i) :\n",
    "        print(j,j+1)\n",
    "        if a[j] < a[j+1] :\n",
    "            a[j],a[j+1] = a[j+1],a[j]\n",
    "        print(a)\n",
    "        "
   ]
  },
  {
   "cell_type": "code",
   "execution_count": 9,
   "id": "2a1fe422",
   "metadata": {
    "ExecuteTime": {
     "end_time": "2022-04-20T02:02:47.487590Z",
     "start_time": "2022-04-20T02:02:47.461190Z"
    }
   },
   "outputs": [
    {
     "name": "stdout",
     "output_type": "stream",
     "text": [
      "[10, 9, 7, 1]\n",
      "[10, 9, 7, 1]\n",
      "[10, 9, 7, 1]\n",
      "[10, 9, 7, 1]\n",
      "[1, 7, 9, 10]\n"
     ]
    }
   ],
   "source": [
    "def bubbleSort(nums,sortBy=\"Ascending\") :\n",
    "    \n",
    "    if sortBy == \"Ascending\" :\n",
    "        for i in range (len(nums)-1): \n",
    "            for j in range(len(nums)-1-i) :\n",
    "                if nums[j] > nums[j+1] :\n",
    "                    nums[j],nums[j+1] = nums[j+1],nums[j]\n",
    "                  \n",
    "                    \n",
    "    elif sortBy == \"Descending\" :\n",
    "        for i in range (len(nums)-1): \n",
    "            \n",
    "            for j in range(len(nums)-1-i) : \n",
    "                if nums[j] < nums[j+1] :\n",
    "                    nums[j],nums[j+1] = nums[j+1],nums[j]\n",
    "                   \n",
    "    \n",
    "    return nums\n",
    "\n",
    "print(bubbleSort([9,10,1,7] ,\"Ascending\"))"
   ]
  },
  {
   "cell_type": "code",
   "execution_count": null,
   "id": "599637f4",
   "metadata": {},
   "outputs": [],
   "source": []
  }
 ],
 "metadata": {
  "kernelspec": {
   "display_name": "Python 3 (ipykernel)",
   "language": "python",
   "name": "python3"
  },
  "language_info": {
   "codemirror_mode": {
    "name": "ipython",
    "version": 3
   },
   "file_extension": ".py",
   "mimetype": "text/x-python",
   "name": "python",
   "nbconvert_exporter": "python",
   "pygments_lexer": "ipython3",
   "version": "3.9.7"
  },
  "latex_envs": {
   "LaTeX_envs_menu_present": true,
   "autoclose": false,
   "autocomplete": true,
   "bibliofile": "biblio.bib",
   "cite_by": "apalike",
   "current_citInitial": 1,
   "eqLabelWithNumbers": true,
   "eqNumInitial": 1,
   "hotkeys": {
    "equation": "Ctrl-E",
    "itemize": "Ctrl-I"
   },
   "labels_anchors": false,
   "latex_user_defs": false,
   "report_style_numbering": false,
   "user_envs_cfg": false
  },
  "toc": {
   "base_numbering": 1,
   "nav_menu": {},
   "number_sections": true,
   "sideBar": true,
   "skip_h1_title": false,
   "title_cell": "Table of Contents",
   "title_sidebar": "Contents",
   "toc_cell": false,
   "toc_position": {},
   "toc_section_display": true,
   "toc_window_display": false
  },
  "varInspector": {
   "cols": {
    "lenName": 16,
    "lenType": 16,
    "lenVar": 40
   },
   "kernels_config": {
    "python": {
     "delete_cmd_postfix": "",
     "delete_cmd_prefix": "del ",
     "library": "var_list.py",
     "varRefreshCmd": "print(var_dic_list())"
    },
    "r": {
     "delete_cmd_postfix": ") ",
     "delete_cmd_prefix": "rm(",
     "library": "var_list.r",
     "varRefreshCmd": "cat(var_dic_list()) "
    }
   },
   "types_to_exclude": [
    "module",
    "function",
    "builtin_function_or_method",
    "instance",
    "_Feature"
   ],
   "window_display": false
  }
 },
 "nbformat": 4,
 "nbformat_minor": 5
}
