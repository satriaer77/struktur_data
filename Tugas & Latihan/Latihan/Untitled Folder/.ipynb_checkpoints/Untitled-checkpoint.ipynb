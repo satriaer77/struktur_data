{
 "cells": [
  {
   "cell_type": "code",
   "execution_count": 9,
   "id": "74896c82",
   "metadata": {
    "ExecuteTime": {
     "end_time": "2022-04-13T03:44:50.577146Z",
     "start_time": "2022-04-13T03:44:50.508786Z"
    }
   },
   "outputs": [
    {
     "name": "stdout",
     "output_type": "stream",
     "text": [
      "\n",
      "Iterasi  5\n",
      "[5, 6, 4, 2, 1]\n",
      "[5, 4, 6, 2, 1]\n",
      "[5, 4, 2, 6, 1]\n",
      "[5, 4, 2, 1, 6]\n",
      "\n",
      "Iterasi  5\n",
      "[4, 5, 2, 1, 6]\n",
      "[4, 2, 5, 1, 6]\n",
      "[4, 2, 1, 5, 6]\n",
      "\n",
      "Iterasi  5\n",
      "[2, 4, 1, 5, 6]\n",
      "[2, 1, 4, 5, 6]\n",
      "\n",
      "Iterasi  5\n",
      "[1, 2, 4, 5, 6]\n",
      "\n",
      "Iterasi  5\n",
      "Bubble Sort :  [1, 2, 4, 5, 6]\n"
     ]
    }
   ],
   "source": [
    "lst = [5,6,4,2,1]\n",
    "idx = len(lst)\n",
    "\n",
    "while idx > 0 :\n",
    "    idx-=1\n",
    "    print(\"\\nIterasi \",len(lst))\n",
    "    for j in range(idx) :\n",
    "        if lst[j] > lst[j+1] :\n",
    "            lst[j],lst[j+1] = lst[j+1],lst[j]\n",
    "        print(lst)\n",
    "     \n",
    "\n",
    "print(\"Bubble Sort : \",lst)\n"
   ]
  },
  {
   "cell_type": "code",
   "execution_count": 13,
   "id": "07171b2c",
   "metadata": {
    "ExecuteTime": {
     "end_time": "2022-04-13T03:47:03.756773Z",
     "start_time": "2022-04-13T03:47:03.673553Z"
    }
   },
   "outputs": [
    {
     "name": "stdout",
     "output_type": "stream",
     "text": [
      "\n",
      "Iterasi  1\n",
      "False\n",
      "[5, 6, 4, 2, 1]\n",
      "[5, 4, 6, 2, 1]\n",
      "[5, 4, 2, 6, 1]\n",
      "[5, 4, 2, 1, 6]\n",
      "\n",
      "Iterasi  2\n",
      "False\n",
      "[4, 5, 2, 1, 6]\n",
      "[4, 2, 5, 1, 6]\n",
      "[4, 2, 1, 5, 6]\n",
      "\n",
      "Iterasi  3\n",
      "False\n",
      "[2, 4, 1, 5, 6]\n",
      "[2, 1, 4, 5, 6]\n",
      "\n",
      "Iterasi  4\n",
      "False\n",
      "[1, 2, 4, 5, 6]\n",
      "\n",
      "Iterasi  5\n",
      "False\n",
      "Bubble Sort :  [1, 2, 4, 5, 6]\n"
     ]
    }
   ],
   "source": [
    "lst = [5,6,4,2,1]\n",
    "idx = len(lst)\n",
    "\n",
    "\n",
    "while idx > 0 :\n",
    "    idx-=1\n",
    "    sts = False\n",
    "    print(\"\\nIterasi \",len(lst)-idx)\n",
    "    print(sts)\n",
    "    if sts :\n",
    "        for j in range(idx) :\n",
    "            print(lst[idx-1])\n",
    "            if lst[idx-1] < lst[idx-2] :\n",
    "                lst[idx-1],lst[idx-2] = lst[idx-2],lst[idx-1]\n",
    "            print(lst)\n",
    "        sts = False\n",
    "        \n",
    "    else :\n",
    "        sts = True\n",
    "        for j in range(idx) :\n",
    "            if lst[j] > lst[j+1] :\n",
    "                lst[j],lst[j+1] = lst[j+1],lst[j]\n",
    "            print(lst)\n",
    "        \n",
    "     \n",
    "\n",
    "print(\"Bubble Sort : \",lst)\n"
   ]
  },
  {
   "cell_type": "code",
   "execution_count": null,
   "id": "3f5d6daa",
   "metadata": {},
   "outputs": [],
   "source": []
  }
 ],
 "metadata": {
  "kernelspec": {
   "display_name": "Python 3 (ipykernel)",
   "language": "python",
   "name": "python3"
  },
  "language_info": {
   "codemirror_mode": {
    "name": "ipython",
    "version": 3
   },
   "file_extension": ".py",
   "mimetype": "text/x-python",
   "name": "python",
   "nbconvert_exporter": "python",
   "pygments_lexer": "ipython3",
   "version": "3.9.7"
  },
  "latex_envs": {
   "LaTeX_envs_menu_present": true,
   "autoclose": false,
   "autocomplete": true,
   "bibliofile": "biblio.bib",
   "cite_by": "apalike",
   "current_citInitial": 1,
   "eqLabelWithNumbers": true,
   "eqNumInitial": 1,
   "hotkeys": {
    "equation": "Ctrl-E",
    "itemize": "Ctrl-I"
   },
   "labels_anchors": false,
   "latex_user_defs": false,
   "report_style_numbering": false,
   "user_envs_cfg": false
  },
  "toc": {
   "base_numbering": 1,
   "nav_menu": {},
   "number_sections": true,
   "sideBar": true,
   "skip_h1_title": false,
   "title_cell": "Table of Contents",
   "title_sidebar": "Contents",
   "toc_cell": false,
   "toc_position": {},
   "toc_section_display": true,
   "toc_window_display": false
  },
  "varInspector": {
   "cols": {
    "lenName": 16,
    "lenType": 16,
    "lenVar": 40
   },
   "kernels_config": {
    "python": {
     "delete_cmd_postfix": "",
     "delete_cmd_prefix": "del ",
     "library": "var_list.py",
     "varRefreshCmd": "print(var_dic_list())"
    },
    "r": {
     "delete_cmd_postfix": ") ",
     "delete_cmd_prefix": "rm(",
     "library": "var_list.r",
     "varRefreshCmd": "cat(var_dic_list()) "
    }
   },
   "types_to_exclude": [
    "module",
    "function",
    "builtin_function_or_method",
    "instance",
    "_Feature"
   ],
   "window_display": false
  }
 },
 "nbformat": 4,
 "nbformat_minor": 5
}
