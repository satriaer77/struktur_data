{
 "cells": [
  {
   "cell_type": "code",
   "execution_count": 18,
   "id": "8d8ad059",
   "metadata": {
    "ExecuteTime": {
     "end_time": "2022-05-25T05:13:48.654878Z",
     "start_time": "2022-05-25T05:13:48.625132Z"
    }
   },
   "outputs": [
    {
     "name": "stdout",
     "output_type": "stream",
     "text": [
      "[77, None, None, None, 26, 93, 17, None, None, 31, 54]\n",
      "0\n",
      "True\n"
     ]
    }
   ],
   "source": [
    "\n",
    "def createHash(length) :\n",
    "    return [None for i in range(length)]\n",
    "\n",
    "def remainderFun(num,lenData) :\n",
    "    return num%lenData\n",
    "\n",
    "\n",
    "def hashPut(nums,table) :\n",
    "    for num in nums :\n",
    "        idx        = remainderFun(num,len(table))\n",
    "        table[idx] = num \n",
    "    return table\n",
    "    \n",
    "def hashSearch(table, keyword) :\n",
    "    print(table)\n",
    "    hashVal = remainderFun(keyword,len(table))\n",
    "    print(hashVal)\n",
    "    if table[hashVal] == keyword :\n",
    "        return True\n",
    "    else :\n",
    "        return False\n",
    "    \n",
    "data      = [54,26,93,17,77,31]\n",
    "hashTable = hashPut(data,createHash(11))\n",
    "searchData= print(hashSearch(hashTable,77))"
   ]
  },
  {
   "cell_type": "code",
   "execution_count": 24,
   "id": "c70d74a1",
   "metadata": {
    "ExecuteTime": {
     "end_time": "2022-05-25T05:31:08.368712Z",
     "start_time": "2022-05-25T05:31:08.348370Z"
    }
   },
   "outputs": [
    {
     "name": "stdout",
     "output_type": "stream",
     "text": [
      "377\n"
     ]
    }
   ],
   "source": [
    "kata  = \"Bima\"\n",
    "total = 0\n",
    "for kat in kata :\n",
    "    total+=ord(kat)\n",
    "print(total)"
   ]
  },
  {
   "cell_type": "code",
   "execution_count": 28,
   "id": "9fbd2f67",
   "metadata": {
    "ExecuteTime": {
     "end_time": "2022-05-25T06:00:59.294520Z",
     "start_time": "2022-05-25T06:00:59.273475Z"
    }
   },
   "outputs": [
    {
     "name": "stdout",
     "output_type": "stream",
     "text": [
      "6\n"
     ]
    }
   ],
   "source": [
    "data      = [54,26,93,17,77,31]\n",
    "lengthData= len(data)\n",
    "\n",
    "print(lengthData%10)"
   ]
  }
 ],
 "metadata": {
  "kernelspec": {
   "display_name": "Python 3 (ipykernel)",
   "language": "python",
   "name": "python3"
  },
  "language_info": {
   "codemirror_mode": {
    "name": "ipython",
    "version": 3
   },
   "file_extension": ".py",
   "mimetype": "text/x-python",
   "name": "python",
   "nbconvert_exporter": "python",
   "pygments_lexer": "ipython3",
   "version": "3.9.7"
  },
  "latex_envs": {
   "LaTeX_envs_menu_present": true,
   "autoclose": false,
   "autocomplete": true,
   "bibliofile": "biblio.bib",
   "cite_by": "apalike",
   "current_citInitial": 1,
   "eqLabelWithNumbers": true,
   "eqNumInitial": 1,
   "hotkeys": {
    "equation": "Ctrl-E",
    "itemize": "Ctrl-I"
   },
   "labels_anchors": false,
   "latex_user_defs": false,
   "report_style_numbering": false,
   "user_envs_cfg": false
  },
  "toc": {
   "base_numbering": 1,
   "nav_menu": {},
   "number_sections": true,
   "sideBar": true,
   "skip_h1_title": false,
   "title_cell": "Table of Contents",
   "title_sidebar": "Contents",
   "toc_cell": false,
   "toc_position": {},
   "toc_section_display": true,
   "toc_window_display": false
  },
  "varInspector": {
   "cols": {
    "lenName": 16,
    "lenType": 16,
    "lenVar": 40
   },
   "kernels_config": {
    "python": {
     "delete_cmd_postfix": "",
     "delete_cmd_prefix": "del ",
     "library": "var_list.py",
     "varRefreshCmd": "print(var_dic_list())"
    },
    "r": {
     "delete_cmd_postfix": ") ",
     "delete_cmd_prefix": "rm(",
     "library": "var_list.r",
     "varRefreshCmd": "cat(var_dic_list()) "
    }
   },
   "types_to_exclude": [
    "module",
    "function",
    "builtin_function_or_method",
    "instance",
    "_Feature"
   ],
   "window_display": false
  }
 },
 "nbformat": 4,
 "nbformat_minor": 5
}
