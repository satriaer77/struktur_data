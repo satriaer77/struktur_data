{
 "cells": [
  {
   "cell_type": "code",
   "execution_count": 19,
   "id": "78a84b09",
   "metadata": {
    "ExecuteTime": {
     "end_time": "2022-05-18T03:26:17.620225Z",
     "start_time": "2022-05-18T03:26:17.589139Z"
    }
   },
   "outputs": [
    {
     "name": "stdout",
     "output_type": "stream",
     "text": [
      "Bilangan =  4\n",
      "Bilangan =  3\n",
      "Bilangan =  2\n",
      "Hasil =  2\n",
      "Hasil =  6\n",
      "Hasil =  24\n",
      "24\n"
     ]
    }
   ],
   "source": [
    "def factorialRekursif(bilangan): \n",
    "    \n",
    "    if bilangan <=1:\n",
    "        #print(bilangan)\n",
    "        return(1)\n",
    "        \n",
    "    else:\n",
    "        print(\"Bilangan = \",bilangan)\n",
    "        hasil = bilangan * factorialRekursif(bilangan-1)\n",
    "        print(\"Hasil = \",hasil)\n",
    "        return(hasil)\n",
    "    \n",
    "    \n",
    "data=factorialRekursif(4)\n",
    "print(data)"
   ]
  },
  {
   "cell_type": "code",
   "execution_count": 13,
   "id": "6045f518",
   "metadata": {
    "ExecuteTime": {
     "end_time": "2022-05-18T03:22:38.342266Z",
     "start_time": "2022-05-18T03:22:38.327916Z"
    }
   },
   "outputs": [
    {
     "name": "stdout",
     "output_type": "stream",
     "text": [
      "24\n"
     ]
    }
   ],
   "source": [
    "def factorialIteratif(bilangan):\n",
    "    if bilangan <=1:\n",
    "        return(1)\n",
    "    else:\n",
    "        temp=bilangan\n",
    "        hasil=1\n",
    "        while temp>1:\n",
    "            hasil=hasil*temp\n",
    "            temp=temp-1\n",
    "        return(hasil)\n",
    "    \n",
    "print(factorialIteratif(4))"
   ]
  },
  {
   "cell_type": "code",
   "execution_count": 3,
   "id": "69867877",
   "metadata": {
    "ExecuteTime": {
     "end_time": "2022-06-28T18:57:26.703932Z",
     "start_time": "2022-06-28T18:57:26.668612Z"
    }
   },
   "outputs": [
    {
     "name": "stdout",
     "output_type": "stream",
     "text": [
      "<class 'int'> 5 <class 'int'> 1\n",
      "<class 'int'> 2 <class 'int'> 1\n",
      "<class 'int'> 1 <class 'int'> 0\n"
     ]
    },
    {
     "data": {
      "text/plain": [
       "'1011'"
      ]
     },
     "execution_count": 3,
     "metadata": {},
     "output_type": "execute_result"
    }
   ],
   "source": [
    "\n",
    "def konversiDesimal(bilangan,base):\n",
    "    charBilangan='0123456789ABCDEF'\n",
    "    if bilangan<base:\n",
    "        return(charBilangan[bilangan])\n",
    "    else:\n",
    "        temp=bilangan//base\n",
    "        ind=bilangan % base\n",
    "        print(type(temp),temp,type(ind),ind) \n",
    "        return(konversiDesimal(temp,base)+charBilangan[ind])\n",
    "    \n",
    "konversiDesimal(11,2)"
   ]
  },
  {
   "cell_type": "code",
   "execution_count": 25,
   "id": "d94d1512",
   "metadata": {
    "ExecuteTime": {
     "end_time": "2022-05-18T03:32:44.386469Z",
     "start_time": "2022-05-18T03:32:44.339031Z"
    }
   },
   "outputs": [
    {
     "name": "stdout",
     "output_type": "stream",
     "text": [
      "Piringan - 1 dari- A ke- B\n",
      "Piringan - 2 dari- A ke- C\n",
      "Piringan - 1 dari- B ke- C\n",
      "Piringan - 3 dari- A ke- B\n",
      "Piringan - 1 dari- C ke- A\n",
      "Piringan - 2 dari- C ke- B\n",
      "Piringan - 1 dari- A ke- B\n",
      "Piringan - 4 dari- A ke- C\n",
      "Piringan - 1 dari- B ke- C\n",
      "Piringan - 2 dari- B ke- A\n",
      "Piringan - 1 dari- C ke- A\n",
      "Piringan - 3 dari- B ke- C\n",
      "Piringan - 1 dari- A ke- B\n",
      "Piringan - 2 dari- A ke- C\n",
      "Piringan - 1 dari- B ke- C\n"
     ]
    }
   ],
   "source": [
    "def towers(n,awal,bantuan,tujuan):\n",
    "    if n==1:\n",
    "        print(\"Piringan - 1 dari-\", awal,\"ke-\",tujuan)\n",
    "    else:\n",
    "        towers(n-1,awal,tujuan,bantuan)\n",
    "        print(\"Piringan -\",n, \"dari-\",awal,\"ke-\", tujuan)\n",
    "        towers(n-1,bantuan,awal,tujuan)\n",
    "        \n",
    "towers(4,'A','B','C')"
   ]
  },
  {
   "cell_type": "code",
   "execution_count": 28,
   "id": "22fdb570",
   "metadata": {
    "ExecuteTime": {
     "end_time": "2022-05-18T03:47:30.828924Z",
     "start_time": "2022-05-18T03:47:30.801048Z"
    }
   },
   "outputs": [
    {
     "name": "stdout",
     "output_type": "stream",
     "text": [
      "32\n"
     ]
    }
   ],
   "source": [
    "def eksponen(a,e) :\n",
    "    if e == 0 :\n",
    "        return 1\n",
    "    else :\n",
    "        return a*eksponen(a,e-1)\n",
    "\n",
    "ak = 2 \n",
    "ek = 5 \n",
    "\n",
    "print(eksponen(ak,ek)) "
   ]
  },
  {
   "cell_type": "code",
   "execution_count": 26,
   "id": "400e2469",
   "metadata": {
    "ExecuteTime": {
     "end_time": "2022-05-18T03:36:43.229263Z",
     "start_time": "2022-05-18T03:36:17.813207Z"
    }
   },
   "outputs": [],
   "source": [
    "import turtle\n",
    "my_turtle = turtle.Turtle()\n",
    "my_win = turtle.Screen()\n",
    "\n",
    "def draw_spiral(my_turtle, line_len):\n",
    "\n",
    "    if line_len > 0:\n",
    "\n",
    "        my_turtle.forward(line_len)\n",
    "        my_turtle.right(90)\n",
    "        draw_spiral(my_turtle, line_len - 5)\n",
    "\n",
    "draw_spiral(my_turtle, 90)\n",
    "my_win.exitonclick()\n"
   ]
  },
  {
   "cell_type": "code",
   "execution_count": 43,
   "id": "c1311431",
   "metadata": {
    "ExecuteTime": {
     "end_time": "2022-05-18T04:05:23.076524Z",
     "start_time": "2022-05-18T04:05:23.046779Z"
    }
   },
   "outputs": [
    {
     "name": "stdout",
     "output_type": "stream",
     "text": [
      " 2 2 2"
     ]
    },
    {
     "data": {
      "text/plain": [
       "8"
      ]
     },
     "execution_count": 43,
     "metadata": {},
     "output_type": "execute_result"
    }
   ],
   "source": [
    "def eksponenBilangan(bil,eks) :\n",
    "    hasil = 1\n",
    "    for i in range(eks) :\n",
    "        hasil*=bil\n",
    "        print(\"\",bil,end=\"\")\n",
    "    return hasil\n",
    "\n",
    "eksponenBilangan(2,3)"
   ]
  },
  {
   "cell_type": "code",
   "execution_count": 73,
   "id": "2ffb9101",
   "metadata": {
    "ExecuteTime": {
     "end_time": "2022-05-18T04:41:19.859991Z",
     "start_time": "2022-05-18T04:41:19.825126Z"
    }
   },
   "outputs": [
    {
     "name": "stdout",
     "output_type": "stream",
     "text": [
      "24\n",
      "24\n"
     ]
    }
   ],
   "source": [
    "def faktorialBilangan(bil):\n",
    "    if bil <=1:\n",
    "        return(1)\n",
    "    else:\n",
    "        temp=bil\n",
    "        hasil=1\n",
    "        while temp > 1:\n",
    "            print(\"Hasil = \",hasil)\n",
    "            hasil=hasil*temp\n",
    "            temp=temp-1\n",
    "        return(hasil)\n",
    "    \n",
    "    \n",
    "def faktorial(bil) :\n",
    "    hasil = 1\n",
    "    for i in range(bil,0,-1) :\n",
    "        hasil*=i\n",
    "    return hasil\n",
    "  \n",
    "print(faktorial(4))    \n",
    "print(factorialIteratif(4))"
   ]
  },
  {
   "cell_type": "code",
   "execution_count": 83,
   "id": "5fe69f34",
   "metadata": {
    "ExecuteTime": {
     "end_time": "2022-05-18T04:56:37.455912Z",
     "start_time": "2022-05-18T04:56:37.401794Z"
    }
   },
   "outputs": [
    {
     "name": "stdout",
     "output_type": "stream",
     "text": [
      "k   k  |v|\n",
      "s   a  |x|\n",
      "s   s  |v|\n",
      "u   u  |v|\n",
      "r   r  |v|\n",
      "False\n"
     ]
    }
   ],
   "source": [
    "def palindrome(kata) :\n",
    "    jmlIdx = len(kata)-1\n",
    "    cekPalindrom = True\n",
    "    \n",
    "    for i in range(len(kata)//2) :\n",
    "\n",
    "        if kata[jmlIdx-i] == kata[i] :\n",
    "            cekPalindrom = True and cekPalindrom\n",
    "            print(kata[i],\" \",kata[jmlIdx-i],\" |v|\")\n",
    "        else :\n",
    "            cekPalindrom = False and cekPalindrom\n",
    "            print(kata[i],\" \",kata[jmlIdx-i],\" |x|\")\n",
    "            \n",
    "        \n",
    "    return cekPalindrom\n",
    "print(palindrome(\"kssur rusak\"))\n",
    "            "
   ]
  },
  {
   "cell_type": "code",
   "execution_count": 80,
   "id": "79ea69c5",
   "metadata": {
    "ExecuteTime": {
     "end_time": "2022-05-18T04:52:45.106649Z",
     "start_time": "2022-05-18T04:52:45.080129Z"
    }
   },
   "outputs": [
    {
     "name": "stdout",
     "output_type": "stream",
     "text": [
      "2 4 6 8 \n",
      "Hasil =  20\n"
     ]
    }
   ],
   "source": [
    "def deret(nums) :\n",
    "    total = 0\n",
    "    for num in nums :\n",
    "        total+=num\n",
    "        print(num,end=\" \")\n",
    "    return total\n",
    "\n",
    "numsLst = [2,4,6,8]\n",
    "print(\"\\nHasil = \",deret(numsLst))"
   ]
  },
  {
   "cell_type": "code",
   "execution_count": 7,
   "id": "8b44dab0",
   "metadata": {
    "ExecuteTime": {
     "end_time": "2022-05-18T05:12:19.437930Z",
     "start_time": "2022-05-18T05:12:19.415574Z"
    }
   },
   "outputs": [
    {
     "name": "stdout",
     "output_type": "stream",
     "text": [
      "1 2 3 Hasil 3! = 6 \n"
     ]
    }
   ],
   "source": [
    "def faktorialReverse(bil) :\n",
    "    total = 1\n",
    "    for i in range(bil,0,-1) :\n",
    "        total*=i\n",
    "        print(i,end=\" \")\n",
    "    return total\n",
    "\n",
    "def faktorial(bil) :\n",
    "    total = 1\n",
    "    for i in range(1,bil+1) :\n",
    "        total*=i\n",
    "        print(i,end=\" \")\n",
    "    return total\n",
    "\n",
    "akg = 3\n",
    "print(\"Hasil %d! = %d \" % (akg,faktorial(akg)) )"
   ]
  },
  {
   "cell_type": "code",
   "execution_count": 15,
   "id": "ec949e34",
   "metadata": {
    "ExecuteTime": {
     "end_time": "2022-05-18T05:20:40.135781Z",
     "start_time": "2022-05-18T05:20:40.105613Z"
    }
   },
   "outputs": [
    {
     "name": "stdout",
     "output_type": "stream",
     "text": [
      "Bilangan =  4\n",
      "Bilangan =  3\n",
      "Bilangan =  2\n",
      "Bilangan =  1\n",
      "Hasil =  2\n",
      "Hasil =  6\n",
      "Hasil =  24\n",
      "24\n"
     ]
    }
   ],
   "source": [
    "def factorialRekursif(bilangan): \n",
    "    print(\"Bilangan = \",bilangan)\n",
    "    if bilangan == 1:\n",
    "        return(1)\n",
    "        \n",
    "    else:\n",
    "        hasil = bilangan * factorialRekursif(bilangan-1)\n",
    "        print(\"Hasil = \",hasil)\n",
    "        return(hasil)\n",
    "    \n",
    "    \n",
    "data=factorialRekursif(4)\n",
    "print(data)"
   ]
  },
  {
   "cell_type": "code",
   "execution_count": 25,
   "id": "eef44de4",
   "metadata": {
    "ExecuteTime": {
     "end_time": "2022-05-18T05:29:51.600825Z",
     "start_time": "2022-05-18T05:29:51.570612Z"
    },
    "scrolled": true
   },
   "outputs": [
    {
     "name": "stdout",
     "output_type": "stream",
     "text": [
      "8\n"
     ]
    }
   ],
   "source": [
    "def eksponenRecursif(bil,eks) :\n",
    "    if eks == 0 :\n",
    "        return 1\n",
    "    else :\n",
    "        hs = bil*eksponenRecursif(bil,eks-1)\n",
    "        print(kk[1:len(kk):1])\n",
    "        return hs\n",
    "\n",
    "print(eksponenRecursif(2,3))"
   ]
  },
  {
   "cell_type": "code",
   "execution_count": 2,
   "id": "595e81df",
   "metadata": {
    "ExecuteTime": {
     "end_time": "2022-05-18T09:04:02.105928Z",
     "start_time": "2022-05-18T09:04:02.084595Z"
    }
   },
   "outputs": [
    {
     "name": "stdout",
     "output_type": "stream",
     "text": [
      "[3, 4, 5, 3]\n"
     ]
    }
   ],
   "source": [
    "l = [1,3,4,5,3]\n",
    "print(l[1:len(l):1])"
   ]
  },
  {
   "cell_type": "code",
   "execution_count": null,
   "id": "7a24ed59",
   "metadata": {
    "ExecuteTime": {
     "start_time": "2022-05-18T09:01:25.062Z"
    }
   },
   "outputs": [
    {
     "name": "stderr",
     "output_type": "stream",
     "text": [
      "ERROR:root:Internal Python error in the inspect module.\n",
      "Below is the traceback from this internal error.\n",
      "\n",
      "ERROR:root:Internal Python error in the inspect module.\n",
      "Below is the traceback from this internal error.\n",
      "\n"
     ]
    },
    {
     "name": "stdout",
     "output_type": "stream",
     "text": [
      "Traceback (most recent call last):\n",
      "  File \"/home/bimasatria/anaconda3/lib/python3.9/site-packages/IPython/core/interactiveshell.py\", line 3444, in run_code\n",
      "    exec(code_obj, self.user_global_ns, self.user_ns)\n",
      "  File \"/tmp/ipykernel_53515/2976107438.py\", line 9, in <module>\n",
      "    print(eksponenRecursif([2,4,2,7]))\n",
      "  File \"/tmp/ipykernel_53515/2976107438.py\", line 5, in eksponenRecursif\n",
      "    hs = n*eksponenRecursif(n[1:len(n)-1:1])\n",
      "  File \"/tmp/ipykernel_53515/2976107438.py\", line 5, in eksponenRecursif\n",
      "    hs = n*eksponenRecursif(n[1:len(n)-1:1])\n",
      "  File \"/tmp/ipykernel_53515/2976107438.py\", line 5, in eksponenRecursif\n",
      "    hs = n*eksponenRecursif(n[1:len(n)-1:1])\n",
      "  [Previous line repeated 2969 more times]\n",
      "  File \"/tmp/ipykernel_53515/2976107438.py\", line 2, in eksponenRecursif\n",
      "    if len(n)-1 == 0 :\n",
      "RecursionError: maximum recursion depth exceeded while calling a Python object\n",
      "\n",
      "During handling of the above exception, another exception occurred:\n",
      "\n",
      "Traceback (most recent call last):\n",
      "  File \"/home/bimasatria/anaconda3/lib/python3.9/site-packages/IPython/core/interactiveshell.py\", line 2064, in showtraceback\n",
      "    stb = value._render_traceback_()\n",
      "AttributeError: 'RecursionError' object has no attribute '_render_traceback_'\n",
      "\n",
      "During handling of the above exception, another exception occurred:\n",
      "\n",
      "Traceback (most recent call last):\n",
      "  File \"/home/bimasatria/anaconda3/lib/python3.9/site-packages/IPython/core/ultratb.py\", line 1101, in get_records\n",
      "    return _fixed_getinnerframes(etb, number_of_lines_of_context, tb_offset)\n",
      "  File \"/home/bimasatria/anaconda3/lib/python3.9/site-packages/IPython/core/ultratb.py\", line 248, in wrapped\n",
      "    return f(*args, **kwargs)\n",
      "  File \"/home/bimasatria/anaconda3/lib/python3.9/site-packages/IPython/core/ultratb.py\", line 281, in _fixed_getinnerframes\n",
      "    records = fix_frame_records_filenames(inspect.getinnerframes(etb, context))\n",
      "  File \"/home/bimasatria/anaconda3/lib/python3.9/inspect.py\", line 1541, in getinnerframes\n",
      "    frameinfo = (tb.tb_frame,) + getframeinfo(tb, context)\n",
      "  File \"/home/bimasatria/anaconda3/lib/python3.9/inspect.py\", line 1499, in getframeinfo\n",
      "    filename = getsourcefile(frame) or getfile(frame)\n",
      "  File \"/home/bimasatria/anaconda3/lib/python3.9/inspect.py\", line 709, in getsourcefile\n",
      "    if getattr(getmodule(object, filename), '__loader__', None) is not None:\n",
      "  File \"/home/bimasatria/anaconda3/lib/python3.9/inspect.py\", line 746, in getmodule\n",
      "    if ismodule(module) and hasattr(module, '__file__'):\n",
      "  File \"/home/bimasatria/anaconda3/lib/python3.9/inspect.py\", line 71, in ismodule\n",
      "    return isinstance(object, types.ModuleType)\n",
      "KeyboardInterrupt\n",
      "Traceback (most recent call last):\n",
      "  File \"/home/bimasatria/anaconda3/lib/python3.9/site-packages/IPython/core/interactiveshell.py\", line 3444, in run_code\n",
      "    exec(code_obj, self.user_global_ns, self.user_ns)\n",
      "  File \"/tmp/ipykernel_53515/2976107438.py\", line 9, in <module>\n",
      "    print(eksponenRecursif([2,4,2,7]))\n",
      "  File \"/tmp/ipykernel_53515/2976107438.py\", line 5, in eksponenRecursif\n",
      "    hs = n*eksponenRecursif(n[1:len(n)-1:1])\n",
      "  File \"/tmp/ipykernel_53515/2976107438.py\", line 5, in eksponenRecursif\n",
      "    hs = n*eksponenRecursif(n[1:len(n)-1:1])\n",
      "  File \"/tmp/ipykernel_53515/2976107438.py\", line 5, in eksponenRecursif\n",
      "    hs = n*eksponenRecursif(n[1:len(n)-1:1])\n",
      "  [Previous line repeated 2969 more times]\n",
      "  File \"/tmp/ipykernel_53515/2976107438.py\", line 2, in eksponenRecursif\n",
      "    if len(n)-1 == 0 :\n",
      "RecursionError: maximum recursion depth exceeded while calling a Python object\n",
      "\n",
      "During handling of the above exception, another exception occurred:\n",
      "\n",
      "Traceback (most recent call last):\n",
      "  File \"/home/bimasatria/anaconda3/lib/python3.9/site-packages/IPython/core/interactiveshell.py\", line 2064, in showtraceback\n",
      "    stb = value._render_traceback_()\n",
      "AttributeError: 'RecursionError' object has no attribute '_render_traceback_'\n",
      "\n",
      "During handling of the above exception, another exception occurred:\n",
      "\n",
      "Traceback (most recent call last):\n",
      "  File \"/home/bimasatria/anaconda3/lib/python3.9/site-packages/IPython/core/interactiveshell.py\", line 3364, in run_ast_nodes\n",
      "    if (await self.run_code(code, result,  async_=asy)):\n",
      "  File \"/home/bimasatria/anaconda3/lib/python3.9/site-packages/IPython/core/interactiveshell.py\", line 3461, in run_code\n",
      "    self.showtraceback(running_compiled_code=True)\n",
      "  File \"/home/bimasatria/anaconda3/lib/python3.9/site-packages/IPython/core/interactiveshell.py\", line 2066, in showtraceback\n",
      "    stb = self.InteractiveTB.structured_traceback(etype,\n",
      "  File \"/home/bimasatria/anaconda3/lib/python3.9/site-packages/IPython/core/ultratb.py\", line 1367, in structured_traceback\n",
      "    return FormattedTB.structured_traceback(\n",
      "  File \"/home/bimasatria/anaconda3/lib/python3.9/site-packages/IPython/core/ultratb.py\", line 1267, in structured_traceback\n",
      "    return VerboseTB.structured_traceback(\n",
      "  File \"/home/bimasatria/anaconda3/lib/python3.9/site-packages/IPython/core/ultratb.py\", line 1124, in structured_traceback\n",
      "    formatted_exception = self.format_exception_as_a_whole(etype, evalue, etb, number_of_lines_of_context,\n",
      "  File \"/home/bimasatria/anaconda3/lib/python3.9/site-packages/IPython/core/ultratb.py\", line 1082, in format_exception_as_a_whole\n",
      "    last_unique, recursion_repeat = find_recursion(orig_etype, evalue, records)\n",
      "  File \"/home/bimasatria/anaconda3/lib/python3.9/site-packages/IPython/core/ultratb.py\", line 381, in find_recursion\n",
      "    if not is_recursion_error(etype, value, records):\n",
      "  File \"/home/bimasatria/anaconda3/lib/python3.9/site-packages/IPython/core/ultratb.py\", line 368, in is_recursion_error\n",
      "    and len(records) > _FRAME_RECURSION_LIMIT\n",
      "TypeError: object of type 'NoneType' has no len()\n",
      "\n",
      "During handling of the above exception, another exception occurred:\n",
      "\n",
      "Traceback (most recent call last):\n",
      "  File \"/home/bimasatria/anaconda3/lib/python3.9/site-packages/IPython/core/interactiveshell.py\", line 2064, in showtraceback\n",
      "    stb = value._render_traceback_()\n",
      "AttributeError: 'TypeError' object has no attribute '_render_traceback_'\n",
      "\n",
      "During handling of the above exception, another exception occurred:\n",
      "\n",
      "Traceback (most recent call last):\n",
      "  File \"/home/bimasatria/anaconda3/lib/python3.9/site-packages/IPython/core/ultratb.py\", line 1101, in get_records\n",
      "    return _fixed_getinnerframes(etb, number_of_lines_of_context, tb_offset)\n",
      "  File \"/home/bimasatria/anaconda3/lib/python3.9/site-packages/IPython/core/ultratb.py\", line 248, in wrapped\n",
      "    return f(*args, **kwargs)\n",
      "  File \"/home/bimasatria/anaconda3/lib/python3.9/site-packages/IPython/core/ultratb.py\", line 281, in _fixed_getinnerframes\n",
      "    records = fix_frame_records_filenames(inspect.getinnerframes(etb, context))\n",
      "  File \"/home/bimasatria/anaconda3/lib/python3.9/inspect.py\", line 1541, in getinnerframes\n",
      "    frameinfo = (tb.tb_frame,) + getframeinfo(tb, context)\n",
      "  File \"/home/bimasatria/anaconda3/lib/python3.9/inspect.py\", line 1499, in getframeinfo\n",
      "    filename = getsourcefile(frame) or getfile(frame)\n",
      "  File \"/home/bimasatria/anaconda3/lib/python3.9/inspect.py\", line 709, in getsourcefile\n",
      "    if getattr(getmodule(object, filename), '__loader__', None) is not None:\n",
      "  File \"/home/bimasatria/anaconda3/lib/python3.9/inspect.py\", line 745, in getmodule\n",
      "    for modname, module in sys.modules.copy().items():\n",
      "KeyboardInterrupt\n"
     ]
    },
    {
     "name": "stderr",
     "output_type": "stream",
     "text": [
      "ERROR:root:Internal Python error in the inspect module.\n",
      "Below is the traceback from this internal error.\n",
      "\n"
     ]
    },
    {
     "name": "stdout",
     "output_type": "stream",
     "text": [
      "Traceback (most recent call last):\n",
      "  File \"/home/bimasatria/anaconda3/lib/python3.9/site-packages/IPython/core/interactiveshell.py\", line 3444, in run_code\n",
      "    exec(code_obj, self.user_global_ns, self.user_ns)\n",
      "  File \"/tmp/ipykernel_53515/2976107438.py\", line 9, in <module>\n",
      "    print(eksponenRecursif([2,4,2,7]))\n",
      "  File \"/tmp/ipykernel_53515/2976107438.py\", line 5, in eksponenRecursif\n",
      "    hs = n*eksponenRecursif(n[1:len(n)-1:1])\n",
      "  File \"/tmp/ipykernel_53515/2976107438.py\", line 5, in eksponenRecursif\n",
      "    hs = n*eksponenRecursif(n[1:len(n)-1:1])\n",
      "  File \"/tmp/ipykernel_53515/2976107438.py\", line 5, in eksponenRecursif\n",
      "    hs = n*eksponenRecursif(n[1:len(n)-1:1])\n",
      "  [Previous line repeated 2969 more times]\n",
      "  File \"/tmp/ipykernel_53515/2976107438.py\", line 2, in eksponenRecursif\n",
      "    if len(n)-1 == 0 :\n",
      "RecursionError: maximum recursion depth exceeded while calling a Python object\n",
      "\n",
      "During handling of the above exception, another exception occurred:\n",
      "\n",
      "Traceback (most recent call last):\n",
      "  File \"/home/bimasatria/anaconda3/lib/python3.9/site-packages/IPython/core/interactiveshell.py\", line 2064, in showtraceback\n",
      "    stb = value._render_traceback_()\n",
      "AttributeError: 'RecursionError' object has no attribute '_render_traceback_'\n",
      "\n",
      "During handling of the above exception, another exception occurred:\n",
      "\n",
      "Traceback (most recent call last):\n",
      "  File \"/home/bimasatria/anaconda3/lib/python3.9/site-packages/IPython/core/interactiveshell.py\", line 3364, in run_ast_nodes\n",
      "    if (await self.run_code(code, result,  async_=asy)):\n",
      "  File \"/home/bimasatria/anaconda3/lib/python3.9/site-packages/IPython/core/interactiveshell.py\", line 3461, in run_code\n",
      "    self.showtraceback(running_compiled_code=True)\n",
      "  File \"/home/bimasatria/anaconda3/lib/python3.9/site-packages/IPython/core/interactiveshell.py\", line 2066, in showtraceback\n",
      "    stb = self.InteractiveTB.structured_traceback(etype,\n",
      "  File \"/home/bimasatria/anaconda3/lib/python3.9/site-packages/IPython/core/ultratb.py\", line 1367, in structured_traceback\n",
      "    return FormattedTB.structured_traceback(\n",
      "  File \"/home/bimasatria/anaconda3/lib/python3.9/site-packages/IPython/core/ultratb.py\", line 1267, in structured_traceback\n",
      "    return VerboseTB.structured_traceback(\n",
      "  File \"/home/bimasatria/anaconda3/lib/python3.9/site-packages/IPython/core/ultratb.py\", line 1124, in structured_traceback\n",
      "    formatted_exception = self.format_exception_as_a_whole(etype, evalue, etb, number_of_lines_of_context,\n",
      "  File \"/home/bimasatria/anaconda3/lib/python3.9/site-packages/IPython/core/ultratb.py\", line 1082, in format_exception_as_a_whole\n",
      "    last_unique, recursion_repeat = find_recursion(orig_etype, evalue, records)\n",
      "  File \"/home/bimasatria/anaconda3/lib/python3.9/site-packages/IPython/core/ultratb.py\", line 381, in find_recursion\n",
      "    if not is_recursion_error(etype, value, records):\n",
      "  File \"/home/bimasatria/anaconda3/lib/python3.9/site-packages/IPython/core/ultratb.py\", line 368, in is_recursion_error\n",
      "    and len(records) > _FRAME_RECURSION_LIMIT\n",
      "TypeError: object of type 'NoneType' has no len()\n",
      "\n",
      "During handling of the above exception, another exception occurred:\n",
      "\n",
      "Traceback (most recent call last):\n",
      "  File \"/home/bimasatria/anaconda3/lib/python3.9/site-packages/IPython/core/interactiveshell.py\", line 2064, in showtraceback\n",
      "    stb = value._render_traceback_()\n",
      "AttributeError: 'TypeError' object has no attribute '_render_traceback_'\n",
      "\n",
      "During handling of the above exception, another exception occurred:\n",
      "\n",
      "Traceback (most recent call last):\n",
      "  File \"/home/bimasatria/anaconda3/lib/python3.9/site-packages/IPython/core/interactiveshell.py\", line 2947, in _run_cell\n",
      "    return runner(coro)\n",
      "  File \"/home/bimasatria/anaconda3/lib/python3.9/site-packages/IPython/core/async_helpers.py\", line 68, in _pseudo_sync_runner\n",
      "    coro.send(None)\n",
      "  File \"/home/bimasatria/anaconda3/lib/python3.9/site-packages/IPython/core/interactiveshell.py\", line 3172, in run_cell_async\n",
      "    has_raised = await self.run_ast_nodes(code_ast.body, cell_name,\n",
      "  File \"/home/bimasatria/anaconda3/lib/python3.9/site-packages/IPython/core/interactiveshell.py\", line 3383, in run_ast_nodes\n",
      "    self.showtraceback()\n",
      "  File \"/home/bimasatria/anaconda3/lib/python3.9/site-packages/IPython/core/interactiveshell.py\", line 2066, in showtraceback\n",
      "    stb = self.InteractiveTB.structured_traceback(etype,\n",
      "  File \"/home/bimasatria/anaconda3/lib/python3.9/site-packages/IPython/core/ultratb.py\", line 1367, in structured_traceback\n",
      "    return FormattedTB.structured_traceback(\n",
      "  File \"/home/bimasatria/anaconda3/lib/python3.9/site-packages/IPython/core/ultratb.py\", line 1267, in structured_traceback\n",
      "    return VerboseTB.structured_traceback(\n",
      "  File \"/home/bimasatria/anaconda3/lib/python3.9/site-packages/IPython/core/ultratb.py\", line 1142, in structured_traceback\n",
      "    formatted_exceptions += self.format_exception_as_a_whole(etype, evalue, etb, lines_of_context,\n",
      "  File \"/home/bimasatria/anaconda3/lib/python3.9/site-packages/IPython/core/ultratb.py\", line 1082, in format_exception_as_a_whole\n",
      "    last_unique, recursion_repeat = find_recursion(orig_etype, evalue, records)\n",
      "  File \"/home/bimasatria/anaconda3/lib/python3.9/site-packages/IPython/core/ultratb.py\", line 381, in find_recursion\n",
      "    if not is_recursion_error(etype, value, records):\n",
      "  File \"/home/bimasatria/anaconda3/lib/python3.9/site-packages/IPython/core/ultratb.py\", line 368, in is_recursion_error\n",
      "    and len(records) > _FRAME_RECURSION_LIMIT\n",
      "TypeError: object of type 'NoneType' has no len()\n",
      "\n",
      "During handling of the above exception, another exception occurred:\n",
      "\n",
      "Traceback (most recent call last):\n",
      "  File \"/home/bimasatria/anaconda3/lib/python3.9/site-packages/IPython/core/interactiveshell.py\", line 2064, in showtraceback\n",
      "    stb = value._render_traceback_()\n",
      "AttributeError: 'TypeError' object has no attribute '_render_traceback_'\n",
      "\n",
      "During handling of the above exception, another exception occurred:\n",
      "\n",
      "Traceback (most recent call last):\n",
      "  File \"/home/bimasatria/anaconda3/lib/python3.9/site-packages/IPython/core/ultratb.py\", line 1101, in get_records\n",
      "    return _fixed_getinnerframes(etb, number_of_lines_of_context, tb_offset)\n",
      "  File \"/home/bimasatria/anaconda3/lib/python3.9/site-packages/IPython/core/ultratb.py\", line 248, in wrapped\n",
      "    return f(*args, **kwargs)\n",
      "  File \"/home/bimasatria/anaconda3/lib/python3.9/site-packages/IPython/core/ultratb.py\", line 281, in _fixed_getinnerframes\n",
      "    records = fix_frame_records_filenames(inspect.getinnerframes(etb, context))\n",
      "  File \"/home/bimasatria/anaconda3/lib/python3.9/inspect.py\", line 1541, in getinnerframes\n",
      "    frameinfo = (tb.tb_frame,) + getframeinfo(tb, context)\n",
      "  File \"/home/bimasatria/anaconda3/lib/python3.9/inspect.py\", line 1499, in getframeinfo\n",
      "    filename = getsourcefile(frame) or getfile(frame)\n",
      "  File \"/home/bimasatria/anaconda3/lib/python3.9/inspect.py\", line 709, in getsourcefile\n",
      "    if getattr(getmodule(object, filename), '__loader__', None) is not None:\n",
      "  File \"/home/bimasatria/anaconda3/lib/python3.9/inspect.py\", line 745, in getmodule\n",
      "    for modname, module in sys.modules.copy().items():\n",
      "KeyboardInterrupt\n"
     ]
    }
   ],
   "source": [
    "def eksponenRecursif(n) :\n",
    "    if len(n) == 1 :\n",
    "        return 1\n",
    "    else :\n",
    "        hs = n*eksponenRecursif(n[1:len(n)-1:1])\n",
    "        print(n[1:len(n)-1:1])\n",
    "        return hs\n",
    "\n",
    "print(eksponenRecursif([2,4,2,7]))"
   ]
  },
  {
   "cell_type": "code",
   "execution_count": null,
   "id": "e5122a5b",
   "metadata": {},
   "outputs": [],
   "source": []
  },
  {
   "cell_type": "code",
   "execution_count": 40,
   "id": "f75647cd",
   "metadata": {
    "ExecuteTime": {
     "end_time": "2022-05-18T05:45:56.415797Z",
     "start_time": "2022-05-18T05:45:56.378821Z"
    }
   },
   "outputs": [
    {
     "data": {
      "text/plain": [
       "1"
      ]
     },
     "execution_count": 40,
     "metadata": {},
     "output_type": "execute_result"
    }
   ],
   "source": [
    "def palindromRecursif(kata,jmlKata) :\n",
    "    if jmlKata <= 1 : #jmlKata == 0 or jmlKata==1\n",
    "        return 1 #True\n",
    "    else :\n",
    "        if kata[jmlKata] == kata[jmlKata] :\n",
    "            return True and palindromRecursif(kata,jmlKata-1)\n",
    "            print(kata[i],\" \",kata[jmlIdx-i],\" |v|\")\n",
    "        else :\n",
    "            return False and palindromRecursif(kata,jmlKata-1)\n",
    "            print(kata[i],\" \",kata[jmlIdx-i],\" |x|\")\n",
    "            \n",
    "strKata = \"katak\" \n",
    "palindromRecursif(strKata,len(strKata)-1) \n",
    "      "
   ]
  },
  {
   "cell_type": "code",
   "execution_count": 26,
   "id": "72d003c7",
   "metadata": {
    "ExecuteTime": {
     "end_time": "2022-05-18T08:17:47.004495Z",
     "start_time": "2022-05-18T08:17:46.951704Z"
    }
   },
   "outputs": [
    {
     "name": "stdout",
     "output_type": "stream",
     "text": [
      "=> Cek Kata [0]k | [10]k >-| v |-< \n",
      "Jml Kata = 11 \n",
      "\n",
      "=> Cek Kata [1]a | [9]a >-| v |-< \n",
      "Jml Kata = 9 \n",
      "\n",
      "=> Cek Kata [2]s | [8]s >-| v |-< \n",
      "Jml Kata = 7 \n",
      "\n",
      "=> Cek Kata [3]u | [7]u >-| v |-< \n",
      "Jml Kata = 5 \n",
      "\n",
      "=> Cek Kata [4]r | [6]r >-| v |-< \n",
      "Jml Kata = 3 \n",
      "\n",
      "Apakah ' kasur rusak ' merupakan palindrom?  True\n"
     ]
    }
   ],
   "source": [
    "def palindromRecursif(kata,idxAwal,idxAkhir,jmlKata) :\n",
    "    if jmlKata == 0 or jmlKata == 1 :\n",
    "        return True\n",
    "    else :\n",
    "        \n",
    "        if kata[idxAwal] == kata[idxAkhir] :\n",
    "            print(\"=> Cek Kata [%d]%s | [%d]%s >-| v |-< \\nJml Kata = %d \\n\" % \n",
    "                  ( idxAwal,kata[idxAwal],\n",
    "                    idxAkhir,kata[idxAkhir],jmlKata\n",
    "                  ) )\n",
    "            return True and palindromRecursif(kata,idxAwal+1,idxAkhir-1,jmlKata-2)\n",
    "            \n",
    "        else :\n",
    "            print(\"=> Cek Kata [%d]%s | [%d]%s >-| v |-< \\nJml Kata = %d \\n\" % \n",
    "                  ( idxAwal,kata[idxAwal],\n",
    "                    idxAkhir,kata[idxAkhir],jmlKata\n",
    "                  ) )\n",
    "            return False and palindromRecursif(kata,idxAwal+1,idxAkhir-1,jmlKata-2)\n",
    "            \n",
    "strKata = \"kasur rusak\" \n",
    "print(\"Apakah '\",strKata,\"' merupakan palindrom? \",palindromRecursif(strKata,0,len(strKata)-1,len(strKata)))"
   ]
  },
  {
   "cell_type": "code",
   "execution_count": null,
   "id": "b1be170c",
   "metadata": {},
   "outputs": [],
   "source": [
    "def palindromRecursif(kata,idxAwal,idxAkhir,jmlKata) :\n",
    "    if jmlKata == 0 or jmlKata == 1 :\n",
    "        return True\n",
    "    else :\n",
    "        \n",
    "        if kata[idxAwal] == kata[idxAkhir] :\n",
    "            print(\"=> Cek Kata [%d]%s | [%d]%s >-| v |-< \\nJml Kata = %d \\n\" % \n",
    "                  ( idxAwal,kata[idxAwal],\n",
    "                    idxAkhir,kata[idxAkhir],jmlKata\n",
    "                  ) )\n",
    "            return True and palindromRecursif(kata,idxAwal+1,idxAkhir-1,jmlKata-2)\n",
    "            \n",
    "        else :\n",
    "            print(\"=> Cek Kata [%d]%s | [%d]%s >-| v |-< \\nJml Kata = %d \\n\" % \n",
    "                  ( idxAwal,kata[idxAwal],\n",
    "                    idxAkhir,kata[idxAkhir],jmlKata\n",
    "                  ) )\n",
    "            return False and palindromRecursif(kata,idxAwal+1,idxAkhir-1,jmlKata-2)\n",
    "            \n",
    "strKata = \"kasur rusak\" \n",
    "print(\"Apakah '\",strKata,\"' merupakan palindrom? \",palindromRecursif(strKata,0,len(strKata)-1,len(strKata)))"
   ]
  },
  {
   "cell_type": "code",
   "execution_count": 35,
   "id": "f9cbe1a2",
   "metadata": {
    "ExecuteTime": {
     "end_time": "2022-05-18T08:59:18.086570Z",
     "start_time": "2022-05-18T08:59:18.067086Z"
    }
   },
   "outputs": [
    {
     "name": "stdout",
     "output_type": "stream",
     "text": [
      "tak\n"
     ]
    }
   ],
   "source": [
    "def isPalindrome(kata) :\n",
    "    if len(data) == 1 or len(data) == 0 :\n",
    "        return "
   ]
  },
  {
   "cell_type": "code",
   "execution_count": 4,
   "id": "52f12618",
   "metadata": {
    "ExecuteTime": {
     "end_time": "2022-05-18T09:35:41.765668Z",
     "start_time": "2022-05-18T09:35:41.654208Z"
    }
   },
   "outputs": [
    {
     "name": "stdout",
     "output_type": "stream",
     "text": [
      "Piringan - 1 dari- A ke- C\n",
      "Piringan - 2 dari- A ke- B\n",
      "Piringan - 1 dari- C ke- B\n",
      "Piringan - 3 dari- A ke- C\n",
      "Piringan - 1 dari- B ke- A\n",
      "Piringan - 2 dari- B ke- C\n",
      "Piringan - 1 dari- A ke- C\n",
      "Piringan - 4 dari- A ke- B\n",
      "Piringan - 1 dari- C ke- B\n",
      "Piringan - 2 dari- C ke- A\n",
      "Piringan - 1 dari- B ke- A\n",
      "Piringan - 3 dari- C ke- B\n",
      "Piringan - 1 dari- A ke- C\n",
      "Piringan - 2 dari- A ke- B\n",
      "Piringan - 1 dari- C ke- B\n",
      "Piringan - 5 dari- A ke- C\n",
      "Piringan - 1 dari- B ke- A\n",
      "Piringan - 2 dari- B ke- C\n",
      "Piringan - 1 dari- A ke- C\n",
      "Piringan - 3 dari- B ke- A\n",
      "Piringan - 1 dari- C ke- B\n",
      "Piringan - 2 dari- C ke- A\n",
      "Piringan - 1 dari- B ke- A\n",
      "Piringan - 4 dari- B ke- C\n",
      "Piringan - 1 dari- A ke- C\n",
      "Piringan - 2 dari- A ke- B\n",
      "Piringan - 1 dari- C ke- B\n",
      "Piringan - 3 dari- A ke- C\n",
      "Piringan - 1 dari- B ke- A\n",
      "Piringan - 2 dari- B ke- C\n",
      "Piringan - 1 dari- A ke- C\n"
     ]
    }
   ],
   "source": [
    "def towers(n,awal,bantuan,tujuan):\n",
    "    if n==1:\n",
    "        print(\"Piringan - 1 dari-\", awal,\"ke-\",tujuan)\n",
    "    else:\n",
    "        towers(n-1,awal,tujuan,bantuan)\n",
    "        print(\"Piringan -\",n, \"dari-\",awal,\"ke-\", tujuan)\n",
    "        towers(n-1,bantuan,awal,tujuan)\n",
    "\n",
    "towers(5,\"A\",\"B\",\"C\")"
   ]
  },
  {
   "cell_type": "code",
   "execution_count": 1,
   "id": "fd1ba5e5",
   "metadata": {
    "ExecuteTime": {
     "end_time": "2022-05-18T05:06:54.793834Z",
     "start_time": "2022-05-18T05:06:49.793616Z"
    }
   },
   "outputs": [
    {
     "ename": "TypeError",
     "evalue": "get_mid() missing 1 required positional argument: 'p2'",
     "output_type": "error",
     "traceback": [
      "\u001b[0;31m---------------------------------------------------------------------------\u001b[0m",
      "\u001b[0;31mTypeError\u001b[0m                                 Traceback (most recent call last)",
      "\u001b[0;32m/tmp/ipykernel_31480/835198584.py\u001b[0m in \u001b[0;36m<module>\u001b[0;34m\u001b[0m\n\u001b[1;32m     30\u001b[0m     \u001b[0mmy_win\u001b[0m\u001b[0;34m.\u001b[0m\u001b[0mexitonclick\u001b[0m\u001b[0;34m(\u001b[0m\u001b[0;34m)\u001b[0m\u001b[0;34m\u001b[0m\u001b[0;34m\u001b[0m\u001b[0m\n\u001b[1;32m     31\u001b[0m \u001b[0;34m\u001b[0m\u001b[0m\n\u001b[0;32m---> 32\u001b[0;31m \u001b[0mmain\u001b[0m\u001b[0;34m(\u001b[0m\u001b[0;34m)\u001b[0m\u001b[0;34m\u001b[0m\u001b[0;34m\u001b[0m\u001b[0m\n\u001b[0m",
      "\u001b[0;32m/tmp/ipykernel_31480/835198584.py\u001b[0m in \u001b[0;36mmain\u001b[0;34m()\u001b[0m\n\u001b[1;32m     27\u001b[0m     \u001b[0mmy_win\u001b[0m \u001b[0;34m=\u001b[0m \u001b[0mturtle\u001b[0m\u001b[0;34m.\u001b[0m\u001b[0mScreen\u001b[0m\u001b[0;34m(\u001b[0m\u001b[0;34m)\u001b[0m\u001b[0;34m\u001b[0m\u001b[0;34m\u001b[0m\u001b[0m\n\u001b[1;32m     28\u001b[0m     \u001b[0mmy_points\u001b[0m \u001b[0;34m=\u001b[0m \u001b[0;34m[\u001b[0m\u001b[0;34m[\u001b[0m\u001b[0;34m-\u001b[0m\u001b[0;36m100\u001b[0m\u001b[0;34m,\u001b[0m \u001b[0;34m-\u001b[0m\u001b[0;36m50\u001b[0m\u001b[0;34m]\u001b[0m\u001b[0;34m,\u001b[0m \u001b[0;34m[\u001b[0m\u001b[0;36m0\u001b[0m\u001b[0;34m,\u001b[0m \u001b[0;36m100\u001b[0m\u001b[0;34m]\u001b[0m\u001b[0;34m,\u001b[0m \u001b[0;34m[\u001b[0m\u001b[0;36m100\u001b[0m\u001b[0;34m,\u001b[0m \u001b[0;34m-\u001b[0m\u001b[0;36m50\u001b[0m\u001b[0;34m]\u001b[0m\u001b[0;34m]\u001b[0m\u001b[0;34m\u001b[0m\u001b[0;34m\u001b[0m\u001b[0m\n\u001b[0;32m---> 29\u001b[0;31m     \u001b[0msierpinski\u001b[0m\u001b[0;34m(\u001b[0m\u001b[0mmy_points\u001b[0m\u001b[0;34m,\u001b[0m \u001b[0;36m2\u001b[0m\u001b[0;34m,\u001b[0m \u001b[0mmy_turtle\u001b[0m\u001b[0;34m)\u001b[0m\u001b[0;34m\u001b[0m\u001b[0;34m\u001b[0m\u001b[0m\n\u001b[0m\u001b[1;32m     30\u001b[0m     \u001b[0mmy_win\u001b[0m\u001b[0;34m.\u001b[0m\u001b[0mexitonclick\u001b[0m\u001b[0;34m(\u001b[0m\u001b[0;34m)\u001b[0m\u001b[0;34m\u001b[0m\u001b[0;34m\u001b[0m\u001b[0m\n\u001b[1;32m     31\u001b[0m \u001b[0;34m\u001b[0m\u001b[0m\n",
      "\u001b[0;32m/tmp/ipykernel_31480/835198584.py\u001b[0m in \u001b[0;36msierpinski\u001b[0;34m(points, degree, my_turtle)\u001b[0m\n\u001b[1;32m     19\u001b[0m     \u001b[0mdraw_triangle\u001b[0m\u001b[0;34m(\u001b[0m\u001b[0mpoints\u001b[0m\u001b[0;34m,\u001b[0m \u001b[0mcolor_map\u001b[0m\u001b[0;34m[\u001b[0m\u001b[0mdegree\u001b[0m\u001b[0;34m]\u001b[0m\u001b[0;34m,\u001b[0m \u001b[0mmy_turtle\u001b[0m\u001b[0;34m)\u001b[0m\u001b[0;34m\u001b[0m\u001b[0;34m\u001b[0m\u001b[0m\n\u001b[1;32m     20\u001b[0m     \u001b[0;32mif\u001b[0m \u001b[0mdegree\u001b[0m \u001b[0;34m>\u001b[0m \u001b[0;36m0\u001b[0m\u001b[0;34m:\u001b[0m\u001b[0;34m\u001b[0m\u001b[0;34m\u001b[0m\u001b[0m\n\u001b[0;32m---> 21\u001b[0;31m         \u001b[0msierpinski\u001b[0m\u001b[0;34m(\u001b[0m\u001b[0;34m[\u001b[0m\u001b[0mpoints\u001b[0m\u001b[0;34m[\u001b[0m\u001b[0;36m0\u001b[0m\u001b[0;34m]\u001b[0m\u001b[0;34m,\u001b[0m\u001b[0mget_mid\u001b[0m\u001b[0;34m(\u001b[0m\u001b[0mpoints\u001b[0m\u001b[0;34m[\u001b[0m\u001b[0;36m0\u001b[0m\u001b[0;34m]\u001b[0m\u001b[0;34m,\u001b[0m \u001b[0mpoints\u001b[0m\u001b[0;34m[\u001b[0m\u001b[0;36m1\u001b[0m\u001b[0;34m]\u001b[0m\u001b[0;34m)\u001b[0m\u001b[0;34m,\u001b[0m\u001b[0mget_mid\u001b[0m\u001b[0;34m(\u001b[0m\u001b[0mpoints\u001b[0m\u001b[0;34m[\u001b[0m\u001b[0;36m0\u001b[0m\u001b[0;34m]\u001b[0m\u001b[0;34m)\u001b[0m\u001b[0;34m]\u001b[0m\u001b[0;34m)\u001b[0m\u001b[0;34m\u001b[0m\u001b[0;34m\u001b[0m\u001b[0m\n\u001b[0m\u001b[1;32m     22\u001b[0m         \u001b[0msierpinski\u001b[0m\u001b[0;34m(\u001b[0m\u001b[0;34m[\u001b[0m\u001b[0mpoints\u001b[0m\u001b[0;34m[\u001b[0m\u001b[0;36m1\u001b[0m\u001b[0;34m]\u001b[0m\u001b[0;34m,\u001b[0m\u001b[0mget_mid\u001b[0m\u001b[0;34m(\u001b[0m\u001b[0mpoints\u001b[0m\u001b[0;34m[\u001b[0m\u001b[0;36m0\u001b[0m\u001b[0;34m]\u001b[0m\u001b[0;34m,\u001b[0m \u001b[0mpoints\u001b[0m\u001b[0;34m[\u001b[0m\u001b[0;36m1\u001b[0m\u001b[0;34m]\u001b[0m\u001b[0;34m)\u001b[0m\u001b[0;34m,\u001b[0m \u001b[0mget_mid\u001b[0m\u001b[0;34m(\u001b[0m\u001b[0mpoints\u001b[0m\u001b[0;34m[\u001b[0m\u001b[0;36m1\u001b[0m\u001b[0;34m]\u001b[0m\u001b[0;34m)\u001b[0m\u001b[0;34m]\u001b[0m\u001b[0;34m)\u001b[0m\u001b[0;34m\u001b[0m\u001b[0;34m\u001b[0m\u001b[0m\n\u001b[1;32m     23\u001b[0m         \u001b[0msierpinski\u001b[0m\u001b[0;34m(\u001b[0m\u001b[0;34m[\u001b[0m\u001b[0mpoints\u001b[0m\u001b[0;34m[\u001b[0m\u001b[0;36m2\u001b[0m\u001b[0;34m]\u001b[0m\u001b[0;34m,\u001b[0m\u001b[0mget_mid\u001b[0m\u001b[0;34m(\u001b[0m\u001b[0mpoints\u001b[0m\u001b[0;34m[\u001b[0m\u001b[0;36m2\u001b[0m\u001b[0;34m]\u001b[0m\u001b[0;34m,\u001b[0m \u001b[0mpoints\u001b[0m\u001b[0;34m[\u001b[0m\u001b[0;36m1\u001b[0m\u001b[0;34m]\u001b[0m\u001b[0;34m)\u001b[0m\u001b[0;34m,\u001b[0m \u001b[0mget_mid\u001b[0m\u001b[0;34m(\u001b[0m\u001b[0mpoints\u001b[0m\u001b[0;34m[\u001b[0m\u001b[0;36m0\u001b[0m\u001b[0;34m]\u001b[0m\u001b[0;34m)\u001b[0m\u001b[0;34m]\u001b[0m\u001b[0;34m)\u001b[0m\u001b[0;34m\u001b[0m\u001b[0;34m\u001b[0m\u001b[0m\n",
      "\u001b[0;31mTypeError\u001b[0m: get_mid() missing 1 required positional argument: 'p2'"
     ]
    }
   ],
   "source": [
    "import turtle\n",
    "def draw_triangle(points, color, my_turtle): \n",
    "    my_turtle.speed('slowest')\n",
    "    my_turtle.fillcolor(color)\n",
    "    my_turtle.up()\n",
    "    my_turtle.goto(points[0][0],points[0][1])\n",
    "    my_turtle.down()\n",
    "    my_turtle.begin_fill()\n",
    "    my_turtle.goto(points[1][0], points[1][1])\n",
    "    my_turtle.goto(points[2][0], points[2][1])\n",
    "    my_turtle.goto(points[0][0], points[0][1])\n",
    "    my_turtle.end_fill()\n",
    "    \n",
    "def get_mid(p1, p2):\n",
    "    return ((p1[0] + p2[0]) / 2, (p1[1] + p2[1]) / 2)\n",
    "\n",
    "def sierpinski(points, degree, my_turtle):\n",
    "    color_map = [\"blue\", \"red\" , \"green\", \"white\" , \"yellow\" ,\"violet\" , \"orange\"]\n",
    "    draw_triangle(points, color_map[degree], my_turtle)\n",
    "    if degree > 0:\n",
    "        sierpinski([points[0],get_mid(points[0], points[1]),get_mid(points[0])])\n",
    "        sierpinski([points[1],get_mid(points[0], points[1]), get_mid(points[1])])\n",
    "        sierpinski([points[2],get_mid(points[2], points[1]), get_mid(points[0])])\n",
    "        \n",
    "def main():\n",
    "    my_turtle = turtle.Turtle()\n",
    "    my_win = turtle.Screen()\n",
    "    my_points = [[-100, -50], [0, 100], [100, -50]]\n",
    "    sierpinski(my_points, 2, my_turtle)\n",
    "    my_win.exitonclick()\n",
    "\n",
    "main()"
   ]
  },
  {
   "cell_type": "code",
   "execution_count": 74,
   "id": "7e3e451b",
   "metadata": {
    "ExecuteTime": {
     "end_time": "2022-05-18T06:31:59.790537Z",
     "start_time": "2022-05-18T06:31:59.753273Z"
    }
   },
   "outputs": [
    {
     "name": "stdout",
     "output_type": "stream",
     "text": [
      "k   k  |v|\n",
      "a   a  |v|\n",
      "s   s  |v|\n",
      "u   u  |v|\n",
      "r   r  |v|\n",
      "       |v|\n",
      "r   r  |v|\n",
      "u   u  |v|\n"
     ]
    },
    {
     "data": {
      "text/plain": [
       "True"
      ]
     },
     "execution_count": 74,
     "metadata": {},
     "output_type": "execute_result"
    }
   ],
   "source": [
    "def palindromRecursif(kata,idxAwal,jmlKata) :\n",
    "    if jmlKata//2 == 0 or jmlKata//2==1 :\n",
    "        return True\n",
    "    else :\n",
    "        \n",
    "        if kata[idxAwal] == kata[jmlKata-1] :\n",
    "            print(kata[idxAwal],\" \",kata[jmlKata-1],\" |v|\")\n",
    "            return True and palindromRecursif(kata,idxAwal+1,jmlKata-1)\n",
    "            \n",
    "        else :\n",
    "            print(kata[idxAwal],\" \",kata[jmlKata-1],\" |x|\")\n",
    "            return False and palindromRecursif(kata,idxAwal+1,jmlKata-1)\n",
    "           \n",
    "            \n",
    "strKata = \"kasur rusak\" \n",
    "palindromRecursif(strKata,0,len(strKata)) \n",
    "      "
   ]
  },
  {
   "cell_type": "code",
   "execution_count": 84,
   "id": "3f76e2d4",
   "metadata": {
    "ExecuteTime": {
     "end_time": "2022-05-18T06:38:41.421676Z",
     "start_time": "2022-05-18T06:38:41.361957Z"
    }
   },
   "outputs": [
    {
     "name": "stdout",
     "output_type": "stream",
     "text": [
      "k  |  k\n",
      "0  |  10\n",
      "a  |  a\n",
      "1  |  9\n",
      "s  |  s\n",
      "2  |  8\n",
      "u  |  u\n",
      "3  |  7\n",
      "r  |  r\n",
      "4  |  6\n",
      "   |   \n",
      "5  |  5\n",
      "r  |  r\n",
      "6  |  4\n",
      "u  |  u\n",
      "7  |  3\n",
      "s  |  s\n",
      "8  |  2\n"
     ]
    },
    {
     "data": {
      "text/plain": [
       "True"
      ]
     },
     "execution_count": 84,
     "metadata": {},
     "output_type": "execute_result"
    }
   ],
   "source": [
    "def palindromRecursif(kata,idxAwal,jmlKata) :\n",
    "    if jmlKata//2 == 0 or jmlKata//2 == 1 :\n",
    "        return True\n",
    "    else :\n",
    "        print(kata[idxAwal],\" | \",kata[jmlKata-1])\n",
    "        print(idxAwal,\" | \",jmlKata-1)\n",
    "        oo = True and palindromRecursif(kata,idxAwal+1,jmlKata-1)\n",
    "       \n",
    "        return oo\n",
    "           \n",
    "            \n",
    "strKata = \"kasur rusak\" \n",
    "palindromRecursif(strKata,0,len(strKata)) \n",
    "      "
   ]
  },
  {
   "cell_type": "code",
   "execution_count": 90,
   "id": "24803da0",
   "metadata": {
    "ExecuteTime": {
     "end_time": "2022-05-18T06:42:54.041450Z",
     "start_time": "2022-05-18T06:42:53.985560Z"
    }
   },
   "outputs": [
    {
     "name": "stdout",
     "output_type": "stream",
     "text": [
      "k  |  k\n",
      "0  |  10  |  11\n",
      "a  |  a\n",
      "1  |  9  |  9\n",
      "s  |  s\n",
      "2  |  8  |  7\n",
      "u  |  u\n",
      "3  |  7  |  5\n",
      "r  |  r\n",
      "4  |  6  |  3\n"
     ]
    },
    {
     "data": {
      "text/plain": [
       "True"
      ]
     },
     "execution_count": 90,
     "metadata": {},
     "output_type": "execute_result"
    }
   ],
   "source": [
    "def palindromRecursif(kata,idxAwal,idxAkhir,jmlKata) :\n",
    "    if jmlKata == 0 or jmlKata == 1 :\n",
    "        return True\n",
    "    else :\n",
    "        print(kata[idxAwal],\" | \",kata[idxAkhir])\n",
    "        print(idxAwal,\" | \",idxAkhir,\" | \",jmlKata)\n",
    "        oo = True and palindromRecursif(kata,idxAwal+1,idxAkhir-1,jmlKata-2)\n",
    "       \n",
    "        return oo\n",
    "           \n",
    "            \n",
    "strKata = \"kasur rusak\" \n",
    "palindromRecursif(strKata,0,len(strKata)-1,len(strKata)) \n",
    "      "
   ]
  },
  {
   "cell_type": "code",
   "execution_count": null,
   "id": "45aaed40",
   "metadata": {},
   "outputs": [],
   "source": [
    "def palindromRecursif(kata,idxAwal,jmlKata) :\n",
    "    if jmlKata//2 == 0 or jmlKata//2==1 :\n",
    "        return True\n",
    "    else :\n",
    "        \n",
    "        if kata[idxAwal] == kata[jmlKata-1] :\n",
    "            print(kata[idxAwal],\" \",kata[jmlKata-1],\" |v|\")\n",
    "            return True and palindromRecursif(kata,idxAwal+1,jmlKata-1)\n",
    "            \n",
    "        else :\n",
    "            print(kata[idxAwal],\" \",kata[jmlKata-1],\" |x|\")\n",
    "            return False and palindromRecursif(kata,idxAwal+1,jmlKata-1)\n",
    "           \n",
    "            \n",
    "strKata = \"kasur rusak\" \n",
    "palindromRecursif(strKata,0,len(strKata)) \n",
    "      "
   ]
  }
 ],
 "metadata": {
  "kernelspec": {
   "display_name": "Python 3 (ipykernel)",
   "language": "python",
   "name": "python3"
  },
  "language_info": {
   "codemirror_mode": {
    "name": "ipython",
    "version": 3
   },
   "file_extension": ".py",
   "mimetype": "text/x-python",
   "name": "python",
   "nbconvert_exporter": "python",
   "pygments_lexer": "ipython3",
   "version": "3.9.7"
  },
  "latex_envs": {
   "LaTeX_envs_menu_present": true,
   "autoclose": false,
   "autocomplete": true,
   "bibliofile": "biblio.bib",
   "cite_by": "apalike",
   "current_citInitial": 1,
   "eqLabelWithNumbers": true,
   "eqNumInitial": 1,
   "hotkeys": {
    "equation": "Ctrl-E",
    "itemize": "Ctrl-I"
   },
   "labels_anchors": false,
   "latex_user_defs": false,
   "report_style_numbering": false,
   "user_envs_cfg": false
  },
  "toc": {
   "base_numbering": 1,
   "nav_menu": {},
   "number_sections": true,
   "sideBar": true,
   "skip_h1_title": false,
   "title_cell": "Table of Contents",
   "title_sidebar": "Contents",
   "toc_cell": false,
   "toc_position": {},
   "toc_section_display": true,
   "toc_window_display": false
  },
  "varInspector": {
   "cols": {
    "lenName": 16,
    "lenType": 16,
    "lenVar": 40
   },
   "kernels_config": {
    "python": {
     "delete_cmd_postfix": "",
     "delete_cmd_prefix": "del ",
     "library": "var_list.py",
     "varRefreshCmd": "print(var_dic_list())"
    },
    "r": {
     "delete_cmd_postfix": ") ",
     "delete_cmd_prefix": "rm(",
     "library": "var_list.r",
     "varRefreshCmd": "cat(var_dic_list()) "
    }
   },
   "types_to_exclude": [
    "module",
    "function",
    "builtin_function_or_method",
    "instance",
    "_Feature"
   ],
   "window_display": false
  }
 },
 "nbformat": 4,
 "nbformat_minor": 5
}
