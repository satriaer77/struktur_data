{
 "cells": [
  {
   "cell_type": "code",
   "execution_count": null,
   "id": "a7aee67c",
   "metadata": {},
   "outputs": [],
   "source": [
    "# class LinkedList:\n",
    "#     def __init__(self):\n",
    "#         self.head = None\n",
    "        \n",
    "#     def isEmpty(self):\n",
    "#         return self.head==None\n",
    "    \n",
    "#     def add(self, item):\n",
    "#         temp = Node(item)\n",
    "#         temp.setNext(self.head)\n",
    "#         self.head = temp\n",
    "        \n",
    "#     def size(self):\n",
    "#         curent = self.head\n",
    "#         count = 0\n",
    "#         while curent != None:\n",
    "#             count = count + 1\n",
    "#             curent = curent.getNext()\n",
    "#         return count"
   ]
  },
  {
   "cell_type": "code",
   "execution_count": 26,
   "id": "0a3d259e",
   "metadata": {
    "ExecuteTime": {
     "end_time": "2022-06-08T04:17:54.266958Z",
     "start_time": "2022-06-08T04:17:54.241673Z"
    }
   },
   "outputs": [],
   "source": [
    "class Node:\n",
    "    def __init__(self, init_data):\n",
    "        self.data = init_data\n",
    "        self.next = None\n",
    "    def getData(self):\n",
    "        return self.data\n",
    "    def getNext(self):\n",
    "        return self.next\n",
    "    def setData(self, newdata):\n",
    "        self.data = newdata\n",
    "    def setNext(self, new_next):\n",
    "        self.next = new_next"
   ]
  },
  {
   "cell_type": "code",
   "execution_count": 10,
   "id": "93c35857",
   "metadata": {
    "ExecuteTime": {
     "end_time": "2022-06-08T03:49:58.201189Z",
     "start_time": "2022-06-08T03:49:58.175282Z"
    }
   },
   "outputs": [
    {
     "name": "stdout",
     "output_type": "stream",
     "text": [
      "12\n"
     ]
    }
   ],
   "source": [
    "num1 = Node(12)\n",
    "num1.setNext(24)\n",
    "num2 = Node(24)\n",
    "\n",
    "print(num1.getData())"
   ]
  },
  {
   "cell_type": "code",
   "execution_count": null,
   "id": "c3aea51b",
   "metadata": {},
   "outputs": [],
   "source": []
  },
  {
   "cell_type": "code",
   "execution_count": 86,
   "id": "da8408ac",
   "metadata": {
    "ExecuteTime": {
     "end_time": "2022-06-08T05:14:27.530819Z",
     "start_time": "2022-06-08T05:14:27.492776Z"
    }
   },
   "outputs": [],
   "source": [
    "class LinkedList:\n",
    "    def __init__(self):\n",
    "        self.head = None\n",
    "        \n",
    "    def isEmpty(self):\n",
    "        return self.head==None\n",
    "    \n",
    "    def add(self, item):\n",
    "        tempNode = Node(item)\n",
    "        tempNode.setNext(self.head)\n",
    "        self.head = tempNode\n",
    "    \n",
    "    def addTail(self,item) :\n",
    "        current = self.head\n",
    "        \n",
    "        while current != None :\n",
    "#             print(current.getData())\n",
    "            \n",
    "            tempNode = Node(item)\n",
    "            tempNode.setNext(None)\n",
    "            self.head = tempNode\n",
    "            current = current.getNext()\n",
    "        \n",
    "    def size(self):\n",
    "        current = self.head\n",
    "        count = 0\n",
    "        while current != None:\n",
    "            count = count + 1\n",
    "            print(current.getData())\n",
    "            current = current.getNext()\n",
    "        return count\n",
    "    \n",
    "    def display(self) :\n",
    "        current = self.head\n",
    "        strDisp = \"\"\n",
    "        while current != None :\n",
    "            nextData = current.getNext()\n",
    "            strDisp = strDisp+\"| %d | --> \" % (current.getData())\n",
    "#             print(current.getData())\n",
    "            current = current.getNext()\n",
    "        return strDisp"
   ]
  },
  {
   "cell_type": "code",
   "execution_count": 84,
   "id": "fe27127c",
   "metadata": {
    "ExecuteTime": {
     "end_time": "2022-06-08T05:14:05.917956Z",
     "start_time": "2022-06-08T05:14:05.900407Z"
    }
   },
   "outputs": [
    {
     "name": "stdout",
     "output_type": "stream",
     "text": [
      "| 5 | --> \n",
      "<__main__.LinkedList object at 0x7ff4c25b6358>\n"
     ]
    }
   ],
   "source": [
    "num1 = LinkedList()\n",
    "num1.add(6)\n",
    "num1.add(7)\n",
    "num1.add(2)\n",
    "num1.addTail(5)\n",
    "print(num1.display())\n",
    "# print(num1)"
   ]
  },
  {
   "cell_type": "code",
   "execution_count": null,
   "id": "0f78394b",
   "metadata": {},
   "outputs": [],
   "source": []
  }
 ],
 "metadata": {
  "kernelspec": {
   "display_name": "Python 3 (ipykernel)",
   "language": "python",
   "name": "python3"
  },
  "language_info": {
   "codemirror_mode": {
    "name": "ipython",
    "version": 3
   },
   "file_extension": ".py",
   "mimetype": "text/x-python",
   "name": "python",
   "nbconvert_exporter": "python",
   "pygments_lexer": "ipython3",
   "version": "3.7.3"
  },
  "latex_envs": {
   "LaTeX_envs_menu_present": true,
   "autoclose": false,
   "autocomplete": true,
   "bibliofile": "biblio.bib",
   "cite_by": "apalike",
   "current_citInitial": 1,
   "eqLabelWithNumbers": true,
   "eqNumInitial": 1,
   "hotkeys": {
    "equation": "Ctrl-E",
    "itemize": "Ctrl-I"
   },
   "labels_anchors": false,
   "latex_user_defs": false,
   "report_style_numbering": false,
   "user_envs_cfg": false
  },
  "toc": {
   "base_numbering": 1,
   "nav_menu": {},
   "number_sections": true,
   "sideBar": true,
   "skip_h1_title": false,
   "title_cell": "Table of Contents",
   "title_sidebar": "Contents",
   "toc_cell": false,
   "toc_position": {},
   "toc_section_display": true,
   "toc_window_display": false
  },
  "varInspector": {
   "cols": {
    "lenName": 16,
    "lenType": 16,
    "lenVar": 40
   },
   "kernels_config": {
    "python": {
     "delete_cmd_postfix": "",
     "delete_cmd_prefix": "del ",
     "library": "var_list.py",
     "varRefreshCmd": "print(var_dic_list())"
    },
    "r": {
     "delete_cmd_postfix": ") ",
     "delete_cmd_prefix": "rm(",
     "library": "var_list.r",
     "varRefreshCmd": "cat(var_dic_list()) "
    }
   },
   "types_to_exclude": [
    "module",
    "function",
    "builtin_function_or_method",
    "instance",
    "_Feature"
   ],
   "window_display": false
  }
 },
 "nbformat": 4,
 "nbformat_minor": 5
}
