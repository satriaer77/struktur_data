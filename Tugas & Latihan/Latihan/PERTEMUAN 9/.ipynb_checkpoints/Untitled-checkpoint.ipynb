{
 "cells": [
  {
   "cell_type": "code",
   "execution_count": 8,
   "id": "e9f9c6bf",
   "metadata": {
    "ExecuteTime": {
     "end_time": "2022-05-11T04:32:20.793955Z",
     "start_time": "2022-05-11T04:32:20.758451Z"
    },
    "scrolled": true
   },
   "outputs": [
    {
     "name": "stdout",
     "output_type": "stream",
     "text": [
      "5\n",
      "-1  =  [10, 10, 7, 4]\n",
      "7\n",
      "0  =  [5, 10, 10, 4]\n",
      "4\n",
      "1  =  [5, 7, 10, 10]\n",
      "0  =  [5, 7, 7, 10]\n",
      "-1  =  [5, 5, 7, 10]\n",
      "[4, 5, 7, 10]\n"
     ]
    }
   ],
   "source": [
    "def insertionSort(nums) :\n",
    "    \n",
    "    for i in range(1,len(nums)) :\n",
    "        key = nums[i]\n",
    "        print(key)\n",
    "        j = i-1\n",
    "        while j>=0 and key<=nums[j] : \n",
    "            nums[j+1] = nums[j]\n",
    "            j-=1\n",
    "            print(j,\" = \",nums)\n",
    "        nums[j+1] = key\n",
    "        #print(nums)\n",
    "    return nums\n",
    "\n",
    "lstNums = [10,5,7,4]\n",
    "print(insertionSort(lstNums))"
   ]
  },
  {
   "cell_type": "code",
   "execution_count": 42,
   "id": "1fc411dc",
   "metadata": {
    "ExecuteTime": {
     "end_time": "2022-05-11T05:28:23.407636Z",
     "start_time": "2022-05-11T05:28:23.353215Z"
    },
    "scrolled": true
   },
   "outputs": [
    {
     "name": "stdout",
     "output_type": "stream",
     "text": [
      "[5, 4, 3, 1, 9]\n",
      "-- key 4 --\n",
      "Key =  4  Data[iBefore-1] =  5\n",
      "Data Pergeseran :  [5, 5, 3, 1, 9]\n",
      "iBefore :  -1\n",
      "=> Data Sementara =  [4, 5, 3, 1, 9]\n",
      "-- key 3 --\n",
      "Key =  3  Data[iBefore-1] =  5\n",
      "Data Pergeseran :  [4, 5, 5, 1, 9]\n",
      "iBefore :  0\n",
      "Key =  3  Data[iBefore-1] =  4\n",
      "Data Pergeseran :  [4, 4, 5, 1, 9]\n",
      "iBefore :  -1\n",
      "=> Data Sementara =  [3, 4, 5, 1, 9]\n",
      "-- key 1 --\n",
      "Key =  1  Data[iBefore-1] =  5\n",
      "Data Pergeseran :  [3, 4, 5, 5, 9]\n",
      "iBefore :  1\n",
      "Key =  1  Data[iBefore-1] =  4\n",
      "Data Pergeseran :  [3, 4, 4, 5, 9]\n",
      "iBefore :  0\n",
      "Key =  1  Data[iBefore-1] =  3\n",
      "Data Pergeseran :  [3, 3, 4, 5, 9]\n",
      "iBefore :  -1\n",
      "=> Data Sementara =  [1, 3, 4, 5, 9]\n",
      "-- key 9 --\n",
      "=> Data Sementara =  [1, 3, 4, 5, 9]\n"
     ]
    }
   ],
   "source": [
    "nums = [5,4,3,1,9]\n",
    "print(nums)\n",
    "for i in range(1,len(nums)):\n",
    "    key = nums[i]\n",
    "    #print(\"No \",i,\" = \",key)\n",
    "    print(\"-- key\",key,\"--\")\n",
    "    iBefore = i-1\n",
    "    \n",
    "    while iBefore >=0 and key<=nums[iBefore]  :\n",
    "        #print(iBefore)\n",
    "        print(\"Key = \",key,\" Data[iBefore-1] = \",nums[iBefore])\n",
    "        nums[iBefore+1] = nums[iBefore]\n",
    "        print(\"Data Pergeseran : \",nums)\n",
    "        iBefore-=1\n",
    "        print(\"iBefore : \",iBefore)\n",
    "    nums[iBefore+1] = key\n",
    "    print(\"=> Data Sementara = \",nums)\n",
    "\n"
   ]
  },
  {
   "cell_type": "markdown",
   "id": "1ebd7692",
   "metadata": {},
   "source": [
    "# #--PR--#\n",
    "#Coretan Descending (Kiri -ke-> Kanan), Reverse Insertion Process (Ascending & Descending)"
   ]
  },
  {
   "cell_type": "code",
   "execution_count": 1,
   "id": "635bca4f",
   "metadata": {
    "ExecuteTime": {
     "end_time": "2022-05-12T04:52:16.385838Z",
     "start_time": "2022-05-12T04:52:16.353935Z"
    }
   },
   "outputs": [
    {
     "name": "stdout",
     "output_type": "stream",
     "text": [
      "[5, 4, 3, 1, 9]\n",
      "-- key 4 --\n",
      "=> Data Sementara =  [5, 4, 3, 1, 9]\n",
      "-- key 3 --\n",
      "=> Data Sementara =  [5, 4, 3, 1, 9]\n",
      "-- key 1 --\n",
      "=> Data Sementara =  [5, 4, 3, 1, 9]\n",
      "-- key 9 --\n",
      "Key =  9  Data[iBefore-1] =  1\n",
      "Data Pergeseran :  [5, 4, 3, 1, 1]\n",
      "iBefore :  2\n",
      "Key =  9  Data[iBefore-1] =  3\n",
      "Data Pergeseran :  [5, 4, 3, 3, 1]\n",
      "iBefore :  1\n",
      "Key =  9  Data[iBefore-1] =  4\n",
      "Data Pergeseran :  [5, 4, 4, 3, 1]\n",
      "iBefore :  0\n",
      "Key =  9  Data[iBefore-1] =  5\n",
      "Data Pergeseran :  [5, 5, 4, 3, 1]\n",
      "iBefore :  -1\n",
      "=> Data Sementara =  [9, 5, 4, 3, 1]\n"
     ]
    }
   ],
   "source": [
    "nums = [5,4,3,1,9]\n",
    "print(nums)\n",
    "for i in range(1,len(nums)):\n",
    "    key = nums[i]\n",
    "    #print(\"No \",i,\" = \",key)\n",
    "    print(\"-- key\",key,\"--\")\n",
    "    iBefore = i-1\n",
    "    \n",
    "    while iBefore >=0 and key>=nums[iBefore]  :\n",
    "        #print(iBefore)\n",
    "        print(\"Key = \",key,\" Data[iBefore-1] = \",nums[iBefore])\n",
    "        nums[iBefore+1] = nums[iBefore]\n",
    "        print(\"Data Pergeseran : \",nums)\n",
    "        iBefore-=1\n",
    "        print(\"iBefore : \",iBefore)\n",
    "    nums[iBefore+1] = key\n",
    "    print(\"=> Data Sementara = \",nums)\n"
   ]
  },
  {
   "cell_type": "code",
   "execution_count": 7,
   "id": "fb37fb9d",
   "metadata": {
    "ExecuteTime": {
     "end_time": "2022-05-12T04:55:36.065808Z",
     "start_time": "2022-05-12T04:55:36.026564Z"
    }
   },
   "outputs": [
    {
     "name": "stdout",
     "output_type": "stream",
     "text": [
      "[5, 4, 3, 1, 9]\n",
      "-- key 1 --\n",
      "Key =  1  Data[iBefore-1] =  9\n",
      "Data Pergeseran :  [5, 4, 3, 9, 9]\n",
      "iBefore :  5\n",
      "=> Data Sementara =  [5, 4, 3, 9, 1]\n",
      "-- key 3 --\n",
      "Key =  3  Data[iBefore-1] =  9\n",
      "Data Pergeseran :  [5, 4, 9, 9, 1]\n",
      "iBefore :  4\n",
      "=> Data Sementara =  [5, 4, 9, 3, 1]\n",
      "-- key 4 --\n",
      "Key =  4  Data[iBefore-1] =  9\n",
      "Data Pergeseran :  [5, 9, 9, 3, 1]\n",
      "iBefore :  3\n",
      "=> Data Sementara =  [5, 9, 4, 3, 1]\n",
      "-- key 5 --\n",
      "Key =  5  Data[iBefore-1] =  9\n",
      "Data Pergeseran :  [9, 9, 4, 3, 1]\n",
      "iBefore :  2\n",
      "=> Data Sementara =  [9, 5, 4, 3, 1]\n"
     ]
    }
   ],
   "source": [
    "nums   = [5,4,3,1,9]\n",
    "maxIdx = len(nums)-1\n",
    "print(nums)\n",
    "for i in range(maxIdx,0,-1):\n",
    "    key = nums[i-1]\n",
    "    #print(\"No \",i,\" = \",key)\n",
    "    print(\"-- key\",key,\"--\")\n",
    "    iBefore = i\n",
    "    \n",
    "    while iBefore <= maxIdx and key<=nums[iBefore]  :\n",
    "        #print(iBefore)\n",
    "        print(\"Key = \",key,\" Data[iBefore-1] = \",nums[iBefore])\n",
    "        nums[iBefore-1] = nums[iBefore]\n",
    "        print(\"Data Pergeseran : \",nums)\n",
    "        iBefore+=1\n",
    "        print(\"iBefore : \",iBefore)\n",
    "    nums[iBefore-1] = key\n",
    "    print(\"=> Data Sementara = \",nums)\n"
   ]
  },
  {
   "cell_type": "code",
   "execution_count": 8,
   "id": "9b76805a",
   "metadata": {
    "ExecuteTime": {
     "end_time": "2022-05-12T04:56:01.224811Z",
     "start_time": "2022-05-12T04:56:01.149660Z"
    }
   },
   "outputs": [
    {
     "name": "stdout",
     "output_type": "stream",
     "text": [
      "[5, 4, 3, 1, 9]\n",
      "-- key 1 --\n",
      "=> Data Sementara =  [5, 4, 3, 1, 9]\n",
      "-- key 3 --\n",
      "Key =  3  Data[iBefore-1] =  1\n",
      "Data Pergeseran :  [5, 4, 1, 1, 9]\n",
      "iBefore :  4\n",
      "=> Data Sementara =  [5, 4, 1, 3, 9]\n",
      "-- key 4 --\n",
      "Key =  4  Data[iBefore-1] =  1\n",
      "Data Pergeseran :  [5, 1, 1, 3, 9]\n",
      "iBefore :  3\n",
      "Key =  4  Data[iBefore-1] =  3\n",
      "Data Pergeseran :  [5, 1, 3, 3, 9]\n",
      "iBefore :  4\n",
      "=> Data Sementara =  [5, 1, 3, 4, 9]\n",
      "-- key 5 --\n",
      "Key =  5  Data[iBefore-1] =  1\n",
      "Data Pergeseran :  [1, 1, 3, 4, 9]\n",
      "iBefore :  2\n",
      "Key =  5  Data[iBefore-1] =  3\n",
      "Data Pergeseran :  [1, 3, 3, 4, 9]\n",
      "iBefore :  3\n",
      "Key =  5  Data[iBefore-1] =  4\n",
      "Data Pergeseran :  [1, 3, 4, 4, 9]\n",
      "iBefore :  4\n",
      "=> Data Sementara =  [1, 3, 4, 5, 9]\n"
     ]
    }
   ],
   "source": [
    "nums   = [5,4,3,1,9]\n",
    "maxIdx = len(nums)-1\n",
    "print(nums)\n",
    "for i in range(maxIdx,0,-1):\n",
    "    key = nums[i-1]\n",
    "    #print(\"No \",i,\" = \",key)\n",
    "    print(\"-- key\",key,\"--\")\n",
    "    iBefore = i\n",
    "    \n",
    "    while iBefore <= maxIdx and key>=nums[iBefore]  :\n",
    "        #print(iBefore)\n",
    "        print(\"Key = \",key,\" Data[iBefore-1] = \",nums[iBefore])\n",
    "        nums[iBefore-1] = nums[iBefore]\n",
    "        print(\"Data Pergeseran : \",nums)\n",
    "        iBefore+=1\n",
    "        print(\"iBefore : \",iBefore)\n",
    "    nums[iBefore-1] = key\n",
    "    print(\"=> Data Sementara = \",nums)\n"
   ]
  }
 ],
 "metadata": {
  "kernelspec": {
   "display_name": "Python 3 (ipykernel)",
   "language": "python",
   "name": "python3"
  },
  "language_info": {
   "codemirror_mode": {
    "name": "ipython",
    "version": 3
   },
   "file_extension": ".py",
   "mimetype": "text/x-python",
   "name": "python",
   "nbconvert_exporter": "python",
   "pygments_lexer": "ipython3",
   "version": "3.9.7"
  },
  "latex_envs": {
   "LaTeX_envs_menu_present": true,
   "autoclose": false,
   "autocomplete": true,
   "bibliofile": "biblio.bib",
   "cite_by": "apalike",
   "current_citInitial": 1,
   "eqLabelWithNumbers": true,
   "eqNumInitial": 1,
   "hotkeys": {
    "equation": "Ctrl-E",
    "itemize": "Ctrl-I"
   },
   "labels_anchors": false,
   "latex_user_defs": false,
   "report_style_numbering": false,
   "user_envs_cfg": false
  },
  "toc": {
   "base_numbering": 1,
   "nav_menu": {},
   "number_sections": true,
   "sideBar": true,
   "skip_h1_title": false,
   "title_cell": "Table of Contents",
   "title_sidebar": "Contents",
   "toc_cell": false,
   "toc_position": {},
   "toc_section_display": true,
   "toc_window_display": false
  },
  "varInspector": {
   "cols": {
    "lenName": 16,
    "lenType": 16,
    "lenVar": 40
   },
   "kernels_config": {
    "python": {
     "delete_cmd_postfix": "",
     "delete_cmd_prefix": "del ",
     "library": "var_list.py",
     "varRefreshCmd": "print(var_dic_list())"
    },
    "r": {
     "delete_cmd_postfix": ") ",
     "delete_cmd_prefix": "rm(",
     "library": "var_list.r",
     "varRefreshCmd": "cat(var_dic_list()) "
    }
   },
   "types_to_exclude": [
    "module",
    "function",
    "builtin_function_or_method",
    "instance",
    "_Feature"
   ],
   "window_display": false
  }
 },
 "nbformat": 4,
 "nbformat_minor": 5
}
