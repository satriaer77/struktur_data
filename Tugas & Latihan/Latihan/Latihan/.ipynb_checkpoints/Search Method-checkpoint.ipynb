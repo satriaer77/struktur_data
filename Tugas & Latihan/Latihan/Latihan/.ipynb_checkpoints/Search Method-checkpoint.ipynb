{
 "cells": [
  {
   "cell_type": "code",
   "execution_count": null,
   "id": "cb9a3511-d45f-4244-9c54-fac4aac7d942",
   "metadata": {},
   "outputs": [],
   "source": [
    "def seqSearch(listData, data):\n",
    "    ind = 0\n",
    "    found = False\n",
    "    while ind < len(listData) and not found:\n",
    "        if listData[ind] == data:\n",
    "            found = True\n",
    "        else:\n",
    "            ind = ind+1\n",
    "    return found"
   ]
  },
  {
   "cell_type": "code",
   "execution_count": 8,
   "id": "18b36fae-6012-4602-b4ae-b4422f802be5",
   "metadata": {},
   "outputs": [
    {
     "name": "stdout",
     "output_type": "stream",
     "text": [
      "Data tidak ada\n"
     ]
    }
   ],
   "source": [
    "import heapsort as hs\n",
    "def orderedSeqSearch(listData, data):\n",
    "    ind = 0\n",
    "    found = False\n",
    "    stop = False\n",
    "    position=[]\n",
    "    while ind < len(listData) and not found and not stop:\n",
    "        if listData[ind] == data:\n",
    "            found = True\n",
    "            position.append(ind)\n",
    "        else:\n",
    "            if listData[ind] > data:\n",
    "                stop = True\n",
    "            else: \n",
    "                ind = ind+1\n",
    " \n",
    "        if found:\n",
    "            return ind\n",
    "        else:\n",
    "            return ('Data tidak ada')\n",
    "      \n",
    "nums = hs.heapSort([2,4,6,3,2,8,20,10])\n",
    "\n",
    "print(orderedSeqSearch(nums,20))"
   ]
  },
  {
   "cell_type": "code",
   "execution_count": 5,
   "id": "b15bda40-5267-421b-8317-89b5572e8d79",
   "metadata": {},
   "outputs": [
    {
     "name": "stdout",
     "output_type": "stream",
     "text": [
      "True\n"
     ]
    }
   ],
   "source": [
    "import heapsort as hs\n",
    "\n",
    "def binarySearch(listData, data):\n",
    "    first = 0\n",
    "    last = len(listData) - 1\n",
    "    found = False\n",
    " \n",
    "    while first <= last and not found:\n",
    "        midpoint = (first + last) // 2\n",
    "        if listData[midpoint] == data:\n",
    "            found = True\n",
    " \n",
    "        else:\n",
    "            if data < listData[midpoint]:\n",
    "                last = midpoint - 1\n",
    "            else:\n",
    "                first = midpoint + 1\n",
    " \n",
    "    return found\n",
    "\n",
    "nums = hs.heapSort([2,4,6,3,2,8,20,10])\n",
    "print(binarySearch(nums,20))"
   ]
  },
  {
   "cell_type": "code",
   "execution_count": null,
   "id": "11a525f2-fe71-4d33-9a55-a2d8c2bf4432",
   "metadata": {},
   "outputs": [],
   "source": []
  }
 ],
 "metadata": {
  "kernelspec": {
   "display_name": "Python 3 (ipykernel)",
   "language": "python",
   "name": "python3"
  },
  "language_info": {
   "codemirror_mode": {
    "name": "ipython",
    "version": 3
   },
   "file_extension": ".py",
   "mimetype": "text/x-python",
   "name": "python",
   "nbconvert_exporter": "python",
   "pygments_lexer": "ipython3",
   "version": "3.7.3"
  }
 },
 "nbformat": 4,
 "nbformat_minor": 5
}
