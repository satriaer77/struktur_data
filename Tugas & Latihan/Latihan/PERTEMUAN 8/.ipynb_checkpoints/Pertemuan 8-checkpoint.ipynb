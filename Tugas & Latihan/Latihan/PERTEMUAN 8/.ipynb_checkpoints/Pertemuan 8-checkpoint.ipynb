{
 "cells": [
  {
   "cell_type": "code",
   "execution_count": 10,
   "id": "a87f72b6",
   "metadata": {
    "ExecuteTime": {
     "end_time": "2022-04-27T03:33:50.819560Z",
     "start_time": "2022-04-27T03:33:50.769009Z"
    }
   },
   "outputs": [
    {
     "name": "stdout",
     "output_type": "stream",
     "text": [
      "Iterasi ke- 1 : [1, 4, 2, 3, 5, 7, 6]\n",
      "Iterasi ke- 2 : [1, 2, 4, 3, 5, 7, 6]\n",
      "Iterasi ke- 3 : [1, 2, 3, 4, 5, 7, 6]\n",
      "Iterasi ke- 4 : [1, 2, 3, 4, 5, 7, 6]\n",
      "Iterasi ke- 5 : [1, 2, 3, 4, 5, 7, 6]\n",
      "Iterasi ke- 6 : [1, 2, 3, 4, 5, 6, 7]\n",
      "Data Urut= [1, 2, 3, 4, 5, 6, 7]\n"
     ]
    }
   ],
   "source": [
    "def selectionSort(listData):\n",
    "   # print('Algoritma Selection Sort konvensional')\n",
    "   # print('Data Awal=',listData)\n",
    "    for outIter in range(len(listData)-1): \n",
    "        minIndex=outIter\n",
    "        for i in range(outIter+1,len(listData)):\n",
    "            if listData[i]<listData[minIndex]:\n",
    "                minIndex=i\n",
    "        temp=listData[outIter]\n",
    "        listData[outIter]=listData[minIndex]\n",
    "        listData[minIndex]=temp\n",
    "        print('Iterasi ke-',outIter+1,':',listData)\n",
    "    print('Data Urut=',listData)\n",
    "    \n",
    "    \n",
    "akg = [2,4,1,3,5,7,6]\n",
    "selectionSort(akg)"
   ]
  },
  {
   "cell_type": "code",
   "execution_count": 18,
   "id": "9c0fa2b4",
   "metadata": {
    "ExecuteTime": {
     "end_time": "2022-04-27T03:52:06.889867Z",
     "start_time": "2022-04-27T03:52:06.851720Z"
    }
   },
   "outputs": [
    {
     "name": "stdout",
     "output_type": "stream",
     "text": [
      "[2, 4, 1, 3, 5, 7, 6]\n",
      "[7, 4, 1, 3, 5, 2, 6]\n",
      "[7, 6, 1, 3, 5, 2, 4]\n",
      "[7, 6, 5, 3, 1, 2, 4]\n",
      "[7, 6, 5, 4, 1, 2, 3]\n",
      "[7, 6, 5, 4, 3, 2, 1]\n"
     ]
    },
    {
     "data": {
      "text/plain": [
       "[7, 6, 5, 4, 3, 2, 1]"
      ]
     },
     "execution_count": 18,
     "metadata": {},
     "output_type": "execute_result"
    }
   ],
   "source": [
    "def selectionSrt(nums) :\n",
    "    for numIdx in range(len(nums)-1) :\n",
    "        maxIdx = numIdx\n",
    "        for i in range(maxIdx+1,len(nums)) :\n",
    "            if nums[maxIdx] > nums[i] :\n",
    "                maxIdx = i\n",
    "            \n",
    "        print(nums)\n",
    "        nums[numIdx],nums[maxIdx] = nums[maxIdx],nums[numIdx]\n",
    "        \n",
    "    return nums\n",
    "\n",
    "akg = [2,4,1,3,5,7,6]\n",
    "selectionSrt(akg)"
   ]
  },
  {
   "cell_type": "code",
   "execution_count": 8,
   "id": "c60ebf0a",
   "metadata": {
    "ExecuteTime": {
     "end_time": "2022-04-27T03:33:34.622062Z",
     "start_time": "2022-04-27T03:33:34.594333Z"
    }
   },
   "outputs": [
    {
     "name": "stdout",
     "output_type": "stream",
     "text": [
      "[2, 4, 1, 3, 5, 7, 6]\n",
      "[2, 4, 3, 5, 7, 6]\n",
      "[4, 3, 5, 7, 6]\n",
      "[4, 5, 7, 6]\n",
      "[5, 7, 6]\n",
      "[7, 6]\n",
      "[7]\n",
      "[1, 2, 3, 4, 5, 6, 7]\n"
     ]
    }
   ],
   "source": [
    "def mySort(lst) :\n",
    "    n = 0\n",
    "    lstnw = []\n",
    "    while len(lst) > 0 :\n",
    "        for ls in lst :\n",
    "            n = ls \n",
    "            for ls2 in lst :\n",
    "                if(n > ls2) :\n",
    "                    n = ls2\n",
    "\n",
    "            if len(lst) > 0 :\n",
    "                print(lst)\n",
    "                lst.remove(n)\n",
    "                lstnw.append(n)\n",
    "    \n",
    "    return lstnw\n",
    "\n",
    "akg = [2,4,1,3,5,7,6]\n",
    "print(mySort(akg))"
   ]
  },
  {
   "cell_type": "code",
   "execution_count": null,
   "id": "7fa20a59",
   "metadata": {},
   "outputs": [],
   "source": []
  }
 ],
 "metadata": {
  "kernelspec": {
   "display_name": "Python 3 (ipykernel)",
   "language": "python",
   "name": "python3"
  },
  "language_info": {
   "codemirror_mode": {
    "name": "ipython",
    "version": 3
   },
   "file_extension": ".py",
   "mimetype": "text/x-python",
   "name": "python",
   "nbconvert_exporter": "python",
   "pygments_lexer": "ipython3",
   "version": "3.9.7"
  },
  "latex_envs": {
   "LaTeX_envs_menu_present": true,
   "autoclose": false,
   "autocomplete": true,
   "bibliofile": "biblio.bib",
   "cite_by": "apalike",
   "current_citInitial": 1,
   "eqLabelWithNumbers": true,
   "eqNumInitial": 1,
   "hotkeys": {
    "equation": "Ctrl-E",
    "itemize": "Ctrl-I"
   },
   "labels_anchors": false,
   "latex_user_defs": false,
   "report_style_numbering": false,
   "user_envs_cfg": false
  },
  "toc": {
   "base_numbering": 1,
   "nav_menu": {},
   "number_sections": true,
   "sideBar": true,
   "skip_h1_title": false,
   "title_cell": "Table of Contents",
   "title_sidebar": "Contents",
   "toc_cell": false,
   "toc_position": {},
   "toc_section_display": true,
   "toc_window_display": false
  },
  "varInspector": {
   "cols": {
    "lenName": 16,
    "lenType": 16,
    "lenVar": 40
   },
   "kernels_config": {
    "python": {
     "delete_cmd_postfix": "",
     "delete_cmd_prefix": "del ",
     "library": "var_list.py",
     "varRefreshCmd": "print(var_dic_list())"
    },
    "r": {
     "delete_cmd_postfix": ") ",
     "delete_cmd_prefix": "rm(",
     "library": "var_list.r",
     "varRefreshCmd": "cat(var_dic_list()) "
    }
   },
   "types_to_exclude": [
    "module",
    "function",
    "builtin_function_or_method",
    "instance",
    "_Feature"
   ],
   "window_display": false
  }
 },
 "nbformat": 4,
 "nbformat_minor": 5
}
