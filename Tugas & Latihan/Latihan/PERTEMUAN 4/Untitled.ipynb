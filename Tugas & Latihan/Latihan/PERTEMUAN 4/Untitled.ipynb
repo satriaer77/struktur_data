{
 "cells": [
  {
   "cell_type": "code",
   "execution_count": 5,
   "id": "ec4ca4cb",
   "metadata": {
    "ExecuteTime": {
     "end_time": "2022-03-26T10:04:33.173133Z",
     "start_time": "2022-03-26T10:04:33.033575Z"
    }
   },
   "outputs": [
    {
     "name": "stdout",
     "output_type": "stream",
     "text": [
      "\n"
     ]
    },
    {
     "data": {
      "text/plain": [
       "''"
      ]
     },
     "execution_count": 5,
     "metadata": {},
     "output_type": "execute_result"
    }
   ],
   "source": [
    "import sys\n",
    "sys.path.append(\"..\")\n",
    "\n",
    "from modules import stack as st\n",
    "\n",
    "def infPost(strOp) :\n",
    "    opStack = st.stack()\n",
    "    operator = ('+','-','*','/')\n",
    "    kr = (\"(\",\")\")\n",
    "    \n",
    "    sOp = \"\"\n",
    "    aa=\"\"\n",
    "    for op in strOp :\n",
    "        if op in operator :\n",
    "            if op == \"*\" or op == \"/\" :\n",
    "                if not (st.isEmpty) :\n",
    "                    aa=st.pop(opStack)\n",
    "                st.push(opStack,op)\n",
    "            else :\n",
    "                if not (st.isEmpty) :\n",
    "                    aa=st.pop(opStack)\n",
    "                st.push(opStack,op)\n",
    "            sOp+=aa\n",
    "            print(aa)\n",
    "            \n",
    "        if op == kr[0] :\n",
    "            st.push(opStack,op)\n",
    "        if op == kr[1] :\n",
    "            sp=st.pop(opStack)\n",
    "            st.push(opStack,sp)\n",
    "        \n",
    "    return sOp\n",
    "    \n",
    "infPost(\"7*2\")         \n",
    "    "
   ]
  },
  {
   "cell_type": "code",
   "execution_count": 13,
   "id": "b1bceb21",
   "metadata": {
    "ExecuteTime": {
     "end_time": "2022-03-26T09:44:52.905004Z",
     "start_time": "2022-03-26T09:44:52.884722Z"
    }
   },
   "outputs": [
    {
     "name": "stdout",
     "output_type": "stream",
     "text": [
      "2\n"
     ]
    }
   ],
   "source": [
    "def evaluatePost(postStr):\n",
    "    operandStack = st.stack()\n",
    "    operator = '+-/*'\n",
    "    for i in postStr:\n",
    "        if i not in operator:\n",
    "            st.push(operandStack, i)\n",
    "        else:\n",
    "            oprnd2 = st.pop(operandStack)\n",
    "            oprnd1 = st.pop(operandStack)\n",
    "            if i == '+':\n",
    "                result = float(oprnd1) + float(oprnd2)\n",
    "            elif i == '-':\n",
    "                result = float(oprnd1) - float(oprnd2)\n",
    "            elif i == '*':\n",
    "                result = float(oprnd1) * float(oprnd2)\n",
    "            else:\n",
    "                result = float(oprnd1) / float(oprnd2)\n",
    "            st.push(operandStack, result)\n",
    "    return (st.pop(operandStack))\n",
    "\n",
    "\n",
    "print(evaluatePost(\"23*5+12\"))"
   ]
  },
  {
   "cell_type": "code",
   "execution_count": null,
   "id": "3be29262",
   "metadata": {},
   "outputs": [],
   "source": []
  },
  {
   "cell_type": "code",
   "execution_count": null,
   "id": "f991a119",
   "metadata": {},
   "outputs": [],
   "source": []
  }
 ],
 "metadata": {
  "kernelspec": {
   "display_name": "Python 3 (ipykernel)",
   "language": "python",
   "name": "python3"
  },
  "language_info": {
   "codemirror_mode": {
    "name": "ipython",
    "version": 3
   },
   "file_extension": ".py",
   "mimetype": "text/x-python",
   "name": "python",
   "nbconvert_exporter": "python",
   "pygments_lexer": "ipython3",
   "version": "3.7.3"
  },
  "latex_envs": {
   "LaTeX_envs_menu_present": true,
   "autoclose": false,
   "autocomplete": true,
   "bibliofile": "biblio.bib",
   "cite_by": "apalike",
   "current_citInitial": 1,
   "eqLabelWithNumbers": true,
   "eqNumInitial": 1,
   "hotkeys": {
    "equation": "Ctrl-E",
    "itemize": "Ctrl-I"
   },
   "labels_anchors": false,
   "latex_user_defs": false,
   "report_style_numbering": false,
   "user_envs_cfg": false
  },
  "toc": {
   "base_numbering": 1,
   "nav_menu": {},
   "number_sections": true,
   "sideBar": true,
   "skip_h1_title": false,
   "title_cell": "Table of Contents",
   "title_sidebar": "Contents",
   "toc_cell": false,
   "toc_position": {},
   "toc_section_display": true,
   "toc_window_display": false
  },
  "varInspector": {
   "cols": {
    "lenName": 16,
    "lenType": 16,
    "lenVar": 40
   },
   "kernels_config": {
    "python": {
     "delete_cmd_postfix": "",
     "delete_cmd_prefix": "del ",
     "library": "var_list.py",
     "varRefreshCmd": "print(var_dic_list())"
    },
    "r": {
     "delete_cmd_postfix": ") ",
     "delete_cmd_prefix": "rm(",
     "library": "var_list.r",
     "varRefreshCmd": "cat(var_dic_list()) "
    }
   },
   "position": {
    "height": "244.844px",
    "left": "996px",
    "right": "20px",
    "top": "120px",
    "width": "350px"
   },
   "types_to_exclude": [
    "module",
    "function",
    "builtin_function_or_method",
    "instance",
    "_Feature"
   ],
   "window_display": true
  }
 },
 "nbformat": 4,
 "nbformat_minor": 5
}
