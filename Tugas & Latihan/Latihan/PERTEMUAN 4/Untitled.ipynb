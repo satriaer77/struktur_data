{
 "cells": [
  {
   "cell_type": "code",
   "execution_count": 5,
   "id": "ec4ca4cb",
   "metadata": {
    "ExecuteTime": {
     "end_time": "2022-03-26T10:04:33.173133Z",
     "start_time": "2022-03-26T10:04:33.033575Z"
    }
   },
   "outputs": [
    {
     "name": "stdout",
     "output_type": "stream",
     "text": [
      "\n"
     ]
    },
    {
     "data": {
      "text/plain": [
       "''"
      ]
     },
     "execution_count": 5,
     "metadata": {},
     "output_type": "execute_result"
    }
   ],
   "source": [
    "import sys\n",
    "sys.path.append(\"..\")\n",
    "\n",
    "from modules import stack as st\n",
    "\n",
    "def infPost(strOp) :\n",
    "    opStack = st.stack()\n",
    "    operator = ('+','-','*','/')\n",
    "    kr = (\"(\",\")\")\n",
    "    \n",
    "    sOp = \"\"\n",
    "    aa=\"\"\n",
    "    for op in strOp :\n",
    "        if op in operator :\n",
    "            if op == \"*\" or op == \"/\" :\n",
    "                if not (st.isEmpty) :\n",
    "                    aa=st.pop(opStack)\n",
    "                st.push(opStack,op)\n",
    "            else :\n",
    "                if not (st.isEmpty) :\n",
    "                    aa=st.pop(opStack)\n",
    "                st.push(opStack,op)\n",
    "            sOp+=aa\n",
    "            print(aa)\n",
    "            \n",
    "        if op == kr[0] :\n",
    "            st.push(opStack,op)\n",
    "        if op == kr[1] :\n",
    "            sp=st.pop(opStack)\n",
    "            st.push(opStack,sp)\n",
    "        \n",
    "    return sOp\n",
    "    \n",
    "infPost(\"7*2\")         \n",
    "    "
   ]
  },
  {
   "cell_type": "code",
   "execution_count": 6,
   "id": "6f85ce00",
   "metadata": {
    "ExecuteTime": {
     "end_time": "2022-03-29T18:44:31.097346Z",
     "start_time": "2022-03-29T18:44:31.052233Z"
    }
   },
   "outputs": [
    {
     "name": "stdout",
     "output_type": "stream",
     "text": [
      "-*+ABCD\n"
     ]
    }
   ],
   "source": [
    "import sys\n",
    "sys.path.append(\"..\")\n",
    "\n",
    "from modules import stack as st\n",
    "\n",
    "def infPref(infStr) :\n",
    "\n",
    "    operandStack = st.stack()\n",
    "    operator = (\"+\",\"-\",\"*\",\"/\")\n",
    "    operatorStack = st.stack()\n",
    "    strOp = \"\"\n",
    "    \n",
    "    \n",
    "    for inf in infStr :\n",
    "        if inf == \"(\" : \n",
    "            st.push(operandStack,inf)\n",
    "        if inf == \")\" :\n",
    "            st.pop(operandStack)\n",
    "        \n",
    "        if not(st.isEmpty(operandStack)) :\n",
    "            if inf in operator :\n",
    "                st.push(operatorStack,inf)\n",
    "            elif inf not in (\"(\",\")\"):\n",
    "                strOp+=inf\n",
    "                if not(st.isEmpty(operatorStack)) :\n",
    "                    strOp = st.pop(operatorStack)+strOp\n",
    "            \n",
    "        else :\n",
    "            if inf in operator :\n",
    "                if operator.index(inf) > 1 :\n",
    "                    st.\n",
    "                else :\n",
    "                    st.push(operatorStack,inf)\n",
    "            elif inf not in (\"(\",\")\"):\n",
    "                if inf == \"t\" :\n",
    "                    \n",
    "                strOp+=inf\n",
    "                if not(st.isEmpty(operatorStack)) :\n",
    "                    strOp = st.pop(operatorStack)+strOp\n",
    "    return strOp\n",
    "\n",
    "print(infPref(\"(A+B)*(C-D)\"))\n",
    "            \n",
    "    "
   ]
  },
  {
   "cell_type": "code",
   "execution_count": 2,
   "id": "f933e1b9",
   "metadata": {
    "ExecuteTime": {
     "end_time": "2022-04-11T18:14:54.479161Z",
     "start_time": "2022-04-11T18:14:54.221970Z"
    }
   },
   "outputs": [
    {
     "name": "stdout",
     "output_type": "stream",
     "text": [
      "-*+ABCD\n"
     ]
    }
   ],
   "source": [
    "import sys\n",
    "sys.path.append(\"..\")\n",
    "\n",
    "from modules import stack as st\n",
    "\n",
    "def infPref(infStr) :\n",
    "\n",
    "    operandStack = st.stack()\n",
    "    operator = (\"+\",\"-\",\"*\",\"/\")\n",
    "    operatorStack = st.stack()\n",
    "    strOp = \"\"\n",
    "    \n",
    "    \n",
    "    for inf in infStr :\n",
    "        if inf == \"(\" : \n",
    "            st.push(operandStack,inf)\n",
    "        if inf == \")\" :\n",
    "            st.pop(operandStack)\n",
    "        \n",
    "        if not(st.isEmpty(operandStack)) :\n",
    "            if inf in operator :\n",
    "                st.push(operatorStack,inf)\n",
    "            elif inf not in (\"(\",\")\"):\n",
    "                strOp+=inf\n",
    "                if not(st.isEmpty(operatorStack)) :\n",
    "                    strOp = st.pop(operatorStack)+strOp\n",
    "            \n",
    "        else :\n",
    "            if inf in operator :\n",
    "                st.push(operatorStack,inf)\n",
    "            elif inf not in (\"(\",\")\"):\n",
    "                strOp+=inf\n",
    "                if not(st.isEmpty(operatorStack)) :\n",
    "                    strOp = st.pop(operatorStack)+strOp\n",
    "    return strOp\n",
    "\n",
    "print(infPref(\"(A+B)*(C-D)\"))\n",
    "            "
   ]
  },
  {
   "cell_type": "code",
   "execution_count": 6,
   "id": "b1bceb21",
   "metadata": {
    "ExecuteTime": {
     "end_time": "2022-04-11T18:17:19.151117Z",
     "start_time": "2022-04-11T18:17:18.987562Z"
    }
   },
   "outputs": [
    {
     "name": "stdout",
     "output_type": "stream",
     "text": [
      "['1', '1']\n",
      "[1.0, '2']\n",
      "[0.5, '3']\n",
      "[0.16666666666666666]\n"
     ]
    },
    {
     "ename": "IndexError",
     "evalue": "pop from empty list",
     "output_type": "error",
     "traceback": [
      "\u001b[0;31m---------------------------------------------------------------------------\u001b[0m",
      "\u001b[0;31mIndexError\u001b[0m                                Traceback (most recent call last)",
      "\u001b[0;32m/tmp/ipykernel_45122/1253494142.py\u001b[0m in \u001b[0;36m<module>\u001b[0;34m\u001b[0m\n\u001b[1;32m     21\u001b[0m \u001b[0;34m\u001b[0m\u001b[0m\n\u001b[1;32m     22\u001b[0m \u001b[0;34m\u001b[0m\u001b[0m\n\u001b[0;32m---> 23\u001b[0;31m \u001b[0mprint\u001b[0m\u001b[0;34m(\u001b[0m\u001b[0mevaluatePost\u001b[0m\u001b[0;34m(\u001b[0m\u001b[0;34m\"11 2 3 + * 4 -\"\u001b[0m\u001b[0;34m)\u001b[0m\u001b[0;34m)\u001b[0m\u001b[0;34m\u001b[0m\u001b[0;34m\u001b[0m\u001b[0m\n\u001b[0m",
      "\u001b[0;32m/tmp/ipykernel_45122/1253494142.py\u001b[0m in \u001b[0;36mevaluatePost\u001b[0;34m(postStr)\u001b[0m\n\u001b[1;32m      8\u001b[0m             \u001b[0mprint\u001b[0m\u001b[0;34m(\u001b[0m\u001b[0moperandStack\u001b[0m\u001b[0;34m)\u001b[0m\u001b[0;34m\u001b[0m\u001b[0;34m\u001b[0m\u001b[0m\n\u001b[1;32m      9\u001b[0m             \u001b[0moprnd2\u001b[0m \u001b[0;34m=\u001b[0m \u001b[0mst\u001b[0m\u001b[0;34m.\u001b[0m\u001b[0mpop\u001b[0m\u001b[0;34m(\u001b[0m\u001b[0moperandStack\u001b[0m\u001b[0;34m)\u001b[0m\u001b[0;34m\u001b[0m\u001b[0;34m\u001b[0m\u001b[0m\n\u001b[0;32m---> 10\u001b[0;31m             \u001b[0moprnd1\u001b[0m \u001b[0;34m=\u001b[0m \u001b[0mst\u001b[0m\u001b[0;34m.\u001b[0m\u001b[0mpop\u001b[0m\u001b[0;34m(\u001b[0m\u001b[0moperandStack\u001b[0m\u001b[0;34m)\u001b[0m\u001b[0;34m\u001b[0m\u001b[0;34m\u001b[0m\u001b[0m\n\u001b[0m\u001b[1;32m     11\u001b[0m             \u001b[0;32mif\u001b[0m \u001b[0mi\u001b[0m \u001b[0;34m==\u001b[0m \u001b[0;34m'+'\u001b[0m\u001b[0;34m:\u001b[0m\u001b[0;34m\u001b[0m\u001b[0;34m\u001b[0m\u001b[0m\n\u001b[1;32m     12\u001b[0m                 \u001b[0mresult\u001b[0m \u001b[0;34m=\u001b[0m \u001b[0mfloat\u001b[0m\u001b[0;34m(\u001b[0m\u001b[0moprnd1\u001b[0m\u001b[0;34m)\u001b[0m \u001b[0;34m+\u001b[0m \u001b[0mfloat\u001b[0m\u001b[0;34m(\u001b[0m\u001b[0moprnd2\u001b[0m\u001b[0;34m)\u001b[0m\u001b[0;34m\u001b[0m\u001b[0;34m\u001b[0m\u001b[0m\n",
      "\u001b[0;32m~/Documents/Akademik/SEMESTER 2/STRUKDAT/Tugas & Latihan/Latihan/PERTEMUAN 4/../modules/stack.py\u001b[0m in \u001b[0;36mpop\u001b[0;34m(s)\u001b[0m\n\u001b[1;32m      8\u001b[0m \u001b[0;34m\u001b[0m\u001b[0m\n\u001b[1;32m      9\u001b[0m \u001b[0;32mdef\u001b[0m \u001b[0mpop\u001b[0m\u001b[0;34m(\u001b[0m\u001b[0ms\u001b[0m\u001b[0;34m)\u001b[0m \u001b[0;34m:\u001b[0m\u001b[0;34m\u001b[0m\u001b[0;34m\u001b[0m\u001b[0m\n\u001b[0;32m---> 10\u001b[0;31m     \u001b[0mdt\u001b[0m \u001b[0;34m=\u001b[0m \u001b[0ms\u001b[0m\u001b[0;34m.\u001b[0m\u001b[0mpop\u001b[0m\u001b[0;34m(\u001b[0m\u001b[0;34m)\u001b[0m\u001b[0;34m\u001b[0m\u001b[0;34m\u001b[0m\u001b[0m\n\u001b[0m\u001b[1;32m     11\u001b[0m     \u001b[0;32mreturn\u001b[0m \u001b[0mdt\u001b[0m\u001b[0;34m\u001b[0m\u001b[0;34m\u001b[0m\u001b[0m\n\u001b[1;32m     12\u001b[0m \u001b[0;34m\u001b[0m\u001b[0m\n",
      "\u001b[0;31mIndexError\u001b[0m: pop from empty list"
     ]
    }
   ],
   "source": [
    "\n",
    "def evaluatePost(postStr):\n",
    "    operandStack = st.stack()\n",
    "    operator = '+-/*'\n",
    "    for i in postStr:\n",
    "        if i not in operator and i != ' ':\n",
    "            st.push(operandStack, i)\n",
    "        else:\n",
    "            print(operandStack)\n",
    "            oprnd2 = st.pop(operandStack)\n",
    "            oprnd1 = st.pop(operandStack)\n",
    "            if i == '+':\n",
    "                result = float(oprnd1) + float(oprnd2)\n",
    "            elif i == '-':\n",
    "                result = float(oprnd1) - float(oprnd2)\n",
    "            elif i == '*':\n",
    "                result = float(oprnd1) * float(oprnd2)\n",
    "            else:\n",
    "                result = float(oprnd1) / float(oprnd2)\n",
    "            st.push(operandStack, result)\n",
    "    return (st.pop(operandStack))\n",
    "\n",
    "\n",
    "print(evaluatePost(\"11 2 3 + * 4 -\"))"
   ]
  },
  {
   "cell_type": "code",
   "execution_count": 16,
   "id": "3be29262",
   "metadata": {
    "ExecuteTime": {
     "end_time": "2022-03-30T04:14:21.477835Z",
     "start_time": "2022-03-30T04:14:21.424695Z"
    }
   },
   "outputs": [
    {
     "name": "stdout",
     "output_type": "stream",
     "text": [
      "6\n",
      "+\n",
      "7\n",
      "*\n",
      "5\n",
      "67+*5\n"
     ]
    }
   ],
   "source": [
    "import sys\n",
    "sys.path.append(\"..\")\n",
    "\n",
    "from modules import stack as st\n",
    "\n",
    "def infPost(strOp) :\n",
    "    stOperator = st.stack()\n",
    "    stKurung   = st.stack()\n",
    "    \n",
    "    operator   = (\"*\",\"/\",\"+\",\"-\")\n",
    "    strRes     = \"\"\n",
    "    \n",
    "    for stp in strOp :\n",
    "        if stp == \"(\" :\n",
    "            st.push(stKurung,stp)\n",
    "            \n",
    "        if stp == \")\" :\n",
    "            st.pop(stpKurung)\n",
    "            \n",
    "        if not(st.isEmpty(stKurung)):\n",
    "            if stp in operator :\n",
    "                if not(st.isEmpty(stOperator)) :\n",
    "                    for sto in stOperator :\n",
    "                        if stOperator.index(sto) < 2 and stOperator.index(sto) <= stOperator.index(stp)  :\n",
    "                            st.pop(stOperator)\n",
    "                            \n",
    "                    strRes+=stp\n",
    "                else :\n",
    "                    st.push(stOperator)\n",
    "                    \n",
    "        \n",
    "        else :\n",
    "            print(stp)\n",
    "            if stp in operator :\n",
    "                if operator.index(stp) < 2 :\n",
    "                    if not (st.isEmpty(stOperator)) :\n",
    "                        strRes+=st.pop(stOperator)\n",
    "                        strRes+=stp\n",
    "                    else :\n",
    "                        strRes+=stp\n",
    "                else :\n",
    "                    st.push(stOperator,stp)\n",
    "            else :\n",
    "                strRes+=stp\n",
    "            \n",
    "            \n",
    "    return strRes        \n",
    "\n",
    "print(infPost(\"6+7*5\"))\n",
    "            \n",
    "        \n",
    "        "
   ]
  },
  {
   "cell_type": "code",
   "execution_count": 22,
   "id": "f991a119",
   "metadata": {
    "ExecuteTime": {
     "end_time": "2022-04-19T18:24:38.348244Z",
     "start_time": "2022-04-19T18:24:38.308859Z"
    }
   },
   "outputs": [
    {
     "name": "stdout",
     "output_type": "stream",
     "text": [
      "Postfix :  27*1+\n",
      "Postfix :  271+*\n"
     ]
    }
   ],
   "source": [
    "import sys\n",
    "sys.path.append(\"..\")\n",
    "\n",
    "from modules import stack as st\n",
    "\n",
    "\n",
    "def convertPostfix(strOp) :\n",
    "    stOperator = st.stack()\n",
    "    kurung     = (\"(\",\")\")\n",
    "    operator   = {\"+\":0,\"-\":0,\"*\":1,\"/\":1}\n",
    "    strRes     = \"\"\n",
    "    \n",
    "    for sto in strOp :\n",
    "        if sto not in operator.keys() and sto not in kurung :\n",
    "            strRes+=sto\n",
    "        \n",
    "        elif sto == kurung[0] :\n",
    "            st.push(stOperator,sto)\n",
    "            \n",
    "        elif sto == kurung[1] :\n",
    "            while st.peek(stOperator) != kurung[0] :\n",
    "                strRes+=st.pop(stOperator)\n",
    "            st.pop(stOperator)\n",
    "            \n",
    "            \n",
    "        elif sto in operator.keys() :\n",
    "            while not(st.isEmpty(stOperator)) and st.peek(stOperator) != kurung[0] and operator[st.peek(stOperator)] >= operator[sto] :   \n",
    "                strRes+=st.pop(stOperator)\n",
    "            st.push(stOperator,sto)\n",
    "        \n",
    "            \n",
    "    while not(st.isEmpty(stOperator)) :\n",
    "        strRes+=st.pop(stOperator)\n",
    "            \n",
    "            \n",
    "    return strRes\n",
    "\n",
    "\n",
    "print(\"Postfix : \",convertPostfix(\"2*7+1\"))\n",
    "print(\"Postfix : \",convertPostfix(\"2*(7+1)\"))"
   ]
  },
  {
   "cell_type": "code",
   "execution_count": 21,
   "id": "42d43d80",
   "metadata": {
    "ExecuteTime": {
     "end_time": "2022-04-19T18:14:05.234795Z",
     "start_time": "2022-04-19T18:14:05.187650Z"
    }
   },
   "outputs": [
    {
     "name": "stdout",
     "output_type": "stream",
     "text": [
      "1+7*2\n",
      "Postfix :  +*271\n",
      "(1+7)*2\n",
      "Postfix :  *2+71\n"
     ]
    }
   ],
   "source": [
    "import sys\n",
    "sys.path.append(\"..\")\n",
    "\n",
    "from modules import stack as st\n",
    "\n",
    "def reverseWrd(wrd) :\n",
    "    wrl = st.stack()\n",
    "    wrn = \"\"\n",
    "    for w in wrd :\n",
    "        st.push(wrl,w)\n",
    "\n",
    "    for i in range(len(wrl)) :\n",
    "        wr = st.pop(wrl)\n",
    "        if wr == \")\" :\n",
    "            wrn+=\"(\"\n",
    "        elif wr == \"(\" :\n",
    "            wrn+=\")\"\n",
    "        else :\n",
    "            wrn+=wr\n",
    "\n",
    "    return wrn\n",
    "\n",
    "def convertPrefix(strOp) :\n",
    "    strOp      = reverseWrd(strOp)\n",
    "    print(strOp)\n",
    "    stOperator = st.stack()\n",
    "    kurung     = (\"(\",\")\")\n",
    "    operator   = {\"+\":0,\"-\":0,\"*\":1,\"/\":1}\n",
    "    strRes     = \"\"\n",
    "    \n",
    "    for sto in strOp :\n",
    "        if sto not in operator.keys() and sto not in kurung :\n",
    "            strRes=sto+strRes\n",
    "        \n",
    "        elif sto == kurung[0] :\n",
    "            st.push(stOperator,sto)\n",
    "            \n",
    "        elif sto == kurung[1] :\n",
    "            while st.peek(stOperator) != kurung[0] :\n",
    "                strRes=st.pop(stOperator)+strRes\n",
    "            st.pop(stOperator)\n",
    "            \n",
    "            \n",
    "        elif sto in operator.keys() :\n",
    "            while not(st.isEmpty(stOperator)) and st.peek(stOperator) != kurung[0] and operator[st.peek(stOperator)] >= operator[sto] :   \n",
    "                strRes=st.pop(stOperator)+strRes\n",
    "            st.push(stOperator,sto)\n",
    "        \n",
    "            \n",
    "    while not(st.isEmpty(stOperator)) :\n",
    "        strRes=st.pop(stOperator)+strRes\n",
    "            \n",
    "            \n",
    "    return strRes\n",
    "\n",
    "\n",
    "print(\"Prefix : \",convertPostfix(\"2*7+1\"))\n",
    "print(\"Prefix : \",convertPostfix(\"2*(7+1)\"))"
   ]
  },
  {
   "cell_type": "code",
   "execution_count": null,
   "id": "08d9e6a5",
   "metadata": {},
   "outputs": [],
   "source": [
    "def jmlPost(postStr):\n",
    "    operandStack = st.stack()\n",
    "    operator = (\"+\",\"-\",\"/\",\"*\")\n",
    "    for i in postStr:\n",
    "        if i not in operator:\n",
    "            st.push(operandStack, i)\n",
    "        else:\n",
    "            oprnd2 = st.pop(operandStack)\n",
    "            oprnd1 = st.pop(operandStack)\n",
    "            if i == '+':\n",
    "                result = float(oprnd1) + float(oprnd2)\n",
    "            elif i == '-':\n",
    "                result = float(oprnd1) - float(oprnd2)\n",
    "            elif i == '*':\n",
    "                result = float(oprnd1) * float(oprnd2)\n",
    "            else:\n",
    "                result = float(oprnd1) / float(oprnd2)\n",
    "            st.push(operandStack, result)\n",
    "    return (st.pop(operandStack))\n",
    "\n",
    "\n",
    "print(jmlPost(\"23*5+12\"))"
   ]
  },
  {
   "cell_type": "code",
   "execution_count": null,
   "id": "986708c4",
   "metadata": {},
   "outputs": [],
   "source": []
  }
 ],
 "metadata": {
  "kernelspec": {
   "display_name": "Python 3 (ipykernel)",
   "language": "python",
   "name": "python3"
  },
  "language_info": {
   "codemirror_mode": {
    "name": "ipython",
    "version": 3
   },
   "file_extension": ".py",
   "mimetype": "text/x-python",
   "name": "python",
   "nbconvert_exporter": "python",
   "pygments_lexer": "ipython3",
   "version": "3.9.7"
  },
  "latex_envs": {
   "LaTeX_envs_menu_present": true,
   "autoclose": false,
   "autocomplete": true,
   "bibliofile": "biblio.bib",
   "cite_by": "apalike",
   "current_citInitial": 1,
   "eqLabelWithNumbers": true,
   "eqNumInitial": 1,
   "hotkeys": {
    "equation": "Ctrl-E",
    "itemize": "Ctrl-I"
   },
   "labels_anchors": false,
   "latex_user_defs": false,
   "report_style_numbering": false,
   "user_envs_cfg": false
  },
  "toc": {
   "base_numbering": 1,
   "nav_menu": {},
   "number_sections": true,
   "sideBar": true,
   "skip_h1_title": false,
   "title_cell": "Table of Contents",
   "title_sidebar": "Contents",
   "toc_cell": false,
   "toc_position": {},
   "toc_section_display": true,
   "toc_window_display": false
  },
  "varInspector": {
   "cols": {
    "lenName": 16,
    "lenType": 16,
    "lenVar": 40
   },
   "kernels_config": {
    "python": {
     "delete_cmd_postfix": "",
     "delete_cmd_prefix": "del ",
     "library": "var_list.py",
     "varRefreshCmd": "print(var_dic_list())"
    },
    "r": {
     "delete_cmd_postfix": ") ",
     "delete_cmd_prefix": "rm(",
     "library": "var_list.r",
     "varRefreshCmd": "cat(var_dic_list()) "
    }
   },
   "position": {
    "height": "244.844px",
    "left": "802px",
    "right": "20px",
    "top": "115px",
    "width": "350px"
   },
   "types_to_exclude": [
    "module",
    "function",
    "builtin_function_or_method",
    "instance",
    "_Feature"
   ],
   "window_display": false
  }
 },
 "nbformat": 4,
 "nbformat_minor": 5
}
