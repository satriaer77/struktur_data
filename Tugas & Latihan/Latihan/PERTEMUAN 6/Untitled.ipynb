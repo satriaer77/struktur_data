{
 "cells": [
  {
   "cell_type": "markdown",
   "id": "c255dde7",
   "metadata": {},
   "source": [
    "# Sesi 3"
   ]
  },
  {
   "cell_type": "code",
   "execution_count": 2,
   "id": "4e3941b5",
   "metadata": {
    "ExecuteTime": {
     "end_time": "2022-04-20T06:41:32.091420Z",
     "start_time": "2022-04-20T06:41:31.432141Z"
    }
   },
   "outputs": [
    {
     "ename": "ModuleNotFoundError",
     "evalue": "No module named 'modules'",
     "output_type": "error",
     "traceback": [
      "\u001b[0;31m---------------------------------------------------------------------------\u001b[0m",
      "\u001b[0;31mModuleNotFoundError\u001b[0m                       Traceback (most recent call last)",
      "\u001b[0;32m/tmp/ipykernel_42186/1678826480.py\u001b[0m in \u001b[0;36m<module>\u001b[0;34m\u001b[0m\n\u001b[0;32m----> 1\u001b[0;31m \u001b[0;32mfrom\u001b[0m \u001b[0mmodules\u001b[0m \u001b[0;32mimport\u001b[0m \u001b[0mstack\u001b[0m \u001b[0;32mas\u001b[0m \u001b[0mst\u001b[0m\u001b[0;34m\u001b[0m\u001b[0;34m\u001b[0m\u001b[0m\n\u001b[0m\u001b[1;32m      2\u001b[0m \u001b[0;34m\u001b[0m\u001b[0m\n\u001b[1;32m      3\u001b[0m \u001b[0;32mdef\u001b[0m \u001b[0mjmlStack\u001b[0m\u001b[0;34m(\u001b[0m\u001b[0mbil1\u001b[0m\u001b[0;34m,\u001b[0m\u001b[0mbil2\u001b[0m\u001b[0;34m)\u001b[0m \u001b[0;34m:\u001b[0m\u001b[0;34m\u001b[0m\u001b[0;34m\u001b[0m\u001b[0m\n\u001b[1;32m      4\u001b[0m     \u001b[0mbilStack\u001b[0m \u001b[0;34m=\u001b[0m \u001b[0mst\u001b[0m\u001b[0;34m.\u001b[0m\u001b[0mstack\u001b[0m\u001b[0;34m(\u001b[0m\u001b[0;34m)\u001b[0m\u001b[0;34m\u001b[0m\u001b[0;34m\u001b[0m\u001b[0m\n\u001b[1;32m      5\u001b[0m     \u001b[0mbl1\u001b[0m \u001b[0;34m=\u001b[0m \u001b[0mst\u001b[0m\u001b[0;34m.\u001b[0m\u001b[0mstack\u001b[0m\u001b[0;34m(\u001b[0m\u001b[0;34m)\u001b[0m\u001b[0;34m\u001b[0m\u001b[0;34m\u001b[0m\u001b[0m\n",
      "\u001b[0;31mModuleNotFoundError\u001b[0m: No module named 'modules'"
     ]
    }
   ],
   "source": [
    "from modules import stack as st\n",
    "\n",
    "def jmlStack(bil1,bil2) :\n",
    "    bilStack = st.stack()\n",
    "    bl1 = st.stack()\n",
    "    bl2 = st.stack()\n",
    "    \n",
    "    \n",
    "    for b1 in bil1 :\n",
    "        bl1.push(bl1,b1)\n",
    "    \n",
    "    for b2 in bil2 :\n",
    "        bl2.push(bl2,b2)\n",
    "    \n",
    "    while not(st.isEmpty(bl1)) or not(st.isEmpty(bl2)) :\n",
    "        hs = 0\n",
    "        \n",
    "        if not(st.isEmpty(bl1)) and st.isEmpty(bl2) :\n",
    "            hs = int(st.pop(bl1))\n",
    "            st.push(bilStack,hs)\n",
    "            \n",
    "        elif not(st.isEmpty(bl2)) and st.isEmpty(bl1) :\n",
    "            hs = int(st.pop(bl2))\n",
    "            st.push(bilStack,hs)\n",
    "            \n",
    "        elif not(st.isEmpty(bl1)) and not(st.isEmpty(bl2)) :\n",
    "            hs = int(st.pop(bl1)+st.pop(bl2))\n",
    "            st.push(bilStack,hs)\n",
    "        print(hs)\n",
    "\n",
    "jmlStack(\"253\",\"4567\")"
   ]
  },
  {
   "cell_type": "code",
   "execution_count": null,
   "id": "be8c57d4",
   "metadata": {},
   "outputs": [],
   "source": []
  }
 ],
 "metadata": {
  "kernelspec": {
   "display_name": "Python 3 (ipykernel)",
   "language": "python",
   "name": "python3"
  },
  "language_info": {
   "codemirror_mode": {
    "name": "ipython",
    "version": 3
   },
   "file_extension": ".py",
   "mimetype": "text/x-python",
   "name": "python",
   "nbconvert_exporter": "python",
   "pygments_lexer": "ipython3",
   "version": "3.9.7"
  },
  "latex_envs": {
   "LaTeX_envs_menu_present": true,
   "autoclose": false,
   "autocomplete": true,
   "bibliofile": "biblio.bib",
   "cite_by": "apalike",
   "current_citInitial": 1,
   "eqLabelWithNumbers": true,
   "eqNumInitial": 1,
   "hotkeys": {
    "equation": "Ctrl-E",
    "itemize": "Ctrl-I"
   },
   "labels_anchors": false,
   "latex_user_defs": false,
   "report_style_numbering": false,
   "user_envs_cfg": false
  },
  "toc": {
   "base_numbering": 1,
   "nav_menu": {},
   "number_sections": true,
   "sideBar": true,
   "skip_h1_title": false,
   "title_cell": "Table of Contents",
   "title_sidebar": "Contents",
   "toc_cell": false,
   "toc_position": {},
   "toc_section_display": true,
   "toc_window_display": false
  },
  "varInspector": {
   "cols": {
    "lenName": 16,
    "lenType": 16,
    "lenVar": 40
   },
   "kernels_config": {
    "python": {
     "delete_cmd_postfix": "",
     "delete_cmd_prefix": "del ",
     "library": "var_list.py",
     "varRefreshCmd": "print(var_dic_list())"
    },
    "r": {
     "delete_cmd_postfix": ") ",
     "delete_cmd_prefix": "rm(",
     "library": "var_list.r",
     "varRefreshCmd": "cat(var_dic_list()) "
    }
   },
   "types_to_exclude": [
    "module",
    "function",
    "builtin_function_or_method",
    "instance",
    "_Feature"
   ],
   "window_display": false
  }
 },
 "nbformat": 4,
 "nbformat_minor": 5
}
