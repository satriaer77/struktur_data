{
 "cells": [
  {
   "cell_type": "code",
   "execution_count": 13,
   "id": "4621d0a8",
   "metadata": {
    "ExecuteTime": {
     "end_time": "2022-04-06T04:38:14.710330Z",
     "start_time": "2022-04-06T04:38:14.674989Z"
    }
   },
   "outputs": [
    {
     "name": "stdout",
     "output_type": "stream",
     "text": [
      "[5, 4, 2]\n",
      "[4, 2, 2]\n",
      "[2, 2, 1]\n",
      "[2, 1]\n",
      "[1]\n",
      "15\n"
     ]
    }
   ],
   "source": [
    "import sys\n",
    "sys.path.append(\"..\")\n",
    "\n",
    "from modules import queueV2 as que\n",
    "\n",
    "\n",
    "def taskScheduling(lst,limit) :\n",
    "    queTask   = que.createQueue()\n",
    "    totalTime = 0\n",
    "    for l in lst :\n",
    "        que.enqueue(queTask,l)\n",
    "    \n",
    "    while que.size(queTask) > 0 :\n",
    "        print(queTask)\n",
    "        limitTemp = limit\n",
    "        task      = que.dequeue(queTask)\n",
    "        \n",
    "        while limitTemp > 0 :\n",
    "            limitTemp-=1\n",
    "            if task > 0 :\n",
    "                task-=1\n",
    "                totalTime+=1\n",
    "        if task > 0 :    \n",
    "            que.enqueue(queTask,task)\n",
    "    \n",
    "    return totalTime\n",
    "\n",
    "print(taskScheduling([5,4,2],3))"
   ]
  },
  {
   "cell_type": "code",
   "execution_count": null,
   "id": "0f3a6238",
   "metadata": {},
   "outputs": [],
   "source": [
    "import sys\n",
    "sys.path.append(\"..\")\n",
    "\n",
    "from modules import queueV2 as que\n",
    "\n",
    "\n",
    "def taskScheduling(dictionary,limit) :\n",
    "    queTask   = que.createQueue()\n",
    "    totalTime = 0\n",
    "    for l in lst :\n",
    "        que.enqueue(queTask,l)\n",
    "    \n",
    "    while que.size(queTask) > 0 :\n",
    "        print(queTask)\n",
    "        limitTemp = limit\n",
    "        task      = que.dequeue(queTask)\n",
    "        \n",
    "        while limitTemp > 0 :\n",
    "            limitTemp-=1\n",
    "            if task > 0 :\n",
    "                task-=1\n",
    "                totalTime+=1\n",
    "        if task > 0 :    \n",
    "            que.enqueue(queTask,task)\n",
    "    \n",
    "    return totalTime\n",
    "\n",
    "print(taskScheduling([5,4,2],3))"
   ]
  },
  {
   "cell_type": "code",
   "execution_count": null,
   "id": "fcda166d",
   "metadata": {
    "ExecuteTime": {
     "start_time": "2022-04-06T05:11:01.247Z"
    }
   },
   "outputs": [],
   "source": [
    "import sys\n",
    "sys.path.append(\"..\")\n",
    "\n",
    "from modules import queueV2 as que\n",
    "\n",
    "dataProses = {}\n",
    "for i in range(3) :\n",
    "    nama = input(\"=> Masukkan nama : \")\n",
    "    dataProses[nama] = int(input(\"=> Masukkan Waktu : \"))\n",
    "    \n",
    "def taskScheduling(dictTask,limit) :\n",
    "    \n",
    "    queTask   = que.createQueue()\n",
    "    totalTime = 0\n",
    "    for dt in dictTask :\n",
    "        que.enqueue(queTask,dt)\n",
    "    #print(queTask)\n",
    "    \n",
    "    for i in range(que.size(queTask)) :\n",
    "        print(queTask)\n",
    "        que.enqueue(queTask,que.dequeue(queTask))\n",
    "    \n",
    "        \n",
    "print(taskScheduling(dataProses,3))"
   ]
  },
  {
   "cell_type": "code",
   "execution_count": 2,
   "id": "3571768d",
   "metadata": {
    "ExecuteTime": {
     "end_time": "2022-04-06T05:34:08.701882Z",
     "start_time": "2022-04-06T05:33:59.907595Z"
    }
   },
   "outputs": [
    {
     "name": "stdout",
     "output_type": "stream",
     "text": [
      "=> Masukkan nama : A\n",
      "=> Masukkan Waktu : 7\n",
      "=> Masukkan nama : B\n",
      "=> Masukkan Waktu : 5\n",
      "=> Masukkan nama : C\n",
      "=> Masukkan Waktu : 2\n",
      "{'A': 7, 'B': 5, 'C': 2}\n",
      "['A', 'B', 'C']\n",
      "['A', 'B', 'C']\n",
      "['B', 'C', 'A']\n",
      "['C', 'A', 'B']\n",
      "['A', 'B']\n",
      "['B', 'A']\n",
      "['A']\n",
      "14\n"
     ]
    }
   ],
   "source": [
    "import sys\n",
    "sys.path.append(\"..\")\n",
    "\n",
    "from modules import queueV2 as que\n",
    "\n",
    "dataProses = {}\n",
    "for i in range(3) :\n",
    "    nama = input(\"=> Masukkan nama : \")\n",
    "    dataProses[nama] = int(input(\"=> Masukkan Waktu : \"))\n",
    "    \n",
    "def taskScheduling(dictTask,limit) :\n",
    "    print(dictTask)\n",
    "    queTask   = que.createQueue()\n",
    "    queTime   = que.createQueue()\n",
    "    totalTime = 0\n",
    "    for dt in dictTask.keys() :\n",
    "        que.enqueue(queTask,dt)\n",
    "        \n",
    "    for dtm in dictTask.values() :\n",
    "        que.enqueue(queTime,dtm)\n",
    "    \n",
    "    print(queTask)\n",
    "   \n",
    "    while que.size(queTask) > 0 :\n",
    "        print(queTask)\n",
    "       # print(queTime)\n",
    "        limitTemp = limit\n",
    "        task      = que.dequeue(queTask)\n",
    "        time      = que.dequeue(queTime)\n",
    "        \n",
    "        while limitTemp > 0 :\n",
    "            totalTime\n",
    "            limitTemp-=1\n",
    "            if time > 0 :\n",
    "                time-=1\n",
    "                totalTime+=1\n",
    "        if time > 0 :    \n",
    "            que.enqueue(queTime,time)\n",
    "            que.enqueue(queTask,task)\n",
    "    \n",
    "    return totalTime\n",
    "        \n",
    "print(taskScheduling(dataProses,3))"
   ]
  },
  {
   "cell_type": "code",
   "execution_count": 5,
   "id": "0f7953e1",
   "metadata": {
    "ExecuteTime": {
     "end_time": "2022-04-06T03:51:13.501775Z",
     "start_time": "2022-04-06T03:51:13.480229Z"
    },
    "scrolled": true
   },
   "outputs": [
    {
     "name": "stdout",
     "output_type": "stream",
     "text": [
      "True\n"
     ]
    }
   ],
   "source": [
    "import sys\n",
    "sys.path.append(\"..\")\n",
    "\n",
    "from modules import deques as deq\n",
    "\n",
    "\n",
    "def cekPalindrom(strKata) :\n",
    "    deqKata = deq.createDeque()\n",
    "    cek     = True\n",
    "    \n",
    "    for kata in strKata :\n",
    "        deq.addRear(deqKata,kata)\n",
    "\n",
    "    while deq.size(deqKata) > 1 :\n",
    "        if deq.removeFront(deqKata).lower() == deq.removeRear(deqKata).lower() :\n",
    "            cek = True\n",
    "        else :\n",
    "            cek = False\n",
    "            \n",
    "    return cek\n",
    "\n",
    "print(cekPalindrom(\"Katak\"))\n",
    "        "
   ]
  },
  {
   "cell_type": "code",
   "execution_count": null,
   "id": "396fa358",
   "metadata": {},
   "outputs": [],
   "source": [
    "import sys\n",
    "sys.path.append(\"..\")\n",
    "\n",
    "from modules import deques as deq\n",
    "from modules import sortingMethod as sm\n",
    "\n",
    "def median(lst) :\n",
    "    lst       = mySort(lst)\n",
    "    deqAngka  = deq.createDeque()\n",
    "    \n",
    "    for l in lst :\n",
    "        deq.addRear(l)\n",
    "        \n",
    "    while deq.size(deqAngka)  :\n",
    "    \n",
    "    \n",
    "    "
   ]
  },
  {
   "cell_type": "code",
   "execution_count": 1,
   "id": "ab6fcb57",
   "metadata": {
    "ExecuteTime": {
     "end_time": "2022-04-13T16:02:25.460149Z",
     "start_time": "2022-04-13T16:02:16.810535Z"
    }
   },
   "outputs": [
    {
     "name": "stdout",
     "output_type": "stream",
     "text": [
      "=> Masukkan nama : A\n",
      "=> Masukkan Waktu : 3\n",
      "=> Masukkan nama : B\n",
      "=> Masukkan Waktu : 5\n",
      "=> Masukkan nama : C\n",
      "=> Masukkan Waktu : 7\n",
      "{'A': 3, 'B': 5, 'C': 7}\n",
      "['A', 'B', 'C']\n",
      "['A', 'B', 'C']\n",
      "['B', 'C']\n",
      "['C', 'B']\n",
      "['B', 'C']\n",
      "['C']\n",
      "['C']\n",
      "15\n"
     ]
    }
   ],
   "source": [
    "import sys\n",
    "sys.path.append(\"..\")\n",
    "\n",
    "from modules import queueV2 as que\n",
    "\n",
    "dataProses = {}\n",
    "for i in range(3) :\n",
    "    nama = input(\"=> Masukkan nama : \")\n",
    "    dataProses[nama] = int(input(\"=> Masukkan Waktu : \"))\n",
    "    \n",
    "def taskScheduling(dictTask,limit) :\n",
    "    print(dictTask)\n",
    "    queTask   = que.createQueue()\n",
    "    queTime   = que.createQueue()\n",
    "    totalTime = 0\n",
    "    for dt in dictTask.keys() :\n",
    "        que.enqueue(queTask,dt)\n",
    "        \n",
    "    for dtm in dictTask.values() :\n",
    "        que.enqueue(queTime,dtm)\n",
    "   \n",
    "    while que.size(queTask) > 0 :\n",
    "        print(queTask)\n",
    "       # print(queTime)\n",
    "        limitTemp = limit\n",
    "        task      = que.dequeue(queTask)\n",
    "        time      = que.dequeue(queTime)\n",
    "        \n",
    "        while limitTemp > 0 :\n",
    "            limitTemp-=1\n",
    "            if time > 0 :\n",
    "                time-=1\n",
    "                totalTime+=1\n",
    "        if time > 0 :    \n",
    "            que.enqueue(queTime,time)\n",
    "            que.enqueue(queTask,task)\n",
    "    \n",
    "    return totalTime\n",
    "        \n",
    "print(taskScheduling(dataProses,3))"
   ]
  },
  {
   "cell_type": "code",
   "execution_count": null,
   "id": "b495a5c7",
   "metadata": {},
   "outputs": [],
   "source": []
  }
 ],
 "metadata": {
  "kernelspec": {
   "display_name": "Python 3 (ipykernel)",
   "language": "python",
   "name": "python3"
  },
  "language_info": {
   "codemirror_mode": {
    "name": "ipython",
    "version": 3
   },
   "file_extension": ".py",
   "mimetype": "text/x-python",
   "name": "python",
   "nbconvert_exporter": "python",
   "pygments_lexer": "ipython3",
   "version": "3.9.7"
  },
  "latex_envs": {
   "LaTeX_envs_menu_present": true,
   "autoclose": false,
   "autocomplete": true,
   "bibliofile": "biblio.bib",
   "cite_by": "apalike",
   "current_citInitial": 1,
   "eqLabelWithNumbers": true,
   "eqNumInitial": 1,
   "hotkeys": {
    "equation": "Ctrl-E",
    "itemize": "Ctrl-I"
   },
   "labels_anchors": false,
   "latex_user_defs": false,
   "report_style_numbering": false,
   "user_envs_cfg": false
  },
  "toc": {
   "base_numbering": 1,
   "nav_menu": {},
   "number_sections": true,
   "sideBar": true,
   "skip_h1_title": false,
   "title_cell": "Table of Contents",
   "title_sidebar": "Contents",
   "toc_cell": false,
   "toc_position": {},
   "toc_section_display": true,
   "toc_window_display": false
  },
  "varInspector": {
   "cols": {
    "lenName": 16,
    "lenType": 16,
    "lenVar": 40
   },
   "kernels_config": {
    "python": {
     "delete_cmd_postfix": "",
     "delete_cmd_prefix": "del ",
     "library": "var_list.py",
     "varRefreshCmd": "print(var_dic_list())"
    },
    "r": {
     "delete_cmd_postfix": ") ",
     "delete_cmd_prefix": "rm(",
     "library": "var_list.r",
     "varRefreshCmd": "cat(var_dic_list()) "
    }
   },
   "position": {
    "height": "220.844px",
    "left": "737px",
    "right": "20px",
    "top": "320px",
    "width": "350px"
   },
   "types_to_exclude": [
    "module",
    "function",
    "builtin_function_or_method",
    "instance",
    "_Feature"
   ],
   "window_display": false
  }
 },
 "nbformat": 4,
 "nbformat_minor": 5
}
