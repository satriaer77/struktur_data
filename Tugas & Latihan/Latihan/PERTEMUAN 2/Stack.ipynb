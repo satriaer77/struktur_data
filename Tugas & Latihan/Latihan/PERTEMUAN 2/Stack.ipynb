{
 "cells": [
  {
   "cell_type": "code",
   "execution_count": 4,
   "id": "b8df2d93",
   "metadata": {
    "ExecuteTime": {
     "end_time": "2022-03-09T04:35:42.188436Z",
     "start_time": "2022-03-09T04:35:42.112594Z"
    },
    "scrolled": true
   },
   "outputs": [
    {
     "name": "stdout",
     "output_type": "stream",
     "text": [
      "[3]\n",
      "[3, 0, 1, 2]\n",
      "[3, 0]\n",
      "0\n",
      "uka\n",
      "[1, 0, 1, 0]\n",
      "\n",
      "Biner   = [1, 0, 1, 0]\n",
      "Desimal = 10\n",
      "\n",
      "        \n"
     ]
    }
   ],
   "source": [
    "import sys\n",
    "sys.path.append(\"..\")\n",
    "\n",
    "from modules import stack as st\n",
    "\n",
    "\n",
    "\n",
    "data = st.stack()\n",
    "st.push(data,3)\n",
    "\n",
    "print(data)\n",
    "\n",
    "\n",
    "for i in range(3) :\n",
    "    st.push(data,i)\n",
    "\n",
    "print(data)\n",
    "\n",
    "for i in range(2) :\n",
    "    st.pop(data)\n",
    "\n",
    "print(data)\n",
    "print(st.pop(data))\n",
    "def reverseWrd(wrd) :\n",
    "    wrl = st.stack()\n",
    "    wrn = \"\"\n",
    "    for w in wrd :\n",
    "        st.push(wrl,w)\n",
    "\n",
    "    for i in range(len(wrl)) :\n",
    "        wr = st.pop(wrl)\n",
    "        wrn+=wr\n",
    "\n",
    "    return wrn\n",
    "\n",
    "wrd = \"aku\"\n",
    "print(reverseWrd(wrd))\n",
    "\n",
    "def binDes(biner) :\n",
    "    stBin  = st.stack()\n",
    "    desTot = -1\n",
    "\n",
    "    for bi in biner :\n",
    "        st.push(stBin,int(bi))\n",
    "    print(stBin)\n",
    "    for i in range(len(stBin)) :\n",
    "        #de = stBin.pop()\n",
    "        #desTot = desTot + (2*de)**i\n",
    "        desTot+=(2*stBin.pop())**i    \n",
    "    return desTot\n",
    "\n",
    "def binDesv2(biner) :\n",
    "    stBin  = st.stack()\n",
    "    desTot = 0\n",
    "\n",
    "    for bi in biner :\n",
    "        st.push(stBin,int(bi))\n",
    "    \n",
    "    for i in range(len(stBin)) :\n",
    "        popS = st.pop(stBin)\n",
    "\n",
    "        if popS != 0 :\n",
    "            desTot+=(2*popS)**i\n",
    "    return desTot\n",
    "\n",
    "        \n",
    "\n",
    "def desBin(desimal) :\n",
    "    stDes  = st.stack()\n",
    "    binStr = \"\"\n",
    "    while desimal > 0 :\n",
    "        desimal = desimal//2\n",
    "        st.push(stDes,desimal%2)\n",
    "\n",
    "    return stDes\n",
    "\n",
    "\n",
    "print(\"\"\"\n",
    "Biner   = %s\n",
    "Desimal = %d\n",
    "\n",
    "        \"\"\" % \n",
    " (\n",
    "    desBin(10),\n",
    "    binDes(\"1010\")\n",
    " )\n",
    ")\n",
    "\n",
    "#print(\"asd \",0**0)\n"
   ]
  },
  {
   "cell_type": "code",
   "execution_count": 1,
   "id": "2441df3e",
   "metadata": {
    "ExecuteTime": {
     "end_time": "2022-03-09T04:36:54.636037Z",
     "start_time": "2022-03-09T04:36:54.579768Z"
    }
   },
   "outputs": [
    {
     "data": {
      "text/plain": [
       "'kelebihan kurung tutup'"
      ]
     },
     "execution_count": 1,
     "metadata": {},
     "output_type": "execute_result"
    }
   ],
   "source": [
    "import sys\n",
    "sys.path.append(\"..\")\n",
    "\n",
    "from modules import stack as st\n",
    "\n",
    "def checkParentheses(strMat):\n",
    "    data=st.stack()\n",
    "    for ch in strMat:\n",
    "        if ch=='(' :\n",
    "            st.push(data,ch)\n",
    "        elif ch==')' :\n",
    "            if st.isEmpty(data):\n",
    "                return 'kelebihan kurung tutup'\n",
    "            else:\n",
    "                st.pop(data)\n",
    "    print(data)\n",
    "    if st.isEmpty(data):\n",
    "        return True\n",
    "    else:\n",
    "        return 'Kelebihan kurung buka'\n",
    "\n",
    "checkParentheses(\"5x2x(6x7)+26)(())\")"
   ]
  },
  {
   "cell_type": "code",
   "execution_count": 17,
   "id": "db120a35",
   "metadata": {
    "ExecuteTime": {
     "end_time": "2022-03-09T03:04:33.594309Z",
     "start_time": "2022-03-09T03:04:31.671856Z"
    }
   },
   "outputs": [
    {
     "name": "stdout",
     "output_type": "stream",
     "text": [
      "-> Masukkan angka : 3\n",
      "4.1 = 4\n",
      "4.2 = 8\n",
      "4.3 = 12\n",
      "----------+\n",
      "24\n"
     ]
    }
   ],
   "source": [
    "def persamaan(n) :\n",
    "   \n",
    "    total = 0\n",
    "    for i in range(1,n+1) :\n",
    "        print(\"4.%d = %d\" % (i,4*i))\n",
    "        total+=4*i\n",
    "        if i==n :\n",
    "            print(\"----------+\")\n",
    "        \n",
    "    return total\n",
    "nilai = int(input(\"-> Masukkan angka : \"))\n",
    "print(persamaan(nilai))"
   ]
  },
  {
   "cell_type": "code",
   "execution_count": 18,
   "id": "fdf70e35",
   "metadata": {
    "ExecuteTime": {
     "end_time": "2022-03-09T03:10:34.832438Z",
     "start_time": "2022-03-09T03:10:34.810786Z"
    }
   },
   "outputs": [],
   "source": [
    "def funPersamaan(n,x) :\n",
    "    total = 0\n",
    "   \n",
    "    for i in range(n) :\n",
    "        tmp = 0\n",
    "        w   = 0\n",
    "        if i >= 10 :\n",
    "            w   = 1\n",
    "        tmp = (2*x[i])*(w*i)\n",
    "        print(tmp)\n",
    "   \n",
    "x = [2,3,5,10]\n",
    "funPersamaan(x)"
   ]
  },
  {
   "cell_type": "code",
   "execution_count": 21,
   "id": "79baf30e",
   "metadata": {
    "ExecuteTime": {
     "end_time": "2022-03-09T03:16:33.936479Z",
     "start_time": "2022-03-09T03:16:31.758245Z"
    }
   },
   "outputs": [
    {
     "name": "stdout",
     "output_type": "stream",
     "text": [
      "=> Masukkan nilai : 6\n",
      "[0, 2, 4]\n"
     ]
    }
   ],
   "source": [
    "n = int(input(\"=> Masukkan nilai : \"))\n",
    "lst = [i for i in range(0,n,2)]\n",
    "print(lst)"
   ]
  },
  {
   "cell_type": "code",
   "execution_count": 23,
   "id": "b8764800",
   "metadata": {
    "ExecuteTime": {
     "end_time": "2022-03-09T03:26:16.231962Z",
     "start_time": "2022-03-09T03:26:16.217128Z"
    }
   },
   "outputs": [
    {
     "name": "stdout",
     "output_type": "stream",
     "text": [
      "[0, 1, 2, 3, 4, 5, 6]\n"
     ]
    }
   ],
   "source": [
    "lst = [i for i in range(7)]\n",
    "print(lst)"
   ]
  },
  {
   "cell_type": "code",
   "execution_count": 26,
   "id": "871e42b1",
   "metadata": {
    "ExecuteTime": {
     "end_time": "2022-03-09T03:31:14.789206Z",
     "start_time": "2022-03-09T03:31:14.766664Z"
    }
   },
   "outputs": [
    {
     "name": "stdout",
     "output_type": "stream",
     "text": [
      "[1, 5]\n"
     ]
    }
   ],
   "source": [
    "n = 5\n",
    "lst = [i for i in range(1,n+1) if n%i==0]\n",
    "print(lst)"
   ]
  },
  {
   "cell_type": "code",
   "execution_count": 30,
   "id": "2cccdd6a",
   "metadata": {
    "ExecuteTime": {
     "end_time": "2022-03-09T03:41:17.502381Z",
     "start_time": "2022-03-09T03:41:15.421022Z"
    }
   },
   "outputs": [
    {
     "name": "stdout",
     "output_type": "stream",
     "text": [
      "-> Masukkan nilai : 4\n",
      "[3, 4, 9, 8]\n"
     ]
    }
   ],
   "source": [
    "n = int(input(\"-> Masukkan nilai : \"))\n",
    "lst = [2*i if i%2==0 else 3*i for i in range(1,n+1) ]\n",
    "print(lst)"
   ]
  },
  {
   "cell_type": "code",
   "execution_count": 2,
   "id": "8657fbd0",
   "metadata": {
    "ExecuteTime": {
     "end_time": "2022-03-09T04:42:27.091646Z",
     "start_time": "2022-03-09T04:42:27.054846Z"
    }
   },
   "outputs": [
    {
     "name": "stdout",
     "output_type": "stream",
     "text": [
      "ruojnoB\n"
     ]
    }
   ],
   "source": [
    "\n",
    "def reverseWrd(wrd) :\n",
    "    wrl = st.stack()\n",
    "    wrn = \"\"\n",
    "    for w in wrd :\n",
    "        st.push(wrl,w)\n",
    "\n",
    "    for i in range(len(wrl)) :\n",
    "        wr = st.pop(wrl)\n",
    "        wrn+=wr\n",
    "\n",
    "    return wrn\n",
    "\n",
    "wrd = \"Bonjour\"\n",
    "print(reverseWrd(wrd))"
   ]
  },
  {
   "cell_type": "code",
   "execution_count": 7,
   "id": "1e926d50",
   "metadata": {
    "ExecuteTime": {
     "end_time": "2022-03-09T04:46:54.064102Z",
     "start_time": "2022-03-09T04:46:54.001828Z"
    }
   },
   "outputs": [
    {
     "name": "stdout",
     "output_type": "stream",
     "text": [
      "[]\n"
     ]
    },
    {
     "data": {
      "text/plain": [
       "True"
      ]
     },
     "execution_count": 7,
     "metadata": {},
     "output_type": "execute_result"
    }
   ],
   "source": [
    "import sys\n",
    "sys.path.append(\"..\")\n",
    "\n",
    "from modules import stack as st\n",
    "\n",
    "\n",
    "def cekKurung(stOp):\n",
    "    data=st.stack()\n",
    "    kurungBuka  = ['{','[','(']\n",
    "    kurungTutup = ['}',']',')']\n",
    "    for s in stOp:\n",
    "        if s in kurungBuka and s == kurungBuka :\n",
    "            st.push(data,s)\n",
    "        elif s == kurungTutup :\n",
    "            if st.isEmpty(data):\n",
    "                return 'kelebihan kurung tutup'\n",
    "            else:\n",
    "                st.pop(data)\n",
    "    print(data)\n",
    "    if st.isEmpty(data):\n",
    "        return True\n",
    "    else:\n",
    "        return 'Kelebihan kurung buka'\n",
    "\n",
    "checkParentheses(\"5x2x(6x7)+26{]()(())\")"
   ]
  },
  {
   "cell_type": "code",
   "execution_count": null,
   "id": "6cc11124",
   "metadata": {},
   "outputs": [],
   "source": []
  }
 ],
 "metadata": {
  "kernelspec": {
   "display_name": "Python 3 (ipykernel)",
   "language": "python",
   "name": "python3"
  },
  "language_info": {
   "codemirror_mode": {
    "name": "ipython",
    "version": 3
   },
   "file_extension": ".py",
   "mimetype": "text/x-python",
   "name": "python",
   "nbconvert_exporter": "python",
   "pygments_lexer": "ipython3",
   "version": "3.9.7"
  },
  "latex_envs": {
   "LaTeX_envs_menu_present": true,
   "autoclose": false,
   "autocomplete": true,
   "bibliofile": "biblio.bib",
   "cite_by": "apalike",
   "current_citInitial": 1,
   "eqLabelWithNumbers": true,
   "eqNumInitial": 1,
   "hotkeys": {
    "equation": "Ctrl-E",
    "itemize": "Ctrl-I"
   },
   "labels_anchors": false,
   "latex_user_defs": false,
   "report_style_numbering": false,
   "user_envs_cfg": false
  },
  "toc": {
   "base_numbering": 1,
   "nav_menu": {},
   "number_sections": true,
   "sideBar": true,
   "skip_h1_title": false,
   "title_cell": "Table of Contents",
   "title_sidebar": "Contents",
   "toc_cell": false,
   "toc_position": {},
   "toc_section_display": true,
   "toc_window_display": false
  },
  "varInspector": {
   "cols": {
    "lenName": 16,
    "lenType": 16,
    "lenVar": 40
   },
   "kernels_config": {
    "python": {
     "delete_cmd_postfix": "",
     "delete_cmd_prefix": "del ",
     "library": "var_list.py",
     "varRefreshCmd": "print(var_dic_list())"
    },
    "r": {
     "delete_cmd_postfix": ") ",
     "delete_cmd_prefix": "rm(",
     "library": "var_list.r",
     "varRefreshCmd": "cat(var_dic_list()) "
    }
   },
   "oldHeight": 204.844,
   "position": {
    "height": "226.844px",
    "left": "996px",
    "right": "20px",
    "top": "120px",
    "width": "350px"
   },
   "types_to_exclude": [
    "module",
    "function",
    "builtin_function_or_method",
    "instance",
    "_Feature"
   ],
   "varInspector_section_display": "block",
   "window_display": true
  }
 },
 "nbformat": 4,
 "nbformat_minor": 5
}
