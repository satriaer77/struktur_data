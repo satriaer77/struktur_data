{
 "cells": [
  {
   "cell_type": "markdown",
   "metadata": {
    "id": "IzwFUemp9A4l"
   },
   "source": [
    "#2.1 Searching"
   ]
  },
  {
   "cell_type": "code",
   "execution_count": 9,
   "metadata": {
    "ExecuteTime": {
     "end_time": "2022-05-30T10:38:05.764603Z",
     "start_time": "2022-05-30T10:38:05.719354Z"
    },
    "id": "32eOrSKm46qb"
   },
   "outputs": [],
   "source": [
    "# mengimport function randint\n",
    "from random import randint\n",
    "\n",
    "# mengenerate n bil bulat 1 s/d n\n",
    "def Data(n):\n",
    "    List = []\n",
    "    for ch in range(n):\n",
    "        data = randint(1,n)\n",
    "        if data not in List :\n",
    "            List.append(data)\n",
    "    return List\n",
    "\n",
    "def insertionSort(listData):\n",
    "    for outIter in range(1,len(listData)):\n",
    "        key=listData[outIter]\n",
    "        ind=outIter\n",
    "        while (ind>0 and listData[ind-1]>key):\n",
    "            listData[ind]=listData[ind-1]\n",
    "            ind=ind-1\n",
    "            listData[ind]=key\n",
    "    return listData\n",
    "\n",
    "def seqSearch(li,src):\n",
    "    i=0\n",
    "    cont=[]\n",
    "    while i < len(li):\n",
    "        if li[i]==src: \n",
    "          cont.append(i)\n",
    "        i += 1\n",
    "    if cont==[]:\n",
    "        return \"{} is Not Found\".format(src)\n",
    "    else :\n",
    "        return \"{} is in : {}\".format(src,cont)\n",
    "\n",
    "def orderedSearch(listData, data):\n",
    "    ind=0\n",
    "    search = []\n",
    "    while ind < len(listData) and listData[ind] <= data:\n",
    "        if listData[ind] == data:\n",
    "            search.append(ind)\n",
    "        ind += 1\n",
    "    if len(search) == 0:\n",
    "        return \"{} is not found , numberOfIteraation : {}\".format(data,ind)\n",
    "    else :\n",
    "        return \"{} is in {} , numberOfIteraation : {}\".format(data,search,ind)\n",
    "\n",
    "def binarySearch(listData, data):\n",
    "    first = 0\n",
    "    last = len(listData) - 1\n",
    "    found = False\n",
    "    ind = 0\n",
    "    while first <= last and not found:\n",
    "        midpoint = (first + last) // 2\n",
    "        if listData[midpoint] == data:\n",
    "            found = True\n",
    "        elif listData[midpoint] > data:\n",
    "            last = midpoint - 1\n",
    "        else:\n",
    "            first = midpoint + 1\n",
    "        ind += 1\n",
    "\n",
    "    if found :\n",
    "        return \"{} is in : {} , numberOfItaration : {}\".format(data,midpoint,ind)\n",
    "    else :\n",
    "        return \"{} is not found , numberOfItaration : {}\".format(data,ind)"
   ]
  },
  {
   "cell_type": "code",
   "execution_count": 5,
   "metadata": {
    "ExecuteTime": {
     "end_time": "2022-05-30T10:31:34.595767Z",
     "start_time": "2022-05-30T10:31:34.585884Z"
    }
   },
   "outputs": [
    {
     "name": "stdout",
     "output_type": "stream",
     "text": [
      "[559, 155, 16, 197, 509, 446, 166, 135, 174, 234, 54, 599, 526, 10, 190, 539, 140, 372, 151, 116, 415, 479, 553, 81, 364, 478, 382, 520, 112, 361, 371, 533, 391, 228, 177, 322, 356, 207, 386, 508, 365, 115, 590, 384, 196, 25, 329, 232, 21, 50, 276, 161, 32, 301, 532, 296, 97, 246, 535, 181, 137, 79, 82, 110, 160, 286, 264, 441, 396, 504, 452, 153, 281, 23, 440, 455, 548, 311, 237, 64, 210, 341, 148, 582, 195, 591, 224, 144, 443, 507, 204, 251, 525, 505, 277, 109, 158, 83, 312, 324, 274, 187, 113, 598, 8, 419, 522, 442, 394, 294, 482, 1, 269, 191, 141, 576, 460, 531, 534, 271, 543, 131, 66, 59, 91, 17, 229, 530, 573, 283, 214, 487, 262, 213, 254, 378, 318, 7, 85, 145, 233, 511, 546, 122, 101, 502, 218, 521, 225, 146, 472, 438, 29, 593, 357, 467, 209, 369, 351, 211, 265, 337, 238, 257, 412, 105, 500, 249, 73, 98, 413, 56, 291, 206, 359, 186, 287, 447, 346, 473, 575, 408, 289, 336, 439, 395, 147, 63, 510, 414, 592, 51, 157, 363, 93, 589, 120, 26, 550, 574, 107, 309, 152, 149, 370, 305, 564, 544, 35, 180, 55, 84, 483, 490, 171, 72, 302, 247, 244, 495, 423, 410, 454, 475, 331, 376, 41, 459, 542, 24, 486, 445, 465, 179, 13, 169, 184, 102, 402, 285, 95, 457, 514, 86, 168, 432, 581, 563, 568, 125, 537, 290, 275, 344, 163, 68, 38, 332, 154, 78, 374, 104, 349, 92, 45, 518, 570, 261, 53, 519, 366, 150, 182, 325, 121, 11, 87, 456, 401, 425, 36, 393, 561, 239, 491, 429, 19, 303, 75, 451, 297, 321, 215, 47, 15, 405, 584, 284, 256, 128, 499, 474, 493, 201, 580, 427, 99, 138, 342, 31, 541, 258, 579, 293, 57, 139, 136, 339, 243, 280, 421, 549, 406, 403, 198, 193, 367, 259, 94, 373, 587, 585, 2, 4, 328, 272, 327, 130, 103, 268, 528, 220, 111, 343, 434, 555, 156, 77, 516, 492, 194, 480, 164, 90, 217, 267, 462, 354, 188, 183, 477, 278, 350, 52, 235, 127, 172, 253, 470, 221, 512, 69, 397, 420, 416, 292, 255, 538, 362, 89, 583, 381, 71, 428, 212, 501, 547, 383, 513, 333, 377, 433, 572, 409, 231, 566, 304, 557, 444, 96, 488, 463, 203, 345, 67, 489, 577, 506, 142, 569, 61, 422, 173, 338, 74, 471, 407, 3, 464, 313, 326, 108, 450, 319, 132, 176, 436, 594, 216, 453, 241, 202, 355, 22, 558, 387, 175, 540, 30, 189, 18, 529, 299, 223, 469, 80, 192, 388, 266, 240, 42, 208, 227, 40, 340, 288, 310, 236, 458, 565, 496, 48, 524, 375, 385, 88, 263, 578, 300, 330, 185, 199, 352, 49, 282, 65, 515, 27, 46, 298, 360, 252, 562, 34, 119, 295, 306, 134, 170, 448, 260, 567, 430, 398, 316, 317, 379, 494, 167, 60]\n"
     ]
    }
   ],
   "source": [
    "import random\n",
    "\n",
    "l = random.sample(range(600), 500)\n",
    "print(l)"
   ]
  },
  {
   "cell_type": "code",
   "execution_count": 11,
   "metadata": {
    "ExecuteTime": {
     "end_time": "2022-05-30T10:38:30.569621Z",
     "start_time": "2022-05-30T10:38:30.542858Z"
    },
    "colab": {
     "base_uri": "https://localhost:8080/"
    },
    "id": "HS3Chn065iDn",
    "outputId": "5d5899c9-d7e9-431c-aa4d-dccef8638b74"
   },
   "outputs": [
    {
     "name": "stdout",
     "output_type": "stream",
     "text": [
      "Data =  [439, 61, 174, 312, 264, 495, 246, 119, 35, 201, 421, 423, 348, 357, 411, 296, 374, 386, 453, 319, 185, 234, 128, 140, 332, 50, 52, 440, 338, 463, 499, 139, 363, 87, 186, 433, 110, 112, 117, 167, 307, 105, 280, 149, 469, 376, 395, 195, 366, 129, 485, 107, 431, 279, 427, 478, 221, 387, 116, 466, 36, 91, 293, 460, 33, 367, 214, 233, 198, 488, 500, 269, 315, 483, 339, 172, 377, 399, 6, 373, 181, 62, 462, 308, 170, 381, 425, 226, 53, 251, 476, 464, 25, 204, 334, 17, 443, 459, 290, 47, 256, 219, 144, 342, 345, 231, 70, 130, 104, 210, 372, 383, 71, 45, 122, 394, 21, 333, 66, 324, 199, 8, 314, 22, 407, 494, 1, 14, 247, 405, 271, 64, 446, 127, 34, 77, 321, 32, 457, 283, 468, 489, 74, 57, 350, 20, 89, 142, 211, 27, 273, 13, 414, 152, 382, 426, 109, 304, 491, 202, 120, 208, 31, 150, 125, 364, 173, 108, 352, 123, 355, 121, 302, 252, 418, 388, 113, 16, 429, 419, 39, 323, 265, 392, 46, 179, 255, 472, 240, 369, 157, 305, 188, 361, 67, 207, 343, 451, 471, 229, 177, 424, 30, 465, 92, 477, 10, 492, 133, 98, 288, 155, 29, 191, 356, 158, 215, 4, 371, 320, 15, 303, 83, 359, 182, 44, 51, 159, 490, 438, 385, 75, 88, 298, 389, 165, 175, 336, 391, 340, 147, 484, 254, 277, 42, 58, 135, 84, 450, 486, 78, 498, 141, 137, 86, 196, 384, 467, 444, 360, 409, 447, 178, 132, 5, 126, 275, 249, 124, 90, 217, 330, 99, 209, 76, 40, 189, 267, 480, 326, 417, 239, 69, 475, 329, 259, 220, 81, 327, 166, 449, 368, 156, 379, 138, 213, 102, 270, 474, 7, 55, 9, 300, 154, 194, 413, 151, 325, 291, 428, 206, 445, 228, 12, 448, 435, 375, 430] \n",
      "\n",
      "100 is Not Found\n",
      "20 is in : [145]\n",
      "500 is in : [70]\n"
     ]
    }
   ],
   "source": [
    "data = Data(500)\n",
    "print(\"Data = \", data,\"\\n\")\n",
    "print(seqSearch(data,100))\n",
    "print(seqSearch(data,20))\n",
    "print(seqSearch(data,500))"
   ]
  },
  {
   "cell_type": "code",
   "execution_count": 13,
   "metadata": {
    "ExecuteTime": {
     "end_time": "2022-05-30T10:38:59.111018Z",
     "start_time": "2022-05-30T10:38:59.088262Z"
    },
    "colab": {
     "base_uri": "https://localhost:8080/"
    },
    "id": "P3RFMfQx6YRO",
    "outputId": "8d092ae5-0b1e-448d-ceed-e28e77ccfef4"
   },
   "outputs": [
    {
     "name": "stdout",
     "output_type": "stream",
     "text": [
      "Data =  [1, 4, 5, 6, 7, 8, 9, 10, 12, 13, 14, 15, 16, 17, 20, 21, 22, 25, 27, 29, 30, 31, 32, 33, 34, 35, 36, 39, 40, 42, 44, 45, 46, 47, 50, 51, 52, 53, 55, 57, 58, 61, 62, 64, 66, 67, 69, 70, 71, 74, 75, 76, 77, 78, 81, 83, 84, 86, 87, 88, 89, 90, 91, 92, 98, 99, 102, 104, 105, 107, 108, 109, 110, 112, 113, 116, 117, 119, 120, 121, 122, 123, 124, 125, 126, 127, 128, 129, 130, 132, 133, 135, 137, 138, 139, 140, 141, 142, 144, 147, 149, 150, 151, 152, 154, 155, 156, 157, 158, 159, 165, 166, 167, 170, 172, 173, 174, 175, 177, 178, 179, 181, 182, 185, 186, 188, 189, 191, 194, 195, 196, 198, 199, 201, 202, 204, 206, 207, 208, 209, 210, 211, 213, 214, 215, 217, 219, 220, 221, 226, 228, 229, 231, 233, 234, 239, 240, 246, 247, 249, 251, 252, 254, 255, 256, 259, 264, 265, 267, 269, 270, 271, 273, 275, 277, 279, 280, 283, 288, 290, 291, 293, 296, 298, 300, 302, 303, 304, 305, 307, 308, 312, 314, 315, 319, 320, 321, 323, 324, 325, 326, 327, 329, 330, 332, 333, 334, 336, 338, 339, 340, 342, 343, 345, 348, 350, 352, 355, 356, 357, 359, 360, 361, 363, 364, 366, 367, 368, 369, 371, 372, 373, 374, 375, 376, 377, 379, 381, 382, 383, 384, 385, 386, 387, 388, 389, 391, 392, 394, 395, 399, 405, 407, 409, 411, 413, 414, 417, 418, 419, 421, 423, 424, 425, 426, 427, 428, 429, 430, 431, 433, 435, 438, 439, 440, 443, 444, 445, 446, 447, 448, 449, 450, 451, 453, 457, 459, 460, 462, 463, 464, 465, 466, 467, 468, 469, 471, 472, 474, 475, 476, 477, 478, 480, 483, 484, 485, 486, 488, 489, 490, 491, 492, 494, 495, 498, 499, 500] \n",
      "\n",
      "1 is in [0] , numberOfIteraation : 1\n",
      "25 is in [17] , numberOfIteraation : 18\n",
      "100 is not found , numberOfIteraation : 66\n",
      "20 is in [14] , numberOfIteraation : 15\n",
      "500 is in [317] , numberOfIteraation : 318\n"
     ]
    }
   ],
   "source": [
    "insertionSort(data)\n",
    "print(\"Data = \", data,\"\\n\")\n",
    "print(orderedSearch(data,1))\n",
    "print(orderedSearch(data,25))\n",
    "print(orderedSearch(data,100))\n",
    "print(orderedSearch(data,20))\n",
    "print(orderedSearch(data,500))"
   ]
  },
  {
   "cell_type": "code",
   "execution_count": 12,
   "metadata": {
    "ExecuteTime": {
     "end_time": "2022-05-30T10:38:36.830661Z",
     "start_time": "2022-05-30T10:38:36.787179Z"
    },
    "colab": {
     "base_uri": "https://localhost:8080/"
    },
    "id": "Lf_4mDFu74He",
    "outputId": "3b63fa11-9f20-4050-c8c6-4e3c5465767c"
   },
   "outputs": [
    {
     "name": "stdout",
     "output_type": "stream",
     "text": [
      "Data =  [1, 4, 5, 6, 7, 8, 9, 10, 12, 13, 14, 15, 16, 17, 20, 21, 22, 25, 27, 29, 30, 31, 32, 33, 34, 35, 36, 39, 40, 42, 44, 45, 46, 47, 50, 51, 52, 53, 55, 57, 58, 61, 62, 64, 66, 67, 69, 70, 71, 74, 75, 76, 77, 78, 81, 83, 84, 86, 87, 88, 89, 90, 91, 92, 98, 99, 102, 104, 105, 107, 108, 109, 110, 112, 113, 116, 117, 119, 120, 121, 122, 123, 124, 125, 126, 127, 128, 129, 130, 132, 133, 135, 137, 138, 139, 140, 141, 142, 144, 147, 149, 150, 151, 152, 154, 155, 156, 157, 158, 159, 165, 166, 167, 170, 172, 173, 174, 175, 177, 178, 179, 181, 182, 185, 186, 188, 189, 191, 194, 195, 196, 198, 199, 201, 202, 204, 206, 207, 208, 209, 210, 211, 213, 214, 215, 217, 219, 220, 221, 226, 228, 229, 231, 233, 234, 239, 240, 246, 247, 249, 251, 252, 254, 255, 256, 259, 264, 265, 267, 269, 270, 271, 273, 275, 277, 279, 280, 283, 288, 290, 291, 293, 296, 298, 300, 302, 303, 304, 305, 307, 308, 312, 314, 315, 319, 320, 321, 323, 324, 325, 326, 327, 329, 330, 332, 333, 334, 336, 338, 339, 340, 342, 343, 345, 348, 350, 352, 355, 356, 357, 359, 360, 361, 363, 364, 366, 367, 368, 369, 371, 372, 373, 374, 375, 376, 377, 379, 381, 382, 383, 384, 385, 386, 387, 388, 389, 391, 392, 394, 395, 399, 405, 407, 409, 411, 413, 414, 417, 418, 419, 421, 423, 424, 425, 426, 427, 428, 429, 430, 431, 433, 435, 438, 439, 440, 443, 444, 445, 446, 447, 448, 449, 450, 451, 453, 457, 459, 460, 462, 463, 464, 465, 466, 467, 468, 469, 471, 472, 474, 475, 476, 477, 478, 480, 483, 484, 485, 486, 488, 489, 490, 491, 492, 494, 495, 498, 499, 500] \n",
      "\n",
      "1 is in : 0 , numberOfItaration : 8\n",
      "31 is in : 21 , numberOfItaration : 8\n",
      "254 is in : 162 , numberOfItaration : 9\n",
      "1320 is not found , numberOfItaration : 9\n"
     ]
    }
   ],
   "source": [
    "insertionSort(data)\n",
    "print(\"Data = \", data,\"\\n\")\n",
    "print(binarySearch(data,1))\n",
    "print(binarySearch(data,31))\n",
    "print(binarySearch(data,254))\n",
    "print(binarySearch(data,1320))"
   ]
  },
  {
   "cell_type": "code",
   "execution_count": null,
   "metadata": {},
   "outputs": [],
   "source": []
  }
 ],
 "metadata": {
  "colab": {
   "name": "210411100082_Modul8_Searching.ipynb",
   "provenance": []
  },
  "kernelspec": {
   "display_name": "Python 3 (ipykernel)",
   "language": "python",
   "name": "python3"
  },
  "language_info": {
   "codemirror_mode": {
    "name": "ipython",
    "version": 3
   },
   "file_extension": ".py",
   "mimetype": "text/x-python",
   "name": "python",
   "nbconvert_exporter": "python",
   "pygments_lexer": "ipython3",
   "version": "3.9.7"
  },
  "latex_envs": {
   "LaTeX_envs_menu_present": true,
   "autoclose": false,
   "autocomplete": true,
   "bibliofile": "biblio.bib",
   "cite_by": "apalike",
   "current_citInitial": 1,
   "eqLabelWithNumbers": true,
   "eqNumInitial": 1,
   "hotkeys": {
    "equation": "Ctrl-E",
    "itemize": "Ctrl-I"
   },
   "labels_anchors": false,
   "latex_user_defs": false,
   "report_style_numbering": false,
   "user_envs_cfg": false
  },
  "toc": {
   "base_numbering": 1,
   "nav_menu": {},
   "number_sections": true,
   "sideBar": true,
   "skip_h1_title": false,
   "title_cell": "Table of Contents",
   "title_sidebar": "Contents",
   "toc_cell": false,
   "toc_position": {},
   "toc_section_display": true,
   "toc_window_display": false
  },
  "varInspector": {
   "cols": {
    "lenName": 16,
    "lenType": 16,
    "lenVar": 40
   },
   "kernels_config": {
    "python": {
     "delete_cmd_postfix": "",
     "delete_cmd_prefix": "del ",
     "library": "var_list.py",
     "varRefreshCmd": "print(var_dic_list())"
    },
    "r": {
     "delete_cmd_postfix": ") ",
     "delete_cmd_prefix": "rm(",
     "library": "var_list.r",
     "varRefreshCmd": "cat(var_dic_list()) "
    }
   },
   "types_to_exclude": [
    "module",
    "function",
    "builtin_function_or_method",
    "instance",
    "_Feature"
   ],
   "window_display": false
  }
 },
 "nbformat": 4,
 "nbformat_minor": 1
}
