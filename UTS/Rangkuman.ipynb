{
 "cells": [
  {
   "cell_type": "markdown",
   "id": "7fdf0e1e",
   "metadata": {},
   "source": [
    "# Stack"
   ]
  },
  {
   "cell_type": "code",
   "execution_count": 1,
   "id": "e79c73ea",
   "metadata": {
    "ExecuteTime": {
     "end_time": "2022-04-20T22:48:11.837774Z",
     "start_time": "2022-04-20T22:48:11.810467Z"
    }
   },
   "outputs": [],
   "source": [
    "def createStack() :\n",
    "    stck = []\n",
    "    return stck\n",
    "\n",
    "def push(s,data) :\n",
    "    s.append(data)\n",
    "\n",
    "def pop(s) :\n",
    "    dt = s.pop()\n",
    "    return dt\n",
    "\n",
    "def peek(s) :\n",
    "    return s[len(s)-1]\n",
    "\n",
    "def isEmpty(s) :\n",
    "    return s==[]\n",
    "\n",
    "def size(s) :\n",
    "    return len(s)\n"
   ]
  },
  {
   "cell_type": "markdown",
   "id": "aa9a19cd",
   "metadata": {},
   "source": [
    "# Queue"
   ]
  },
  {
   "cell_type": "code",
   "execution_count": 130,
   "id": "a7e8aa5a",
   "metadata": {
    "ExecuteTime": {
     "end_time": "2022-04-20T05:08:10.926360Z",
     "start_time": "2022-04-20T05:08:10.908865Z"
    }
   },
   "outputs": [],
   "source": [
    "def createQueue() :\n",
    "    return []\n",
    "\n",
    "def enqueue(q,data):\n",
    "    q.append(data)\n",
    "    return(q)\n",
    "\n",
    "def dequeue(q):\n",
    "    data=q.pop(0)\n",
    "    return(data)\n",
    "\n",
    "def isEmpty(q):\n",
    "    return (q==[])\n",
    "\n",
    "def size(q):\n",
    "    return (len(q))\n"
   ]
  },
  {
   "cell_type": "markdown",
   "id": "ab9cdb55",
   "metadata": {},
   "source": [
    "# Deque"
   ]
  },
  {
   "cell_type": "code",
   "execution_count": 5,
   "id": "aee4752a",
   "metadata": {
    "ExecuteTime": {
     "end_time": "2022-04-20T02:10:14.255685Z",
     "start_time": "2022-04-20T02:10:14.239816Z"
    }
   },
   "outputs": [],
   "source": [
    "def createDeque() :\n",
    "    return []\n",
    "\n",
    "def addFront(d,val) :\n",
    "    d.insert(0,val)\n",
    "    return d\n",
    "\n",
    "def addRear(d,val) :\n",
    "    d.append(val)\n",
    "    return d\n",
    "\n",
    "def removeFront(d) :\n",
    "    val = d.pop(0)\n",
    "    return val\n",
    "\n",
    "def removeRear(d) :\n",
    "    val = d.pop()\n",
    "    return val\n",
    "\n",
    "def isEmpty(d) :\n",
    "    return d==[]\n",
    "\n",
    "def size(d) :\n",
    "    return len(d)\n"
   ]
  },
  {
   "cell_type": "markdown",
   "id": "ee181f41",
   "metadata": {},
   "source": [
    "# Bubble Sort"
   ]
  },
  {
   "cell_type": "code",
   "execution_count": 7,
   "id": "c624c818",
   "metadata": {
    "ExecuteTime": {
     "end_time": "2022-04-20T02:10:26.029518Z",
     "start_time": "2022-04-20T02:10:26.000338Z"
    }
   },
   "outputs": [
    {
     "name": "stdout",
     "output_type": "stream",
     "text": [
      "[1, 7, 9, 10]\n"
     ]
    }
   ],
   "source": [
    "def bubbleSort(nums,sortBy=\"Ascending\") :\n",
    "    \n",
    "    if sortBy == \"Ascending\" :\n",
    "        for i in range (len(nums)-1): \n",
    "            for j in range(len(nums)-1-i) :\n",
    "                if nums[j] > nums[j+1] :\n",
    "                    nums[j],nums[j+1] = nums[j+1],nums[j]\n",
    "                    \n",
    "    elif sortBy == \"Descending\" :\n",
    "        for i in range (len(nums)-1): \n",
    "            \n",
    "            for j in range(len(nums)-1-i) : \n",
    "                if nums[j] < nums[j+1] :\n",
    "                    nums[j],nums[j+1] = nums[j+1],nums[j]\n",
    "                \n",
    "                \n",
    "    return nums\n",
    "\n",
    "print(bubbleSort([9,10,1,7] ,\"Ascending\"))"
   ]
  },
  {
   "cell_type": "markdown",
   "id": "1888840e",
   "metadata": {},
   "source": [
    "# Parentheses Checking"
   ]
  },
  {
   "cell_type": "code",
   "execution_count": 129,
   "id": "85323a75",
   "metadata": {
    "ExecuteTime": {
     "end_time": "2022-04-20T05:05:28.290846Z",
     "start_time": "2022-04-20T05:05:28.215550Z"
    }
   },
   "outputs": [
    {
     "name": "stdout",
     "output_type": "stream",
     "text": [
      "[]\n",
      "\n",
      " { Tidak cocok dengan ) dan Kelebihan 3 Kurung Tutup\n"
     ]
    }
   ],
   "source": [
    "from modules import stack2 as st\n",
    "\n",
    "def bacaOperator(strOp,stackOp) :\n",
    "    print(\"\"\"\n",
    "Baca \" %s \"\n",
    "Stack :\n",
    " \"\"\" % (strOp))\n",
    "    \n",
    "    for sto in stackOp :\n",
    "        print(\"| %s |\" % (sto) )\n",
    "\n",
    "    print(\"-----\")\n",
    "     \n",
    "    \n",
    "    \n",
    "def checkParentheses(strOp) :\n",
    "    stKurung    = st.createStack()\n",
    "    kurungBuka  = (\"(\",\"[\",\"{\")\n",
    "    kurungTutup = (\")\",\"]\",\"}\")\n",
    "    temp        = ''\n",
    "    tmp         = ''\n",
    "    matched     = True\n",
    "    ttl         = 0\n",
    "    krt         = False\n",
    "    \n",
    "    for so in strOp :\n",
    "       \n",
    "        if so in kurungBuka :\n",
    "            st.push(stKurung,so)\n",
    "            #bacaOperator(so,stKurung)\n",
    "            \n",
    "        elif so in kurungTutup :\n",
    "            #bacaOperator(so,stKurung)\n",
    "            if not(st.isEmpty(stKurung)) :\n",
    "                \n",
    "                if kurungBuka.index(st.peek(stKurung)) == kurungTutup.index(so) :\n",
    "                    stTmp=st.pop(stKurung)\n",
    "                    matched = matched and True\n",
    "                else :\n",
    "                    stTmp   = st.pop(stKurung)\n",
    "                    matched = matched and False\n",
    "                    tmp     = so\n",
    "                    temp    = stTmp\n",
    "                    \n",
    "            else :\n",
    "                #print(ttl)\n",
    "                krt = True\n",
    "                ttl+=1\n",
    "                \n",
    "   \n",
    "    print(stKurung)\n",
    "    if st.isEmpty(stKurung) and matched and not(krt) :\n",
    "        return \"OK\"\n",
    "    elif st.isEmpty(stKurung) and not(matched) and not(krt) :\n",
    "        return temp+\" Tidak cocok dengan \"+tmp\n",
    "    elif not(st.isEmpty(stKurung)) :\n",
    "        if matched :\n",
    "            return \"Kelebihan %d Kurung Buka\" % (ttl)\n",
    "        else :\n",
    "            return \"%s Tidak cocok dengan %s dan Kelebihan %d Kurung Buka\" % (temp,tmp,ttl)\n",
    "    elif st.isEmpty(stKurung) and krt :\n",
    "        if matched :\n",
    "            return \"Kelebihan %d Kurung Tutup\" % (ttl)\n",
    "        else :\n",
    "            return \"%s Tidak cocok dengan %s dan Kelebihan %d Kurung Tutup\" % (temp,tmp,ttl)\n",
    "    \n",
    "print(\"\\n\",checkParentheses(\"{((4+5)))\"))"
   ]
  },
  {
   "cell_type": "markdown",
   "id": "a447f3fa",
   "metadata": {},
   "source": [
    "# Infix to Prefix"
   ]
  },
  {
   "cell_type": "code",
   "execution_count": 67,
   "id": "847a6fd1",
   "metadata": {
    "ExecuteTime": {
     "end_time": "2022-04-20T03:44:10.325294Z",
     "start_time": "2022-04-20T03:44:10.278161Z"
    }
   },
   "outputs": [
    {
     "name": "stdout",
     "output_type": "stream",
     "text": [
      "1+7*2\n",
      "Prefix :  +*271\n",
      "(1+7)*2\n",
      "Prefix :  *2+71\n"
     ]
    }
   ],
   "source": [
    "from modules import stack as st\n",
    "\n",
    "def reverseWrd(wrd) :\n",
    "    wrl = st.stack()\n",
    "    wrn = \"\"\n",
    "    for w in wrd :\n",
    "        st.push(wrl,w)\n",
    "\n",
    "    for i in range(len(wrl)) :\n",
    "        wr = st.pop(wrl)\n",
    "        if wr == \")\" :\n",
    "            wrn+=\"(\"\n",
    "        elif wr == \"(\" :\n",
    "            wrn+=\")\"\n",
    "        else :\n",
    "            wrn+=wr\n",
    "\n",
    "    return wrn\n",
    "\n",
    "def convertPrefix(strOp) :\n",
    "    strOp      = reverseWrd(strOp)\n",
    "    print(strOp)\n",
    "    stOperator = st.stack()\n",
    "    kurung     = (\"(\",\")\")\n",
    "    operator   = {\"+\":0,\"-\":0,\"*\":1,\"/\":1}\n",
    "    strRes     = \"\"\n",
    "    \n",
    "    for sto in strOp :\n",
    "        if sto not in operator.keys() and sto not in kurung :\n",
    "            strRes=sto+strRes\n",
    "        \n",
    "        elif sto == kurung[0] :\n",
    "            st.push(stOperator,sto)\n",
    "            \n",
    "        elif sto == kurung[1] :\n",
    "            while st.peek(stOperator) != kurung[0] :\n",
    "                strRes=st.pop(stOperator)+strRes\n",
    "            st.pop(stOperator)\n",
    "            \n",
    "            \n",
    "        elif sto in operator.keys() :\n",
    "            while not(st.isEmpty(stOperator)) and st.peek(stOperator) != kurung[0] and operator[st.peek(stOperator)] >= operator[sto] :   \n",
    "                strRes=st.pop(stOperator)+strRes\n",
    "            st.push(stOperator,sto)\n",
    "        \n",
    "            \n",
    "    while not(st.isEmpty(stOperator)) :\n",
    "        strRes=st.pop(stOperator)+strRes\n",
    "            \n",
    "            \n",
    "    return strRes\n",
    "\n",
    "\n",
    "print(\"Prefix : \",convertPrefix(\"2*7+1\"))\n",
    "print(\"Prefix : \",convertPrefix(\"2*(7+1)\"))"
   ]
  },
  {
   "cell_type": "markdown",
   "id": "40ae7885",
   "metadata": {},
   "source": [
    "# Infix to Postfix"
   ]
  },
  {
   "cell_type": "code",
   "execution_count": 1,
   "id": "bacef7a7",
   "metadata": {
    "ExecuteTime": {
     "end_time": "2022-04-20T01:42:48.260255Z",
     "start_time": "2022-04-20T01:42:48.219964Z"
    },
    "scrolled": true
   },
   "outputs": [
    {
     "name": "stdout",
     "output_type": "stream",
     "text": [
      "Postfix :  27*1+\n",
      "Postfix :  271+*\n"
     ]
    }
   ],
   "source": [
    "from modules import stack as st\n",
    "\n",
    "\n",
    "def convertPostfix(strOp) :\n",
    "    stOperator = st.stack()\n",
    "    kurung     = (\"(\",\")\")\n",
    "    operator   = {\"+\":0,\"-\":0,\"*\":1,\"/\":1}\n",
    "    strRes     = \"\"\n",
    "    \n",
    "    for sto in strOp :\n",
    "        if sto not in operator.keys() and sto not in kurung :\n",
    "            strRes+=sto\n",
    "        \n",
    "        elif sto == kurung[0] :\n",
    "            st.push(stOperator,sto)\n",
    "            \n",
    "        elif sto == kurung[1] :\n",
    "            while st.peek(stOperator) != kurung[0] :\n",
    "                strRes+=st.pop(stOperator)\n",
    "            st.pop(stOperator)\n",
    "            \n",
    "            \n",
    "        elif sto in operator.keys() :\n",
    "            while not(st.isEmpty(stOperator)) and st.peek(stOperator) != kurung[0] and operator[st.peek(stOperator)] >= operator[sto] :   \n",
    "                strRes+=st.pop(stOperator)\n",
    "            st.push(stOperator,sto)\n",
    "        \n",
    "            \n",
    "    while not(st.isEmpty(stOperator)) :\n",
    "        strRes+=st.pop(stOperator)\n",
    "            \n",
    "            \n",
    "    return strRes\n",
    "\n",
    "\n",
    "print(\"Postfix : \",convertPostfix(\"2*7+1\"))\n",
    "print(\"Postfix : \",convertPostfix(\"2*(7+1)\"))"
   ]
  },
  {
   "cell_type": "markdown",
   "id": "eee48821",
   "metadata": {},
   "source": [
    "# Postfix to Infix"
   ]
  },
  {
   "cell_type": "code",
   "execution_count": 3,
   "id": "32640cf7",
   "metadata": {
    "ExecuteTime": {
     "end_time": "2022-04-20T22:53:35.555595Z",
     "start_time": "2022-04-20T22:53:35.526100Z"
    },
    "scrolled": true
   },
   "outputs": [
    {
     "name": "stdout",
     "output_type": "stream",
     "text": [
      "Infix =  (((A*B)/C)-(D+E))\n"
     ]
    }
   ],
   "source": [
    "from modules import stack as st\n",
    "\n",
    "def postinf(postfix) :\n",
    "    stOpr    = st.stack()\n",
    "    operator = (\"+\",\"-\",\"*\",\"/\")\n",
    "    \n",
    "    for pf in postfix :\n",
    "        if pf not in operator :\n",
    "            st.push(stOpr,pf)\n",
    "        else :\n",
    "            if not(st.isEmpty(stOpr)) :\n",
    "                opr1   = st.pop(stOpr)\n",
    "                opr2   = st.pop(stOpr)\n",
    "                strOpr = \"(\" + opr2 + pf + opr1 + \")\"\n",
    "                st.push(stOpr,strOpr)\n",
    "    \n",
    "    return st.pop(stOpr)\n",
    "\n",
    "print(\"Infix = \",postinf(\"AB*C/DE+-\"))\n",
    "    \n",
    "            "
   ]
  },
  {
   "cell_type": "markdown",
   "id": "8da6054c",
   "metadata": {},
   "source": [
    "# Prefix to Infix"
   ]
  },
  {
   "cell_type": "code",
   "execution_count": 80,
   "id": "e141ee94",
   "metadata": {
    "ExecuteTime": {
     "end_time": "2022-04-20T03:57:15.383506Z",
     "start_time": "2022-04-20T03:57:15.335443Z"
    }
   },
   "outputs": [
    {
     "name": "stdout",
     "output_type": "stream",
     "text": [
      "Infix =  (2*(7+1))\n"
     ]
    }
   ],
   "source": [
    "from modules import stack as st\n",
    "\n",
    "def reverseWrd(wrd) :\n",
    "    wrl = st.stack()\n",
    "    wrn = \"\"\n",
    "    for w in wrd :\n",
    "        st.push(wrl,w)\n",
    "\n",
    "    for i in range(len(wrl)) :\n",
    "        wr = st.pop(wrl)\n",
    "        if wr == \")\" :\n",
    "            wrn+=\"(\"\n",
    "        elif wr == \"(\" :\n",
    "            wrn+=\")\"\n",
    "        else :\n",
    "            wrn+=wr\n",
    "\n",
    "    return wrn\n",
    "\n",
    "def preinf(prefix) :\n",
    "    prefix = reverseWrd(prefix)\n",
    "    stOpr    = st.stack()\n",
    "    operator = (\"+\",\"-\",\"*\",\"/\")\n",
    "    \n",
    "    for pf in prefix :\n",
    "        if pf not in operator :\n",
    "            st.push(stOpr,pf)\n",
    "        else :\n",
    "            if not(st.isEmpty(stOpr)) :\n",
    "                opr1   = st.pop(stOpr)\n",
    "                opr2   = st.pop(stOpr)\n",
    "                strOpr = \"(\" + opr1 + pf + opr2 + \")\"\n",
    "                st.push(stOpr,strOpr)\n",
    "    \n",
    "    return st.pop(stOpr)\n",
    "\n",
    "\n",
    "print(\"Infix = \",preinf(\"*2+71\"))\n",
    "    \n",
    "            "
   ]
  },
  {
   "cell_type": "markdown",
   "id": "3f500f39",
   "metadata": {},
   "source": [
    "# Prefix to Postfix"
   ]
  },
  {
   "cell_type": "code",
   "execution_count": 2,
   "id": "257509af",
   "metadata": {
    "ExecuteTime": {
     "end_time": "2022-04-20T22:48:51.507326Z",
     "start_time": "2022-04-20T22:48:51.440962Z"
    }
   },
   "outputs": [
    {
     "name": "stdout",
     "output_type": "stream",
     "text": [
      "Postfix :  AB+CD-*F/\n"
     ]
    }
   ],
   "source": [
    "from modules import stack as st\n",
    "\n",
    "def reverseWrd(wrd) :\n",
    "    wrl = st.stack()\n",
    "    wrn = \"\"\n",
    "    for w in wrd :\n",
    "        st.push(wrl,w)\n",
    "\n",
    "    for i in range(len(wrl)) :\n",
    "        wr = st.pop(wrl)\n",
    "        if wr == \")\" :\n",
    "            wrn+=\"(\"\n",
    "        elif wr == \"(\" :\n",
    "            wrn+=\")\"\n",
    "        else :\n",
    "            wrn+=wr\n",
    "\n",
    "    return wrn\n",
    "\n",
    "def preinf(prefix) :\n",
    "    prefix = reverseWrd(prefix)\n",
    "    stOpr    = st.stack()\n",
    "    operator = (\"+\",\"-\",\"*\",\"/\")\n",
    "    \n",
    "    for pf in prefix :\n",
    "        if pf not in operator :\n",
    "            st.push(stOpr,pf)\n",
    "        else :\n",
    "            if not(st.isEmpty(stOpr)) :\n",
    "                opr1   = st.pop(stOpr)\n",
    "                opr2   = st.pop(stOpr)\n",
    "                strOpr = \"(\" + opr1 + pf + opr2 + \")\"\n",
    "                st.push(stOpr,strOpr)\n",
    "    \n",
    "    return st.pop(stOpr)\n",
    "\n",
    "def convertPostfix(strOp) :\n",
    "    stOperator = st.stack()\n",
    "    kurung     = (\"(\",\")\")\n",
    "    operator   = {\"+\":0,\"-\":0,\"*\":1,\"/\":1}\n",
    "    strRes     = \"\"\n",
    "    \n",
    "    for sto in strOp :\n",
    "        if sto not in operator.keys() and sto not in kurung :\n",
    "            strRes+=sto\n",
    "        \n",
    "        elif sto == kurung[0] :\n",
    "            st.push(stOperator,sto)\n",
    "            \n",
    "        elif sto == kurung[1] :\n",
    "            while st.peek(stOperator) != kurung[0] :\n",
    "                strRes+=st.pop(stOperator)\n",
    "            st.pop(stOperator)\n",
    "            \n",
    "            \n",
    "        elif sto in operator.keys() :\n",
    "            while not(st.isEmpty(stOperator)) and st.peek(stOperator) != kurung[0] and operator[st.peek(stOperator)] >= operator[sto] :   \n",
    "                strRes+=st.pop(stOperator)\n",
    "            st.push(stOperator,sto)\n",
    "        \n",
    "            \n",
    "    while not(st.isEmpty(stOperator)) :\n",
    "        strRes+=st.pop(stOperator)\n",
    "            \n",
    "            \n",
    "    return strRes\n",
    "\n",
    "infix   = preinf(\"/*+AB-CDF\")\n",
    "postfix = convertPostfix(infix)\n",
    "\n",
    "print(\"Postfix : \",postfix)\n",
    "    "
   ]
  },
  {
   "cell_type": "markdown",
   "id": "6a6207c5",
   "metadata": {},
   "source": [
    "# Task Scheduling"
   ]
  },
  {
   "cell_type": "code",
   "execution_count": 131,
   "id": "6ab18f7d",
   "metadata": {
    "ExecuteTime": {
     "end_time": "2022-04-20T05:10:48.860141Z",
     "start_time": "2022-04-20T05:10:37.901930Z"
    }
   },
   "outputs": [
    {
     "name": "stdout",
     "output_type": "stream",
     "text": [
      "=> Masukkan nama : A\n",
      "=> Masukkan Waktu : 12\n",
      "=> Masukkan nama : B\n",
      "=> Masukkan Waktu : 10\n",
      "=> Masukkan nama : C\n",
      "=> Masukkan Waktu : 5\n",
      "{'A': 12, 'B': 10, 'C': 5}\n",
      "['A', 'B', 'C']\n",
      "['B', 'C', 'A']\n",
      "['C', 'A', 'B']\n",
      "['A', 'B', 'C']\n",
      "['B', 'C', 'A']\n",
      "['C', 'A', 'B']\n",
      "['A', 'B']\n",
      "['B', 'A']\n",
      "['A', 'B']\n",
      "['B']\n",
      "27\n"
     ]
    }
   ],
   "source": [
    "from modules import queueV2 as que\n",
    "\n",
    "dataProses = {}\n",
    "for i in range(3) :\n",
    "    nama = input(\"=> Masukkan nama : \")\n",
    "    dataProses[nama] = int(input(\"=> Masukkan Waktu : \"))\n",
    "    \n",
    "def taskScheduling(dictTask,limit) :\n",
    "    print(dictTask)\n",
    "    queTask   = que.createQueue()\n",
    "    queTime   = que.createQueue()\n",
    "    totalTime = 0\n",
    "    for dt in dictTask.keys() :\n",
    "        que.enqueue(queTask,dt)\n",
    "        \n",
    "    for dtm in dictTask.values() :\n",
    "        que.enqueue(queTime,dtm)\n",
    "   \n",
    "    while que.size(queTask) > 0 :\n",
    "        print(queTask)\n",
    "        limitTemp = limit\n",
    "        task      = que.dequeue(queTask)\n",
    "        time      = que.dequeue(queTime)\n",
    "        \n",
    "        while limitTemp > 0 :\n",
    "            limitTemp-=1\n",
    "            if time > 0 :\n",
    "                time-=1\n",
    "                totalTime+=1\n",
    "        if time > 0 :    \n",
    "            que.enqueue(queTime,time)\n",
    "            que.enqueue(queTask,task)\n",
    "    \n",
    "    return totalTime\n",
    "        \n",
    "print(taskScheduling(dataProses,3))"
   ]
  },
  {
   "cell_type": "markdown",
   "id": "cca86524",
   "metadata": {},
   "source": [
    "# Median"
   ]
  },
  {
   "cell_type": "code",
   "execution_count": 38,
   "id": "df5949f4",
   "metadata": {
    "ExecuteTime": {
     "end_time": "2022-04-20T02:23:09.371339Z",
     "start_time": "2022-04-20T02:23:09.343412Z"
    }
   },
   "outputs": [
    {
     "name": "stdout",
     "output_type": "stream",
     "text": [
      "5\n"
     ]
    }
   ],
   "source": [
    "def median(angka) :\n",
    "    deq   = createDeque()\n",
    "    total = 0\n",
    "    \n",
    "    bubbleSort(angka ,\"Ascending\")\n",
    "    \n",
    "    for akg in angka :\n",
    "        addRear(deq,akg)\n",
    "    \n",
    "    if size(deq) % 2 != 0 :\n",
    "    \n",
    "        for dq in deq :\n",
    "            removeRear(deq)\n",
    "            removeFront(deq)\n",
    "            if size(deq) == 1 :\n",
    "                for de in deq :\n",
    "                    total = de\n",
    "            \n",
    "                   \n",
    "    else :\n",
    "         for dq in deq :\n",
    "            removeRear(deq)\n",
    "            removeFront(deq)\n",
    "            print(deq)\n",
    "            if size(deq) == 2 :\n",
    "                for de in deq :\n",
    "                    total+=de\n",
    "                    \n",
    "                total = total/2\n",
    "          \n",
    "\n",
    "    return total\n",
    "\n",
    "print(median([5,3,1,4,8,8,9]))"
   ]
  },
  {
   "cell_type": "code",
   "execution_count": 87,
   "id": "e0a105f6",
   "metadata": {
    "ExecuteTime": {
     "end_time": "2022-04-20T04:10:14.745763Z",
     "start_time": "2022-04-20T04:10:14.669339Z"
    }
   },
   "outputs": [
    {
     "name": "stdout",
     "output_type": "stream",
     "text": [
      "Postfix :  271+*\n"
     ]
    }
   ],
   "source": []
  },
  {
   "cell_type": "code",
   "execution_count": null,
   "id": "7c6a98ae",
   "metadata": {},
   "outputs": [],
   "source": []
  }
 ],
 "metadata": {
  "kernelspec": {
   "display_name": "Python 3 (ipykernel)",
   "language": "python",
   "name": "python3"
  },
  "language_info": {
   "codemirror_mode": {
    "name": "ipython",
    "version": 3
   },
   "file_extension": ".py",
   "mimetype": "text/x-python",
   "name": "python",
   "nbconvert_exporter": "python",
   "pygments_lexer": "ipython3",
   "version": "3.9.7"
  },
  "latex_envs": {
   "LaTeX_envs_menu_present": true,
   "autoclose": false,
   "autocomplete": true,
   "bibliofile": "biblio.bib",
   "cite_by": "apalike",
   "current_citInitial": 1,
   "eqLabelWithNumbers": true,
   "eqNumInitial": 1,
   "hotkeys": {
    "equation": "Ctrl-E",
    "itemize": "Ctrl-I"
   },
   "labels_anchors": false,
   "latex_user_defs": false,
   "report_style_numbering": false,
   "user_envs_cfg": false
  },
  "toc": {
   "base_numbering": 1,
   "nav_menu": {},
   "number_sections": true,
   "sideBar": true,
   "skip_h1_title": false,
   "title_cell": "Table of Contents",
   "title_sidebar": "Contents",
   "toc_cell": false,
   "toc_position": {},
   "toc_section_display": true,
   "toc_window_display": false
  },
  "varInspector": {
   "cols": {
    "lenName": 16,
    "lenType": 16,
    "lenVar": 40
   },
   "kernels_config": {
    "python": {
     "delete_cmd_postfix": "",
     "delete_cmd_prefix": "del ",
     "library": "var_list.py",
     "varRefreshCmd": "print(var_dic_list())"
    },
    "r": {
     "delete_cmd_postfix": ") ",
     "delete_cmd_prefix": "rm(",
     "library": "var_list.r",
     "varRefreshCmd": "cat(var_dic_list()) "
    }
   },
   "types_to_exclude": [
    "module",
    "function",
    "builtin_function_or_method",
    "instance",
    "_Feature"
   ],
   "window_display": false
  }
 },
 "nbformat": 4,
 "nbformat_minor": 5
}
