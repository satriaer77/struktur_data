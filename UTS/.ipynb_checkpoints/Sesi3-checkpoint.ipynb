{
 "cells": [
  {
   "cell_type": "markdown",
   "id": "bc0df338",
   "metadata": {},
   "source": [
    "# Sesi 3 - 210411100085"
   ]
  },
  {
   "cell_type": "code",
   "execution_count": 47,
   "id": "0cc2f454",
   "metadata": {
    "ExecuteTime": {
     "end_time": "2022-04-20T08:03:02.598558Z",
     "start_time": "2022-04-20T08:03:02.533195Z"
    }
   },
   "outputs": [
    {
     "name": "stdout",
     "output_type": "stream",
     "text": [
      "\n",
      "Stack bil 1 = ['7', '7', '7']\n",
      "Stack bil 2 = ['3'] \n",
      "[0]\n",
      "\n",
      "Stack bil 1 = ['7', '7']\n",
      "Stack bil 2 = [] \n",
      "[0, 8]\n",
      "\n",
      "Stack bil 1 = ['7']\n",
      "Stack bil 2 = [] \n",
      "[0, 8, 7]\n",
      "\n",
      "\n",
      " Jml Bilangan 777 + 3 = 780 \n"
     ]
    }
   ],
   "source": [
    "from modules import stack as st\n",
    "\n",
    "def jmlStack(bil1,bil2) :\n",
    "    bilStack = st.stack()\n",
    "    bl1 = st.stack()\n",
    "    bl2 = st.stack()\n",
    "    tmp = 0\n",
    "    bilStr = \"\"\n",
    "    \n",
    "    for b1 in bil1 :\n",
    "        st.push(bl1,b1)\n",
    "    \n",
    "    for b2 in bil2 :\n",
    "        st.push(bl2,b2)\n",
    "   \n",
    "    \n",
    "    while not(st.isEmpty(bl1)) or not(st.isEmpty(bl2)) :\n",
    "        hs = 0\n",
    "        \n",
    "        print(\"\"\"\n",
    "Stack bil 1 = %s\n",
    "Stack bil 2 = %s \"\"\" % (bl1,bl2))\n",
    "       \n",
    "        if not(st.isEmpty(bl1)) and st.isEmpty(bl2) :\n",
    "           \n",
    "            hs = int(st.pop(bl1))+tmp\n",
    "            hsStr = str(hs)\n",
    "            if len(hsStr) > 1 and not(st.isEmpty(bl1)):\n",
    "                tmp = int(hsStr[0])\n",
    "                st.push(bilStack,int(hsStr[1]))\n",
    "            else :\n",
    "                st.push(bilStack,hs)\n",
    "                tmp=0\n",
    "            \n",
    "            \n",
    "        elif not(st.isEmpty(bl2)) and st.isEmpty(bl1) :\n",
    "            \n",
    "            hs = int(st.pop(bl2))+tmp\n",
    "            print(hs)\n",
    "            hsStr = str(hs)\n",
    "            if len(hsStr) > 1 and not(st.isEmpty(bl2)) :\n",
    "                tmp = int(hsStr[0])\n",
    "                st.push(bilStack,int(hsStr[1]))\n",
    "            else :\n",
    "                st.push(bilStack,hs)\n",
    "                tmp=0\n",
    "            \n",
    "            \n",
    "        elif not(st.isEmpty(bl1)) and not(st.isEmpty(bl2)) :\n",
    "            hs    = int(st.pop(bl1))+int(st.pop(bl2))+tmp\n",
    "            hsStr = str(hs)\n",
    "            \n",
    "            if len(hsStr) > 1 :\n",
    "                tmp = int(hsStr[0])\n",
    "                st.push(bilStack,int(hsStr[1]))\n",
    "            else :\n",
    "                st.push(bilStack,hs)\n",
    "        \n",
    "        print(bilStack)\n",
    "            \n",
    "    \n",
    "    while not(st.isEmpty(bilStack)) :\n",
    "        bil = str(st.pop(bilStack))\n",
    "        bilStr+=bil\n",
    "    return bilStr\n",
    "\n",
    "\n",
    "akg1 = \"777\"\n",
    "akg2 = \"3\"\n",
    "print(\"\\n\\n Jml Bilangan %s + %s = %s \"% (akg1,akg2,jmlStack(akg1,akg2)) )"
   ]
  }
 ],
 "metadata": {
  "kernelspec": {
   "display_name": "Python 3 (ipykernel)",
   "language": "python",
   "name": "python3"
  },
  "language_info": {
   "codemirror_mode": {
    "name": "ipython",
    "version": 3
   },
   "file_extension": ".py",
   "mimetype": "text/x-python",
   "name": "python",
   "nbconvert_exporter": "python",
   "pygments_lexer": "ipython3",
   "version": "3.9.7"
  },
  "latex_envs": {
   "LaTeX_envs_menu_present": true,
   "autoclose": false,
   "autocomplete": true,
   "bibliofile": "biblio.bib",
   "cite_by": "apalike",
   "current_citInitial": 1,
   "eqLabelWithNumbers": true,
   "eqNumInitial": 1,
   "hotkeys": {
    "equation": "Ctrl-E",
    "itemize": "Ctrl-I"
   },
   "labels_anchors": false,
   "latex_user_defs": false,
   "report_style_numbering": false,
   "user_envs_cfg": false
  },
  "toc": {
   "base_numbering": 1,
   "nav_menu": {},
   "number_sections": true,
   "sideBar": true,
   "skip_h1_title": false,
   "title_cell": "Table of Contents",
   "title_sidebar": "Contents",
   "toc_cell": false,
   "toc_position": {},
   "toc_section_display": true,
   "toc_window_display": false
  },
  "varInspector": {
   "cols": {
    "lenName": 16,
    "lenType": 16,
    "lenVar": 40
   },
   "kernels_config": {
    "python": {
     "delete_cmd_postfix": "",
     "delete_cmd_prefix": "del ",
     "library": "var_list.py",
     "varRefreshCmd": "print(var_dic_list())"
    },
    "r": {
     "delete_cmd_postfix": ") ",
     "delete_cmd_prefix": "rm(",
     "library": "var_list.r",
     "varRefreshCmd": "cat(var_dic_list()) "
    }
   },
   "types_to_exclude": [
    "module",
    "function",
    "builtin_function_or_method",
    "instance",
    "_Feature"
   ],
   "window_display": false
  }
 },
 "nbformat": 4,
 "nbformat_minor": 5
}
