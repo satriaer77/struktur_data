{
 "cells": [
  {
   "cell_type": "markdown",
   "id": "196bb35e",
   "metadata": {},
   "source": [
    "# Stack"
   ]
  },
  {
   "cell_type": "code",
   "execution_count": 40,
   "id": "69e56fb7",
   "metadata": {
    "ExecuteTime": {
     "end_time": "2022-04-20T02:35:12.635522Z",
     "start_time": "2022-04-20T02:35:12.604186Z"
    }
   },
   "outputs": [],
   "source": [
    "def createStack() :\n",
    "    stck = []\n",
    "    return stck\n",
    "\n",
    "def push(s,data) :\n",
    "    s.append(data)\n",
    "\n",
    "def pop(s) :\n",
    "    dt = s.pop()\n",
    "    return dt\n",
    "\n",
    "def peek(s) :\n",
    "    return s[len(s)-1]\n",
    "\n",
    "def isEmpty(s) :\n",
    "    return s==[]\n",
    "\n",
    "def size(s) :\n",
    "    return len(s)\n"
   ]
  },
  {
   "cell_type": "markdown",
   "id": "3919f270",
   "metadata": {},
   "source": [
    "# Queue"
   ]
  },
  {
   "cell_type": "code",
   "execution_count": null,
   "id": "1f680722",
   "metadata": {},
   "outputs": [],
   "source": [
    "def createQueue() :\n",
    "    return []\n",
    "\n",
    "def enqueue(q,data):\n",
    "    q.append(data)\n",
    "    return(q)\n",
    "\n",
    "def dequeue(q):\n",
    "    data=q.pop(0)\n",
    "    return(data)\n",
    "\n",
    "def isEmpty(q):\n",
    "    return (q==[])\n",
    "\n",
    "def size(q):\n",
    "    return (len(q))\n"
   ]
  },
  {
   "cell_type": "markdown",
   "id": "b804c96b",
   "metadata": {},
   "source": [
    "# Deque"
   ]
  },
  {
   "cell_type": "code",
   "execution_count": 5,
   "id": "4205d7bd",
   "metadata": {
    "ExecuteTime": {
     "end_time": "2022-04-20T02:10:14.255685Z",
     "start_time": "2022-04-20T02:10:14.239816Z"
    }
   },
   "outputs": [],
   "source": [
    "def createDeque() :\n",
    "    return []\n",
    "\n",
    "def addFront(d,val) :\n",
    "    d.insert(0,val)\n",
    "    return d\n",
    "\n",
    "def addRear(d,val) :\n",
    "    d.append(val)\n",
    "    return d\n",
    "\n",
    "def removeFront(d) :\n",
    "    val = d.pop(0)\n",
    "    return val\n",
    "\n",
    "def removeRear(d) :\n",
    "    val = d.pop()\n",
    "    return val\n",
    "\n",
    "def isEmpty(d) :\n",
    "    return d==[]\n",
    "\n",
    "def size(d) :\n",
    "    return len(d)\n"
   ]
  },
  {
   "cell_type": "markdown",
   "id": "4768b716",
   "metadata": {},
   "source": [
    "# Bubble Sort"
   ]
  },
  {
   "cell_type": "code",
   "execution_count": 7,
   "id": "3bd7309c",
   "metadata": {
    "ExecuteTime": {
     "end_time": "2022-04-20T02:10:26.029518Z",
     "start_time": "2022-04-20T02:10:26.000338Z"
    }
   },
   "outputs": [
    {
     "name": "stdout",
     "output_type": "stream",
     "text": [
      "[1, 7, 9, 10]\n"
     ]
    }
   ],
   "source": [
    "def bubbleSort(nums,sortBy=\"Ascending\") :\n",
    "    \n",
    "    if sortBy == \"Ascending\" :\n",
    "        for i in range (len(nums)-1): \n",
    "            for j in range(len(nums)-1-i) :\n",
    "                if nums[j] > nums[j+1] :\n",
    "                    nums[j],nums[j+1] = nums[j+1],nums[j]\n",
    "                    \n",
    "    elif sortBy == \"Descending\" :\n",
    "        for i in range (len(nums)-1): \n",
    "            \n",
    "            for j in range(len(nums)-1-i) : \n",
    "                if nums[j] < nums[j+1] :\n",
    "                    nums[j],nums[j+1] = nums[j+1],nums[j]\n",
    "                \n",
    "                \n",
    "    return nums\n",
    "\n",
    "print(bubbleSort([9,10,1,7] ,\"Ascending\"))"
   ]
  },
  {
   "cell_type": "markdown",
   "id": "c2bce4bd",
   "metadata": {},
   "source": [
    "# Parentheses Checking"
   ]
  },
  {
   "cell_type": "code",
   "execution_count": 129,
   "id": "b3599faa",
   "metadata": {
    "ExecuteTime": {
     "end_time": "2022-04-20T05:05:28.290846Z",
     "start_time": "2022-04-20T05:05:28.215550Z"
    }
   },
   "outputs": [
    {
     "name": "stdout",
     "output_type": "stream",
     "text": [
      "[]\n",
      "\n",
      " { Tidak cocok dengan ) dan Kelebihan 3 Kurung Tutup\n"
     ]
    }
   ],
   "source": [
    "from modules import stack2 as st\n",
    "\n",
    "def bacaOperator(strOp,stackOp) :\n",
    "    print(\"\"\"\n",
    "Baca \" %s \"\n",
    "Stack :\n",
    " \"\"\" % (strOp))\n",
    "    \n",
    "    for sto in stackOp :\n",
    "        print(\"| %s |\" % (sto) )\n",
    "\n",
    "    print(\"-----\")\n",
    "     \n",
    "    \n",
    "    \n",
    "def checkParentheses(strOp) :\n",
    "    stKurung    = st.createStack()\n",
    "    kurungBuka  = (\"(\",\"[\",\"{\")\n",
    "    kurungTutup = (\")\",\"]\",\"}\")\n",
    "    temp        = ''\n",
    "    tmp         = ''\n",
    "    matched     = True\n",
    "    ttl         = 0\n",
    "    krt         = False\n",
    "    \n",
    "    for so in strOp :\n",
    "       \n",
    "        if so in kurungBuka :\n",
    "            st.push(stKurung,so)\n",
    "            #bacaOperator(so,stKurung)\n",
    "            \n",
    "        elif so in kurungTutup :\n",
    "            #bacaOperator(so,stKurung)\n",
    "            if not(st.isEmpty(stKurung)) :\n",
    "                \n",
    "                if kurungBuka.index(st.peek(stKurung)) == kurungTutup.index(so) :\n",
    "                    stTmp=st.pop(stKurung)\n",
    "                    matched = matched and True\n",
    "                else :\n",
    "                    stTmp   = st.pop(stKurung)\n",
    "                    matched = matched and False\n",
    "                    tmp     = so\n",
    "                    temp    = stTmp\n",
    "                    \n",
    "            else :\n",
    "                #print(ttl)\n",
    "                krt = True\n",
    "                ttl+=1\n",
    "                \n",
    "   \n",
    "    print(stKurung)\n",
    "    if st.isEmpty(stKurung) and matched and not(krt) :\n",
    "        return \"OK\"\n",
    "    elif st.isEmpty(stKurung) and not(matched) and not(krt) :\n",
    "        return temp+\" Tidak cocok dengan \"+tmp\n",
    "    elif not(st.isEmpty(stKurung)) :\n",
    "        if matched :\n",
    "            return \"Kelebihan %d Kurung Buka\" % (ttl)\n",
    "        else :\n",
    "            return \"%s Tidak cocok dengan %s dan Kelebihan %d Kurung Buka\" % (temp,tmp,ttl)\n",
    "    elif st.isEmpty(stKurung) and krt :\n",
    "        if matched :\n",
    "            return \"Kelebihan %d Kurung Tutup\" % (ttl)\n",
    "        else :\n",
    "            return \"%s Tidak cocok dengan %s dan Kelebihan %d Kurung Tutup\" % (temp,tmp,ttl)\n",
    "    \n",
    "print(\"\\n\",checkParentheses(\"{((4+5)))\"))"
   ]
  },
  {
   "cell_type": "markdown",
   "id": "33865053",
   "metadata": {},
   "source": [
    "# Infix to Prefix"
   ]
  },
  {
   "cell_type": "code",
   "execution_count": 67,
   "id": "c6cfc3be",
   "metadata": {
    "ExecuteTime": {
     "end_time": "2022-04-20T03:44:10.325294Z",
     "start_time": "2022-04-20T03:44:10.278161Z"
    }
   },
   "outputs": [
    {
     "name": "stdout",
     "output_type": "stream",
     "text": [
      "1+7*2\n",
      "Prefix :  +*271\n",
      "(1+7)*2\n",
      "Prefix :  *2+71\n"
     ]
    }
   ],
   "source": [
    "from modules import stack as st\n",
    "\n",
    "def reverseWrd(wrd) :\n",
    "    wrl = st.stack()\n",
    "    wrn = \"\"\n",
    "    for w in wrd :\n",
    "        st.push(wrl,w)\n",
    "\n",
    "    for i in range(len(wrl)) :\n",
    "        wr = st.pop(wrl)\n",
    "        if wr == \")\" :\n",
    "            wrn+=\"(\"\n",
    "        elif wr == \"(\" :\n",
    "            wrn+=\")\"\n",
    "        else :\n",
    "            wrn+=wr\n",
    "\n",
    "    return wrn\n",
    "\n",
    "def convertPrefix(strOp) :\n",
    "    strOp      = reverseWrd(strOp)\n",
    "    print(strOp)\n",
    "    stOperator = st.stack()\n",
    "    kurung     = (\"(\",\")\")\n",
    "    operator   = {\"+\":0,\"-\":0,\"*\":1,\"/\":1}\n",
    "    strRes     = \"\"\n",
    "    \n",
    "    for sto in strOp :\n",
    "        if sto not in operator.keys() and sto not in kurung :\n",
    "            strRes=sto+strRes\n",
    "        \n",
    "        elif sto == kurung[0] :\n",
    "            st.push(stOperator,sto)\n",
    "            \n",
    "        elif sto == kurung[1] :\n",
    "            while st.peek(stOperator) != kurung[0] :\n",
    "                strRes=st.pop(stOperator)+strRes\n",
    "            st.pop(stOperator)\n",
    "            \n",
    "            \n",
    "        elif sto in operator.keys() :\n",
    "            while not(st.isEmpty(stOperator)) and st.peek(stOperator) != kurung[0] and operator[st.peek(stOperator)] >= operator[sto] :   \n",
    "                strRes=st.pop(stOperator)+strRes\n",
    "            st.push(stOperator,sto)\n",
    "        \n",
    "            \n",
    "    while not(st.isEmpty(stOperator)) :\n",
    "        strRes=st.pop(stOperator)+strRes\n",
    "            \n",
    "            \n",
    "    return strRes\n",
    "\n",
    "\n",
    "print(\"Prefix : \",convertPrefix(\"2*7+1\"))\n",
    "print(\"Prefix : \",convertPrefix(\"2*(7+1)\"))"
   ]
  },
  {
   "cell_type": "markdown",
   "id": "492e683c",
   "metadata": {},
   "source": [
    "# Infix to Postfix"
   ]
  },
  {
   "cell_type": "code",
   "execution_count": 1,
   "id": "ac10957a",
   "metadata": {
    "ExecuteTime": {
     "end_time": "2022-04-20T01:42:48.260255Z",
     "start_time": "2022-04-20T01:42:48.219964Z"
    },
    "scrolled": true
   },
   "outputs": [
    {
     "name": "stdout",
     "output_type": "stream",
     "text": [
      "Postfix :  27*1+\n",
      "Postfix :  271+*\n"
     ]
    }
   ],
   "source": [
    "from modules import stack as st\n",
    "\n",
    "\n",
    "def convertPostfix(strOp) :\n",
    "    stOperator = st.stack()\n",
    "    kurung     = (\"(\",\")\")\n",
    "    operator   = {\"+\":0,\"-\":0,\"*\":1,\"/\":1}\n",
    "    strRes     = \"\"\n",
    "    \n",
    "    for sto in strOp :\n",
    "        if sto not in operator.keys() and sto not in kurung :\n",
    "            strRes+=sto\n",
    "        \n",
    "        elif sto == kurung[0] :\n",
    "            st.push(stOperator,sto)\n",
    "            \n",
    "        elif sto == kurung[1] :\n",
    "            while st.peek(stOperator) != kurung[0] :\n",
    "                strRes+=st.pop(stOperator)\n",
    "            st.pop(stOperator)\n",
    "            \n",
    "            \n",
    "        elif sto in operator.keys() :\n",
    "            while not(st.isEmpty(stOperator)) and st.peek(stOperator) != kurung[0] and operator[st.peek(stOperator)] >= operator[sto] :   \n",
    "                strRes+=st.pop(stOperator)\n",
    "            st.push(stOperator,sto)\n",
    "        \n",
    "            \n",
    "    while not(st.isEmpty(stOperator)) :\n",
    "        strRes+=st.pop(stOperator)\n",
    "            \n",
    "            \n",
    "    return strRes\n",
    "\n",
    "\n",
    "print(\"Postfix : \",convertPostfix(\"2*7+1\"))\n",
    "print(\"Postfix : \",convertPostfix(\"2*(7+1)\"))"
   ]
  },
  {
   "cell_type": "markdown",
   "id": "b3651833",
   "metadata": {},
   "source": [
    "# Postfix to Infix"
   ]
  },
  {
   "cell_type": "code",
   "execution_count": 86,
   "id": "76892463",
   "metadata": {
    "ExecuteTime": {
     "end_time": "2022-04-20T04:01:32.733502Z",
     "start_time": "2022-04-20T04:01:32.698744Z"
    },
    "scrolled": true
   },
   "outputs": [
    {
     "name": "stdout",
     "output_type": "stream",
     "text": [
      "Infix =  ((2*7)+1)\n"
     ]
    }
   ],
   "source": [
    "from modules import stack as st\n",
    "\n",
    "def postinf(postfix) :\n",
    "    stOpr    = st.stack()\n",
    "    operator = (\"+\",\"-\",\"*\",\"/\")\n",
    "    \n",
    "    for pf in postfix :\n",
    "        if pf not in operator :\n",
    "            st.push(stOpr,pf)\n",
    "        else :\n",
    "            if not(st.isEmpty(stOpr)) :\n",
    "                opr1   = st.pop(stOpr)\n",
    "                opr2   = st.pop(stOpr)\n",
    "                strOpr = \"(\" + opr2 + pf + opr1 + \")\"\n",
    "                st.push(stOpr,strOpr)\n",
    "    \n",
    "    return st.pop(stOpr)\n",
    "\n",
    "print(\"Infix = \",postinf(\"27*1+\"))\n",
    "    \n",
    "            "
   ]
  },
  {
   "cell_type": "markdown",
   "id": "aeb4968c",
   "metadata": {},
   "source": [
    "# Prefix to Infix"
   ]
  },
  {
   "cell_type": "code",
   "execution_count": 80,
   "id": "3e5978ba",
   "metadata": {
    "ExecuteTime": {
     "end_time": "2022-04-20T03:57:15.383506Z",
     "start_time": "2022-04-20T03:57:15.335443Z"
    }
   },
   "outputs": [
    {
     "name": "stdout",
     "output_type": "stream",
     "text": [
      "Infix =  (2*(7+1))\n"
     ]
    }
   ],
   "source": [
    "from modules import stack as st\n",
    "\n",
    "def reverseWrd(wrd) :\n",
    "    wrl = st.stack()\n",
    "    wrn = \"\"\n",
    "    for w in wrd :\n",
    "        st.push(wrl,w)\n",
    "\n",
    "    for i in range(len(wrl)) :\n",
    "        wr = st.pop(wrl)\n",
    "        if wr == \")\" :\n",
    "            wrn+=\"(\"\n",
    "        elif wr == \"(\" :\n",
    "            wrn+=\")\"\n",
    "        else :\n",
    "            wrn+=wr\n",
    "\n",
    "    return wrn\n",
    "\n",
    "def preinf(prefix) :\n",
    "    prefix = reverseWrd(prefix)\n",
    "    stOpr    = st.stack()\n",
    "    operator = (\"+\",\"-\",\"*\",\"/\")\n",
    "    \n",
    "    for pf in prefix :\n",
    "        if pf not in operator :\n",
    "            st.push(stOpr,pf)\n",
    "        else :\n",
    "            if not(st.isEmpty(stOpr)) :\n",
    "                opr1   = st.pop(stOpr)\n",
    "                opr2   = st.pop(stOpr)\n",
    "                strOpr = \"(\" + opr1 + pf + opr2 + \")\"\n",
    "                st.push(stOpr,strOpr)\n",
    "    \n",
    "    return st.pop(stOpr)\n",
    "\n",
    "\n",
    "print(\"Infix = \",preinf(\"*2+71\"))\n",
    "    \n",
    "            "
   ]
  },
  {
   "cell_type": "markdown",
   "id": "9e8e8637",
   "metadata": {},
   "source": [
    "# Prefix to Postfix"
   ]
  },
  {
   "cell_type": "code",
   "execution_count": null,
   "id": "6f4751a5",
   "metadata": {},
   "outputs": [],
   "source": [
    "from modules import stack as st\n",
    "\n",
    "def reverseWrd(wrd) :\n",
    "    wrl = st.stack()\n",
    "    wrn = \"\"\n",
    "    for w in wrd :\n",
    "        st.push(wrl,w)\n",
    "\n",
    "    for i in range(len(wrl)) :\n",
    "        wr = st.pop(wrl)\n",
    "        if wr == \")\" :\n",
    "            wrn+=\"(\"\n",
    "        elif wr == \"(\" :\n",
    "            wrn+=\")\"\n",
    "        else :\n",
    "            wrn+=wr\n",
    "\n",
    "    return wrn\n",
    "\n",
    "def preinf(prefix) :\n",
    "    prefix = reverseWrd(prefix)\n",
    "    stOpr    = st.stack()\n",
    "    operator = (\"+\",\"-\",\"*\",\"/\")\n",
    "    \n",
    "    for pf in prefix :\n",
    "        if pf not in operator :\n",
    "            st.push(stOpr,pf)\n",
    "        else :\n",
    "            if not(st.isEmpty(stOpr)) :\n",
    "                opr1   = st.pop(stOpr)\n",
    "                opr2   = st.pop(stOpr)\n",
    "                strOpr = \"(\" + opr1 + pf + opr2 + \")\"\n",
    "                st.push(stOpr,strOpr)\n",
    "    \n",
    "    return st.pop(stOpr)\n",
    "\n",
    "def convertPostfix(strOp) :\n",
    "    stOperator = st.stack()\n",
    "    kurung     = (\"(\",\")\")\n",
    "    operator   = {\"+\":0,\"-\":0,\"*\":1,\"/\":1}\n",
    "    strRes     = \"\"\n",
    "    \n",
    "    for sto in strOp :\n",
    "        if sto not in operator.keys() and sto not in kurung :\n",
    "            strRes+=sto\n",
    "        \n",
    "        elif sto == kurung[0] :\n",
    "            st.push(stOperator,sto)\n",
    "            \n",
    "        elif sto == kurung[1] :\n",
    "            while st.peek(stOperator) != kurung[0] :\n",
    "                strRes+=st.pop(stOperator)\n",
    "            st.pop(stOperator)\n",
    "            \n",
    "            \n",
    "        elif sto in operator.keys() :\n",
    "            while not(st.isEmpty(stOperator)) and st.peek(stOperator) != kurung[0] and operator[st.peek(stOperator)] >= operator[sto] :   \n",
    "                strRes+=st.pop(stOperator)\n",
    "            st.push(stOperator,sto)\n",
    "        \n",
    "            \n",
    "    while not(st.isEmpty(stOperator)) :\n",
    "        strRes+=st.pop(stOperator)\n",
    "            \n",
    "            \n",
    "    return strRes\n",
    "\n",
    "infix   = preinf(\"*2+71\")\n",
    "postfix = convertPostfix(infix)\n",
    "\n",
    "print(\"Postfix : \",postfix)\n",
    "    "
   ]
  },
  {
   "cell_type": "markdown",
   "id": "bb5dc5be",
   "metadata": {},
   "source": [
    "# Median"
   ]
  },
  {
   "cell_type": "code",
   "execution_count": 38,
   "id": "d88dc49f",
   "metadata": {
    "ExecuteTime": {
     "end_time": "2022-04-20T02:23:09.371339Z",
     "start_time": "2022-04-20T02:23:09.343412Z"
    }
   },
   "outputs": [
    {
     "name": "stdout",
     "output_type": "stream",
     "text": [
      "5\n"
     ]
    }
   ],
   "source": [
    "def median(angka) :\n",
    "    deq   = createDeque()\n",
    "    total = 0\n",
    "    \n",
    "    bubbleSort(angka ,\"Ascending\")\n",
    "    \n",
    "    for akg in angka :\n",
    "        addRear(deq,akg)\n",
    "    \n",
    "    if size(deq) % 2 != 0 :\n",
    "    \n",
    "        for dq in deq :\n",
    "            removeRear(deq)\n",
    "            removeFront(deq)\n",
    "            if size(deq) == 1 :\n",
    "                for de in deq :\n",
    "                    total = de\n",
    "            \n",
    "                   \n",
    "    else :\n",
    "         for dq in deq :\n",
    "            removeRear(deq)\n",
    "            removeFront(deq)\n",
    "            print(deq)\n",
    "            if size(deq) == 2 :\n",
    "                for de in deq :\n",
    "                    total+=de\n",
    "                    \n",
    "                total = total/2\n",
    "          \n",
    "\n",
    "    return total\n",
    "\n",
    "print(median([5,3,1,4,8,8,9]))"
   ]
  },
  {
   "cell_type": "code",
   "execution_count": 87,
   "id": "06bff8eb",
   "metadata": {
    "ExecuteTime": {
     "end_time": "2022-04-20T04:10:14.745763Z",
     "start_time": "2022-04-20T04:10:14.669339Z"
    }
   },
   "outputs": [
    {
     "name": "stdout",
     "output_type": "stream",
     "text": [
      "Postfix :  271+*\n"
     ]
    }
   ],
   "source": []
  },
  {
   "cell_type": "code",
   "execution_count": null,
   "id": "a68f7fc8",
   "metadata": {},
   "outputs": [],
   "source": []
  }
 ],
 "metadata": {
  "kernelspec": {
   "display_name": "Python 3 (ipykernel)",
   "language": "python",
   "name": "python3"
  },
  "language_info": {
   "codemirror_mode": {
    "name": "ipython",
    "version": 3
   },
   "file_extension": ".py",
   "mimetype": "text/x-python",
   "name": "python",
   "nbconvert_exporter": "python",
   "pygments_lexer": "ipython3",
   "version": "3.9.7"
  },
  "latex_envs": {
   "LaTeX_envs_menu_present": true,
   "autoclose": false,
   "autocomplete": true,
   "bibliofile": "biblio.bib",
   "cite_by": "apalike",
   "current_citInitial": 1,
   "eqLabelWithNumbers": true,
   "eqNumInitial": 1,
   "hotkeys": {
    "equation": "Ctrl-E",
    "itemize": "Ctrl-I"
   },
   "labels_anchors": false,
   "latex_user_defs": false,
   "report_style_numbering": false,
   "user_envs_cfg": false
  },
  "toc": {
   "base_numbering": 1,
   "nav_menu": {},
   "number_sections": true,
   "sideBar": true,
   "skip_h1_title": false,
   "title_cell": "Table of Contents",
   "title_sidebar": "Contents",
   "toc_cell": false,
   "toc_position": {},
   "toc_section_display": true,
   "toc_window_display": false
  },
  "varInspector": {
   "cols": {
    "lenName": 16,
    "lenType": 16,
    "lenVar": 40
   },
   "kernels_config": {
    "python": {
     "delete_cmd_postfix": "",
     "delete_cmd_prefix": "del ",
     "library": "var_list.py",
     "varRefreshCmd": "print(var_dic_list())"
    },
    "r": {
     "delete_cmd_postfix": ") ",
     "delete_cmd_prefix": "rm(",
     "library": "var_list.r",
     "varRefreshCmd": "cat(var_dic_list()) "
    }
   },
   "types_to_exclude": [
    "module",
    "function",
    "builtin_function_or_method",
    "instance",
    "_Feature"
   ],
   "window_display": false
  }
 },
 "nbformat": 4,
 "nbformat_minor": 5
}
