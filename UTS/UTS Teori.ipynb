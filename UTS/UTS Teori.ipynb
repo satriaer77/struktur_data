{
 "cells": [
  {
   "cell_type": "code",
   "execution_count": 6,
   "id": "42212444",
   "metadata": {
    "ExecuteTime": {
     "end_time": "2022-04-20T22:42:42.422883Z",
     "start_time": "2022-04-20T22:42:42.398443Z"
    }
   },
   "outputs": [
    {
     "name": "stdout",
     "output_type": "stream",
     "text": [
      "2 1 0\n"
     ]
    }
   ],
   "source": [
    "from modules import deques as deq\n",
    "\n",
    "def anyfun(p1) :\n",
    "    dq = deq.createDeque()\n",
    "    for i in p1 :\n",
    "        deq.addFront(dq,i)\n",
    "        \n",
    "    hasil=0\n",
    "    \n",
    "    while deq.size(dq) > 1 :\n",
    "        if deq.removeFront(dq) == deq.removeRear(dq) :\n",
    "            hasil+=1\n",
    "    return hasil\n",
    "\n",
    "\n",
    "print(anyfun(\"katak\"),anyfun(\"deques\"),anyfun(\"struktur\"))"
   ]
  },
  {
   "cell_type": "code",
   "execution_count": 7,
   "id": "df796a84",
   "metadata": {
    "ExecuteTime": {
     "end_time": "2022-04-20T22:43:51.549878Z",
     "start_time": "2022-04-20T22:43:51.430436Z"
    }
   },
   "outputs": [
    {
     "name": "stdout",
     "output_type": "stream",
     "text": [
      "[3, 4, 2, 2]\n"
     ]
    }
   ],
   "source": [
    "from modules import stack as st\n",
    "\n",
    "sts = [3,4,2]\n",
    "\n",
    "st.push(sts,st.peek(sts))\n",
    "print(sts)"
   ]
  },
  {
   "cell_type": "code",
   "execution_count": 13,
   "id": "9712463d",
   "metadata": {
    "ExecuteTime": {
     "end_time": "2022-04-20T22:46:50.908472Z",
     "start_time": "2022-04-20T22:46:50.894842Z"
    }
   },
   "outputs": [
    {
     "name": "stdout",
     "output_type": "stream",
     "text": [
      "[9, 8]\n"
     ]
    }
   ],
   "source": [
    "from modules import queue as que\n",
    "\n",
    "\n",
    "q = que.createQueue()\n",
    "\n",
    "que.enqueue(q,8)\n",
    "que.enqueue(q,que.dequeue(q))\n",
    "que.enqueue(q,9)\n",
    "\n",
    "print(q)\n"
   ]
  },
  {
   "cell_type": "code",
   "execution_count": 14,
   "id": "212a998f",
   "metadata": {
    "ExecuteTime": {
     "end_time": "2022-04-20T22:51:58.287706Z",
     "start_time": "2022-04-20T22:51:58.279575Z"
    }
   },
   "outputs": [],
   "source": [
    "a=3 \n",
    "while a < 0 :\n",
    "    print(\"while\")\n",
    "    a=a-2"
   ]
  },
  {
   "cell_type": "code",
   "execution_count": 15,
   "id": "715cead9",
   "metadata": {
    "ExecuteTime": {
     "end_time": "2022-04-20T22:54:27.750870Z",
     "start_time": "2022-04-20T22:54:27.727998Z"
    }
   },
   "outputs": [
    {
     "name": "stdout",
     "output_type": "stream",
     "text": [
      "9\n"
     ]
    }
   ],
   "source": [
    "print(4+3*2**2-7)"
   ]
  },
  {
   "cell_type": "code",
   "execution_count": 16,
   "id": "0bc43e7e",
   "metadata": {
    "ExecuteTime": {
     "end_time": "2022-04-20T22:55:07.031186Z",
     "start_time": "2022-04-20T22:55:07.012370Z"
    }
   },
   "outputs": [
    {
     "name": "stdout",
     "output_type": "stream",
     "text": [
      "False\n"
     ]
    }
   ],
   "source": [
    "a=24\n",
    "b=12\n",
    "print(a<b and b%a==12)"
   ]
  },
  {
   "cell_type": "code",
   "execution_count": null,
   "id": "bd65469c",
   "metadata": {},
   "outputs": [],
   "source": []
  }
 ],
 "metadata": {
  "kernelspec": {
   "display_name": "Python 3 (ipykernel)",
   "language": "python",
   "name": "python3"
  },
  "language_info": {
   "codemirror_mode": {
    "name": "ipython",
    "version": 3
   },
   "file_extension": ".py",
   "mimetype": "text/x-python",
   "name": "python",
   "nbconvert_exporter": "python",
   "pygments_lexer": "ipython3",
   "version": "3.9.7"
  },
  "latex_envs": {
   "LaTeX_envs_menu_present": true,
   "autoclose": false,
   "autocomplete": true,
   "bibliofile": "biblio.bib",
   "cite_by": "apalike",
   "current_citInitial": 1,
   "eqLabelWithNumbers": true,
   "eqNumInitial": 1,
   "hotkeys": {
    "equation": "Ctrl-E",
    "itemize": "Ctrl-I"
   },
   "labels_anchors": false,
   "latex_user_defs": false,
   "report_style_numbering": false,
   "user_envs_cfg": false
  },
  "toc": {
   "base_numbering": 1,
   "nav_menu": {},
   "number_sections": true,
   "sideBar": true,
   "skip_h1_title": false,
   "title_cell": "Table of Contents",
   "title_sidebar": "Contents",
   "toc_cell": false,
   "toc_position": {},
   "toc_section_display": true,
   "toc_window_display": false
  },
  "varInspector": {
   "cols": {
    "lenName": 16,
    "lenType": 16,
    "lenVar": 40
   },
   "kernels_config": {
    "python": {
     "delete_cmd_postfix": "",
     "delete_cmd_prefix": "del ",
     "library": "var_list.py",
     "varRefreshCmd": "print(var_dic_list())"
    },
    "r": {
     "delete_cmd_postfix": ") ",
     "delete_cmd_prefix": "rm(",
     "library": "var_list.r",
     "varRefreshCmd": "cat(var_dic_list()) "
    }
   },
   "types_to_exclude": [
    "module",
    "function",
    "builtin_function_or_method",
    "instance",
    "_Feature"
   ],
   "window_display": false
  }
 },
 "nbformat": 4,
 "nbformat_minor": 5
}
