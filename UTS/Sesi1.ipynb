{
 "cells": [
  {
   "cell_type": "markdown",
   "id": "7400813f",
   "metadata": {},
   "source": [
    "# Sesi 1"
   ]
  },
  {
   "cell_type": "code",
   "execution_count": 3,
   "id": "31aacdb0",
   "metadata": {
    "ExecuteTime": {
     "end_time": "2022-04-20T02:58:53.360946Z",
     "start_time": "2022-04-20T02:58:53.318193Z"
    }
   },
   "outputs": [
    {
     "name": "stdout",
     "output_type": "stream",
     "text": [
      "[1, 2, 3, 4, 6, 12]\n"
     ]
    }
   ],
   "source": [
    "def fpdouble(akg1,akg2) :\n",
    "    lst1 = []\n",
    "    lst2 = []\n",
    "    hs   = []\n",
    "    \n",
    "    for i in range(1,akg1+1) :\n",
    "        if akg1 % i == 0 :\n",
    "            lst1.append(i)\n",
    "\n",
    "    \n",
    "    for i in range(1,akg2+1) :\n",
    "        if akg2 % i == 0 :\n",
    "            lst2.append(i)\n",
    "        \n",
    "    for ls1 in lst1 :\n",
    "        for ls2 in lst2 :\n",
    "            if ls1 == ls2 :\n",
    "                hs.append(ls1)\n",
    "                \n",
    "    return hs\n",
    "\n",
    "\n",
    "fp = fpdouble(36,48)\n",
    "print(fp)"
   ]
  },
  {
   "cell_type": "code",
   "execution_count": 4,
   "id": "a6b9e93c",
   "metadata": {
    "ExecuteTime": {
     "end_time": "2022-04-20T03:20:33.466819Z",
     "start_time": "2022-04-20T03:20:33.441342Z"
    }
   },
   "outputs": [
    {
     "name": "stdout",
     "output_type": "stream",
     "text": [
      "[1, 2, 3, 4, 6, 12]\n"
     ]
    }
   ],
   "source": [
    "def fpdouble(akg1,akg2) :\n",
    "    hs   = []\n",
    "    if akg1 > akg2 :\n",
    "        akg = akg1\n",
    "    else :\n",
    "        akg = akg2\n",
    "    \n",
    "    for i in range(1,akg+1) :\n",
    "        if akg1 % i == 0 and akg2 % i == 0 :\n",
    "            hs.append(i)\n",
    "            \n",
    "    return hs\n",
    "\n",
    "\n",
    "fp = fpdouble(36,48)\n",
    "print(fp)"
   ]
  }
 ],
 "metadata": {
  "kernelspec": {
   "display_name": "Python 3 (ipykernel)",
   "language": "python",
   "name": "python3"
  },
  "language_info": {
   "codemirror_mode": {
    "name": "ipython",
    "version": 3
   },
   "file_extension": ".py",
   "mimetype": "text/x-python",
   "name": "python",
   "nbconvert_exporter": "python",
   "pygments_lexer": "ipython3",
   "version": "3.9.7"
  },
  "latex_envs": {
   "LaTeX_envs_menu_present": true,
   "autoclose": false,
   "autocomplete": true,
   "bibliofile": "biblio.bib",
   "cite_by": "apalike",
   "current_citInitial": 1,
   "eqLabelWithNumbers": true,
   "eqNumInitial": 1,
   "hotkeys": {
    "equation": "Ctrl-E",
    "itemize": "Ctrl-I"
   },
   "labels_anchors": false,
   "latex_user_defs": false,
   "report_style_numbering": false,
   "user_envs_cfg": false
  },
  "toc": {
   "base_numbering": 1,
   "nav_menu": {},
   "number_sections": true,
   "sideBar": true,
   "skip_h1_title": false,
   "title_cell": "Table of Contents",
   "title_sidebar": "Contents",
   "toc_cell": false,
   "toc_position": {},
   "toc_section_display": true,
   "toc_window_display": false
  },
  "varInspector": {
   "cols": {
    "lenName": 16,
    "lenType": 16,
    "lenVar": 40
   },
   "kernels_config": {
    "python": {
     "delete_cmd_postfix": "",
     "delete_cmd_prefix": "del ",
     "library": "var_list.py",
     "varRefreshCmd": "print(var_dic_list())"
    },
    "r": {
     "delete_cmd_postfix": ") ",
     "delete_cmd_prefix": "rm(",
     "library": "var_list.r",
     "varRefreshCmd": "cat(var_dic_list()) "
    }
   },
   "position": {
    "height": "145.087px",
    "left": "894.778px",
    "right": "20px",
    "top": "368px",
    "width": "350px"
   },
   "types_to_exclude": [
    "module",
    "function",
    "builtin_function_or_method",
    "instance",
    "_Feature"
   ],
   "window_display": false
  }
 },
 "nbformat": 4,
 "nbformat_minor": 5
}
