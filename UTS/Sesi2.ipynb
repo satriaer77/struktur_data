{
 "cells": [
  {
   "cell_type": "markdown",
   "id": "aca9b58b",
   "metadata": {},
   "source": [
    "# Sesi 2 - 210411100085"
   ]
  },
  {
   "cell_type": "code",
   "execution_count": 42,
   "id": "527894fe",
   "metadata": {
    "ExecuteTime": {
     "end_time": "2022-04-20T06:16:07.072414Z",
     "start_time": "2022-04-20T06:16:06.982193Z"
    }
   },
   "outputs": [
    {
     "name": "stdout",
     "output_type": "stream",
     "text": [
      "\n",
      "\n",
      "Data Awal =  [1, 12, 50, 75, 83, 126, 56, 87, 90]\n",
      "\n",
      "Iterasi utama ke- 1  =  [1, 12, 50, 75, 83, 126, 56, 87, 90]\n",
      "#1 : data[8,7] = 90 dan 87 -> [1, 12, 50, 75, 83, 126, 56, 90, 87] \n",
      "#2 : data[7,6] = 90 dan 56 -> [1, 12, 50, 75, 83, 126, 90, 56, 87] \n",
      "#3 : data[6,5] = 126 dan 90 -> [1, 12, 50, 75, 83, 126, 90, 56, 87] \n",
      "#4 : data[5,4] = 126 dan 83 -> [1, 12, 50, 75, 126, 83, 90, 56, 87] \n",
      "#5 : data[4,3] = 126 dan 75 -> [1, 12, 50, 126, 75, 83, 90, 56, 87] \n",
      "#6 : data[3,2] = 126 dan 50 -> [1, 12, 126, 50, 75, 83, 90, 56, 87] \n",
      "#7 : data[2,1] = 126 dan 12 -> [1, 126, 12, 50, 75, 83, 90, 56, 87] \n",
      "#8 : data[1,0] = 126 dan 1 -> [126, 1, 12, 50, 75, 83, 90, 56, 87] \n",
      "\n",
      "Iterasi utama ke- 2  =  [126, 1, 12, 50, 75, 83, 90, 56, 87]\n",
      "#1 : data[8,7] = 87 dan 56 -> [126, 1, 12, 50, 75, 83, 90, 87, 56] \n",
      "#2 : data[7,6] = 90 dan 87 -> [126, 1, 12, 50, 75, 83, 90, 87, 56] \n",
      "#3 : data[6,5] = 90 dan 83 -> [126, 1, 12, 50, 75, 90, 83, 87, 56] \n",
      "#4 : data[5,4] = 90 dan 75 -> [126, 1, 12, 50, 90, 75, 83, 87, 56] \n",
      "#5 : data[4,3] = 90 dan 50 -> [126, 1, 12, 90, 50, 75, 83, 87, 56] \n",
      "#6 : data[3,2] = 90 dan 12 -> [126, 1, 90, 12, 50, 75, 83, 87, 56] \n",
      "#7 : data[2,1] = 90 dan 1 -> [126, 90, 1, 12, 50, 75, 83, 87, 56] \n",
      "\n",
      "Iterasi utama ke- 3  =  [126, 90, 1, 12, 50, 75, 83, 87, 56]\n",
      "#1 : data[8,7] = 87 dan 56 -> [126, 90, 1, 12, 50, 75, 83, 87, 56] \n",
      "#2 : data[7,6] = 87 dan 83 -> [126, 90, 1, 12, 50, 75, 87, 83, 56] \n",
      "#3 : data[6,5] = 87 dan 75 -> [126, 90, 1, 12, 50, 87, 75, 83, 56] \n",
      "#4 : data[5,4] = 87 dan 50 -> [126, 90, 1, 12, 87, 50, 75, 83, 56] \n",
      "#5 : data[4,3] = 87 dan 12 -> [126, 90, 1, 87, 12, 50, 75, 83, 56] \n",
      "#6 : data[3,2] = 87 dan 1 -> [126, 90, 87, 1, 12, 50, 75, 83, 56] \n",
      "\n",
      "Iterasi utama ke- 4  =  [126, 90, 87, 1, 12, 50, 75, 83, 56]\n",
      "#1 : data[8,7] = 83 dan 56 -> [126, 90, 87, 1, 12, 50, 75, 83, 56] \n",
      "#2 : data[7,6] = 83 dan 75 -> [126, 90, 87, 1, 12, 50, 83, 75, 56] \n",
      "#3 : data[6,5] = 83 dan 50 -> [126, 90, 87, 1, 12, 83, 50, 75, 56] \n",
      "#4 : data[5,4] = 83 dan 12 -> [126, 90, 87, 1, 83, 12, 50, 75, 56] \n",
      "#5 : data[4,3] = 83 dan 1 -> [126, 90, 87, 83, 1, 12, 50, 75, 56] \n",
      "\n",
      "Iterasi utama ke- 5  =  [126, 90, 87, 83, 1, 12, 50, 75, 56]\n",
      "#1 : data[8,7] = 75 dan 56 -> [126, 90, 87, 83, 1, 12, 50, 75, 56] \n",
      "#2 : data[7,6] = 75 dan 50 -> [126, 90, 87, 83, 1, 12, 75, 50, 56] \n",
      "#3 : data[6,5] = 75 dan 12 -> [126, 90, 87, 83, 1, 75, 12, 50, 56] \n",
      "#4 : data[5,4] = 75 dan 1 -> [126, 90, 87, 83, 75, 1, 12, 50, 56] \n",
      "\n",
      "Iterasi utama ke- 6  =  [126, 90, 87, 83, 75, 1, 12, 50, 56]\n",
      "#1 : data[8,7] = 56 dan 50 -> [126, 90, 87, 83, 75, 1, 12, 56, 50] \n",
      "#2 : data[7,6] = 56 dan 12 -> [126, 90, 87, 83, 75, 1, 56, 12, 50] \n",
      "#3 : data[6,5] = 56 dan 1 -> [126, 90, 87, 83, 75, 56, 1, 12, 50] \n",
      "\n",
      "Iterasi utama ke- 7  =  [126, 90, 87, 83, 75, 56, 1, 12, 50]\n",
      "#1 : data[8,7] = 50 dan 12 -> [126, 90, 87, 83, 75, 56, 1, 50, 12] \n",
      "#2 : data[7,6] = 50 dan 1 -> [126, 90, 87, 83, 75, 56, 50, 1, 12] \n",
      "\n",
      "Iterasi utama ke- 8  =  [126, 90, 87, 83, 75, 56, 50, 1, 12]\n",
      "#1 : data[8,7] = 12 dan 1 -> [126, 90, 87, 83, 75, 56, 50, 12, 1] \n",
      "\n",
      "\n",
      "Data Terurut =  [126, 90, 87, 83, 75, 56, 50, 12, 1]\n"
     ]
    }
   ],
   "source": [
    "\n",
    "def bubbleSort(nums) :\n",
    "    print(\"\\n\\nData Awal = \",nums)\n",
    "    no = 1\n",
    "    for i in range (len(nums)-1,0,-1): \n",
    "\n",
    "        no2 = 1\n",
    "        print(\"\\nIterasi utama ke-\",no,\" = \",nums)\n",
    "        for j in range(len(nums)-1,len(nums)-i-1,-1) : \n",
    "            \n",
    "            if nums[j] > nums[j-1] :\n",
    "                nums[j],nums[j-1] = nums[j-1],nums[j]\n",
    "            print(\"#%d : data[%d,%d] = %d dan %d -> %s \" % (no2,j,j-1,nums[j-1],nums[j],nums) )\n",
    "            \n",
    "            no2+=1\n",
    "        no+=1\n",
    "        \n",
    "    return nums\n",
    "\n",
    "lstNums = [1,12,50,75,83,126,56,87,90]\n",
    "print(\"\\n\\nData Terurut = \",bubbleSort(lstNums))"
   ]
  }
 ],
 "metadata": {
  "kernelspec": {
   "display_name": "Python 3 (ipykernel)",
   "language": "python",
   "name": "python3"
  },
  "language_info": {
   "codemirror_mode": {
    "name": "ipython",
    "version": 3
   },
   "file_extension": ".py",
   "mimetype": "text/x-python",
   "name": "python",
   "nbconvert_exporter": "python",
   "pygments_lexer": "ipython3",
   "version": "3.9.7"
  },
  "latex_envs": {
   "LaTeX_envs_menu_present": true,
   "autoclose": false,
   "autocomplete": true,
   "bibliofile": "biblio.bib",
   "cite_by": "apalike",
   "current_citInitial": 1,
   "eqLabelWithNumbers": true,
   "eqNumInitial": 1,
   "hotkeys": {
    "equation": "Ctrl-E",
    "itemize": "Ctrl-I"
   },
   "labels_anchors": false,
   "latex_user_defs": false,
   "report_style_numbering": false,
   "user_envs_cfg": false
  },
  "toc": {
   "base_numbering": 1,
   "nav_menu": {},
   "number_sections": true,
   "sideBar": true,
   "skip_h1_title": false,
   "title_cell": "Table of Contents",
   "title_sidebar": "Contents",
   "toc_cell": false,
   "toc_position": {},
   "toc_section_display": true,
   "toc_window_display": false
  },
  "varInspector": {
   "cols": {
    "lenName": 16,
    "lenType": 16,
    "lenVar": 40
   },
   "kernels_config": {
    "python": {
     "delete_cmd_postfix": "",
     "delete_cmd_prefix": "del ",
     "library": "var_list.py",
     "varRefreshCmd": "print(var_dic_list())"
    },
    "r": {
     "delete_cmd_postfix": ") ",
     "delete_cmd_prefix": "rm(",
     "library": "var_list.r",
     "varRefreshCmd": "cat(var_dic_list()) "
    }
   },
   "types_to_exclude": [
    "module",
    "function",
    "builtin_function_or_method",
    "instance",
    "_Feature"
   ],
   "window_display": true
  }
 },
 "nbformat": 4,
 "nbformat_minor": 5
}
