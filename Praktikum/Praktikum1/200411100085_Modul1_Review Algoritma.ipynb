{
 "cells": [
  {
   "cell_type": "markdown",
   "id": "bab2aed1",
   "metadata": {},
   "source": [
    "# Konsep"
   ]
  },
  {
   "cell_type": "code",
   "execution_count": null,
   "id": "be5377ab",
   "metadata": {},
   "outputs": [],
   "source": []
  },
  {
   "cell_type": "markdown",
   "id": "5f4cc289",
   "metadata": {},
   "source": [
    "# Implementasi"
   ]
  },
  {
   "cell_type": "markdown",
   "id": "f539272c",
   "metadata": {},
   "source": [
    "## Matriks 1D"
   ]
  },
  {
   "cell_type": "code",
   "execution_count": 6,
   "id": "a08b0829",
   "metadata": {
    "ExecuteTime": {
     "end_time": "2022-03-28T15:56:15.024101Z",
     "start_time": "2022-03-28T15:55:56.062638Z"
    },
    "scrolled": false
   },
   "outputs": [
    {
     "name": "stdout",
     "output_type": "stream",
     "text": [
      "=> Masukkan Angka 0 : 4\n",
      "=> Masukkan Angka 1 : 1\n",
      "=> Masukkan Angka 2 : 9\n",
      "=> Masukkan Angka 3 : 10\n",
      "=> Masukkan Angka 0 : 5\n",
      "=> Masukkan Angka 1 : 2\n",
      "=> Masukkan Angka 2 : 3\n",
      "=> Masukkan Angka 0 : 6\n",
      "=> Masukkan Angka 1 : 5\n",
      "=> Masukkan Angka 2 : 1\n",
      "=> Masukkan Angka 3 : 4\n",
      "Ukuran matriks tidak sama\n",
      "\n",
      "Matrix 1 = [4, 1, 9, 10]\n",
      "Matrix 2 = [5, 2, 3]\n",
      "Matrix 3 = [6, 5, 1, 4]\n",
      "\n",
      "Penjumlahan Matrix 1 = None\n",
      "Penjumlahan Matrix 2 = [10, 6, 10, 14]\n",
      "\n",
      "Hasil Perkalian Skalar = [30, 18, 30, 42]\n",
      "Hasil Perkalian Matrix = [120, 18, 270, 420]\n",
      "\n",
      "\n",
      "\n"
     ]
    }
   ],
   "source": [
    "def buatMatrix(ukuran) :\n",
    "    listMatrix = []\n",
    "    for i in range(ukuran) :\n",
    "        listMatrix.append(int(input(\"=> Masukkan Angka = \")))\n",
    "    return listMatrix\n",
    "\n",
    "def penjumlahanMatrix(matrix1,matrix2) :\n",
    "    ukuranMatrix = len(matrix1) == len(matrix2)\n",
    "    matrixHasil  = []\n",
    "    \n",
    "    if ukuranMatrix :\n",
    "        for i in range(len(matrix1)) :\n",
    "            matrixHasil.append(matrix1[i]+matrix2[i])\n",
    "            \n",
    "        return matrixHasil\n",
    "    else :\n",
    "        return \"Ukuran matrix tidak sama\"\n",
    "    \n",
    "def perkalianSkalar(bil,matrix) :\n",
    "    matrixHasil = []\n",
    "    \n",
    "    for mat in matrix :\n",
    "        matrixHasil.append(mat*bil)\n",
    "        \n",
    "    return matrixHasil\n",
    "\n",
    "def perkalianMatrix(matrix1,matrix2) :\n",
    "    ukuranMatrix = len(matrix1) == len(matrix2)\n",
    "    matrixHasil  = []\n",
    "    \n",
    "    if ukuranMatrix :\n",
    "        for i in range(len(matrix1)) :\n",
    "            matrixHasil.append(matrix1[i]*matrix2[i])\n",
    "        \n",
    "        return matrixHasil\n",
    "    else :\n",
    "        return \"Ukuran matrix tidak sama\"\n",
    "    \n",
    "\n",
    "matrix1 = buatMatrix(4)\n",
    "matrix2 = buatMatrix(3)\n",
    "matrix3 = buatMatrix(4)\n",
    "\n",
    "jumlah1 = penjumlahanMatrix(matrix1,matrix2)\n",
    "jumlah2 = penjumlahanMatrix(matrix1,matrix3)\n",
    "\n",
    "perkalian1 = perkalianSkalar(3,jumlah2)\n",
    "perkalian2 = perkalianMatrix(perkalian1,matrix1)\n",
    "\n",
    "\n",
    "print(\"\"\"\n",
    "Matrix1 = %s\n",
    "Matrix2 = %s\n",
    "Matrix3 = %s\n",
    "\n",
    "Hasil Penjumlahan1 = %s\n",
    "Hasil Penjumlahan2 = %s\n",
    "\n",
    "Hasil Perkalian Skalar = %s\n",
    "Hasil Perkalian Matrix = %s\n",
    "\n",
    "\n",
    "\"\"\" %\n",
    "(\n",
    "    matrix1,matrix2,matrix3,\n",
    "    jumlah1,jumlah2,\n",
    "    perkalian1,perkalian2\n",
    ")\n",
    "     )\n",
    "\n"
   ]
  },
  {
   "cell_type": "markdown",
   "id": "2425a937",
   "metadata": {},
   "source": [
    "## Matriks 2D"
   ]
  },
  {
   "cell_type": "code",
   "execution_count": 1,
   "id": "30d07bb3",
   "metadata": {
    "ExecuteTime": {
     "end_time": "2022-03-28T18:16:48.160346Z",
     "start_time": "2022-03-28T18:16:06.484385Z"
    }
   },
   "outputs": [
    {
     "name": "stdout",
     "output_type": "stream",
     "text": [
      "\n",
      "\n",
      "\n",
      "Baris  0\n",
      "=> Matrix [0,0] = 3\n",
      "=> Matrix [0,1] = 1\n",
      "=> Matrix [0,2] = 5\n",
      "\n",
      "Baris  1\n",
      "=> Matrix [1,0] = 9\n",
      "=> Matrix [1,1] = 1\n",
      "=> Matrix [1,2] = 4\n",
      "\n",
      "\n",
      "\n",
      "Baris  0\n",
      "=> Matrix [0,0] = 1\n",
      "=> Matrix [0,1] = 4\n",
      "=> Matrix [0,2] = 7\n",
      "\n",
      "Baris  1\n",
      "=> Matrix [1,0] = 8\n",
      "=> Matrix [1,1] = 0\n",
      "=> Matrix [1,2] = 2\n",
      "\n",
      "\n",
      "\n",
      "Baris  0\n",
      "=> Matrix [0,0] = 2\n",
      "=> Matrix [0,1] = 1\n",
      "\n",
      "Baris  1\n",
      "=> Matrix [1,0] = 4\n",
      "=> Matrix [1,1] = 8\n",
      "\n",
      "\n",
      "Matrix1 = [[3, 1, 5], [9, 1, 4]]\n",
      "Matrix2 = [[1, 4, 7], [8, 0, 2]]\n",
      "Matrix3 = [[2, 1], [4, 8]]\n",
      "\n",
      "Matrix1 + Matrix2 = [[4, 5, 12], [17, 1, 6]]\n",
      "Matrix1 + Matrix3 = Ukuran matrix tidak sama\n",
      "\n",
      "Matrix1 * Matrix2 = Tidak Memenuhi\n",
      "Matrix1 * Matrix3 = Tidak Memenuhi\n",
      "Matrix3 * Matrix2 = [[10, 8, 16], [68, 16, 44]]\n",
      "\n",
      "\n"
     ]
    }
   ],
   "source": [
    "# Gunakan Import module from URL jika anda tidak ingin mendownload module matrix.py\n",
    "# Anda bisa mendownload di url : \n",
    "# --- Github ---\n",
    "# - https://raw.githubusercontent.com/satriaer77/alpro_praktikum/main/Praktikum_Baru/Module/matrixLib.py (Versi OOP)\n",
    "# - https://raw.githubusercontent.com/satriaer77/alpro_praktikum/main/Praktikum_Baru/Module/matrix.py\n",
    "# \n",
    "# --- Google Drive ---\n",
    "# - https://drive.google.com/drive/folders/1jf2w7p748Osl1yMQw9nwnNxzCoeQ1kAy?usp=sharing\n",
    "\n",
    "\n",
    "\n",
    "#-------- Import from URL --------# \n",
    "# Uncomment code dibawah ini bila akan menggunakan module lewat URL\n",
    "# Setelah itu beri comment pada code from 'path' import matrix\n",
    "\n",
    "\n",
    "import urllib.request\n",
    "\n",
    "urlModule = urllib.request.urlopen('https://raw.githubusercontent.com/satriaer77/alpro_praktikum/main/Praktikum_Baru/Module/matrixLib.py')\n",
    "exec(urlModule.read()) #Menjalankan file py dari urlModule\n",
    "matrix    = Matrix() #Inisialisasi class Matrix\n",
    "\n",
    "\n",
    "#-------- End Import from URL --------#\n",
    "\n",
    "\n",
    "from modules import matrix\n",
    "\n",
    "matrix1 = matrix.createMatrix(2,3)\n",
    "matrix2 = matrix.createMatrix(2,3)\n",
    "matrix3 = matrix.createMatrix(2,2)\n",
    "\n",
    "jumlah1 = matrix.addMatrix(matrix1,matrix2)\n",
    "jumlah2 = matrix.addMatrix(matrix1,matrix3)\n",
    "\n",
    "kali1   = matrix.mulMatrix(matrix1,matrix2)\n",
    "kali2   = matrix.mulMatrix(matrix1,matrix3)\n",
    "kali3   = matrix.mulMatrix(matrix3,matrix2)\n",
    "\n",
    "print(\"\"\"\n",
    "\n",
    "Matrix1 = %s\n",
    "Matrix2 = %s\n",
    "Matrix3 = %s\n",
    "\n",
    "Matrix1 + Matrix2 = %s\n",
    "Matrix1 + Matrix3 = %s\n",
    "\n",
    "Matrix1 * Matrix2 = %s\n",
    "Matrix1 * Matrix3 = %s\n",
    "Matrix3 * Matrix2 = %s\n",
    "\n",
    "\"\"\" %\n",
    "(\n",
    "    matrix1,matrix2,matrix3,\n",
    "    jumlah1,jumlah2,\n",
    "    kali1,kali2,kali3\n",
    ")\n",
    "     \n",
    "     )"
   ]
  }
 ],
 "metadata": {
  "kernelspec": {
   "display_name": "Python 3 (ipykernel)",
   "language": "python",
   "name": "python3"
  },
  "language_info": {
   "codemirror_mode": {
    "name": "ipython",
    "version": 3
   },
   "file_extension": ".py",
   "mimetype": "text/x-python",
   "name": "python",
   "nbconvert_exporter": "python",
   "pygments_lexer": "ipython3",
   "version": "3.9.7"
  },
  "latex_envs": {
   "LaTeX_envs_menu_present": true,
   "autoclose": false,
   "autocomplete": true,
   "bibliofile": "biblio.bib",
   "cite_by": "apalike",
   "current_citInitial": 1,
   "eqLabelWithNumbers": true,
   "eqNumInitial": 1,
   "hotkeys": {
    "equation": "Ctrl-E",
    "itemize": "Ctrl-I"
   },
   "labels_anchors": false,
   "latex_user_defs": false,
   "report_style_numbering": false,
   "user_envs_cfg": false
  },
  "toc": {
   "base_numbering": 1,
   "nav_menu": {},
   "number_sections": true,
   "sideBar": true,
   "skip_h1_title": false,
   "title_cell": "Table of Contents",
   "title_sidebar": "Contents",
   "toc_cell": false,
   "toc_position": {},
   "toc_section_display": true,
   "toc_window_display": false
  },
  "varInspector": {
   "cols": {
    "lenName": 16,
    "lenType": 16,
    "lenVar": 40
   },
   "kernels_config": {
    "python": {
     "delete_cmd_postfix": "",
     "delete_cmd_prefix": "del ",
     "library": "var_list.py",
     "varRefreshCmd": "print(var_dic_list())"
    },
    "r": {
     "delete_cmd_postfix": ") ",
     "delete_cmd_prefix": "rm(",
     "library": "var_list.r",
     "varRefreshCmd": "cat(var_dic_list()) "
    }
   },
   "types_to_exclude": [
    "module",
    "function",
    "builtin_function_or_method",
    "instance",
    "_Feature"
   ],
   "window_display": false
  }
 },
 "nbformat": 4,
 "nbformat_minor": 5
}
