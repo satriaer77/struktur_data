{
 "cells": [
  {
   "cell_type": "code",
   "execution_count": 1,
   "id": "331df0d5",
   "metadata": {
    "ExecuteTime": {
     "end_time": "2022-03-28T16:27:39.571539Z",
     "start_time": "2022-03-28T16:27:10.318253Z"
    }
   },
   "outputs": [
    {
     "name": "stdout",
     "output_type": "stream",
     "text": [
      "=> Masukkan Angka = 4\n",
      "=> Masukkan Angka = 1\n",
      "=> Masukkan Angka = 9\n",
      "=> Masukkan Angka = 10\n",
      "=> Masukkan Angka = 5\n",
      "=> Masukkan Angka = 2\n",
      "=> Masukkan Angka = 3\n",
      "=> Masukkan Angka = 6\n",
      "=> Masukkan Angka = 5\n",
      "=> Masukkan Angka = 1\n",
      "=> Masukkan Angka = 4\n",
      "\n",
      "Matrix1 = [4, 1, 9, 10]\n",
      "Matrix2 = [5, 2, 3]\n",
      "Matrix3 = [6, 5, 1, 4]\n",
      "\n",
      "Hasil Penjumlahan1 = Ukuran matrix tidak sama\n",
      "Hasil Penjumlahan2 = [10, 6, 10, 14]\n",
      "\n",
      "Hasil Perkalian Skalar = [30, 18, 30, 42]\n",
      "Hasil Perkalian Matrix = [120, 18, 270, 420]\n",
      "\n",
      "\n",
      "\n"
     ]
    }
   ],
   "source": [
    "def buatMatrix(ukuran) :\n",
    "    listMatrix = []\n",
    "    for i in range(ukuran) :\n",
    "        listMatrix.append(int(input(\"=> Masukkan Angka = \")))\n",
    "    return listMatrix\n",
    "\n",
    "def penjumlahanMatrix(matrix1,matrix2) :\n",
    "    ukuranMatrix = len(matrix1) == len(matrix2)\n",
    "    matrixHasil  = []\n",
    "    \n",
    "    if ukuranMatrix :\n",
    "        for i in range(len(matrix1)) :\n",
    "            matrixHasil.append(matrix1[i]+matrix2[i])\n",
    "            \n",
    "        return matrixHasil\n",
    "    else :\n",
    "        return \"Ukuran matrix tidak sama\"\n",
    "    \n",
    "def perkalianSkalar(bil,matrix) :\n",
    "    matrixHasil = []\n",
    "    \n",
    "    for mat in matrix :\n",
    "        matrixHasil.append(mat*bil)\n",
    "        \n",
    "    return matrixHasil\n",
    "\n",
    "def perkalianMatrix(matrix1,matrix2) :\n",
    "    ukuranMatrix = len(matrix1) == len(matrix2)\n",
    "    matrixHasil  = []\n",
    "    \n",
    "    if ukuranMatrix :\n",
    "        for i in range(len(matrix1)) :\n",
    "            matrixHasil.append(matrix1[i]*matrix2[i])\n",
    "        \n",
    "        return matrixHasil\n",
    "    else :\n",
    "        return \"Ukuran matrix tidak sama\"\n",
    "    \n",
    "\n",
    "matrix1 = buatMatrix(4)\n",
    "matrix2 = buatMatrix(3)\n",
    "matrix3 = buatMatrix(4)\n",
    "\n",
    "jumlah1 = penjumlahanMatrix(matrix1,matrix2)\n",
    "jumlah2 = penjumlahanMatrix(matrix1,matrix3)\n",
    "\n",
    "perkalian1 = perkalianSkalar(3,jumlah2)\n",
    "perkalian2 = perkalianMatrix(perkalian1,matrix1)\n",
    "\n",
    "\n",
    "print(\"\"\"\n",
    "Matrix1 = %s\n",
    "Matrix2 = %s\n",
    "Matrix3 = %s\n",
    "\n",
    "Hasil Penjumlahan1 = %s\n",
    "Hasil Penjumlahan2 = %s\n",
    "\n",
    "Hasil Perkalian Skalar = %s\n",
    "Hasil Perkalian Matrix = %s\n",
    "\n",
    "\n",
    "\"\"\" %\n",
    "(\n",
    "    matrix1,matrix2,matrix3,\n",
    "    jumlah1,jumlah2,\n",
    "    perkalian1,perkalian2\n",
    ")\n",
    "     )\n",
    "\n"
   ]
  },
  {
   "cell_type": "code",
   "execution_count": null,
   "id": "9b620a2e",
   "metadata": {},
   "outputs": [],
   "source": []
  }
 ],
 "metadata": {
  "kernelspec": {
   "display_name": "Python 3 (ipykernel)",
   "language": "python",
   "name": "python3"
  },
  "language_info": {
   "codemirror_mode": {
    "name": "ipython",
    "version": 3
   },
   "file_extension": ".py",
   "mimetype": "text/x-python",
   "name": "python",
   "nbconvert_exporter": "python",
   "pygments_lexer": "ipython3",
   "version": "3.9.7"
  },
  "latex_envs": {
   "LaTeX_envs_menu_present": true,
   "autoclose": false,
   "autocomplete": true,
   "bibliofile": "biblio.bib",
   "cite_by": "apalike",
   "current_citInitial": 1,
   "eqLabelWithNumbers": true,
   "eqNumInitial": 1,
   "hotkeys": {
    "equation": "Ctrl-E",
    "itemize": "Ctrl-I"
   },
   "labels_anchors": false,
   "latex_user_defs": false,
   "report_style_numbering": false,
   "user_envs_cfg": false
  },
  "toc": {
   "base_numbering": 1,
   "nav_menu": {},
   "number_sections": true,
   "sideBar": true,
   "skip_h1_title": false,
   "title_cell": "Table of Contents",
   "title_sidebar": "Contents",
   "toc_cell": false,
   "toc_position": {},
   "toc_section_display": true,
   "toc_window_display": false
  },
  "varInspector": {
   "cols": {
    "lenName": 16,
    "lenType": 16,
    "lenVar": 40
   },
   "kernels_config": {
    "python": {
     "delete_cmd_postfix": "",
     "delete_cmd_prefix": "del ",
     "library": "var_list.py",
     "varRefreshCmd": "print(var_dic_list())"
    },
    "r": {
     "delete_cmd_postfix": ") ",
     "delete_cmd_prefix": "rm(",
     "library": "var_list.r",
     "varRefreshCmd": "cat(var_dic_list()) "
    }
   },
   "types_to_exclude": [
    "module",
    "function",
    "builtin_function_or_method",
    "instance",
    "_Feature"
   ],
   "window_display": false
  }
 },
 "nbformat": 4,
 "nbformat_minor": 5
}
