{
 "cells": [
  {
   "cell_type": "code",
   "execution_count": 2,
   "id": "3e262570",
   "metadata": {
    "ExecuteTime": {
     "end_time": "2022-04-25T17:53:05.277227Z",
     "start_time": "2022-04-25T17:53:05.257588Z"
    }
   },
   "outputs": [],
   "source": [
    "def createQueue() :\n",
    "    return []\n",
    "\n",
    "def enqueue(q,data):\n",
    "    q.insert(0,data)\n",
    "    return(q)\n",
    "\n",
    "def dequeue(q):\n",
    "    data=q.pop()\n",
    "    return(data)\n",
    "\n",
    "def isEmpty(q):\n",
    "    return (q==[])\n",
    "\n",
    "def size(q):\n",
    "    return (len(q))\n"
   ]
  },
  {
   "cell_type": "code",
   "execution_count": 7,
   "id": "6a6a5dad",
   "metadata": {
    "ExecuteTime": {
     "end_time": "2022-04-25T18:05:34.856460Z",
     "start_time": "2022-04-25T18:05:23.736955Z"
    }
   },
   "outputs": [
    {
     "name": "stdout",
     "output_type": "stream",
     "text": [
      "-> Masukkan proses yang akan dijadwal CPU = 3\n",
      "=> Nama proses ke-0 : A\n",
      "=> Waktu proses :5\n",
      "=> Nama proses ke-1 : B\n",
      "=> Waktu proses :9\n",
      "=> Nama proses ke-2 : C\n",
      "=> Waktu proses :2\n",
      "\n",
      "Waktu proses CPU = 3\n",
      "Antrian proses beserta waktunya = [['C', 2], ['B', 9], ['A', 5]]\n",
      "    \n",
      "\n",
      "Iterasi ke-1 : \n",
      "Proses A sedang diproses dan sisa waktu proses = 2 \n",
      "Data proses yang tersisa  [['A', 2], ['C', 2], ['B', 9]]\n",
      "\n",
      "Iterasi ke-2 : \n",
      "Proses B sedang diproses dan sisa waktu proses = 6 \n",
      "Data proses yang tersisa  [['B', 6], ['A', 2], ['C', 2]]\n",
      "\n",
      "Iterasi ke-3 : \n",
      "Proses C telah selesai diproses\n",
      "Data proses yang tersisa  [['B', 6], ['A', 2]]\n",
      "\n",
      "Iterasi ke-4 : \n",
      "Proses A telah selesai diproses\n",
      "Data proses yang tersisa  [['B', 6]]\n",
      "\n",
      "Iterasi ke-5 : \n",
      "Proses B sedang diproses dan sisa waktu proses = 3 \n",
      "Data proses yang tersisa  [['B', 3]]\n",
      "\n",
      "Iterasi ke-6 : \n",
      "Proses B telah selesai diproses\n",
      "Data proses yang tersisa  []\n"
     ]
    }
   ],
   "source": [
    "def taskScheduling(timeLimit) :\n",
    "    taskData  = createQueue()\n",
    "    taskTotal = int(input(\"-> Masukkan proses yang akan dijadwal CPU = \"))\n",
    "    \n",
    "    for i in range(taskTotal) :\n",
    "        taskName = input(\"=> Nama proses ke-%d : \" % (i))\n",
    "        taskTime = int(input(\"=> Waktu proses :\"))\n",
    "        enqueue(taskData,[taskName,taskTime])\n",
    "        \n",
    "    print(\"\"\"\n",
    "Waktu proses CPU = %d\n",
    "Antrian proses beserta waktunya = %s\n",
    "    \"\"\" % (timeLimit,taskData) )\n",
    "    numIteration = 1\n",
    "    \n",
    "    while not(isEmpty(taskData)) :\n",
    "        print(\"\\nIterasi ke-%d : \" % (numIteration))\n",
    "        numIteration+=1\n",
    "        nowTask   = dequeue(taskData)\n",
    "        tempLimit = timeLimit\n",
    "        \n",
    "        while nowTask[1] > 0 and tempLimit > 0 :\n",
    "            nowTask[1]-=1\n",
    "            tempLimit-=1\n",
    "            \n",
    "        if nowTask[1] > 0 :\n",
    "            print(\"Proses %s sedang diproses dan sisa waktu proses = %d \" % (nowTask[0],nowTask[1]) )\n",
    "            enqueue(taskData,nowTask)\n",
    "        \n",
    "        else : \n",
    "            print(\"Proses %s telah selesai diproses\" % (nowTask[0]) )\n",
    "            \n",
    "        print(\"Data proses yang tersisa \",taskData)\n",
    "        \n",
    "        \n",
    "        \n",
    "        \n",
    "taskScheduling(3)        "
   ]
  },
  {
   "cell_type": "code",
   "execution_count": null,
   "id": "792199a0",
   "metadata": {},
   "outputs": [],
   "source": []
  }
 ],
 "metadata": {
  "kernelspec": {
   "display_name": "Python 3 (ipykernel)",
   "language": "python",
   "name": "python3"
  },
  "language_info": {
   "codemirror_mode": {
    "name": "ipython",
    "version": 3
   },
   "file_extension": ".py",
   "mimetype": "text/x-python",
   "name": "python",
   "nbconvert_exporter": "python",
   "pygments_lexer": "ipython3",
   "version": "3.9.7"
  },
  "latex_envs": {
   "LaTeX_envs_menu_present": true,
   "autoclose": false,
   "autocomplete": true,
   "bibliofile": "biblio.bib",
   "cite_by": "apalike",
   "current_citInitial": 1,
   "eqLabelWithNumbers": true,
   "eqNumInitial": 1,
   "hotkeys": {
    "equation": "Ctrl-E",
    "itemize": "Ctrl-I"
   },
   "labels_anchors": false,
   "latex_user_defs": false,
   "report_style_numbering": false,
   "user_envs_cfg": false
  },
  "toc": {
   "base_numbering": 1,
   "nav_menu": {},
   "number_sections": true,
   "sideBar": true,
   "skip_h1_title": false,
   "title_cell": "Table of Contents",
   "title_sidebar": "Contents",
   "toc_cell": false,
   "toc_position": {},
   "toc_section_display": true,
   "toc_window_display": false
  },
  "varInspector": {
   "cols": {
    "lenName": 16,
    "lenType": 16,
    "lenVar": 40
   },
   "kernels_config": {
    "python": {
     "delete_cmd_postfix": "",
     "delete_cmd_prefix": "del ",
     "library": "var_list.py",
     "varRefreshCmd": "print(var_dic_list())"
    },
    "r": {
     "delete_cmd_postfix": ") ",
     "delete_cmd_prefix": "rm(",
     "library": "var_list.r",
     "varRefreshCmd": "cat(var_dic_list()) "
    }
   },
   "types_to_exclude": [
    "module",
    "function",
    "builtin_function_or_method",
    "instance",
    "_Feature"
   ],
   "window_display": false
  }
 },
 "nbformat": 4,
 "nbformat_minor": 5
}
