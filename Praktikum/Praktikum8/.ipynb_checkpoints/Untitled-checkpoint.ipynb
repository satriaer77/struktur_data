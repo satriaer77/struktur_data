{
 "cells": [
  {
   "cell_type": "code",
   "execution_count": 161,
   "id": "e5fa004b",
   "metadata": {
    "ExecuteTime": {
     "end_time": "2022-05-31T03:29:37.010779Z",
     "start_time": "2022-05-31T03:29:36.961109Z"
    },
    "scrolled": true
   },
   "outputs": [
    {
     "name": "stdout",
     "output_type": "stream",
     "text": [
      "6532 is in slot 32 index:2 \n",
      "Data in slot[32]=[3532, 3032, 6532] \n"
     ]
    }
   ],
   "source": [
    "import random as rand\n",
    "def generateData(totalData,rangeData) :\n",
    "    return [rand.randint(1,rangeData) for i in range(totalData)]\n",
    "\n",
    "def createHash(length) :\n",
    "    return [None for i in range(length)]\n",
    "\n",
    "def remainderFunction(data,lenHash) :\n",
    "    return data%lenHash\n",
    "\n",
    "def hashPut(dataList,hashTable) :\n",
    "    for data in dataList :\n",
    "        slot = remainderFunction(data,len(hashTable))\n",
    "        if hashTable[slot] != None :\n",
    "            if type(hashTable[slot]) != list :\n",
    "                hashTable[slot] = [hashTable[slot]]\n",
    "            hashTable[slot].append(data)\n",
    "            \n",
    "        else :\n",
    "            hashTable[slot] = data\n",
    "    return hashTable\n",
    "\n",
    "def hashSearch(hashTable,keyword) :\n",
    "    slot = remainderFunction(keyword,len(hashTable))\n",
    "    if type(hashTable[slot]) == list :\n",
    "        if keyword in hashTable[slot] :\n",
    "            return [slot,hashTable[slot].index(keyword)]\n",
    "        else :\n",
    "            return False\n",
    "    else :\n",
    "        if hashTable[slot] == keyword :\n",
    "            return [slot,slot]\n",
    "        else :\n",
    "            return False\n",
    "    \n",
    "data = generateData(500,7000)        \n",
    "numOfSlot = 500\n",
    "hashTable = createHash(numOfSlot)\n",
    "hashTable = hashPut(data,hashTable)\n",
    "findData  = 6532\n",
    "found     = hashSearch(hashTable,findData)\n",
    "# print(hashTable)\n",
    "if not found :\n",
    "    print(\"%d data is not in hash table \" % (findData) )\n",
    "    \n",
    "else :\n",
    "    print(\"%d is in slot %d index:%d \" % (findData,found[0],found[1]))\n",
    "    print(\"Data in slot[%s]=%s \" % (found[0],hashTable[found[0]] ) )\n",
    "    "
   ]
  },
  {
   "cell_type": "code",
   "execution_count": 90,
   "id": "ccaba456",
   "metadata": {
    "ExecuteTime": {
     "end_time": "2022-05-31T03:27:51.965279Z",
     "start_time": "2022-05-31T03:27:51.937585Z"
    }
   },
   "outputs": [
    {
     "name": "stdout",
     "output_type": "stream",
     "text": [
      "1\n"
     ]
    }
   ],
   "source": [
    "ss = [34,3,5,2]\n",
    "print(ss.index(3))"
   ]
  },
  {
   "cell_type": "code",
   "execution_count": null,
   "id": "65ab1945",
   "metadata": {},
   "outputs": [],
   "source": []
  }
 ],
 "metadata": {
  "kernelspec": {
   "display_name": "Python 3 (ipykernel)",
   "language": "python",
   "name": "python3"
  },
  "language_info": {
   "codemirror_mode": {
    "name": "ipython",
    "version": 3
   },
   "file_extension": ".py",
   "mimetype": "text/x-python",
   "name": "python",
   "nbconvert_exporter": "python",
   "pygments_lexer": "ipython3",
   "version": "3.9.7"
  },
  "latex_envs": {
   "LaTeX_envs_menu_present": true,
   "autoclose": false,
   "autocomplete": true,
   "bibliofile": "biblio.bib",
   "cite_by": "apalike",
   "current_citInitial": 1,
   "eqLabelWithNumbers": true,
   "eqNumInitial": 1,
   "hotkeys": {
    "equation": "Ctrl-E",
    "itemize": "Ctrl-I"
   },
   "labels_anchors": false,
   "latex_user_defs": false,
   "report_style_numbering": false,
   "user_envs_cfg": false
  },
  "toc": {
   "base_numbering": 1,
   "nav_menu": {},
   "number_sections": true,
   "sideBar": true,
   "skip_h1_title": false,
   "title_cell": "Table of Contents",
   "title_sidebar": "Contents",
   "toc_cell": false,
   "toc_position": {},
   "toc_section_display": true,
   "toc_window_display": false
  },
  "varInspector": {
   "cols": {
    "lenName": 16,
    "lenType": 16,
    "lenVar": 40
   },
   "kernels_config": {
    "python": {
     "delete_cmd_postfix": "",
     "delete_cmd_prefix": "del ",
     "library": "var_list.py",
     "varRefreshCmd": "print(var_dic_list())"
    },
    "r": {
     "delete_cmd_postfix": ") ",
     "delete_cmd_prefix": "rm(",
     "library": "var_list.r",
     "varRefreshCmd": "cat(var_dic_list()) "
    }
   },
   "types_to_exclude": [
    "module",
    "function",
    "builtin_function_or_method",
    "instance",
    "_Feature"
   ],
   "window_display": false
  }
 },
 "nbformat": 4,
 "nbformat_minor": 5
}
