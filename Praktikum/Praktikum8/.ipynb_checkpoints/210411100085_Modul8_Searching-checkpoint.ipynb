{
 "cells": [
  {
   "cell_type": "markdown",
   "id": "6febe124",
   "metadata": {},
   "source": [
    "# Konsep"
   ]
  },
  {
   "cell_type": "markdown",
   "id": "e7fc3c01",
   "metadata": {},
   "source": [
    "## Searching\n",
    "\n",
    "**Sequential Search**\n",
    "\n",
    "Algoritma searching sequential search merupakan algoritma yang mencari data dengan cara mengecek setiap elemen yang berada pada list. Proses pengecekan data tersebut akan terus berjalan hingga elemen terakhir pada list. Contoh :\n",
    "\n",
    "~~~python\n",
    "\"\"\"\n",
    "[13,32,15,53]\n",
    "    /\\\n",
    "    ||\n",
    "data yang di cari adalah 32, dan ditemukan di index 1\n",
    "maka proses pencarian akan terus berjalan walaupun sudah didapat data yang dicari\n",
    "\n",
    "\"\"\"\n",
    "\n",
    "~~~\n",
    "\n",
    "\n",
    "**Sequential Search (Ordered)**\n",
    "\n",
    "Algoritma searching sequential search (ordered) merupakan algoritma yang mencari data dengan cara mengecek setiap elemen yang berada pada list dengan syarat data harus diurutkan terlebih dahulu. Proses pengecekannya sama seperti unordered sequential search tetapi pada ordered sequential search setelah data ditemukan maka proses pencariannya akan berhenti. Contoh :\n",
    "\n",
    "~~~python\n",
    "\"\"\"\n",
    "[13,32,15,53]\n",
    "\n",
    "|Data diurutkan |\n",
    "|terlebih dahulu|\n",
    "     \\/\n",
    "     \n",
    "[13,15,32,53]\n",
    "\n",
    "    /\\\n",
    "    ||\n",
    "data yang di cari adalah 32, dan ditemukan di index 2\n",
    "maka proses pencarian akan berhenti.\n",
    "\"\"\"\n",
    "\n",
    "~~~\n",
    "\n",
    "\n",
    "**Binary Search**\n",
    "\n",
    "Algoritma Binary search merupakan algoritma search yang pencariannya membagi data menjadi 2 dan dimulai dari bagian tengah data dengan syarat data harus terurut.\n",
    "\n",
    "\n",
    "**Hasing**\n",
    "\n",
    "Algoritma hashing merupakan algoritma yang menempatkan data pada tempat yang bernama hash table sehingga data yang akan dicari dapat menggunakan hash table. Pencariannya hanya melakukan 1 kali perbandingan saja apakah data ada di tempat hash table tersebut atau tidak."
   ]
  },
  {
   "cell_type": "markdown",
   "id": "87f8a72a",
   "metadata": {},
   "source": [
    "## Hashing"
   ]
  },
  {
   "cell_type": "markdown",
   "id": "025b17e4",
   "metadata": {},
   "source": [
    "**Hash Table & Slot**\n",
    "\n",
    "Hash table merupakan tempat yang digunakan untuk menempatkan data yang akan dicari nantinya, sedangkan slot itu merupakan posisi/index dari data tersebut.\n",
    "\n",
    "**Fungsi Hash**\n",
    "\n",
    "Fungsi hash merupakan bagaimana suatu data itu akan ditempatkan pada hash table. Cara menempatkan data tersebut dalam hash tabel dapat menggunakan rumus data%ukuranHashTable. Maka data akan ditempatkan pada posisi slot dari hasil tersebut.\n",
    "\n",
    "**Pencarian dengan konsep Hasing**\n",
    "\n",
    "- Hal pertama yang dilakukan adalah buat hash table yang berukuran lebih dari ukuran list data yang dicari.\n",
    "- Kemudian tempatkan data tersebut ke dalam hash table dengan menggunakan fungsi hash.\n",
    "- Setelah selesai menepatkan semua data pada slot di hash table langkah selanjutnya adalah mencari data dengan cara hitung nilai hash dari data yang akan dicari kemudian dari nilai hash tersebut digunakan untuk mendapatkan data dari hash table menggunakan slot dengan nilai hash yang sydah didapat tadi.\n",
    "\n",
    "**Collusion**\n",
    "\n",
    "Collusion pada hashing merupakan kejadian dimana ada data dengan nilai yang sama yang akan ditempatkan pada hash table sehingga terjadi replacing data dengan data baru. Penangannya dapat menggunakan metode chaining yaitu dengan cara menempatkan data dengan nilai hash yang sama pada slot yang sama tetapi pada slot tersebut terdapat ruangan tersendiri untuk setiap data.\n",
    "\n"
   ]
  },
  {
   "cell_type": "markdown",
   "id": "9eff4c95",
   "metadata": {},
   "source": [
    "# Implementasi"
   ]
  },
  {
   "cell_type": "markdown",
   "id": "69a31af2",
   "metadata": {},
   "source": [
    "## Searching"
   ]
  },
  {
   "cell_type": "code",
   "execution_count": 57,
   "id": "6c4878d7",
   "metadata": {
    "ExecuteTime": {
     "end_time": "2022-05-30T23:23:31.750279Z",
     "start_time": "2022-05-30T23:23:31.734977Z"
    }
   },
   "outputs": [],
   "source": [
    "import random as rand\n",
    "\n",
    "def insertionSortAscending(nums) :\n",
    "    maxIdx = len(nums)-1\n",
    "\n",
    "    for i in range(maxIdx,0,-1):\n",
    "        key = nums[i-1]\n",
    "        iAfter = i\n",
    "        while iAfter <= maxIdx and key>=nums[iAfter]  :\n",
    "            nums[iAfter-1] = nums[iAfter]\n",
    "            iAfter+=1\n",
    "        nums[iAfter-1] = key\n",
    "        \n",
    "    return nums\n",
    "\n",
    "\n",
    "def generateData(totalData,rangeData) :\n",
    "    return [rand.randint(1,rangeData) for i in range(totalData)]\n"
   ]
  },
  {
   "cell_type": "code",
   "execution_count": 50,
   "id": "fefdec3f",
   "metadata": {
    "ExecuteTime": {
     "end_time": "2022-05-30T23:21:03.005032Z",
     "start_time": "2022-05-30T23:21:02.988588Z"
    }
   },
   "outputs": [],
   "source": [
    "def seqSearch(data,keyword) :\n",
    "    dataFound = []\n",
    "    for i in range(len(data)) :\n",
    "        if keyword == data[i] :\n",
    "            dataFound.append(i)\n",
    "        \n",
    "    if len(dataFound) > 0 :\n",
    "        return \"%d is in = %s\" % (keyword,dataFound)\n",
    "    else :\n",
    "        return \"%d is not Found\" % (keyword)\n",
    "      "
   ]
  },
  {
   "cell_type": "code",
   "execution_count": 53,
   "id": "1870373c",
   "metadata": {
    "ExecuteTime": {
     "end_time": "2022-05-30T23:21:27.345806Z",
     "start_time": "2022-05-30T23:21:27.320488Z"
    }
   },
   "outputs": [
    {
     "name": "stdout",
     "output_type": "stream",
     "text": [
      "Data =  [140, 292, 455, 106, 350, 474, 107, 157, 102, 399, 280, 118, 188, 385, 385, 76, 231, 212, 185, 174, 224, 265, 33, 137, 66, 442, 392, 59, 499, 442, 377, 197, 314, 482, 472, 449, 260, 456, 473, 229, 19, 334, 152, 463, 320, 236, 385, 358, 279, 213, 58, 188, 39, 53, 14, 243, 263, 430, 278, 425, 445, 152, 131, 116, 388, 451, 396, 313, 130, 128, 356, 313, 454, 167, 442, 375, 95, 164, 315, 486, 260, 98, 420, 221, 340, 82, 474, 179, 309, 440, 108, 198, 147, 160, 453, 438, 495, 247, 500, 370, 361, 18, 205, 66, 115, 492, 31, 265, 219, 34, 199, 406, 386, 451, 380, 426, 150, 420, 409, 352, 447, 478, 81, 30, 497, 373, 181, 202, 129, 444, 309, 454, 159, 285, 438, 158, 322, 209, 336, 144, 44, 54, 375, 319, 495, 472, 103, 473, 292, 473, 11, 466, 457, 345, 83, 112, 342, 4, 95, 242, 205, 498, 21, 465, 201, 173, 155, 469, 123, 370, 185, 212, 393, 158, 378, 405, 102, 89, 437, 476, 221, 136, 193, 231, 85, 64, 63, 150, 357, 399, 139, 197, 108, 340, 79, 156, 155, 274, 446, 347, 81, 287, 449, 166, 150, 61, 316, 30, 343, 498, 274, 447, 77, 472, 478, 209, 30, 131, 445, 286, 136, 116, 483, 497, 49, 437, 12, 241, 4, 77, 347, 307, 249, 363, 461, 39, 253, 70, 80, 401, 243, 23, 442, 53, 1, 291, 126, 8, 398, 479, 33, 391, 165, 320, 456, 464, 355, 430, 394, 259, 253, 88, 450, 174, 131, 140, 102, 213, 363, 427, 414, 406, 30, 453, 231, 465, 130, 394, 65, 293, 19, 361, 18, 292, 133, 290, 189, 261, 373, 349, 274, 55, 137, 496, 277, 19, 209, 59, 64, 126, 435, 142, 63, 399, 438, 240, 488, 396, 308, 284, 286, 20, 487, 139, 362, 83, 422, 59, 1, 280, 93, 468, 279, 260, 440, 122, 119, 51, 291, 409, 452, 191, 444, 44, 431, 52, 270, 29, 347, 137, 319, 324, 242, 125, 411, 462, 455, 17, 98, 88, 452, 47, 84, 468, 344, 241, 328, 10, 386, 71, 249, 171, 121, 379, 91, 355, 334, 178, 6, 435, 396, 319, 28, 209, 257, 372, 22, 7, 352, 30, 259, 477, 123, 340, 463, 452, 135, 217, 293, 266, 285, 385, 447, 164, 205, 382, 375, 64, 263, 169, 7, 174, 240, 202, 246, 200, 490, 23, 5, 271, 220, 319, 148, 72, 50, 388, 464, 72, 223, 105, 434, 441, 30, 5, 472, 397, 432, 391, 106, 281, 56, 395, 344, 103, 162, 491, 6, 8, 316, 413, 374, 370, 189, 142, 310, 349, 208, 33, 165, 206, 348, 473, 352, 498, 216, 387, 216, 221, 378, 29, 140, 436, 356, 480, 24, 411, 90, 449, 227, 352, 221, 224, 238, 227, 91, 153, 404, 369, 39, 108, 400, 186, 128, 82, 380, 424, 387, 25, 143, 414, 95, 421, 499, 379, 18, 498, 222, 472, 157, 239]\n",
      "\n",
      "100 is not Found\n",
      "20 is in = [311]\n",
      "500 is in = [98]\n"
     ]
    }
   ],
   "source": [
    "data = generateData(500,500)\n",
    "print(\"Data = \",data,end=\"\\n\\n\")\n",
    "print(seqSearch(data,100))\n",
    "print(seqSearch(data,20))\n",
    "print(seqSearch(data,500))"
   ]
  },
  {
   "cell_type": "code",
   "execution_count": 62,
   "id": "4e1da08b",
   "metadata": {
    "ExecuteTime": {
     "end_time": "2022-05-30T23:25:37.885216Z",
     "start_time": "2022-05-30T23:25:37.866283Z"
    }
   },
   "outputs": [],
   "source": [
    "def orderedSeqSearch(data,keyword):\n",
    "    dataFound = False\n",
    "    idxDataFounded = 0\n",
    "    \n",
    "    for i in range(len(data)) :\n",
    "        if data[i] == keyword :\n",
    "            dataFound = True\n",
    "            idxDataFounded = i\n",
    "            break\n",
    "    \n",
    "    if dataFound :\n",
    "        return \"%d is in = %d, numberOfIteration = %d\" % (keyword,idxDataFounded,idxDataFounded+1)   \n",
    "    else:\n",
    "        return \"%d is not found, numberOfIteration = %d\" % (keyword,len(data)) \n",
    "        "
   ]
  },
  {
   "cell_type": "code",
   "execution_count": 66,
   "id": "9480982e",
   "metadata": {
    "ExecuteTime": {
     "end_time": "2022-05-30T23:26:20.224672Z",
     "start_time": "2022-05-30T23:26:20.177157Z"
    }
   },
   "outputs": [
    {
     "name": "stdout",
     "output_type": "stream",
     "text": [
      "Data =  [1, 1, 2, 2, 2, 3, 6, 7, 9, 9, 10, 12, 14, 14, 15, 16, 19, 20, 20, 21, 22, 22, 25, 25, 26, 30, 31, 32, 32, 34, 34, 34, 36, 40, 41, 47, 47, 51, 51, 52, 54, 59, 60, 60, 61, 63, 64, 66, 66, 66, 68, 69, 69, 70, 70, 72, 72, 74, 79, 80, 81, 82, 83, 84, 86, 86, 89, 90, 92, 92, 92, 92, 97, 97, 99, 100, 101, 101, 101, 104, 106, 107, 108, 108, 109, 109, 111, 111, 112, 115, 115, 115, 116, 117, 117, 119, 120, 121, 124, 125, 127, 128, 129, 131, 135, 135, 136, 137, 139, 140, 140, 141, 141, 144, 145, 148, 149, 152, 153, 156, 156, 157, 157, 160, 162, 168, 171, 171, 173, 173, 174, 177, 177, 177, 177, 179, 180, 181, 183, 183, 186, 187, 188, 192, 194, 194, 195, 198, 200, 204, 205, 206, 207, 207, 208, 209, 210, 211, 211, 212, 212, 212, 213, 213, 213, 214, 215, 223, 224, 224, 225, 225, 226, 230, 235, 242, 247, 252, 254, 257, 257, 258, 259, 262, 264, 265, 265, 269, 269, 270, 271, 274, 277, 278, 278, 279, 282, 282, 283, 287, 289, 289, 291, 291, 292, 293, 296, 299, 303, 304, 305, 308, 314, 315, 318, 318, 320, 325, 330, 331, 334, 335, 338, 339, 342, 342, 345, 346, 348, 349, 350, 351, 352, 352, 352, 355, 357, 359, 360, 362, 365, 366, 366, 367, 369, 369, 372, 374, 380, 382, 382, 383, 386, 388, 388, 389, 394, 397, 398, 399, 402, 403, 404, 404, 407, 407, 410, 411, 415, 417, 417, 420, 420, 424, 424, 427, 428, 429, 434, 435, 435, 435, 437, 437, 445, 445, 446, 448, 449, 450, 450, 452, 454, 454, 455, 459, 461, 463, 464, 466, 466, 469, 470, 471, 472, 473, 474, 475, 477, 478, 482, 488, 489, 491, 493, 494, 496, 497, 498, 499, 500, 501, 502, 502, 503, 505, 507, 510, 510, 511, 512, 512, 512, 520, 521, 524, 524, 528, 529, 529, 533, 533, 533, 535, 536, 539, 539, 540, 542, 542, 543, 543, 544, 545, 551, 552, 552, 552, 552, 553, 554, 554, 555, 558, 559, 559, 569, 569, 571, 571, 571, 575, 576, 577, 577, 578, 581, 582, 583, 586, 586, 587, 588, 588, 591, 592, 592, 592, 594, 595, 596, 598, 600, 606, 607, 607, 608, 610, 611, 612, 614, 614, 614, 620, 628, 629, 630, 630, 631, 633, 635, 638, 643, 647, 649, 652, 652, 653, 658, 658, 661, 661, 669, 669, 670, 670, 674, 674, 676, 684, 691, 696, 696, 696, 700, 700, 701, 704, 706, 707, 709, 710, 711, 711, 714, 715, 716, 719, 720, 724, 725, 727, 728, 729, 731, 739, 741, 741, 741, 742, 745, 745, 746, 746, 748, 748, 749, 750, 750, 751, 755, 757, 758, 759, 759, 760, 761, 764, 765, 771, 771, 771, 774, 774, 779, 781, 784, 785, 788, 789, 791, 791, 792, 793, 794, 795, 795, 796, 799, 799]\n",
      "\n",
      "1 is in = 0, numberOfIteration = 1\n",
      "25 is in = 22, numberOfIteration = 23\n",
      "100 is in = 75, numberOfIteration = 76\n",
      "20 is in = 17, numberOfIteration = 18\n",
      "500 is in = 320, numberOfIteration = 321\n",
      "1000 is not found, numberOfIteration = 500\n"
     ]
    }
   ],
   "source": [
    "data = insertionSortAscending(generateData(500,800))\n",
    "print(\"Data = \",data,end=\"\\n\\n\")\n",
    "print(orderedSeqSearch(data,1))\n",
    "print(orderedSeqSearch(data,25))\n",
    "print(orderedSeqSearch(data,100))\n",
    "print(orderedSeqSearch(data,20))\n",
    "print(orderedSeqSearch(data,500))\n",
    "print(orderedSeqSearch(data,1000))"
   ]
  },
  {
   "cell_type": "code",
   "execution_count": 73,
   "id": "7d27de10",
   "metadata": {
    "ExecuteTime": {
     "end_time": "2022-05-30T23:47:38.665680Z",
     "start_time": "2022-05-30T23:47:38.650719Z"
    }
   },
   "outputs": [],
   "source": [
    "def binarySearch(data, keyword):\n",
    "    first = 0\n",
    "    last = len(data) - 1\n",
    "    found = False\n",
    "    ind = 0\n",
    "    while first <= last and not found:\n",
    "        midpoint = (first + last) // 2\n",
    "        if data[midpoint] == keyword:\n",
    "            found = True\n",
    "        elif data[midpoint] > keyword:\n",
    "            last = midpoint - 1\n",
    "        else:\n",
    "            first = midpoint + 1\n",
    "        ind += 1\n",
    "\n",
    "    if found :\n",
    "        return \"%d is in : %d , numberOfItaration : %d\" % (keyword,midpoint,ind)\n",
    "    else :\n",
    "        return \"%d is not found , numberOfItaration : %d\" % (keyword,ind)"
   ]
  },
  {
   "cell_type": "code",
   "execution_count": 75,
   "id": "7fb9eb6e",
   "metadata": {
    "ExecuteTime": {
     "end_time": "2022-05-30T23:47:52.543669Z",
     "start_time": "2022-05-30T23:47:52.480469Z"
    },
    "scrolled": true
   },
   "outputs": [
    {
     "name": "stdout",
     "output_type": "stream",
     "text": [
      "Data =  [2, 6, 7, 8, 11, 13, 13, 13, 13, 19, 22, 22, 23, 23, 23, 24, 24, 27, 28, 29, 30, 30, 30, 30, 31, 34, 35, 35, 36, 36, 39, 41, 42, 44, 45, 45, 46, 46, 46, 47, 50, 50, 54, 55, 55, 58, 61, 61, 61, 62, 63, 63, 64, 64, 65, 65, 67, 68, 68, 73, 77, 78, 81, 81, 81, 83, 85, 85, 87, 88, 91, 91, 93, 99, 100, 102, 102, 102, 103, 105, 107, 108, 109, 110, 110, 111, 112, 112, 114, 119, 120, 128, 135, 135, 135, 136, 140, 144, 150, 155, 157, 158, 158, 162, 163, 164, 173, 173, 173, 175, 176, 179, 183, 185, 188, 188, 190, 191, 191, 194, 195, 195, 196, 196, 197, 200, 200, 201, 203, 206, 210, 214, 217, 218, 219, 219, 221, 222, 223, 223, 225, 226, 227, 230, 235, 238, 243, 245, 245, 250, 251, 252, 254, 255, 257, 259, 262, 264, 267, 267, 268, 268, 270, 270, 270, 273, 273, 273, 277, 278, 278, 279, 279, 282, 282, 283, 285, 286, 287, 289, 290, 290, 290, 292, 292, 294, 301, 306, 306, 307, 308, 310, 312, 312, 312, 314, 315, 316, 317, 318, 321, 322, 324, 324, 329, 331, 332, 332, 336, 337, 339, 339, 340, 342, 343, 344, 348, 349, 350, 353, 354, 354, 356, 357, 361, 361, 362, 362, 367, 367, 368, 370, 371, 374, 375, 375, 377, 382, 382, 383, 387, 388, 393, 395, 397, 399, 399, 400, 401, 404, 404, 405, 405, 406, 406, 409, 410, 411, 411, 413, 414, 415, 416, 417, 418, 418, 419, 419, 420, 420, 426, 427, 427, 428, 430, 431, 432, 434, 435, 435, 437, 441, 443, 444, 444, 444, 445, 447, 451, 455, 456, 456, 461, 461, 463, 466, 467, 470, 471, 473, 474, 475, 475, 475, 476, 480, 482, 483, 484, 484, 497, 500, 503, 509, 521, 522, 523, 530, 531, 533, 535, 536, 539, 540, 540, 540, 540, 541, 542, 543, 543, 544, 544, 545, 548, 548, 548, 549, 549, 549, 552, 553, 554, 554, 554, 554, 555, 557, 559, 559, 560, 567, 568, 569, 570, 571, 572, 575, 576, 576, 578, 580, 583, 585, 587, 588, 589, 593, 594, 598, 598, 599, 602, 603, 603, 604, 604, 605, 607, 610, 611, 614, 619, 619, 626, 627, 628, 629, 629, 629, 630, 631, 635, 635, 638, 638, 638, 639, 639, 639, 640, 640, 642, 643, 643, 645, 647, 647, 653, 653, 654, 657, 657, 658, 658, 660, 662, 668, 669, 669, 671, 671, 671, 673, 674, 678, 680, 681, 688, 689, 691, 693, 695, 695, 697, 698, 701, 701, 708, 710, 710, 711, 713, 713, 714, 714, 717, 718, 718, 719, 719, 721, 723, 723, 726, 727, 727, 728, 731, 731, 731, 732, 732, 735, 736, 737, 738, 739, 740, 742, 743, 750, 753, 753, 754, 754, 756, 758, 759, 762, 767, 768, 769, 769, 770, 774, 777, 777, 780, 785, 785, 788, 793, 794, 795, 796, 799, 800, 800, 800]\n",
      "\n",
      "1 is not found , numberOfItaration : 8\n",
      "31 is in : 24 , numberOfItaration : 8\n",
      "254 is in : 152 , numberOfItaration : 9\n",
      "1320 is not found , numberOfItaration : 9\n"
     ]
    }
   ],
   "source": [
    "data = insertionSortAscending(generateData(500,800))\n",
    "print(\"Data = \",data,end=\"\\n\\n\")\n",
    "print(binarySearch(data,1))\n",
    "print(binarySearch(data,31))\n",
    "print(binarySearch(data,254))\n",
    "print(binarySearch(data,1320))"
   ]
  },
  {
   "cell_type": "markdown",
   "id": "b6d79763",
   "metadata": {},
   "source": [
    "## Hashing"
   ]
  },
  {
   "cell_type": "code",
   "execution_count": 144,
   "id": "e2e6d237",
   "metadata": {
    "ExecuteTime": {
     "end_time": "2022-05-31T01:41:07.592878Z",
     "start_time": "2022-05-31T01:41:07.564914Z"
    }
   },
   "outputs": [],
   "source": [
    "def createHash(length) :\n",
    "    return [None for i in range(length)]\n",
    "\n",
    "def remainderFun(num,lenData) :\n",
    "    return num%lenData\n",
    "\n",
    "def hashPut(nums,table) :\n",
    "    for num in nums :\n",
    "        idx = remainderFun(num,len(table))\n",
    "        if table[idx] != None :\n",
    "            if type(table[idx]) != list :\n",
    "                table[idx] = [table[idx]]\n",
    "            table[idx].append(num)\n",
    "            \n",
    "        else :\n",
    "            table[idx] = num \n",
    "      \n",
    "    return table\n",
    "    \n",
    "def hashSearch(table, keyword) :\n",
    "\n",
    "    hashVal = remainderFun(keyword,len(table))\n",
    "    if type(table[hashVal]) == list :\n",
    "        if keyword in table[hashVal] :\n",
    "            return [hashVal,table[hashVal].index(keyword)]\n",
    "        else :\n",
    "            return False\n",
    "    else :\n",
    "        if table[hashVal] == keyword :\n",
    "            return [hashVal,hashVal]\n",
    "        else :\n",
    "            return False\n",
    "\n",
    "  "
   ]
  },
  {
   "cell_type": "code",
   "execution_count": 237,
   "id": "a687bf9a",
   "metadata": {
    "ExecuteTime": {
     "end_time": "2022-05-31T02:03:59.423326Z",
     "start_time": "2022-05-31T02:03:59.394300Z"
    }
   },
   "outputs": [
    {
     "name": "stdout",
     "output_type": "stream",
     "text": [
      "6532 is in slot 32 indeks:32\n",
      "Data in slot [32]:6532\n"
     ]
    }
   ],
   "source": [
    "data      = generateData(500,7000)\n",
    "findData  = 6532\n",
    "hashTable = hashPut(data,createHash(500))\n",
    "found     = hashSearch(hashTable,findData)\n",
    "\n",
    "\n",
    "if not found :\n",
    "    print(\"%d not in the hash table\" % (findData))\n",
    "else :\n",
    "    print(\"%d is in slot %d indeks:%d\"%(findData,found[0],found[1]))\n",
    "    print(\"Data in slot [%d]:%s\"%(found[0],hashTable[found[0]]))  "
   ]
  }
 ],
 "metadata": {
  "kernelspec": {
   "display_name": "Python 3 (ipykernel)",
   "language": "python",
   "name": "python3"
  },
  "language_info": {
   "codemirror_mode": {
    "name": "ipython",
    "version": 3
   },
   "file_extension": ".py",
   "mimetype": "text/x-python",
   "name": "python",
   "nbconvert_exporter": "python",
   "pygments_lexer": "ipython3",
   "version": "3.9.7"
  },
  "latex_envs": {
   "LaTeX_envs_menu_present": true,
   "autoclose": false,
   "autocomplete": true,
   "bibliofile": "biblio.bib",
   "cite_by": "apalike",
   "current_citInitial": 1,
   "eqLabelWithNumbers": true,
   "eqNumInitial": 1,
   "hotkeys": {
    "equation": "Ctrl-E",
    "itemize": "Ctrl-I"
   },
   "labels_anchors": false,
   "latex_user_defs": false,
   "report_style_numbering": false,
   "user_envs_cfg": false
  },
  "toc": {
   "base_numbering": 1,
   "nav_menu": {},
   "number_sections": true,
   "sideBar": true,
   "skip_h1_title": false,
   "title_cell": "Table of Contents",
   "title_sidebar": "Contents",
   "toc_cell": false,
   "toc_position": {},
   "toc_section_display": true,
   "toc_window_display": false
  },
  "varInspector": {
   "cols": {
    "lenName": 16,
    "lenType": 16,
    "lenVar": 40
   },
   "kernels_config": {
    "python": {
     "delete_cmd_postfix": "",
     "delete_cmd_prefix": "del ",
     "library": "var_list.py",
     "varRefreshCmd": "print(var_dic_list())"
    },
    "r": {
     "delete_cmd_postfix": ") ",
     "delete_cmd_prefix": "rm(",
     "library": "var_list.r",
     "varRefreshCmd": "cat(var_dic_list()) "
    }
   },
   "types_to_exclude": [
    "module",
    "function",
    "builtin_function_or_method",
    "instance",
    "_Feature"
   ],
   "window_display": false
  }
 },
 "nbformat": 4,
 "nbformat_minor": 5
}
