{
 "cells": [
  {
   "cell_type": "code",
   "execution_count": 7,
   "id": "b46abfc3",
   "metadata": {
    "ExecuteTime": {
     "end_time": "2022-05-09T22:47:50.399817Z",
     "start_time": "2022-05-09T22:47:50.346048Z"
    }
   },
   "outputs": [
    {
     "name": "stdout",
     "output_type": "stream",
     "text": [
      "Data yang akan diurutkan =  [10, 9, 1, 3, 8, 7, 11]\n",
      "\n",
      "Outer Loop # 1\n",
      "is Data[6] > Data[5] ? True , Data = [10, 9, 1, 3, 8, 7, 11] \n",
      "is Data[5] > Data[4] ? True , Data = [10, 9, 1, 3, 8, 11, 7] \n",
      "is Data[4] > Data[3] ? True , Data = [10, 9, 1, 3, 11, 8, 7] \n",
      "is Data[3] > Data[2] ? True , Data = [10, 9, 1, 11, 3, 8, 7] \n",
      "is Data[2] > Data[1] ? True , Data = [10, 9, 11, 1, 3, 8, 7] \n",
      "is Data[1] > Data[0] ? True , Data = [10, 11, 9, 1, 3, 8, 7] \n",
      "\n",
      "Outer Loop # 2\n",
      "is Data[6] > Data[5] ? False , Data = [11, 10, 9, 1, 3, 8, 7] \n",
      "is Data[5] > Data[4] ? True , Data = [11, 10, 9, 1, 3, 8, 7] \n",
      "is Data[4] > Data[3] ? True , Data = [11, 10, 9, 1, 8, 3, 7] \n",
      "is Data[3] > Data[2] ? False , Data = [11, 10, 9, 8, 1, 3, 7] \n",
      "is Data[2] > Data[1] ? False , Data = [11, 10, 9, 8, 1, 3, 7] \n",
      "\n",
      "Outer Loop # 3\n",
      "is Data[6] > Data[5] ? True , Data = [11, 10, 9, 8, 1, 3, 7] \n",
      "is Data[5] > Data[4] ? True , Data = [11, 10, 9, 8, 1, 7, 3] \n",
      "is Data[4] > Data[3] ? False , Data = [11, 10, 9, 8, 7, 1, 3] \n",
      "is Data[3] > Data[2] ? False , Data = [11, 10, 9, 8, 7, 1, 3] \n",
      "\n",
      "Outer Loop # 4\n",
      "is Data[6] > Data[5] ? True , Data = [11, 10, 9, 8, 7, 1, 3] \n",
      "is Data[5] > Data[4] ? False , Data = [11, 10, 9, 8, 7, 3, 1] \n",
      "is Data[4] > Data[3] ? False , Data = [11, 10, 9, 8, 7, 3, 1] \n",
      "\n",
      "Outer Loop # 5\n",
      "is Data[6] > Data[5] ? False , Data = [11, 10, 9, 8, 7, 3, 1] \n",
      "is Data[5] > Data[4] ? False , Data = [11, 10, 9, 8, 7, 3, 1] \n",
      "\n",
      "Outer Loop # 6\n",
      "is Data[6] > Data[5] ? False , Data = [11, 10, 9, 8, 7, 3, 1] \n",
      "\n",
      "\n",
      "Sorted Data  [11, 10, 9, 8, 7, 3, 1]\n"
     ]
    }
   ],
   "source": [
    "def bubbleSortDescending(nums) :\n",
    "    print(\"Data yang akan diurutkan = \",nums)\n",
    "    no = 1\n",
    "    for i in range(len(nums)-1,0,-1) :\n",
    "        print(\"\\nOuter Loop #\",no)\n",
    "        \n",
    "        for j in range(len(nums)-1,len(nums)-1-i,-1) :\n",
    "            check = nums[j] > nums[j-1]\n",
    "            print(\"is Data[%d] > Data[%d] ? %s , Data = %s \" % (j,j-1,check,nums) )\n",
    "            \n",
    "            if check :\n",
    "                nums[j],nums[j-1] = nums[j-1],nums[j]\n",
    "        \n",
    "        no+=1\n",
    "        \n",
    "        \n",
    "    return nums\n",
    "\n",
    "\n",
    "\n",
    "lstNums = [10,9,1,3,8,7,11]\n",
    "print(\"\\n\\nSorted Data \",bubbleSortDescending(lstNums))\n"
   ]
  },
  {
   "cell_type": "code",
   "execution_count": null,
   "id": "a23ebfc1",
   "metadata": {},
   "outputs": [],
   "source": []
  }
 ],
 "metadata": {
  "kernelspec": {
   "display_name": "Python 3 (ipykernel)",
   "language": "python",
   "name": "python3"
  },
  "language_info": {
   "codemirror_mode": {
    "name": "ipython",
    "version": 3
   },
   "file_extension": ".py",
   "mimetype": "text/x-python",
   "name": "python",
   "nbconvert_exporter": "python",
   "pygments_lexer": "ipython3",
   "version": "3.9.7"
  },
  "latex_envs": {
   "LaTeX_envs_menu_present": true,
   "autoclose": false,
   "autocomplete": true,
   "bibliofile": "biblio.bib",
   "cite_by": "apalike",
   "current_citInitial": 1,
   "eqLabelWithNumbers": true,
   "eqNumInitial": 1,
   "hotkeys": {
    "equation": "Ctrl-E",
    "itemize": "Ctrl-I"
   },
   "labels_anchors": false,
   "latex_user_defs": false,
   "report_style_numbering": false,
   "user_envs_cfg": false
  },
  "toc": {
   "base_numbering": 1,
   "nav_menu": {},
   "number_sections": true,
   "sideBar": true,
   "skip_h1_title": false,
   "title_cell": "Table of Contents",
   "title_sidebar": "Contents",
   "toc_cell": false,
   "toc_position": {},
   "toc_section_display": true,
   "toc_window_display": false
  },
  "varInspector": {
   "cols": {
    "lenName": 16,
    "lenType": 16,
    "lenVar": 40
   },
   "kernels_config": {
    "python": {
     "delete_cmd_postfix": "",
     "delete_cmd_prefix": "del ",
     "library": "var_list.py",
     "varRefreshCmd": "print(var_dic_list())"
    },
    "r": {
     "delete_cmd_postfix": ") ",
     "delete_cmd_prefix": "rm(",
     "library": "var_list.r",
     "varRefreshCmd": "cat(var_dic_list()) "
    }
   },
   "types_to_exclude": [
    "module",
    "function",
    "builtin_function_or_method",
    "instance",
    "_Feature"
   ],
   "window_display": false
  }
 },
 "nbformat": 4,
 "nbformat_minor": 5
}
