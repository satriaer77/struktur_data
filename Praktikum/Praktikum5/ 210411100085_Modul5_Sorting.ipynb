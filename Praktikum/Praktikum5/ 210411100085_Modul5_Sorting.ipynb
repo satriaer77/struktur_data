{
 "cells": [
  {
   "cell_type": "markdown",
   "id": "e41f55ff",
   "metadata": {},
   "source": [
    "# Konsep"
   ]
  },
  {
   "cell_type": "markdown",
   "id": "d7aeaff8",
   "metadata": {},
   "source": [
    "## Selection Sort (Kode Soal = 1)\n",
    "\n",
    "Selection sort merupakan algoritman pengurutan yang prosesnya adalah mencari data yang memenuhi syarat yang sudah ditentukan kemudian data tersebut akan diletakkan pada indeks yang telah ditentukan.\n",
    "\n",
    "Langkah selection sort : \n",
    "\n",
    "- Maka data bisa dicari data terkecil terlebih dahulu dengan cara membandingkan kedua buah data.\n",
    "- Setelah itu data  akan dipindah ke indeks minimal bila menggunakan ascending sort.\n",
    "- Proses selanjutnya adalah mengulangi proses diatas tetapi indeks minimal akan ditambah 1 karena indeks minimal sebelumnya digunakan untuk menampung hasil dari nilai terkecil.\n",
    "- Ulangi langkah diatas sampai data terurut.\n",
    "\n",
    "\n",
    "\n",
    "~~~python\n",
    "\n",
    "\"\"\"\n",
    "Misal ada 3 data di dalam list\n",
    "yang akan diurutkan menggunakan selctionsort ascending\n",
    "\n",
    "1 -> [3,6,5]\n",
    "2 -> [3,5,6]\n",
    "\n",
    "1.) Cari data terkecil dengan membandingkan indeks 0 dan 1 yaitu 3 dan 6.\n",
    "2.) Kemudian tampung indeks dari nilai terkecil.\n",
    "3.) Bandingkan indeks dari nilai terkecil yaitu 0 dengan indeks ke 2.\n",
    "4.) Setelah selesai kemudian pindah nilai dari indeks nilai terkecil ke indeks minimal, sesudahnya indeks pembanding maju 1 yaitu membandingkan indeks 1 dan 2.\n",
    "5.) Setelah ditemukan indeks dari nilai terkecil yaitu indeks ke 2, kemudian pindah nilai dari indeks ke 1 dan 2.\n",
    "6.) Data sudah terurut karena iterasinya sudah selesai.\n",
    "\n",
    "\n",
    "\"\"\"\n",
    "\n",
    "~~~"
   ]
  },
  {
   "cell_type": "markdown",
   "id": "22e0379f",
   "metadata": {},
   "source": [
    "# Implementasi-1"
   ]
  },
  {
   "cell_type": "markdown",
   "id": "543dfe3c",
   "metadata": {},
   "source": [
    "## Kode Soal 1"
   ]
  },
  {
   "cell_type": "code",
   "execution_count": 4,
   "id": "1c924a18",
   "metadata": {
    "ExecuteTime": {
     "end_time": "2022-05-09T21:09:05.152145Z",
     "start_time": "2022-05-09T21:09:05.092365Z"
    }
   },
   "outputs": [
    {
     "name": "stdout",
     "output_type": "stream",
     "text": [
      "\n",
      "\n",
      "Data yang akan diurutkan =  [10, 9, 1, 3, 8, 7, 11]\n",
      "\n",
      "Outer Loop # 1\n",
      "is data[6] > data[5] ? True , Data -> [10, 9, 1, 3, 8, 11, 7] \n",
      "is data[5] > data[4] ? True , Data -> [10, 9, 1, 3, 11, 8, 7] \n",
      "is data[4] > data[3] ? True , Data -> [10, 9, 1, 11, 3, 8, 7] \n",
      "is data[3] > data[2] ? True , Data -> [10, 9, 11, 1, 3, 8, 7] \n",
      "is data[2] > data[1] ? True , Data -> [10, 11, 9, 1, 3, 8, 7] \n",
      "is data[1] > data[0] ? True , Data -> [11, 10, 9, 1, 3, 8, 7] \n",
      "\n",
      "Outer Loop # 2\n",
      "is data[6] > data[5] ? False , Data -> [11, 10, 9, 1, 3, 8, 7] \n",
      "is data[5] > data[4] ? True , Data -> [11, 10, 9, 1, 8, 3, 7] \n",
      "is data[4] > data[3] ? True , Data -> [11, 10, 9, 8, 1, 3, 7] \n",
      "is data[3] > data[2] ? False , Data -> [11, 10, 9, 8, 1, 3, 7] \n",
      "is data[2] > data[1] ? False , Data -> [11, 10, 9, 8, 1, 3, 7] \n",
      "\n",
      "Outer Loop # 3\n",
      "is data[6] > data[5] ? True , Data -> [11, 10, 9, 8, 1, 7, 3] \n",
      "is data[5] > data[4] ? True , Data -> [11, 10, 9, 8, 7, 1, 3] \n",
      "is data[4] > data[3] ? False , Data -> [11, 10, 9, 8, 7, 1, 3] \n",
      "is data[3] > data[2] ? False , Data -> [11, 10, 9, 8, 7, 1, 3] \n",
      "\n",
      "Outer Loop # 4\n",
      "is data[6] > data[5] ? True , Data -> [11, 10, 9, 8, 7, 3, 1] \n",
      "is data[5] > data[4] ? False , Data -> [11, 10, 9, 8, 7, 3, 1] \n",
      "is data[4] > data[3] ? False , Data -> [11, 10, 9, 8, 7, 3, 1] \n",
      "\n",
      "Outer Loop # 5\n",
      "is data[6] > data[5] ? False , Data -> [11, 10, 9, 8, 7, 3, 1] \n",
      "is data[5] > data[4] ? False , Data -> [11, 10, 9, 8, 7, 3, 1] \n",
      "\n",
      "Outer Loop # 6\n",
      "is data[6] > data[5] ? False , Data -> [11, 10, 9, 8, 7, 3, 1] \n",
      "\n",
      "\n",
      "Sorted Data  [11, 10, 9, 8, 7, 3, 1]\n"
     ]
    }
   ],
   "source": [
    "def bubbleSortDescending(nums):\n",
    "    print(\"\\n\\nData yang akan diurutkan = \", nums)\n",
    "    no = 1\n",
    "    for i in range(len(nums) - 1, 0, -1):\n",
    "\n",
    "        print(\"\\nOuter Loop #\", no)\n",
    "        for j in range(len(nums) - 1, len(nums) - i - 1, -1):\n",
    "            check = nums[j] > nums[j - 1]\n",
    "            if check:\n",
    "                nums[j], nums[j - 1] = nums[j - 1], nums[j]\n",
    "            print(\"is data[%d] > data[%d] ? %s , Data -> %s \" %\n",
    "                  (j, j - 1, check, nums))\n",
    "\n",
    "        no += 1\n",
    "\n",
    "    return nums\n",
    "\n",
    "\n",
    "lstNums = [10, 9, 1, 3, 8, 7, 11]\n",
    "print(\"\\n\\nSorted Data \", bubbleSortDescending(lstNums))"
   ]
  },
  {
   "cell_type": "markdown",
   "id": "05b67b0c",
   "metadata": {},
   "source": [
    "# Implementasi-2"
   ]
  },
  {
   "cell_type": "code",
   "execution_count": 43,
   "id": "5776de02",
   "metadata": {
    "ExecuteTime": {
     "end_time": "2022-05-09T22:13:00.266517Z",
     "start_time": "2022-05-09T22:13:00.206876Z"
    }
   },
   "outputs": [
    {
     "name": "stdout",
     "output_type": "stream",
     "text": [
      "\n",
      "\n",
      "Data yang akan diurutkan =  [10, 2, 5, 8, 1, 20, 2, 2, 4]\n",
      "\n",
      "Iterasi ke- 1 jumlah iterasi 8\n",
      "1 =  [2, 10, 5, 8, 1, 20, 2, 2, 4] \n",
      "2 =  [2, 5, 10, 8, 1, 20, 2, 2, 4] \n",
      "3 =  [2, 5, 8, 10, 1, 20, 2, 2, 4] \n",
      "4 =  [2, 5, 8, 1, 10, 20, 2, 2, 4] \n",
      "5 =  [2, 5, 8, 1, 10, 20, 2, 2, 4] \n",
      "6 =  [2, 5, 8, 1, 10, 2, 20, 2, 4] \n",
      "7 =  [2, 5, 8, 1, 10, 2, 2, 20, 4] \n",
      "8 =  [2, 5, 8, 1, 10, 2, 2, 4, 20] \n",
      "\n",
      "Iterasi ke- 2 jumlah iterasi 7\n",
      "1 =  [2, 5, 8, 1, 10, 2, 2, 4, 20] \n",
      "2 =  [2, 5, 8, 1, 10, 2, 2, 4, 20] \n",
      "3 =  [2, 5, 1, 8, 10, 2, 2, 4, 20] \n",
      "4 =  [2, 5, 1, 8, 10, 2, 2, 4, 20] \n",
      "5 =  [2, 5, 1, 8, 2, 10, 2, 4, 20] \n",
      "6 =  [2, 5, 1, 8, 2, 2, 10, 4, 20] \n",
      "7 =  [2, 5, 1, 8, 2, 2, 4, 10, 20] \n",
      "\n",
      "Iterasi ke- 3 jumlah iterasi 6\n",
      "1 =  [2, 5, 1, 8, 2, 2, 4, 10, 20] \n",
      "2 =  [2, 1, 5, 8, 2, 2, 4, 10, 20] \n",
      "3 =  [2, 1, 5, 8, 2, 2, 4, 10, 20] \n",
      "4 =  [2, 1, 5, 2, 8, 2, 4, 10, 20] \n",
      "5 =  [2, 1, 5, 2, 2, 8, 4, 10, 20] \n",
      "6 =  [2, 1, 5, 2, 2, 4, 8, 10, 20] \n",
      "\n",
      "Iterasi ke- 4 jumlah iterasi 5\n",
      "1 =  [1, 2, 5, 2, 2, 4, 8, 10, 20] \n",
      "2 =  [1, 2, 5, 2, 2, 4, 8, 10, 20] \n",
      "3 =  [1, 2, 2, 5, 2, 4, 8, 10, 20] \n",
      "4 =  [1, 2, 2, 2, 5, 4, 8, 10, 20] \n",
      "5 =  [1, 2, 2, 2, 4, 5, 8, 10, 20] \n",
      "\n",
      "Iterasi ke- 5 jumlah iterasi 4\n",
      "1 =  [1, 2, 2, 2, 4, 5, 8, 10, 20] \n",
      "2 =  [1, 2, 2, 2, 4, 5, 8, 10, 20] \n",
      "3 =  [1, 2, 2, 2, 4, 5, 8, 10, 20] \n",
      "4 =  [1, 2, 2, 2, 4, 5, 8, 10, 20] \n",
      "\n",
      "\n",
      "Data Urut  [1, 2, 2, 2, 4, 5, 8, 10, 20]\n"
     ]
    }
   ],
   "source": [
    "def bubbleSortModified(nums):\n",
    "    print(\"\\n\\nData yang akan diurutkan = \", nums)\n",
    "    no = 1\n",
    "\n",
    "    for i in range(len(nums) - 1):\n",
    "        numsSorted = 0\n",
    "        totalIteration = len(nums) - 1 - i\n",
    "\n",
    "        print(\"\\nIterasi ke- %d jumlah iterasi %d\" % (no, totalIteration))\n",
    "\n",
    "        for j in range(totalIteration):\n",
    "            check = nums[j] > nums[j + 1]\n",
    "            if check:\n",
    "                nums[j], nums[j + 1] = nums[j + 1], nums[j]\n",
    "                numsSorted += 1\n",
    "            print(\"%d =  %s \" % (j + 1, nums))\n",
    "\n",
    "        if numsSorted == 0:\n",
    "            break\n",
    "\n",
    "        no += 1\n",
    "\n",
    "    return nums\n",
    "\n",
    "\n",
    "lstNums = [10, 2, 5, 8, 1, 20, 2, 2, 4]\n",
    "print(\"\\n\\nData Urut \", bubbleSortModified(lstNums))"
   ]
  }
 ],
 "metadata": {
  "kernelspec": {
   "display_name": "Python 3 (ipykernel)",
   "language": "python",
   "name": "python3"
  },
  "language_info": {
   "codemirror_mode": {
    "name": "ipython",
    "version": 3
   },
   "file_extension": ".py",
   "mimetype": "text/x-python",
   "name": "python",
   "nbconvert_exporter": "python",
   "pygments_lexer": "ipython3",
   "version": "3.9.7"
  },
  "latex_envs": {
   "LaTeX_envs_menu_present": true,
   "autoclose": false,
   "autocomplete": true,
   "bibliofile": "biblio.bib",
   "cite_by": "apalike",
   "current_citInitial": 1,
   "eqLabelWithNumbers": true,
   "eqNumInitial": 1,
   "hotkeys": {
    "equation": "Ctrl-E",
    "itemize": "Ctrl-I"
   },
   "labels_anchors": false,
   "latex_user_defs": false,
   "report_style_numbering": false,
   "user_envs_cfg": false
  },
  "toc": {
   "base_numbering": 1,
   "nav_menu": {},
   "number_sections": true,
   "sideBar": true,
   "skip_h1_title": false,
   "title_cell": "Table of Contents",
   "title_sidebar": "Contents",
   "toc_cell": false,
   "toc_position": {
    "height": "calc(100% - 180px)",
    "left": "10px",
    "top": "150px",
    "width": "273.188px"
   },
   "toc_section_display": true,
   "toc_window_display": false
  },
  "varInspector": {
   "cols": {
    "lenName": 16,
    "lenType": 16,
    "lenVar": 40
   },
   "kernels_config": {
    "python": {
     "delete_cmd_postfix": "",
     "delete_cmd_prefix": "del ",
     "library": "var_list.py",
     "varRefreshCmd": "print(var_dic_list())"
    },
    "r": {
     "delete_cmd_postfix": ") ",
     "delete_cmd_prefix": "rm(",
     "library": "var_list.r",
     "varRefreshCmd": "cat(var_dic_list()) "
    }
   },
   "position": {
    "height": "235.844px",
    "left": "996px",
    "right": "20px",
    "top": "120px",
    "width": "350px"
   },
   "types_to_exclude": [
    "module",
    "function",
    "builtin_function_or_method",
    "instance",
    "_Feature"
   ],
   "window_display": false
  }
 },
 "nbformat": 4,
 "nbformat_minor": 5
}
