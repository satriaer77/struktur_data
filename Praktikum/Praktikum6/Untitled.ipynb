{
 "cells": [
  {
   "cell_type": "code",
   "execution_count": null,
   "id": "5de9330b",
   "metadata": {},
   "outputs": [],
   "source": []
  },
  {
   "cell_type": "code",
   "execution_count": null,
   "id": "c8b6a612",
   "metadata": {},
   "outputs": [],
   "source": []
  },
  {
   "cell_type": "code",
   "execution_count": null,
   "id": "86ead206",
   "metadata": {},
   "outputs": [],
   "source": [
    "nums   = [1]\n",
    "maxIdx = len(nums)-1\n",
    "print(nums)\n",
    "for i in range(maxIdx,0,-1):\n",
    "    key = nums[i-1]\n",
    "    #print(\"No \",i,\" = \",key)\n",
    "    print(\"-- key\",key,\"--\")\n",
    "    iBefore = i\n",
    "    \n",
    "    while iBefore <= maxIdx and key<=nums[iBefore]  :\n",
    "        #print(iBefore)\n",
    "        print(\"Key = \",key,\" Data[iBefore-1] = \",nums[iBefore])\n",
    "        nums[iBefore-1] = nums[iBefore]\n",
    "        print(\"Data Pergeseran : \",nums)\n",
    "        iBefore+=1\n",
    "        print(\"iBefore : \",iBefore)\n",
    "    nums[iBefore-1] = key\n",
    "    print(\"=> Data Sementara = \",nums)\n"
   ]
  },
  {
   "cell_type": "code",
   "execution_count": null,
   "id": "67b9e990",
   "metadata": {},
   "outputs": [],
   "source": []
  }
 ],
 "metadata": {
  "kernelspec": {
   "display_name": "alpro-env",
   "language": "python",
   "name": "alpro-env"
  },
  "latex_envs": {
   "LaTeX_envs_menu_present": true,
   "autoclose": false,
   "autocomplete": true,
   "bibliofile": "biblio.bib",
   "cite_by": "apalike",
   "current_citInitial": 1,
   "eqLabelWithNumbers": true,
   "eqNumInitial": 1,
   "hotkeys": {
    "equation": "Ctrl-E",
    "itemize": "Ctrl-I"
   },
   "labels_anchors": false,
   "latex_user_defs": false,
   "report_style_numbering": false,
   "user_envs_cfg": false
  },
  "toc": {
   "base_numbering": 1,
   "nav_menu": {},
   "number_sections": true,
   "sideBar": true,
   "skip_h1_title": false,
   "title_cell": "Table of Contents",
   "title_sidebar": "Contents",
   "toc_cell": false,
   "toc_position": {},
   "toc_section_display": true,
   "toc_window_display": false
  }
 },
 "nbformat": 4,
 "nbformat_minor": 5
}
