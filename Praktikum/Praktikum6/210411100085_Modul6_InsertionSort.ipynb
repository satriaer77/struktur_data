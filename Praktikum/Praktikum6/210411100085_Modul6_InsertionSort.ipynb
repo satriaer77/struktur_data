{
 "cells": [
  {
   "cell_type": "markdown",
   "id": "2f275527",
   "metadata": {},
   "source": [
    "# Ascending"
   ]
  },
  {
   "attachments": {},
   "cell_type": "markdown",
   "id": "3eb5e2ba",
   "metadata": {},
   "source": [
    "![praktikum6Ascending.png](praktikum6Ascending.png)"
   ]
  },
  {
   "cell_type": "code",
   "execution_count": 12,
   "id": "6f02a12f",
   "metadata": {
    "ExecuteTime": {
     "end_time": "2022-05-16T19:27:37.154221Z",
     "start_time": "2022-05-16T19:27:37.094456Z"
    }
   },
   "outputs": [
    {
     "name": "stdout",
     "output_type": "stream",
     "text": [
      "Data :  [10, 2, 4, 5, 20, 8, 15]\n",
      "key, data[5] : 8\n",
      "Data :  [10, 2, 4, 5, 20, 8, 15]\n",
      "key, data[4] : 20\n",
      "Inner Sorting =  [10, 2, 4, 5, 8, 8, 15]\n",
      "Inner Sorting =  [10, 2, 4, 5, 8, 15, 15]\n",
      "Data :  [10, 2, 4, 5, 8, 15, 20]\n",
      "key, data[3] : 5\n",
      "Data :  [10, 2, 4, 5, 8, 15, 20]\n",
      "key, data[2] : 4\n",
      "Data :  [10, 2, 4, 5, 8, 15, 20]\n",
      "key, data[1] : 2\n",
      "Data :  [10, 2, 4, 5, 8, 15, 20]\n",
      "key, data[0] : 10\n",
      "Inner Sorting =  [2, 2, 4, 5, 8, 15, 20]\n",
      "Inner Sorting =  [2, 4, 4, 5, 8, 15, 20]\n",
      "Inner Sorting =  [2, 4, 5, 5, 8, 15, 20]\n",
      "Inner Sorting =  [2, 4, 5, 8, 8, 15, 20]\n",
      "Sorted Data :  [2, 4, 5, 8, 10, 15, 20]\n"
     ]
    }
   ],
   "source": [
    "def insertionSortAscending(nums) :\n",
    "    maxIdx = len(nums)-1\n",
    "\n",
    "    for i in range(maxIdx,0,-1):\n",
    "        \n",
    "        print(\"Data : \",nums)\n",
    "        key = nums[i-1]\n",
    "        print(\"key, data[%d] : %d\" % (i-1,key) )\n",
    "        iAfter = i\n",
    "    \n",
    "        while iAfter <= maxIdx and key>=nums[iAfter]  :\n",
    "            nums[iAfter-1] = nums[iAfter]\n",
    "            print(\"Inner Sorting = \",nums)\n",
    "            iAfter+=1\n",
    "        nums[iAfter-1] = key\n",
    "        \n",
    "        \n",
    "    return nums\n",
    "\n",
    "\n",
    "nums   = [10,2,4,5,20,8,15]\n",
    "print(\"Sorted Data : \",insertionSortAscending(nums))"
   ]
  },
  {
   "cell_type": "markdown",
   "id": "2c574b8b",
   "metadata": {},
   "source": [
    "## Descending"
   ]
  },
  {
   "attachments": {},
   "cell_type": "markdown",
   "id": "c4d3cf52",
   "metadata": {},
   "source": [
    "![praktikum6Descending.png](praktikum6Descending.png)"
   ]
  },
  {
   "cell_type": "code",
   "execution_count": 13,
   "id": "450438c5",
   "metadata": {
    "ExecuteTime": {
     "end_time": "2022-05-16T19:33:23.338714Z",
     "start_time": "2022-05-16T19:33:23.287413Z"
    }
   },
   "outputs": [
    {
     "name": "stdout",
     "output_type": "stream",
     "text": [
      "Data :  [10, 9, 1, 3, 8, 7, 11]\n",
      "key, data[5] : 7\n",
      "Inner Sorting =  [10, 9, 1, 3, 8, 11, 11]\n",
      "Data :  [10, 9, 1, 3, 8, 11, 7]\n",
      "key, data[4] : 8\n",
      "Inner Sorting =  [10, 9, 1, 3, 11, 11, 7]\n",
      "Data :  [10, 9, 1, 3, 11, 8, 7]\n",
      "key, data[3] : 3\n",
      "Inner Sorting =  [10, 9, 1, 11, 11, 8, 7]\n",
      "Inner Sorting =  [10, 9, 1, 11, 8, 8, 7]\n",
      "Inner Sorting =  [10, 9, 1, 11, 8, 7, 7]\n",
      "Data :  [10, 9, 1, 11, 8, 7, 3]\n",
      "key, data[2] : 1\n",
      "Inner Sorting =  [10, 9, 11, 11, 8, 7, 3]\n",
      "Inner Sorting =  [10, 9, 11, 8, 8, 7, 3]\n",
      "Inner Sorting =  [10, 9, 11, 8, 7, 7, 3]\n",
      "Inner Sorting =  [10, 9, 11, 8, 7, 3, 3]\n",
      "Data :  [10, 9, 11, 8, 7, 3, 1]\n",
      "key, data[1] : 9\n",
      "Inner Sorting =  [10, 11, 11, 8, 7, 3, 1]\n",
      "Data :  [10, 11, 9, 8, 7, 3, 1]\n",
      "key, data[0] : 10\n",
      "Inner Sorting =  [11, 11, 9, 8, 7, 3, 1]\n",
      "Sorted Data :  [11, 10, 9, 8, 7, 3, 1]\n"
     ]
    }
   ],
   "source": [
    "def insertionSortDescending(nums) :\n",
    "    maxIdx = len(nums)-1\n",
    "\n",
    "    for i in range(maxIdx,0,-1):\n",
    "        \n",
    "        print(\"Data : \",nums)\n",
    "        key = nums[i-1]\n",
    "        print(\"key, data[%d] : %d\" % (i-1,key) )\n",
    "        iAfter = i\n",
    "    \n",
    "        while iAfter <= maxIdx and key<=nums[iAfter]  :\n",
    "            nums[iAfter-1] = nums[iAfter]\n",
    "            print(\"Inner Sorting = \",nums)\n",
    "            iAfter+=1\n",
    "        nums[iAfter-1] = key\n",
    "        \n",
    "        \n",
    "    return nums\n",
    "\n",
    "\n",
    "nums   = [10,9,1,3,8,7,11]\n",
    "print(\"Sorted Data : \",insertionSortDescending(nums))"
   ]
  }
 ],
 "metadata": {
  "kernelspec": {
   "display_name": "Python 3 (ipykernel)",
   "language": "python",
   "name": "python3"
  },
  "language_info": {
   "codemirror_mode": {
    "name": "ipython",
    "version": 3
   },
   "file_extension": ".py",
   "mimetype": "text/x-python",
   "name": "python",
   "nbconvert_exporter": "python",
   "pygments_lexer": "ipython3",
   "version": "3.9.7"
  },
  "latex_envs": {
   "LaTeX_envs_menu_present": true,
   "autoclose": false,
   "autocomplete": true,
   "bibliofile": "biblio.bib",
   "cite_by": "apalike",
   "current_citInitial": 1,
   "eqLabelWithNumbers": true,
   "eqNumInitial": 1,
   "hotkeys": {
    "equation": "Ctrl-E",
    "itemize": "Ctrl-I"
   },
   "labels_anchors": false,
   "latex_user_defs": false,
   "report_style_numbering": false,
   "user_envs_cfg": false
  },
  "toc": {
   "base_numbering": 1,
   "nav_menu": {},
   "number_sections": true,
   "sideBar": true,
   "skip_h1_title": false,
   "title_cell": "Table of Contents",
   "title_sidebar": "Contents",
   "toc_cell": false,
   "toc_position": {},
   "toc_section_display": true,
   "toc_window_display": false
  },
  "varInspector": {
   "cols": {
    "lenName": 16,
    "lenType": 16,
    "lenVar": 40
   },
   "kernels_config": {
    "python": {
     "delete_cmd_postfix": "",
     "delete_cmd_prefix": "del ",
     "library": "var_list.py",
     "varRefreshCmd": "print(var_dic_list())"
    },
    "r": {
     "delete_cmd_postfix": ") ",
     "delete_cmd_prefix": "rm(",
     "library": "var_list.r",
     "varRefreshCmd": "cat(var_dic_list()) "
    }
   },
   "types_to_exclude": [
    "module",
    "function",
    "builtin_function_or_method",
    "instance",
    "_Feature"
   ],
   "window_display": false
  }
 },
 "nbformat": 4,
 "nbformat_minor": 5
}
