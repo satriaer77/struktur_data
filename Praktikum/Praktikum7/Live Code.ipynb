{
 "cells": [
  {
   "cell_type": "code",
   "execution_count": 7,
   "id": "d099c67b",
   "metadata": {
    "ExecuteTime": {
     "end_time": "2022-05-24T01:18:49.175448Z",
     "start_time": "2022-05-24T01:18:49.143235Z"
    }
   },
   "outputs": [
    {
     "name": "stdout",
     "output_type": "stream",
     "text": [
      "hannah\n",
      "word[0]==word[-1] --> ? h = h and call palindrome ( anna )\n",
      "anna\n",
      "word[0]==word[-1] --> ? a = a and call palindrome ( nn )\n",
      "nn\n",
      "word[0]==word[-1] --> ? n = n and call palindrome (  )\n",
      "True\n"
     ]
    }
   ],
   "source": [
    "def palindrome(word) :\n",
    "    lengthWrd = len(word)\n",
    "    \n",
    "    if lengthWrd == 0 or lengthWrd == 1 :\n",
    "        return True\n",
    "    \n",
    "    else :\n",
    "        print(word)\n",
    "        wrdRcf  = word[1:-1]\n",
    "        isMatch = word[0] == word[-1]\n",
    "        \n",
    "        if isMatch :\n",
    "            print(\"word[0]==word[-1] --> ? %s = %s and call palindrome ( %s )\" % (word[0],word[-1],wrdRcf))\n",
    "        else :\n",
    "            print(\"word[0]==word[-1] --> ? %s != %s not palindrome\" % (word[0],word[-1]))\n",
    "        \n",
    "        \n",
    "        return isMatch and palindrome(wrdRcf)\n",
    "\n",
    "print(palindrome(\"hannah\"))"
   ]
  },
  {
   "cell_type": "code",
   "execution_count": 1,
   "id": "8650d5b6",
   "metadata": {
    "ExecuteTime": {
     "end_time": "2022-05-24T01:13:29.807584Z",
     "start_time": "2022-05-24T01:13:29.793605Z"
    }
   },
   "outputs": [
    {
     "name": "stdout",
     "output_type": "stream",
     "text": [
      "ata\n"
     ]
    }
   ],
   "source": [
    "word =\"katak\"\n",
    "print(word[1:-1])"
   ]
  }
 ],
 "metadata": {
  "kernelspec": {
   "display_name": "Python 3 (ipykernel)",
   "language": "python",
   "name": "python3"
  },
  "language_info": {
   "codemirror_mode": {
    "name": "ipython",
    "version": 3
   },
   "file_extension": ".py",
   "mimetype": "text/x-python",
   "name": "python",
   "nbconvert_exporter": "python",
   "pygments_lexer": "ipython3",
   "version": "3.9.7"
  },
  "latex_envs": {
   "LaTeX_envs_menu_present": true,
   "autoclose": false,
   "autocomplete": true,
   "bibliofile": "biblio.bib",
   "cite_by": "apalike",
   "current_citInitial": 1,
   "eqLabelWithNumbers": true,
   "eqNumInitial": 1,
   "hotkeys": {
    "equation": "Ctrl-E",
    "itemize": "Ctrl-I"
   },
   "labels_anchors": false,
   "latex_user_defs": false,
   "report_style_numbering": false,
   "user_envs_cfg": false
  },
  "toc": {
   "base_numbering": 1,
   "nav_menu": {},
   "number_sections": true,
   "sideBar": true,
   "skip_h1_title": false,
   "title_cell": "Table of Contents",
   "title_sidebar": "Contents",
   "toc_cell": false,
   "toc_position": {},
   "toc_section_display": true,
   "toc_window_display": false
  },
  "varInspector": {
   "cols": {
    "lenName": 16,
    "lenType": 16,
    "lenVar": 40
   },
   "kernels_config": {
    "python": {
     "delete_cmd_postfix": "",
     "delete_cmd_prefix": "del ",
     "library": "var_list.py",
     "varRefreshCmd": "print(var_dic_list())"
    },
    "r": {
     "delete_cmd_postfix": ") ",
     "delete_cmd_prefix": "rm(",
     "library": "var_list.r",
     "varRefreshCmd": "cat(var_dic_list()) "
    }
   },
   "types_to_exclude": [
    "module",
    "function",
    "builtin_function_or_method",
    "instance",
    "_Feature"
   ],
   "window_display": false
  }
 },
 "nbformat": 4,
 "nbformat_minor": 5
}
