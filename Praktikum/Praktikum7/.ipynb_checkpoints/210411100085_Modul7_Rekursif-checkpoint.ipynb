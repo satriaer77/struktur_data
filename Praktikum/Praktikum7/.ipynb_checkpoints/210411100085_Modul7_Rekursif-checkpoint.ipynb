{
 "cells": [
  {
   "cell_type": "markdown",
   "id": "67297736",
   "metadata": {},
   "source": [
    "# Konsep"
   ]
  },
  {
   "cell_type": "markdown",
   "id": "3088f9e1",
   "metadata": {},
   "source": [
    "## Fungsi Rekursif"
   ]
  },
  {
   "cell_type": "markdown",
   "id": "9cc352a7",
   "metadata": {},
   "source": [
    " Rekursif merupakan teknik pemrograman yang memecah masalah menjadi lebih kecil untuk diselesaikan. Jika pada pemmrograman terdapat fungsi rekursif yaitu menyelesaikan masalah terkecil dengan cara memanggil fungsi itu sendiri secara berulang hingga suatu kondisi tertentu. Syarat fungsi rekursif bisa berjalan harus ada base case yang merupakan statement yang digunakan untuk menghentikan fungsi rekursif tersebut, kemudian ada statement yang digunakan untuk membuat permasalahan yang besar menjadi lebih kecil hingga menjadi masalah sederhana. Dan yang terakhir adalah pemanggilan fungsi itu sendiri.\n",
    " \n",
    " contoh permasalahan yang dapat diselesaikan menggunakan fungsi rekursif :\n",
    " \n",
    " ~~~python\n",
    "\"\"\"\n",
    "Penyelesaian masalah eksponensial menggunakan rekursif\n",
    "contoh seperti kode dibawah ini :\n",
    "\"\"\"\n",
    "def eksponen(a,e) :\n",
    "    if e == 0 :\n",
    "        return 1\n",
    "    else :\n",
    "        return a*eksponen(a,e-1)\n",
    "\n",
    "ak = 2 \n",
    "ek = 5 \n",
    "\n",
    "print(eksponen(ak,ek)) \n",
    "\n",
    "\"\"\"\n",
    "Pada fungsi tersebut terdapat base case bila eksponennya bernilai 0 maka fungsi rekursif akan berhenti dan terdapat statement untuk rekursifnya itu untuk membuat angka eksponen selalu berkurang hingga bernilai 0.\n",
    "\"\"\"\n",
    "~~~"
   ]
  },
  {
   "cell_type": "markdown",
   "id": "51fbb292",
   "metadata": {},
   "source": [
    "## Tower Of Hanoi"
   ]
  },
  {
   "cell_type": "markdown",
   "id": "8416cc89",
   "metadata": {},
   "source": [
    "Tower Of Hanoi merupakan permasalahan yang dimana terdapat piringan yang berbentuk menyerupai tower dengan ukuran berbeda-beda. Dan permasalahannya adalah bagaimana cara memindahkan piringan tersebut ke tiang tujuan dengan syarat :\n",
    "\n",
    "- Piringan harus dipindahkan satu persatu.\n",
    "- Piringan kecil harus berada di atas piringan besar.\n",
    "\n",
    "\n",
    "Visualisasinya seperti di bawah ini, di situ terdapat piringan dari tiang 1 dan akan dipindahkan ke tiang 3.\n",
    "\n",
    "~~~python\n",
    "\"\"\"\n",
    "    =\n",
    "   ===\n",
    "  =====\n",
    "    |           |           |\n",
    " Tiang 1     Tiang 2     Tiang 3\n",
    "\"\"\" \n",
    "~~~\n",
    "\n",
    "Langkah pertama pindahkan piringan kecil ke tiang 3.\n",
    "\n",
    "~~~python\n",
    "\"\"\"\n",
    "    \n",
    "   ===\n",
    "  =====                     =\n",
    "    |           |           |\n",
    " Tiang 1     Tiang 2     Tiang 3\n",
    "\"\"\" \n",
    "~~~\n",
    "\n",
    "kemudian pindahkan piringan sedang ke tiang 2.\n",
    "\n",
    "~~~python\n",
    "\"\"\"\n",
    "    \n",
    "   \n",
    "  =====        ===          =\n",
    "    |           |           |\n",
    " Tiang 1     Tiang 2     Tiang 3\n",
    "\"\"\" \n",
    "~~~\n",
    "\n",
    "\n",
    "Setelah itu pindahkan piringan kecil ke tiang 2.\n",
    "\n",
    "~~~python\n",
    "\"\"\"\n",
    "    \n",
    "                =\n",
    "  =====        ===          \n",
    "    |           |           |\n",
    " Tiang 1     Tiang 2     Tiang 3\n",
    "\"\"\" \n",
    "~~~\n",
    "\n",
    "\n",
    "Sesudah piringan kecil dan sedang berada di tiang 2 kemudian pindahkan piringan besar ke tiang 3.\n",
    "\n",
    "~~~python\n",
    "\"\"\"\n",
    "    \n",
    "                =\n",
    "               ===        =====\n",
    "    |           |           |\n",
    " Tiang 1     Tiang 2     Tiang 3\n",
    "\"\"\" \n",
    "~~~\n",
    "\n",
    "\n",
    "Setelah selesai kemudian pindahkan piringan kecil ke Tiang 1.\n",
    "\n",
    "~~~python\n",
    "\"\"\"\n",
    "    \n",
    "                \n",
    "    =          ===        =====\n",
    "    |           |           |\n",
    " Tiang 1     Tiang 2     Tiang 3\n",
    "\"\"\" \n",
    "~~~\n",
    "\n",
    "\n",
    "Pindahkan piringan sedang ke Tiang 3.\n",
    "\n",
    "~~~python\n",
    "\"\"\"\n",
    "    \n",
    "                           ===\n",
    "    =                     =====\n",
    "    |           |           |\n",
    " Tiang 1     Tiang 2     Tiang 3\n",
    "\"\"\" \n",
    "~~~\n",
    "\n",
    "\n",
    "Dan langkah terakhir memidahkan piringan kecil ke Tiang 3.\n",
    "\n",
    "~~~python\n",
    "\"\"\"\n",
    "                            =\n",
    "                           ===\n",
    "                          =====\n",
    "    |           |           |\n",
    " Tiang 1     Tiang 2     Tiang 3\n",
    "\"\"\" \n",
    "~~~"
   ]
  },
  {
   "cell_type": "code",
   "execution_count": 21,
   "id": "ab6e93f7",
   "metadata": {
    "ExecuteTime": {
     "end_time": "2022-05-23T23:49:21.045298Z",
     "start_time": "2022-05-23T23:49:21.017379Z"
    }
   },
   "outputs": [
    {
     "name": "stdout",
     "output_type": "stream",
     "text": [
      "Piringan - 1 dari- Tiang 1 ke- Tiang 3\n",
      "Piringan - 2 dari- Tiang 1 ke- Tiang 2\n",
      "Piringan - 1 dari- Tiang 3 ke- Tiang 2\n",
      "Piringan - 3 dari- Tiang 1 ke- Tiang 3\n",
      "Piringan - 1 dari- Tiang 2 ke- Tiang 1\n",
      "Piringan - 2 dari- Tiang 2 ke- Tiang 3\n",
      "Piringan - 1 dari- Tiang 1 ke- Tiang 3\n"
     ]
    }
   ],
   "source": [
    "#Contoh penyelesaian menggunakan fungsi rekursif\n",
    "\n",
    "def towerOfHanoi(n,awal,bantuan,tujuan):\n",
    "    if n==1:\n",
    "        print(\"Piringan - 1 dari-\", awal,\"ke-\",tujuan)\n",
    "    else:\n",
    "        towerOfHanoi(n-1,awal,tujuan,bantuan)\n",
    "        print(\"Piringan -\",n, \"dari-\",awal,\"ke-\", tujuan)\n",
    "        towerOfHanoi(n-1,bantuan,awal,tujuan)\n",
    "        \n",
    "towerOfHanoi(3,'Tiang 1','Tiang 2','Tiang 3')"
   ]
  },
  {
   "cell_type": "markdown",
   "id": "3763021c",
   "metadata": {},
   "source": [
    "# Implementasi"
   ]
  },
  {
   "cell_type": "markdown",
   "id": "aff6ad48",
   "metadata": {},
   "source": [
    "## Factorial"
   ]
  },
  {
   "cell_type": "code",
   "execution_count": 7,
   "id": "797c8099",
   "metadata": {
    "ExecuteTime": {
     "end_time": "2022-05-23T22:00:56.296222Z",
     "start_time": "2022-05-23T22:00:56.278044Z"
    }
   },
   "outputs": [
    {
     "name": "stdout",
     "output_type": "stream",
     "text": [
      "5 != 5 * call factorial( 4 )\n",
      "4 != 4 * call factorial( 3 )\n",
      "3 != 3 * call factorial( 2 )\n",
      "2 != 2 * call factorial( 1 )\n",
      "120\n"
     ]
    }
   ],
   "source": [
    "def factorial(num) :\n",
    "    if num == 1 : #Base Case\n",
    "        return 1\n",
    "    else :\n",
    "        print(\"%d != %d * call factorial( %d )\" % (num,num,num-1))\n",
    "        return num*factorial(num-1) #Persamaan Rekursif\n",
    "    \n",
    "print(factorial(5))"
   ]
  },
  {
   "cell_type": "markdown",
   "id": "1cd56d57",
   "metadata": {},
   "source": [
    "## Palindrome"
   ]
  },
  {
   "cell_type": "code",
   "execution_count": 19,
   "id": "893b11e2",
   "metadata": {
    "ExecuteTime": {
     "end_time": "2022-05-23T22:39:58.864273Z",
     "start_time": "2022-05-23T22:39:58.822162Z"
    }
   },
   "outputs": [
    {
     "name": "stdout",
     "output_type": "stream",
     "text": [
      "tambat\n",
      "word[0] == word[-1] --> ? t == t and call palindrome ( amba )\n",
      "amba\n",
      "word[0] == word[-1] --> ? a == a and call palindrome ( mb )\n",
      "mb\n",
      "word[0] == word[-1] --> ? m != b and not palindrome\n",
      "False\n"
     ]
    }
   ],
   "source": [
    "def palindrome(word) :\n",
    "    \n",
    "    lengthWrd = len(word)\n",
    "    \n",
    "    if lengthWrd == 1 or lengthWrd == 0 : #Base Case\n",
    "        return True\n",
    "        \n",
    "    else :\n",
    "        print(word)  \n",
    "        wrdRcf  = word[1:-1]\n",
    "        isMatch = word[0] == word[-1] \n",
    "        if isMatch == True :\n",
    "            print(\"word[0] == word[-1] --> ? %s == %s and call palindrome ( %s )\" % (\n",
    "                word[0],word[-1],wrdRcf) )   \n",
    "        else :\n",
    "            print(\"word[0] == word[-1] --> ? %s != %s and not palindrome\" % (word[0],word[-1]) ) \n",
    "        \n",
    "        return isMatch and palindrome(wrdRcf) #Persamaan Rekursif\n",
    "\n",
    "print(palindrome(\"tambat\"))\n",
    "        "
   ]
  }
 ],
 "metadata": {
  "kernelspec": {
   "display_name": "Python 3 (ipykernel)",
   "language": "python",
   "name": "python3"
  },
  "language_info": {
   "codemirror_mode": {
    "name": "ipython",
    "version": 3
   },
   "file_extension": ".py",
   "mimetype": "text/x-python",
   "name": "python",
   "nbconvert_exporter": "python",
   "pygments_lexer": "ipython3",
   "version": "3.9.7"
  },
  "latex_envs": {
   "LaTeX_envs_menu_present": true,
   "autoclose": false,
   "autocomplete": true,
   "bibliofile": "biblio.bib",
   "cite_by": "apalike",
   "current_citInitial": 1,
   "eqLabelWithNumbers": true,
   "eqNumInitial": 1,
   "hotkeys": {
    "equation": "Ctrl-E",
    "itemize": "Ctrl-I"
   },
   "labels_anchors": false,
   "latex_user_defs": false,
   "report_style_numbering": false,
   "user_envs_cfg": false
  },
  "toc": {
   "base_numbering": 1,
   "nav_menu": {},
   "number_sections": true,
   "sideBar": true,
   "skip_h1_title": false,
   "title_cell": "Table of Contents",
   "title_sidebar": "Contents",
   "toc_cell": false,
   "toc_position": {},
   "toc_section_display": true,
   "toc_window_display": false
  },
  "varInspector": {
   "cols": {
    "lenName": 16,
    "lenType": 16,
    "lenVar": 40
   },
   "kernels_config": {
    "python": {
     "delete_cmd_postfix": "",
     "delete_cmd_prefix": "del ",
     "library": "var_list.py",
     "varRefreshCmd": "print(var_dic_list())"
    },
    "r": {
     "delete_cmd_postfix": ") ",
     "delete_cmd_prefix": "rm(",
     "library": "var_list.r",
     "varRefreshCmd": "cat(var_dic_list()) "
    }
   },
   "types_to_exclude": [
    "module",
    "function",
    "builtin_function_or_method",
    "instance",
    "_Feature"
   ],
   "window_display": false
  }
 },
 "nbformat": 4,
 "nbformat_minor": 5
}
