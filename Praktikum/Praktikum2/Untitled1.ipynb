{
 "cells": [
  {
   "cell_type": "code",
   "execution_count": 4,
   "id": "816f7e4f",
   "metadata": {
    "ExecuteTime": {
     "end_time": "2022-04-04T16:23:44.887016Z",
     "start_time": "2022-04-04T16:23:44.843114Z"
    }
   },
   "outputs": [
    {
     "name": "stdout",
     "output_type": "stream",
     "text": [
      "\n",
      "25 div 2 = 12 sisa 1 : push(stack,1)\n",
      "    \n",
      "| 1 |\n",
      "-----\n",
      "\n",
      "12 div 2 = 6 sisa 0 : push(stack,0)\n",
      "    \n",
      "| 0 |\n",
      "| 0 |\n",
      "-----\n",
      "\n",
      "6 div 2 = 3 sisa 0 : push(stack,0)\n",
      "    \n",
      "| 0 |\n",
      "| 0 |\n",
      "| 0 |\n",
      "-----\n",
      "\n",
      "3 div 2 = 1 sisa 1 : push(stack,1)\n",
      "    \n",
      "| 1 |\n",
      "| 1 |\n",
      "| 1 |\n",
      "| 1 |\n",
      "-----\n",
      "\n",
      "1 div 2 = 0 sisa 1 : push(stack,1)\n",
      "    \n",
      "| 1 |\n",
      "| 1 |\n",
      "| 1 |\n",
      "| 1 |\n",
      "| 1 |\n",
      "-----\n",
      "\n",
      "Biner =  11001\n"
     ]
    }
   ],
   "source": [
    "from modules import stack as st\n",
    "\n",
    "def tampilkanStack(hs,hsdes,des,stBin) :\n",
    "    print(\"\"\"\n",
    "%d div 2 = %d sisa %d : push(stack,%d)\n",
    "    \"\"\" % (des,hsdes,hs,hs))\n",
    "    \n",
    "    for sb in stBin :\n",
    "        print(\"| %d |\" % (sb))\n",
    "    print(\"-----\")\n",
    "\n",
    "def desBin(des) :\n",
    "    stBin  = st.createStack()\n",
    "    strBin = \"\"\n",
    "    hsdes  = des\n",
    "    \n",
    "    while hsdes > 0 :\n",
    "        hasil   = des%2\n",
    "        hsdes   = hsdes//2\n",
    "        st.push(stBin,hasil)\n",
    "        tampilkanStack(hasil,hsdes,des,stBin)\n",
    "        des     = des//2\n",
    "    while not(st.isEmpty(stBin)) :\n",
    "        strBin+=str(st.pop(stBin))\n",
    "    \n",
    "    return strBin\n",
    "\n",
    "print(\"\\nBiner = \",desBin(25))"
   ]
  },
  {
   "cell_type": "code",
   "execution_count": null,
   "id": "6a25f369",
   "metadata": {},
   "outputs": [],
   "source": []
  }
 ],
 "metadata": {
  "kernelspec": {
   "display_name": "Python 3 (ipykernel)",
   "language": "python",
   "name": "python3"
  },
  "language_info": {
   "codemirror_mode": {
    "name": "ipython",
    "version": 3
   },
   "file_extension": ".py",
   "mimetype": "text/x-python",
   "name": "python",
   "nbconvert_exporter": "python",
   "pygments_lexer": "ipython3",
   "version": "3.9.7"
  },
  "latex_envs": {
   "LaTeX_envs_menu_present": true,
   "autoclose": false,
   "autocomplete": true,
   "bibliofile": "biblio.bib",
   "cite_by": "apalike",
   "current_citInitial": 1,
   "eqLabelWithNumbers": true,
   "eqNumInitial": 1,
   "hotkeys": {
    "equation": "Ctrl-E",
    "itemize": "Ctrl-I"
   },
   "labels_anchors": false,
   "latex_user_defs": false,
   "report_style_numbering": false,
   "user_envs_cfg": false
  },
  "toc": {
   "base_numbering": 1,
   "nav_menu": {},
   "number_sections": true,
   "sideBar": true,
   "skip_h1_title": false,
   "title_cell": "Table of Contents",
   "title_sidebar": "Contents",
   "toc_cell": false,
   "toc_position": {},
   "toc_section_display": true,
   "toc_window_display": false
  },
  "varInspector": {
   "cols": {
    "lenName": 16,
    "lenType": 16,
    "lenVar": 40
   },
   "kernels_config": {
    "python": {
     "delete_cmd_postfix": "",
     "delete_cmd_prefix": "del ",
     "library": "var_list.py",
     "varRefreshCmd": "print(var_dic_list())"
    },
    "r": {
     "delete_cmd_postfix": ") ",
     "delete_cmd_prefix": "rm(",
     "library": "var_list.r",
     "varRefreshCmd": "cat(var_dic_list()) "
    }
   },
   "types_to_exclude": [
    "module",
    "function",
    "builtin_function_or_method",
    "instance",
    "_Feature"
   ],
   "window_display": false
  }
 },
 "nbformat": 4,
 "nbformat_minor": 5
}
