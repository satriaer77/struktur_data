{
 "cells": [
  {
   "cell_type": "code",
   "execution_count": 8,
   "id": "892f4ddb",
   "metadata": {
    "ExecuteTime": {
     "end_time": "2022-06-29T03:54:22.013193Z",
     "start_time": "2022-06-29T03:54:21.985039Z"
    }
   },
   "outputs": [
    {
     "name": "stdout",
     "output_type": "stream",
     "text": [
      "[4] concatenate evenList [4, 6, 7, 9, 1, 10, 12, 5, 18, 20, 3, 0] \n",
      "[4]\n",
      "[6] concatenate evenList [6, 7, 9, 1, 10, 12, 5, 18, 20, 3, 0] \n",
      "[6]\n",
      "None concatenate evenList [7, 9, 1, 10, 12, 5, 18, 20, 3, 0] \n",
      "None concatenate evenList [9, 1, 10, 12, 5, 18, 20, 3, 0] \n",
      "None concatenate evenList [1, 10, 12, 5, 18, 20, 3, 0] \n",
      "[10] concatenate evenList [10, 12, 5, 18, 20, 3, 0] \n",
      "[10]\n",
      "[12] concatenate evenList [12, 5, 18, 20, 3, 0] \n",
      "[12]\n",
      "None concatenate evenList [5, 18, 20, 3, 0] \n",
      "[18] concatenate evenList [18, 20, 3, 0] \n",
      "[18]\n",
      "[20] concatenate evenList [20, 3, 0] \n",
      "[20]\n",
      "None concatenate evenList [3, 0] \n",
      "[0] concatenate evenList [0] \n",
      "[0]\n",
      "Even List =  []\n"
     ]
    }
   ],
   "source": [
    "def evenList(lst) :\n",
    "    result = []\n",
    "    if len(lst) == 0:\n",
    "        return result\n",
    "    else :\n",
    "   \n",
    "        if lst[0]%2 == 0 :\n",
    "            print(\"[%s] concatenate evenList %s \" %(lst[0],lst) )\n",
    "            result.append(lst[0])\n",
    "\n",
    "        else :\n",
    "            print(\"None concatenate evenList %s \" %(lst) )\n",
    "        \n",
    "    \n",
    "        return evenList(lst[1:])\n",
    "\n",
    "\n",
    "lstNums = [4,6,7,9,1,10,12,5,18,20,3,0]\n",
    "print(\"Even List = \",evenList(lstNums))"
   ]
  },
  {
   "cell_type": "code",
   "execution_count": 2,
   "id": "81dd676e",
   "metadata": {
    "ExecuteTime": {
     "end_time": "2022-06-29T04:58:52.887829Z",
     "start_time": "2022-06-29T04:58:52.859203Z"
    }
   },
   "outputs": [
    {
     "name": "stdout",
     "output_type": "stream",
     "text": [
      "[4] concatenate evenList [4, 6, 7, 9, 1, 10, 12, 5, 18, 20, 3, 0] \n",
      "Even List =  [4, 6, 7, 9, 1, 10, 12, 5, 18, 20, 3, 0]\n"
     ]
    }
   ],
   "source": [
    "def evenList(lst) :\n",
    "    result = []\n",
    "    if len(lst) == 1:\n",
    "        return result\n",
    "    else :\n",
    "   \n",
    "        if lst[0]%2 == 0 :\n",
    "            print(\"[%s] concatenate evenList %s \" %(lst[0],lst) )\n",
    "            return [lst[0]]+lst[1:]\n",
    "\n",
    "        else :\n",
    "            print(\"None concatenate evenList %s \" %(lst) )\n",
    "            return evenList(lst[1:])\n",
    "\n",
    "\n",
    "lstNums = [4,6,7,9,1,10,12,5,18,20,3,0]\n",
    "print(\"Even List = \",evenList(lstNums))"
   ]
  }
 ],
 "metadata": {
  "kernelspec": {
   "display_name": "Python 3 (ipykernel)",
   "language": "python",
   "name": "python3"
  },
  "language_info": {
   "codemirror_mode": {
    "name": "ipython",
    "version": 3
   },
   "file_extension": ".py",
   "mimetype": "text/x-python",
   "name": "python",
   "nbconvert_exporter": "python",
   "pygments_lexer": "ipython3",
   "version": "3.9.7"
  },
  "latex_envs": {
   "LaTeX_envs_menu_present": true,
   "autoclose": false,
   "autocomplete": true,
   "bibliofile": "biblio.bib",
   "cite_by": "apalike",
   "current_citInitial": 1,
   "eqLabelWithNumbers": true,
   "eqNumInitial": 1,
   "hotkeys": {
    "equation": "Ctrl-E",
    "itemize": "Ctrl-I"
   },
   "labels_anchors": false,
   "latex_user_defs": false,
   "report_style_numbering": false,
   "user_envs_cfg": false
  },
  "toc": {
   "base_numbering": 1,
   "nav_menu": {},
   "number_sections": true,
   "sideBar": true,
   "skip_h1_title": false,
   "title_cell": "Table of Contents",
   "title_sidebar": "Contents",
   "toc_cell": false,
   "toc_position": {},
   "toc_section_display": true,
   "toc_window_display": false
  },
  "varInspector": {
   "cols": {
    "lenName": 16,
    "lenType": 16,
    "lenVar": 40
   },
   "kernels_config": {
    "python": {
     "delete_cmd_postfix": "",
     "delete_cmd_prefix": "del ",
     "library": "var_list.py",
     "varRefreshCmd": "print(var_dic_list())"
    },
    "r": {
     "delete_cmd_postfix": ") ",
     "delete_cmd_prefix": "rm(",
     "library": "var_list.r",
     "varRefreshCmd": "cat(var_dic_list()) "
    }
   },
   "types_to_exclude": [
    "module",
    "function",
    "builtin_function_or_method",
    "instance",
    "_Feature"
   ],
   "window_display": false
  }
 },
 "nbformat": 4,
 "nbformat_minor": 5
}
