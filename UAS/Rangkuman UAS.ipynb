{
 "cells": [
  {
   "cell_type": "markdown",
   "id": "e8feab65",
   "metadata": {},
   "source": []
  },
  {
   "cell_type": "code",
   "execution_count": null,
   "id": "ba0c37ce",
   "metadata": {},
   "outputs": [],
   "source": []
  },
  {
   "cell_type": "markdown",
   "id": "e3471cd8",
   "metadata": {},
   "source": [
    "# Linked List"
   ]
  },
  {
   "cell_type": "code",
   "execution_count": 1,
   "id": "ec5183c6",
   "metadata": {
    "ExecuteTime": {
     "end_time": "2022-07-04T03:52:12.532763Z",
     "start_time": "2022-07-04T03:52:12.517129Z"
    }
   },
   "outputs": [],
   "source": [
    "class Node :\n",
    "    data = None\n",
    "    next = None\n",
    "    \n",
    "    def __init__ (self,init_data) :\n",
    "        self.data = init_data\n",
    "        self.next = None\n",
    "    def getData(self) :\n",
    "        return self.data\n",
    "    def getNext(self) :\n",
    "        return self.next\n",
    "    def setData(self, newData) :\n",
    "        self.data = newData\n",
    "    def setNext(self,new_next) :\n",
    "        self.next = new_next"
   ]
  },
  {
   "cell_type": "code",
   "execution_count": 3,
   "id": "6040e039",
   "metadata": {
    "ExecuteTime": {
     "end_time": "2022-07-04T03:52:23.026554Z",
     "start_time": "2022-07-04T03:52:22.971993Z"
    }
   },
   "outputs": [],
   "source": [
    "class LinkedList :\n",
    "    def __init__(self) :\n",
    "        self.head = None\n",
    "    def isEmpty(self) :\n",
    "        return self.head==None\n",
    "    def add(self,item) :\n",
    "        temp = Node(item)\n",
    "        temp.setNext(self.head)\n",
    "        self.head = temp\n",
    "    def addTail(self,item) :\n",
    "        temp    = Node(item)\n",
    "        temp.setNext(None)\n",
    "        current = self.head\n",
    "        previous= None\n",
    "        while current != None :\n",
    "            previous = current\n",
    "            current  = current.getNext()\n",
    "        \n",
    "        previous.setNext(temp)\n",
    "        current = temp\n",
    "    \n",
    "    def addNextNode(self,nodeItem,item) :\n",
    "        temp    = Node(item)\n",
    "        temp.setNext(None)\n",
    "        nextNode = None\n",
    "        current = self.head\n",
    "        \n",
    "        found   = False\n",
    "        while current != None and not found :\n",
    "            if current.getData() == nodeItem :\n",
    "                found = True\n",
    "                nextNode = temp\n",
    "                nextNode.setNext(current.getNext())\n",
    "                current.setNext(nextNode)\n",
    "                \n",
    "            else :\n",
    "                current = current.getNext()\n",
    "           \n",
    "        return found\n",
    "\n",
    "    def remove(self, item):\n",
    "        curent = self.head\n",
    "        previous = None\n",
    "        found = False\n",
    "        while not found:\n",
    "            if curent.getData() == item:\n",
    "                found = True\n",
    "            else:\n",
    "                previous = curent\n",
    "                curent = curent.getNext()\n",
    "        if previous == None:\n",
    "            self.head = curent.getNext()\n",
    "        else:\n",
    "            previous.setNext(curent.getNext()) \n",
    "    \n",
    "    def addPreviousNode(self,nodeItem,item) :\n",
    "        temp    = Node(item)\n",
    "        temp.setNext(None)\n",
    "        previous = None\n",
    "        current  = self.head\n",
    "        \n",
    "        found   = False\n",
    "        while current != None and not found :\n",
    "            if current.getData() == nodeItem :\n",
    "                found    = True\n",
    "                previous.setNext(temp)\n",
    "                temp.setNext(current)\n",
    "                current = temp\n",
    "               \n",
    "            else :\n",
    "                previous = current\n",
    "                current  = current.getNext()\n",
    "                \n",
    "        return found\n",
    "    \n",
    "        \n",
    "    def size(self) :\n",
    "        current = self.head\n",
    "        count   = 0\n",
    "        while current != None :\n",
    "            count   = count + 1\n",
    "            current = current.getNext()\n",
    "        return count\n",
    "    \n",
    "    def search(self,item) :\n",
    "        current = self.head\n",
    "        found   = False\n",
    "        while current != None and not found :\n",
    "            if current.getData() == item :\n",
    "                found = True\n",
    "            else :\n",
    "                current = current.getNext()\n",
    "                \n",
    "        return found\n",
    "    \n",
    "    def display(self):\n",
    "        \n",
    "        current = self.head\n",
    "        while current != None :\n",
    "            print(\"| %s |-> \" % (current.getData()),end=\"\" )\n",
    "            current = current.getNext()\n",
    "    \n",
    "    \n",
    "        \n",
    "            "
   ]
  },
  {
   "cell_type": "code",
   "execution_count": 4,
   "id": "176fffbc",
   "metadata": {
    "ExecuteTime": {
     "end_time": "2022-07-04T03:52:24.570202Z",
     "start_time": "2022-07-04T03:52:24.542657Z"
    }
   },
   "outputs": [
    {
     "name": "stdout",
     "output_type": "stream",
     "text": [
      "| 3 |-> | 1 |-> | 2 |-> | 13 |-> | 15 |-> | 15 |-> | 6 |-> | 4 |-> | 2 |-> | 9 |-> "
     ]
    }
   ],
   "source": [
    "lst = [2,4,6,2,1,3]\n",
    "linkedList = LinkedList()\n",
    "for l in lst :\n",
    "    linkedList.add(l)\n",
    "linkedList.addTail(9)\n",
    "linkedList.addNextNode(2,15)\n",
    "linkedList.addPreviousNode(15,15)\n",
    "linkedList.addPreviousNode(15,13)\n",
    "linkedList.display()"
   ]
  },
  {
   "cell_type": "markdown",
   "id": "0c0fac2b",
   "metadata": {},
   "source": [
    "# Insertion Sort"
   ]
  },
  {
   "cell_type": "code",
   "execution_count": 14,
   "id": "b9d59daf",
   "metadata": {
    "ExecuteTime": {
     "end_time": "2022-06-29T02:49:28.237478Z",
     "start_time": "2022-06-29T02:49:28.217096Z"
    }
   },
   "outputs": [],
   "source": [
    "def insertionSortAscending(nums) :\n",
    "    maxIdx = len(nums)-1\n",
    "    j=0\n",
    "    for i in range(maxIdx,0,-1):\n",
    "    \n",
    "        key = nums[i-1]\n",
    "        iAfter = i\n",
    "\n",
    "        while iAfter <= maxIdx and key>=nums[iAfter]  :\n",
    "            j+=1\n",
    "            print(\"j = \",j)\n",
    "            nums[iAfter-1] = nums[iAfter]\n",
    "            iAfter+=1\n",
    "        nums[iAfter-1] = key\n",
    "        \n",
    "    return nums"
   ]
  },
  {
   "cell_type": "code",
   "execution_count": null,
   "id": "302f6c94",
   "metadata": {},
   "outputs": [],
   "source": [
    "def insertionSortDescending(nums) :\n",
    "    maxIdx = len(nums)-1\n",
    "\n",
    "    for i in range(maxIdx,0,-1):\n",
    "        \n",
    "        print(\"Data : \",nums)\n",
    "        key = nums[i-1]\n",
    "        print(\"key, data[%d] : %d\" % (i-1,key) )\n",
    "        iAfter = i\n",
    "    \n",
    "        while iAfter <= maxIdx and key<=nums[iAfter]  :\n",
    "            nums[iAfter-1] = nums[iAfter]\n",
    "            print(\"Inner Sorting = \",nums)\n",
    "            iAfter+=1\n",
    "        nums[iAfter-1] = key     \n",
    "    return nums\n",
    "\n",
    "\n",
    "\n",
    "nums   = [10,9,1,3,8,7,11]\n",
    "print(\"Sorted Data : \",insertionSortDescending(nums))"
   ]
  },
  {
   "cell_type": "markdown",
   "id": "a9f719c6",
   "metadata": {},
   "source": [
    "# Binary Search"
   ]
  },
  {
   "cell_type": "code",
   "execution_count": 3,
   "id": "22ff5325",
   "metadata": {
    "ExecuteTime": {
     "end_time": "2022-06-29T02:42:33.174301Z",
     "start_time": "2022-06-29T02:42:33.160969Z"
    }
   },
   "outputs": [],
   "source": [
    "def binarySearch(data, keyword):\n",
    "    first = 0\n",
    "    last = len(data) - 1\n",
    "    found = False\n",
    "    ind = 0\n",
    "    while first <= last and not found:\n",
    "        midpoint = (first + last) // 2\n",
    "        if data[midpoint] == keyword:\n",
    "            found = True\n",
    "        elif data[midpoint] > keyword:\n",
    "            last = midpoint - 1\n",
    "        else:\n",
    "            first = midpoint + 1\n",
    "        ind += 1\n",
    "\n",
    "    if found :\n",
    "        return \"%d is in : %d , numberOfItaration : %d\" % (keyword,midpoint,ind)\n",
    "    else :\n",
    "        return \"%d is not found , numberOfItaration : %d\" % (keyword,ind)"
   ]
  },
  {
   "cell_type": "code",
   "execution_count": 18,
   "id": "800e9924",
   "metadata": {
    "ExecuteTime": {
     "end_time": "2022-06-29T02:57:12.680111Z",
     "start_time": "2022-06-29T02:57:12.642514Z"
    }
   },
   "outputs": [
    {
     "name": "stdout",
     "output_type": "stream",
     "text": [
      "j =  1\n",
      "j =  2\n",
      "j =  3\n",
      "j =  4\n",
      "j =  5\n",
      "j =  6\n",
      "j =  7\n",
      "[3, 5, 9, 12, 14, 15, 19]\n"
     ]
    },
    {
     "data": {
      "text/plain": [
       "'2 is not found , numberOfItaration : 3'"
      ]
     },
     "execution_count": 18,
     "metadata": {},
     "output_type": "execute_result"
    }
   ],
   "source": [
    "lst = insertionSortAscending([9, 12, 5, 3, 15, 19, 14])\n",
    "print(lst)\n",
    "binarySearch(lst,2)\n"
   ]
  },
  {
   "cell_type": "markdown",
   "id": "8fe35cf7",
   "metadata": {},
   "source": [
    "# Hasing with Collision handler"
   ]
  },
  {
   "cell_type": "code",
   "execution_count": 9,
   "id": "4ea2b9c9",
   "metadata": {
    "ExecuteTime": {
     "end_time": "2022-06-29T02:46:05.029390Z",
     "start_time": "2022-06-29T02:46:04.996342Z"
    }
   },
   "outputs": [],
   "source": [
    "def createHash(length) :\n",
    "    return [None for i in range(length)]\n",
    "\n",
    "def remainderFun(num,lenData) :\n",
    "    return num%lenData\n",
    "\n",
    "def hashPut(nums,table) :\n",
    "    for num in nums :\n",
    "        idx = remainderFun(num,len(table))\n",
    "        if table[idx] != None :\n",
    "            if type(table[idx]) != list :\n",
    "                table[idx] = [table[idx]]\n",
    "            table[idx].append(num)\n",
    "            \n",
    "        else :\n",
    "            table[idx] = num \n",
    "      \n",
    "    return table\n",
    "    \n",
    "def hashSearch(table, keyword) :\n",
    "\n",
    "    hashVal = remainderFun(keyword,len(table))\n",
    "    if type(table[hashVal]) == list :\n",
    "        if keyword in table[hashVal] :\n",
    "            return [hashVal,table[hashVal].index(keyword)]\n",
    "        else :\n",
    "            return False\n",
    "    else :\n",
    "        if table[hashVal] == keyword :\n",
    "            return [hashVal,hashVal]\n",
    "        else :\n",
    "            return False\n",
    "\n",
    "  "
   ]
  },
  {
   "cell_type": "code",
   "execution_count": 13,
   "id": "d6bd45ff",
   "metadata": {
    "ExecuteTime": {
     "end_time": "2022-06-29T02:48:19.667564Z",
     "start_time": "2022-06-29T02:48:19.646708Z"
    }
   },
   "outputs": [
    {
     "name": "stdout",
     "output_type": "stream",
     "text": [
      "[[10, 30], 11, 12, None, 14, 5, None, 27, 8, None]\n"
     ]
    }
   ],
   "source": [
    "lst = [5, 12, 14, 10, 11, 27, 8, 30]\n",
    "pp=createHash(10)\n",
    "hashPut(lst,pp)\n",
    "print(pp)"
   ]
  }
 ],
 "metadata": {
  "kernelspec": {
   "display_name": "Python 3 (ipykernel)",
   "language": "python",
   "name": "python3"
  },
  "language_info": {
   "codemirror_mode": {
    "name": "ipython",
    "version": 3
   },
   "file_extension": ".py",
   "mimetype": "text/x-python",
   "name": "python",
   "nbconvert_exporter": "python",
   "pygments_lexer": "ipython3",
   "version": "3.9.7"
  },
  "latex_envs": {
   "LaTeX_envs_menu_present": true,
   "autoclose": false,
   "autocomplete": true,
   "bibliofile": "biblio.bib",
   "cite_by": "apalike",
   "current_citInitial": 1,
   "eqLabelWithNumbers": true,
   "eqNumInitial": 1,
   "hotkeys": {
    "equation": "Ctrl-E",
    "itemize": "Ctrl-I"
   },
   "labels_anchors": false,
   "latex_user_defs": false,
   "report_style_numbering": false,
   "user_envs_cfg": false
  },
  "toc": {
   "base_numbering": 1,
   "nav_menu": {},
   "number_sections": true,
   "sideBar": true,
   "skip_h1_title": false,
   "title_cell": "Table of Contents",
   "title_sidebar": "Contents",
   "toc_cell": false,
   "toc_position": {},
   "toc_section_display": true,
   "toc_window_display": false
  },
  "varInspector": {
   "cols": {
    "lenName": 16,
    "lenType": 16,
    "lenVar": 40
   },
   "kernels_config": {
    "python": {
     "delete_cmd_postfix": "",
     "delete_cmd_prefix": "del ",
     "library": "var_list.py",
     "varRefreshCmd": "print(var_dic_list())"
    },
    "r": {
     "delete_cmd_postfix": ") ",
     "delete_cmd_prefix": "rm(",
     "library": "var_list.r",
     "varRefreshCmd": "cat(var_dic_list()) "
    }
   },
   "types_to_exclude": [
    "module",
    "function",
    "builtin_function_or_method",
    "instance",
    "_Feature"
   ],
   "window_display": false
  }
 },
 "nbformat": 4,
 "nbformat_minor": 5
}
