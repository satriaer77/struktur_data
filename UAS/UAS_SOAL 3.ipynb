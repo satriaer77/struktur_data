{
 "cells": [
  {
   "cell_type": "markdown",
   "id": "1ae37c55",
   "metadata": {},
   "source": [
    "# UAS SOAL 3"
   ]
  },
  {
   "cell_type": "code",
   "execution_count": 11,
   "id": "f885f9c3",
   "metadata": {
    "ExecuteTime": {
     "end_time": "2022-06-29T04:46:42.458145Z",
     "start_time": "2022-06-29T04:46:42.440552Z"
    }
   },
   "outputs": [],
   "source": [
    "class Node() :\n",
    "    \n",
    "    def __init__ (self,init_data) :\n",
    "        self.data = init_data\n",
    "        self.next = None\n",
    "    def getData(self) :\n",
    "        return self.data\n",
    "    def getNext(self) :\n",
    "        return self.next\n",
    "    def setData(self, newData) :\n",
    "        self.data = newData\n",
    "    def setNext(self,new_next) :\n",
    "        self.next = new_next"
   ]
  },
  {
   "cell_type": "code",
   "execution_count": null,
   "id": "ab98860a",
   "metadata": {
    "ExecuteTime": {
     "start_time": "2022-06-29T05:07:33.141Z"
    }
   },
   "outputs": [],
   "source": [
    "class LinkedList :\n",
    "    def __init__(self) :\n",
    "        self.head = None\n",
    "    def isEmpty(self) :\n",
    "        return self.head==None\n",
    "    def add(self,item) :\n",
    "        temp = Node(item)\n",
    "        temp.setNext(self.head)\n",
    "        self.head = temp\n",
    "    def addTail(self,item,itemNext) :\n",
    "        temp    = Node(item)\n",
    "        temp.setNext(itemNext)\n",
    "        current = self.head\n",
    "        previous= None\n",
    "        while current != None :\n",
    "            previous = current\n",
    "            current  = current.getNext()\n",
    "        \n",
    "        previous.setNext(temp)\n",
    "        current = temp\n",
    "\n",
    "    def reversingList(self) :\n",
    "        current  = self.head\n",
    "        temp     = Node(5)\n",
    "        newLinkedList = LinkedList()\n",
    "        currentRev = self.head\n",
    "        count      = 0\n",
    "        \n",
    "        while current != None :\n",
    "            if count == 0 :            \n",
    "                newLinkedList.add(current.getData())\n",
    "                count+=1\n",
    "            else :\n",
    "                nextNode = current.getNext()\n",
    "                newLinkedList.addTail(nextNode.getData(),current) \n",
    "        \n",
    "    def display(self):\n",
    "        strLst = \"\"\n",
    "        current = self.head\n",
    "        while current != None :\n",
    "            strLst+=\" %d \" % (current.getData())\n",
    "            current = current.getNext()\n",
    "        print(\"[ %s ]\" % (strLst))\n",
    "    \n",
    "        \n",
    "a = LinkedList()\n",
    "a.add(21)\n",
    "a.add(7)\n",
    "a.add(3)\n",
    "a.add(10)\n",
    "a.add(15)\n",
    "\n",
    "a.display()\n",
    "\n",
    "b = a.reversingList()\n",
    "b.display()"
   ]
  }
 ],
 "metadata": {
  "kernelspec": {
   "display_name": "Python 3 (ipykernel)",
   "language": "python",
   "name": "python3"
  },
  "language_info": {
   "codemirror_mode": {
    "name": "ipython",
    "version": 3
   },
   "file_extension": ".py",
   "mimetype": "text/x-python",
   "name": "python",
   "nbconvert_exporter": "python",
   "pygments_lexer": "ipython3",
   "version": "3.9.7"
  },
  "latex_envs": {
   "LaTeX_envs_menu_present": true,
   "autoclose": false,
   "autocomplete": true,
   "bibliofile": "biblio.bib",
   "cite_by": "apalike",
   "current_citInitial": 1,
   "eqLabelWithNumbers": true,
   "eqNumInitial": 1,
   "hotkeys": {
    "equation": "Ctrl-E",
    "itemize": "Ctrl-I"
   },
   "labels_anchors": false,
   "latex_user_defs": false,
   "report_style_numbering": false,
   "user_envs_cfg": false
  },
  "toc": {
   "base_numbering": 1,
   "nav_menu": {},
   "number_sections": true,
   "sideBar": true,
   "skip_h1_title": false,
   "title_cell": "Table of Contents",
   "title_sidebar": "Contents",
   "toc_cell": false,
   "toc_position": {},
   "toc_section_display": true,
   "toc_window_display": false
  },
  "varInspector": {
   "cols": {
    "lenName": 16,
    "lenType": 16,
    "lenVar": 40
   },
   "kernels_config": {
    "python": {
     "delete_cmd_postfix": "",
     "delete_cmd_prefix": "del ",
     "library": "var_list.py",
     "varRefreshCmd": "print(var_dic_list())"
    },
    "r": {
     "delete_cmd_postfix": ") ",
     "delete_cmd_prefix": "rm(",
     "library": "var_list.r",
     "varRefreshCmd": "cat(var_dic_list()) "
    }
   },
   "types_to_exclude": [
    "module",
    "function",
    "builtin_function_or_method",
    "instance",
    "_Feature"
   ],
   "window_display": false
  }
 },
 "nbformat": 4,
 "nbformat_minor": 5
}
