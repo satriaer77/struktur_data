{
 "cells": [
  {
   "cell_type": "code",
   "execution_count": 43,
   "id": "6c34c08e",
   "metadata": {
    "ExecuteTime": {
     "end_time": "2022-06-29T03:49:01.938039Z",
     "start_time": "2022-06-29T03:49:01.899919Z"
    }
   },
   "outputs": [
    {
     "name": "stdout",
     "output_type": "stream",
     "text": [
      "Hash Table =  [None, None, None, None, None, None, None, None, None, None, None]\n",
      "Hash Table =  [[11, 22, 33], None, None, 3, None, None, None, [7, 40], None, 9, [10, 21]]\n",
      "21 berada di slot #10 index-1\n",
      "7 berada di slot #7 index-0\n",
      "21 berada di slot #10 index-1\n",
      "100 tidak ditemukan\n"
     ]
    }
   ],
   "source": [
    "class Hash :\n",
    "    table = []\n",
    "    def __init__(self,length) :\n",
    "        self.table = [None for i in range(length)]\n",
    "        \n",
    "    def remainderFun(self,num,lenData) :\n",
    "        return num%lenData\n",
    "    \n",
    "    def hashPut(self,nums) :\n",
    "        for num in nums :\n",
    "            idx = self.remainderFun(num,len(self.table))\n",
    "\n",
    "            if self.table[idx] != None :\n",
    "                if type(self.table[idx]) != list :\n",
    "                    self.table[idx] = [self.table[idx]]\n",
    "                self.table[idx].append(num)\n",
    "            else :\n",
    "                self.table[idx] = num \n",
    "             \n",
    "    def hashSearch(self,keyword) :\n",
    "        hashVal = self.remainderFun(keyword,len(self.table))\n",
    "        if type(self.table[hashVal]) == list :\n",
    "            if keyword in self.table[hashVal] :\n",
    "                idx = self.table[hashVal].index(keyword)\n",
    "                return \"%d berada di slot #%d index-%d\" % (keyword,hashVal,idx)  \n",
    "            else :\n",
    "                return keyword,\" tidak ditemukan\"\n",
    "        else :\n",
    "            if self.table[hashVal] == keyword :\n",
    "                return \"%d berada di slot #%d\" % (keyword,hashVal)  \n",
    "            else :\n",
    "                return \"%d tidak ditemukan\" % (keyword)\n",
    "            \n",
    "            \n",
    "            \n",
    "            \n",
    "            \n",
    "listNums = [10,11,22,33,9,7,3,40,21]\n",
    "hashAkg = Hash(11)\n",
    "print(\"Hash Table = \",hashAkg.table)\n",
    "hashAkg.hashPut(listNums)\n",
    "print(\"Hash Table = \",hashAkg.table)\n",
    "print(hashAkg.hashSearch(21))\n",
    "print(hashAkg.hashSearch(7))\n",
    "print(hashAkg.hashSearch(21))\n",
    "print(hashAkg.hashSearch(100))"
   ]
  }
 ],
 "metadata": {
  "kernelspec": {
   "display_name": "Python 3 (ipykernel)",
   "language": "python",
   "name": "python3"
  },
  "language_info": {
   "codemirror_mode": {
    "name": "ipython",
    "version": 3
   },
   "file_extension": ".py",
   "mimetype": "text/x-python",
   "name": "python",
   "nbconvert_exporter": "python",
   "pygments_lexer": "ipython3",
   "version": "3.9.7"
  },
  "latex_envs": {
   "LaTeX_envs_menu_present": true,
   "autoclose": false,
   "autocomplete": true,
   "bibliofile": "biblio.bib",
   "cite_by": "apalike",
   "current_citInitial": 1,
   "eqLabelWithNumbers": true,
   "eqNumInitial": 1,
   "hotkeys": {
    "equation": "Ctrl-E",
    "itemize": "Ctrl-I"
   },
   "labels_anchors": false,
   "latex_user_defs": false,
   "report_style_numbering": false,
   "user_envs_cfg": false
  },
  "toc": {
   "base_numbering": 1,
   "nav_menu": {},
   "number_sections": true,
   "sideBar": true,
   "skip_h1_title": false,
   "title_cell": "Table of Contents",
   "title_sidebar": "Contents",
   "toc_cell": false,
   "toc_position": {},
   "toc_section_display": true,
   "toc_window_display": false
  },
  "varInspector": {
   "cols": {
    "lenName": 16,
    "lenType": 16,
    "lenVar": 40
   },
   "kernels_config": {
    "python": {
     "delete_cmd_postfix": "",
     "delete_cmd_prefix": "del ",
     "library": "var_list.py",
     "varRefreshCmd": "print(var_dic_list())"
    },
    "r": {
     "delete_cmd_postfix": ") ",
     "delete_cmd_prefix": "rm(",
     "library": "var_list.r",
     "varRefreshCmd": "cat(var_dic_list()) "
    }
   },
   "types_to_exclude": [
    "module",
    "function",
    "builtin_function_or_method",
    "instance",
    "_Feature"
   ],
   "window_display": false
  }
 },
 "nbformat": 4,
 "nbformat_minor": 5
}
