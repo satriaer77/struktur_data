{
 "cells": [
  {
   "cell_type": "markdown",
   "id": "ed861b3a",
   "metadata": {},
   "source": [
    "# Rangkuman"
   ]
  },
  {
   "cell_type": "markdown",
   "id": "219bc90f",
   "metadata": {},
   "source": [
    "## STRUKTUR DATA"
   ]
  },
  {
   "cell_type": "markdown",
   "id": "809e5c69",
   "metadata": {},
   "source": [
    "### ==> Stack"
   ]
  },
  {
   "cell_type": "code",
   "execution_count": null,
   "id": "083a53a3",
   "metadata": {},
   "outputs": [],
   "source": [
    "def createStack() :\n",
    "    stck = []\n",
    "    return stck\n",
    "\n",
    "def push(s,data) :\n",
    "    s.append(data)\n",
    "\n",
    "def pop(s) :\n",
    "    dt = s.pop()\n",
    "    return dt\n",
    "\n",
    "def peek(s) :\n",
    "    return s[len(s)-1]\n",
    "\n",
    "def isEmpty(s) :\n",
    "    return s==[]\n",
    "\n",
    "def size(s) :\n",
    "    return len(s)\n"
   ]
  },
  {
   "cell_type": "markdown",
   "id": "3426394a",
   "metadata": {},
   "source": [
    "### ==> Queue"
   ]
  },
  {
   "cell_type": "code",
   "execution_count": null,
   "id": "77e093f0",
   "metadata": {},
   "outputs": [],
   "source": [
    "def createQueue() :\n",
    "    return []\n",
    "\n",
    "def enqueue(q,data):\n",
    "    q.append(data)\n",
    "    return(q)\n",
    "\n",
    "def dequeue(q):\n",
    "    data=q.pop(0)\n",
    "    return(data)\n",
    "\n",
    "def isEmpty(q):\n",
    "    return (q==[])\n",
    "\n",
    "def size(q):\n",
    "    return (len(q))\n"
   ]
  },
  {
   "cell_type": "markdown",
   "id": "4d657aec",
   "metadata": {},
   "source": [
    "### ==> Deque"
   ]
  },
  {
   "cell_type": "code",
   "execution_count": null,
   "id": "1f134578",
   "metadata": {},
   "outputs": [],
   "source": [
    "def createDeque() :\n",
    "    return []\n",
    "\n",
    "def addFront(d,val) :\n",
    "    d.insert(0,val)\n",
    "    return d\n",
    "\n",
    "def addRear(d,val) :\n",
    "    d.append(val)\n",
    "    return d\n",
    "\n",
    "def removeFront(d) :\n",
    "    val = d.pop(0)\n",
    "    return val\n",
    "\n",
    "def removeRear(d) :\n",
    "    val = d.pop()\n",
    "    return val\n",
    "\n",
    "def isEmpty(d) :\n",
    "    return d==[]\n",
    "\n",
    "def size(d) :\n",
    "    return len(d)\n"
   ]
  },
  {
   "cell_type": "markdown",
   "id": "be8996ce",
   "metadata": {},
   "source": [
    "### ==> Hashing"
   ]
  },
  {
   "cell_type": "code",
   "execution_count": null,
   "id": "596d1cd7",
   "metadata": {},
   "outputs": [],
   "source": [
    "def createHash(length) :\n",
    "    return [None for i in range(length)]\n",
    "\n",
    "\n",
    "def remainderFun(num,lenData) :\n",
    "    return num%lenData\n",
    "\n",
    "\n",
    "def hashPut(nums,table) :\n",
    "    for num in nums :\n",
    "        idx = remainderFun(num,len(table))\n",
    "        if table[idx] != None :\n",
    "            if type(table[idx]) != list :\n",
    "                table[idx] = [table[idx]]\n",
    "            table[idx].append(num)\n",
    "            \n",
    "        else :\n",
    "            table[idx] = num \n",
    "      \n",
    "    return table\n",
    "    \n",
    "    \n",
    "def hashSearch(table, keyword) :\n",
    "\n",
    "    hashVal = remainderFun(keyword,len(table))\n",
    "    if type(table[hashVal]) == list :\n",
    "        if keyword in table[hashVal] :\n",
    "            return [hashVal,table[hashVal].index(keyword)]\n",
    "        else :\n",
    "            return False\n",
    "    else :\n",
    "        if table[hashVal] == keyword :\n",
    "            return [hashVal,hashVal]\n",
    "        else :\n",
    "            return False\n"
   ]
  },
  {
   "cell_type": "markdown",
   "id": "16c27536",
   "metadata": {},
   "source": [
    "### ==> Linked List"
   ]
  },
  {
   "cell_type": "code",
   "execution_count": null,
   "id": "773a15ac",
   "metadata": {},
   "outputs": [],
   "source": [
    "class Node :\n",
    "    data = None\n",
    "    next = None\n",
    "    \n",
    "    def __init__ (self,init_data) :\n",
    "        self.data = init_data\n",
    "        self.next = None\n",
    "    def getData(self) :\n",
    "        return self.data\n",
    "    def getNext(self) :\n",
    "        return self.next\n",
    "    def setData(self, newData) :\n",
    "        self.data = newData\n",
    "    def setNext(self,new_next) :\n",
    "        self.next = new_next"
   ]
  },
  {
   "cell_type": "code",
   "execution_count": null,
   "id": "92b2ec1c",
   "metadata": {},
   "outputs": [],
   "source": [
    "class LinkedList :\n",
    "    def __init__(self) :\n",
    "        self.head = None\n",
    "        \n",
    "        \n",
    "    def isEmpty(self) :\n",
    "        return self.head==None\n",
    "    \n",
    "    \n",
    "    def add(self,item) :\n",
    "        temp = Node(item)\n",
    "        temp.setNext(self.head)\n",
    "        self.head = temp\n",
    "        \n",
    "        \n",
    "    def addTail(self,item) :\n",
    "        temp    = Node(item)\n",
    "        temp.setNext(None)\n",
    "        current = self.head\n",
    "        previous= None\n",
    "        while current != None :\n",
    "            previous = current\n",
    "            current  = current.getNext()\n",
    "        \n",
    "        previous.setNext(temp)\n",
    "        current = temp\n",
    "    \n",
    "    \n",
    "    def addNextNode(self,nodeItem,item) :\n",
    "        temp    = Node(item)\n",
    "        temp.setNext(None)\n",
    "        nextNode = None\n",
    "        current = self.head\n",
    "        \n",
    "        found   = False\n",
    "        while current != None and not found :\n",
    "            if current.getData() == nodeItem :\n",
    "                found = True\n",
    "                nextNode = temp\n",
    "                nextNode.setNext(current.getNext())\n",
    "                current.setNext(nextNode)\n",
    "                \n",
    "            else :\n",
    "                current = current.getNext()\n",
    "           \n",
    "        return found\n",
    "\n",
    "    \n",
    "    def remove(self, item):\n",
    "        curent = self.head\n",
    "        previous = None\n",
    "        found = False\n",
    "        while not found:\n",
    "            if curent.getData() == item:\n",
    "                found = True\n",
    "            else:\n",
    "                previous = curent\n",
    "                curent = curent.getNext()\n",
    "        if previous == None:\n",
    "            self.head = curent.getNext()\n",
    "        else:\n",
    "            previous.setNext(curent.getNext()) \n",
    "    \n",
    "    \n",
    "    def addPreviousNode(self,nodeItem,item) :\n",
    "        temp    = Node(item)\n",
    "        temp.setNext(None)\n",
    "        previous = None\n",
    "        current  = self.head\n",
    "        \n",
    "        found   = False\n",
    "        while current != None and not found :\n",
    "            if current.getData() == nodeItem :\n",
    "                found    = True\n",
    "                previous.setNext(temp)\n",
    "                temp.setNext(current)\n",
    "                current = temp\n",
    "               \n",
    "            else :\n",
    "                previous = current\n",
    "                current  = current.getNext()\n",
    "                \n",
    "        return found\n",
    "    \n",
    "        \n",
    "    def size(self) :\n",
    "        current = self.head\n",
    "        count   = 0\n",
    "        while current != None :\n",
    "            count   = count + 1\n",
    "            current = current.getNext()\n",
    "        return count\n",
    "    \n",
    "    \n",
    "    def search(self,item) :\n",
    "        current = self.head\n",
    "        found   = False\n",
    "        while current != None and not found :\n",
    "            if current.getData() == item :\n",
    "                found = True\n",
    "            else :\n",
    "                current = current.getNext()\n",
    "                \n",
    "        return found\n",
    "    \n",
    "    \n",
    "    def display(self):\n",
    "        \n",
    "        current = self.head\n",
    "        while current != None :\n",
    "            print(\"| %s |-> \" % (current.getData()),end=\"\" )\n",
    "            current = current.getNext()\n",
    "    "
   ]
  },
  {
   "cell_type": "markdown",
   "id": "af7a63e8",
   "metadata": {},
   "source": [
    "## SORTING"
   ]
  },
  {
   "cell_type": "markdown",
   "id": "c02300af",
   "metadata": {},
   "source": [
    "### ==> Bubble Sort"
   ]
  },
  {
   "cell_type": "code",
   "execution_count": null,
   "id": "077bafea",
   "metadata": {},
   "outputs": [],
   "source": [
    "def bubbleSort(nums,sortBy=\"Ascending\") :\n",
    "    \n",
    "    if sortBy == \"Ascending\" :\n",
    "        for i in range (len(nums)-1): \n",
    "            for j in range(len(nums)-1-i) :\n",
    "                if nums[j] > nums[j+1] :\n",
    "                    nums[j],nums[j+1] = nums[j+1],nums[j]\n",
    "                    \n",
    "    elif sortBy == \"Descending\" :\n",
    "        for i in range (len(nums)-1): \n",
    "            \n",
    "            for j in range(len(nums)-1-i) : \n",
    "                if nums[j] < nums[j+1] :\n",
    "                    nums[j],nums[j+1] = nums[j+1],nums[j]\n",
    "                \n",
    "                \n",
    "    return nums\n",
    "\n",
    "print(bubbleSort([9,10,1,7] ,\"Ascending\"))"
   ]
  },
  {
   "cell_type": "markdown",
   "id": "879e4002",
   "metadata": {},
   "source": [
    "### ==> Selection Sort"
   ]
  },
  {
   "cell_type": "code",
   "execution_count": null,
   "id": "9be3f28f",
   "metadata": {},
   "outputs": [],
   "source": [
    "def selectionSort(listData):\n",
    "\n",
    "    for outIter in range(len(listData)-1): \n",
    "        minIndex=outIter\n",
    "        for i in range(outIter+1,len(listData)):\n",
    "            if listData[i]<listData[minIndex]:\n",
    "                minIndex=i\n",
    "        temp=listData[outIter]\n",
    "        listData[outIter]=listData[minIndex]\n",
    "        listData[minIndex]=temp\n",
    "        print('Iterasi ke-',outIter+1,':',listData)\n",
    "    print('Data Urut=',listData)"
   ]
  },
  {
   "cell_type": "markdown",
   "id": "045fe228",
   "metadata": {},
   "source": [
    "### ==> Insertion Sort"
   ]
  },
  {
   "cell_type": "code",
   "execution_count": 2,
   "id": "5a30d308",
   "metadata": {
    "ExecuteTime": {
     "end_time": "2022-07-04T03:57:55.561128Z",
     "start_time": "2022-07-04T03:57:55.538954Z"
    }
   },
   "outputs": [],
   "source": [
    "def insertionSortAscending(nums) :\n",
    "    maxIdx = len(nums)-1\n",
    "    j=0\n",
    "    for i in range(maxIdx,0,-1):\n",
    "    \n",
    "        key = nums[i-1]\n",
    "        iAfter = i\n",
    "\n",
    "        while iAfter <= maxIdx and key>=nums[iAfter]  :\n",
    "            j+=1\n",
    "            print(\"j = \",j)\n",
    "            nums[iAfter-1] = nums[iAfter]\n",
    "            iAfter+=1\n",
    "        nums[iAfter-1] = key\n",
    "        \n",
    "    return nums"
   ]
  },
  {
   "cell_type": "code",
   "execution_count": 1,
   "id": "1929a151",
   "metadata": {
    "ExecuteTime": {
     "end_time": "2022-07-04T03:57:51.669891Z",
     "start_time": "2022-07-04T03:57:51.651098Z"
    }
   },
   "outputs": [],
   "source": [
    "def insertionSortDescending(nums) :\n",
    "    maxIdx = len(nums)-1\n",
    "\n",
    "    for i in range(maxIdx,0,-1):\n",
    "        \n",
    "        print(\"Data : \",nums)\n",
    "        key = nums[i-1]\n",
    "        print(\"key, data[%d] : %d\" % (i-1,key) )\n",
    "        iAfter = i\n",
    "    \n",
    "        while iAfter <= maxIdx and key<=nums[iAfter]  :\n",
    "            nums[iAfter-1] = nums[iAfter]\n",
    "            print(\"Inner Sorting = \",nums)\n",
    "            iAfter+=1\n",
    "        nums[iAfter-1] = key     \n",
    "    return nums"
   ]
  },
  {
   "cell_type": "code",
   "execution_count": 4,
   "id": "68ba2b7c",
   "metadata": {
    "ExecuteTime": {
     "end_time": "2022-07-04T03:58:29.859311Z",
     "start_time": "2022-07-04T03:58:29.816671Z"
    },
    "scrolled": true
   },
   "outputs": [
    {
     "name": "stdout",
     "output_type": "stream",
     "text": [
      "Data :  [2, 4, 62, 1, 46, 3]\n",
      "key, data[4] : 46\n",
      "Data :  [2, 4, 62, 1, 46, 3]\n",
      "key, data[3] : 1\n",
      "Inner Sorting =  [2, 4, 62, 46, 46, 3]\n",
      "Inner Sorting =  [2, 4, 62, 46, 3, 3]\n",
      "Data :  [2, 4, 62, 46, 3, 1]\n",
      "key, data[2] : 62\n",
      "Data :  [2, 4, 62, 46, 3, 1]\n",
      "key, data[1] : 4\n",
      "Inner Sorting =  [2, 62, 62, 46, 3, 1]\n",
      "Inner Sorting =  [2, 62, 46, 46, 3, 1]\n",
      "Data :  [2, 62, 46, 4, 3, 1]\n",
      "key, data[0] : 2\n",
      "Inner Sorting =  [62, 62, 46, 4, 3, 1]\n",
      "Inner Sorting =  [62, 46, 46, 4, 3, 1]\n",
      "Inner Sorting =  [62, 46, 4, 4, 3, 1]\n",
      "Inner Sorting =  [62, 46, 4, 3, 3, 1]\n"
     ]
    },
    {
     "data": {
      "text/plain": [
       "[62, 46, 4, 3, 2, 1]"
      ]
     },
     "execution_count": 4,
     "metadata": {},
     "output_type": "execute_result"
    }
   ],
   "source": [
    "insertionSortDescending([2,4,62,1,46,3])"
   ]
  },
  {
   "cell_type": "markdown",
   "id": "452a740a",
   "metadata": {},
   "source": [
    "## SEARCHING"
   ]
  },
  {
   "cell_type": "markdown",
   "id": "4607cdb2",
   "metadata": {},
   "source": [
    "### ==> Sequential Search"
   ]
  },
  {
   "cell_type": "code",
   "execution_count": null,
   "id": "2600d690",
   "metadata": {},
   "outputs": [],
   "source": [
    "def seqSearch(data,keyword) :\n",
    "    dataFound = []\n",
    "    for i in range(len(data)) :\n",
    "        if keyword == data[i] :\n",
    "            dataFound.append(i)\n",
    "        \n",
    "    if len(dataFound) > 0 :\n",
    "        return \"%d is in = %s\" % (keyword,dataFound)\n",
    "    else :\n",
    "        return \"%d is not Found\" % (keyword)\n",
    "      "
   ]
  },
  {
   "cell_type": "markdown",
   "id": "48d00ce1",
   "metadata": {},
   "source": [
    "### ==> Ordered Sequential Search"
   ]
  },
  {
   "cell_type": "code",
   "execution_count": null,
   "id": "2f7bfae4",
   "metadata": {},
   "outputs": [],
   "source": [
    "def orderedSeqSearch(data,keyword):\n",
    "    dataFound = False\n",
    "    idxDataFounded = 0\n",
    "    \n",
    "    for i in range(len(data)) :\n",
    "        if data[i] == keyword :\n",
    "            dataFound = True\n",
    "            idxDataFounded = i\n",
    "            break\n",
    "    \n",
    "    if dataFound :\n",
    "        return \"%d is in = %d, numberOfIteration = %d\" % (keyword,idxDataFounded,idxDataFounded+1)   \n",
    "    else:\n",
    "        return \"%d is not found, numberOfIteration = %d\" % (keyword,len(data)) \n",
    "        "
   ]
  },
  {
   "cell_type": "markdown",
   "id": "b48e408f",
   "metadata": {},
   "source": [
    "### ==> Binary Search"
   ]
  },
  {
   "cell_type": "code",
   "execution_count": null,
   "id": "87d689a8",
   "metadata": {},
   "outputs": [],
   "source": [
    "def binarySearch(data, keyword):\n",
    "    first = 0\n",
    "    last  = len(data) - 1\n",
    "    found = False\n",
    "    ind   = 0\n",
    "    \n",
    "    while first <= last and not found:\n",
    "        midpoint = (first + last) // 2\n",
    "        if data[midpoint] == keyword:\n",
    "            found = True\n",
    "        elif data[midpoint] > keyword:\n",
    "            last = midpoint - 1\n",
    "        else:\n",
    "            first = midpoint + 1\n",
    "        ind += 1\n",
    "\n",
    "    if found :\n",
    "        return \"%d is in : %d , numberOfItaration : %d\" % (keyword,midpoint,ind)\n",
    "    else :\n",
    "        return \"%d is not found , numberOfItaration : %d\" % (keyword,ind)"
   ]
  }
 ],
 "metadata": {
  "kernelspec": {
   "display_name": "Python 3 (ipykernel)",
   "language": "python",
   "name": "python3"
  },
  "language_info": {
   "codemirror_mode": {
    "name": "ipython",
    "version": 3
   },
   "file_extension": ".py",
   "mimetype": "text/x-python",
   "name": "python",
   "nbconvert_exporter": "python",
   "pygments_lexer": "ipython3",
   "version": "3.9.7"
  },
  "latex_envs": {
   "LaTeX_envs_menu_present": true,
   "autoclose": false,
   "autocomplete": true,
   "bibliofile": "biblio.bib",
   "cite_by": "apalike",
   "current_citInitial": 1,
   "eqLabelWithNumbers": true,
   "eqNumInitial": 1,
   "hotkeys": {
    "equation": "Ctrl-E",
    "itemize": "Ctrl-I"
   },
   "labels_anchors": false,
   "latex_user_defs": false,
   "report_style_numbering": false,
   "user_envs_cfg": false
  },
  "toc": {
   "base_numbering": 1,
   "nav_menu": {},
   "number_sections": true,
   "sideBar": true,
   "skip_h1_title": false,
   "title_cell": "Table of Contents",
   "title_sidebar": "Contents",
   "toc_cell": false,
   "toc_position": {},
   "toc_section_display": true,
   "toc_window_display": false
  },
  "varInspector": {
   "cols": {
    "lenName": 16,
    "lenType": 16,
    "lenVar": 40
   },
   "kernels_config": {
    "python": {
     "delete_cmd_postfix": "",
     "delete_cmd_prefix": "del ",
     "library": "var_list.py",
     "varRefreshCmd": "print(var_dic_list())"
    },
    "r": {
     "delete_cmd_postfix": ") ",
     "delete_cmd_prefix": "rm(",
     "library": "var_list.r",
     "varRefreshCmd": "cat(var_dic_list()) "
    }
   },
   "types_to_exclude": [
    "module",
    "function",
    "builtin_function_or_method",
    "instance",
    "_Feature"
   ],
   "window_display": false
  }
 },
 "nbformat": 4,
 "nbformat_minor": 5
}
